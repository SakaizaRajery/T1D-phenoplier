{
 "cells": [
  {
   "cell_type": "markdown",
   "metadata": {
    "papermill": {
     "duration": 0.019848,
     "end_time": "2021-09-17T03:33:32.822093",
     "exception": false,
     "start_time": "2021-09-17T03:33:32.802245",
     "status": "completed"
    },
    "tags": []
   },
   "source": [
    "# Description"
   ]
  },
  {
   "cell_type": "markdown",
   "metadata": {
    "papermill": {
     "duration": 0.019048,
     "end_time": "2021-09-17T03:33:32.860349",
     "exception": false,
     "start_time": "2021-09-17T03:33:32.841301",
     "status": "completed"
    },
    "tags": []
   },
   "source": [
    "It projects the PhenomeXcan results (S-MultiXcan, EFO version) into the MultiPLIER latent space.\n",
    "Before projecting, repeated gene symbols as well as genes with NaN are removed;\n",
    "additionally (also before projecting), S-MultiXcan results are adjusted for highly polygenic traits."
   ]
  },
  {
   "cell_type": "markdown",
   "metadata": {
    "papermill": {
     "duration": 0.019132,
     "end_time": "2021-09-17T03:33:32.898675",
     "exception": false,
     "start_time": "2021-09-17T03:33:32.879543",
     "status": "completed"
    },
    "tags": []
   },
   "source": [
    "# Modules loading"
   ]
  },
  {
   "cell_type": "code",
   "execution_count": 1,
   "metadata": {
    "execution": {
     "iopub.execute_input": "2021-09-17T03:33:32.948476Z",
     "iopub.status.busy": "2021-09-17T03:33:32.948089Z",
     "iopub.status.idle": "2021-09-17T03:33:32.950397Z",
     "shell.execute_reply": "2021-09-17T03:33:32.951047Z"
    },
    "papermill": {
     "duration": 0.033333,
     "end_time": "2021-09-17T03:33:32.951203",
     "exception": false,
     "start_time": "2021-09-17T03:33:32.917870",
     "status": "completed"
    },
    "tags": []
   },
   "outputs": [],
   "source": [
    "%load_ext autoreload\n",
    "%autoreload 2"
   ]
  },
  {
   "cell_type": "code",
   "execution_count": 2,
   "metadata": {
    "execution": {
     "iopub.execute_input": "2021-09-17T03:33:33.001854Z",
     "iopub.status.busy": "2021-09-17T03:33:33.001461Z",
     "iopub.status.idle": "2021-09-17T03:33:33.571911Z",
     "shell.execute_reply": "2021-09-17T03:33:33.572216Z"
    },
    "papermill": {
     "duration": 0.601299,
     "end_time": "2021-09-17T03:33:33.572330",
     "exception": false,
     "start_time": "2021-09-17T03:33:32.971031",
     "status": "completed"
    },
    "tags": []
   },
   "outputs": [],
   "source": [
    "from pathlib import Path\n",
    "\n",
    "from IPython.display import display\n",
    "import pandas as pd\n",
    "\n",
    "import rpy2.robjects as ro\n",
    "from rpy2.robjects import pandas2ri\n",
    "from rpy2.robjects.conversion import localconverter\n",
    "\n",
    "import conf\n",
    "from entity import Gene\n",
    "from data.cache import read_data\n",
    "from multiplier import MultiplierProjection"
   ]
  },
  {
   "cell_type": "code",
   "execution_count": 3,
   "metadata": {
    "execution": {
     "iopub.execute_input": "2021-09-17T03:33:33.620745Z",
     "iopub.status.busy": "2021-09-17T03:33:33.620353Z",
     "iopub.status.idle": "2021-09-17T03:33:33.622300Z",
     "shell.execute_reply": "2021-09-17T03:33:33.622587Z"
    },
    "papermill": {
     "duration": 0.030743,
     "end_time": "2021-09-17T03:33:33.622696",
     "exception": false,
     "start_time": "2021-09-17T03:33:33.591953",
     "status": "completed"
    },
    "tags": []
   },
   "outputs": [],
   "source": [
    "readRDS = ro.r[\"readRDS\"]"
   ]
  },
  {
   "cell_type": "code",
   "execution_count": 4,
   "metadata": {
    "execution": {
     "iopub.execute_input": "2021-09-17T03:33:33.669983Z",
     "iopub.status.busy": "2021-09-17T03:33:33.669605Z",
     "iopub.status.idle": "2021-09-17T03:33:33.671290Z",
     "shell.execute_reply": "2021-09-17T03:33:33.671575Z"
    },
    "papermill": {
     "duration": 0.029335,
     "end_time": "2021-09-17T03:33:33.671678",
     "exception": false,
     "start_time": "2021-09-17T03:33:33.642343",
     "status": "completed"
    },
    "tags": []
   },
   "outputs": [],
   "source": [
    "saveRDS = ro.r[\"saveRDS\"]"
   ]
  },
  {
   "cell_type": "markdown",
   "metadata": {
    "papermill": {
     "duration": 0.019285,
     "end_time": "2021-09-17T03:33:33.710567",
     "exception": false,
     "start_time": "2021-09-17T03:33:33.691282",
     "status": "completed"
    },
    "tags": []
   },
   "source": [
    "# Settings"
   ]
  },
  {
   "cell_type": "code",
   "execution_count": 5,
   "metadata": {
    "execution": {
     "iopub.execute_input": "2021-09-17T03:33:33.760850Z",
     "iopub.status.busy": "2021-09-17T03:33:33.760471Z",
     "iopub.status.idle": "2021-09-17T03:33:33.765237Z",
     "shell.execute_reply": "2021-09-17T03:33:33.765873Z"
    },
    "papermill": {
     "duration": 0.035902,
     "end_time": "2021-09-17T03:33:33.765978",
     "exception": false,
     "start_time": "2021-09-17T03:33:33.730076",
     "status": "completed"
    },
    "tags": []
   },
   "outputs": [
    {
     "data": {
      "text/plain": [
       "PosixPath('/home/miltondp/projects/labs/greenelab/phenoplier/base/results/projections')"
      ]
     },
     "metadata": {},
     "output_type": "display_data"
    }
   ],
   "source": [
    "RESULTS_PROJ_OUTPUT_DIR = Path(conf.RESULTS[\"PROJECTIONS_DIR\"])\n",
    "RESULTS_PROJ_OUTPUT_DIR.mkdir(parents=True, exist_ok=True)\n",
    "\n",
    "display(RESULTS_PROJ_OUTPUT_DIR)"
   ]
  },
  {
   "cell_type": "markdown",
   "metadata": {
    "papermill": {
     "duration": 0.019237,
     "end_time": "2021-09-17T03:33:33.805019",
     "exception": false,
     "start_time": "2021-09-17T03:33:33.785782",
     "status": "completed"
    },
    "tags": []
   },
   "source": [
    "# Load PhenomeXcan data (S-MultiXcan)"
   ]
  },
  {
   "cell_type": "code",
   "execution_count": 6,
   "metadata": {
    "execution": {
     "iopub.execute_input": "2021-09-17T03:33:33.852044Z",
     "iopub.status.busy": "2021-09-17T03:33:33.851657Z",
     "iopub.status.idle": "2021-09-17T03:33:33.853072Z",
     "shell.execute_reply": "2021-09-17T03:33:33.853373Z"
    },
    "papermill": {
     "duration": 0.029103,
     "end_time": "2021-09-17T03:33:33.853475",
     "exception": false,
     "start_time": "2021-09-17T03:33:33.824372",
     "status": "completed"
    },
    "tags": []
   },
   "outputs": [
    {
     "data": {
      "text/plain": [
       "PosixPath('/home/miltondp/projects/labs/greenelab/phenoplier/base/data/phenomexcan/gene_assoc/smultixcan-efo_partial-mashr-zscores.pkl')"
      ]
     },
     "metadata": {},
     "output_type": "display_data"
    }
   ],
   "source": [
    "smultixcan_results_filename = conf.PHENOMEXCAN[\n",
    "    \"SMULTIXCAN_EFO_PARTIAL_MASHR_ZSCORES_FILE\"\n",
    "]\n",
    "\n",
    "display(smultixcan_results_filename)"
   ]
  },
  {
   "cell_type": "code",
   "execution_count": 7,
   "metadata": {
    "execution": {
     "iopub.execute_input": "2021-09-17T03:33:33.900709Z",
     "iopub.status.busy": "2021-09-17T03:33:33.900322Z",
     "iopub.status.idle": "2021-09-17T03:33:33.902628Z",
     "shell.execute_reply": "2021-09-17T03:33:33.902916Z"
    },
    "papermill": {
     "duration": 0.029649,
     "end_time": "2021-09-17T03:33:33.903023",
     "exception": false,
     "start_time": "2021-09-17T03:33:33.873374",
     "status": "completed"
    },
    "tags": []
   },
   "outputs": [
    {
     "data": {
      "text/plain": [
       "'smultixcan-efo_partial-mashr-zscores'"
      ]
     },
     "metadata": {},
     "output_type": "display_data"
    }
   ],
   "source": [
    "results_filename_stem = smultixcan_results_filename.stem\n",
    "display(results_filename_stem)"
   ]
  },
  {
   "cell_type": "code",
   "execution_count": 8,
   "metadata": {
    "execution": {
     "iopub.execute_input": "2021-09-17T03:33:33.957647Z",
     "iopub.status.busy": "2021-09-17T03:33:33.957271Z",
     "iopub.status.idle": "2021-09-17T03:33:34.217923Z",
     "shell.execute_reply": "2021-09-17T03:33:34.218423Z"
    },
    "papermill": {
     "duration": 0.295294,
     "end_time": "2021-09-17T03:33:34.218532",
     "exception": false,
     "start_time": "2021-09-17T03:33:33.923238",
     "status": "completed"
    },
    "tags": []
   },
   "outputs": [],
   "source": [
    "smultixcan_results = pd.read_pickle(smultixcan_results_filename)"
   ]
  },
  {
   "cell_type": "code",
   "execution_count": 9,
   "metadata": {
    "execution": {
     "iopub.execute_input": "2021-09-17T03:33:34.267942Z",
     "iopub.status.busy": "2021-09-17T03:33:34.267523Z",
     "iopub.status.idle": "2021-09-17T03:33:34.269035Z",
     "shell.execute_reply": "2021-09-17T03:33:34.269347Z"
    },
    "papermill": {
     "duration": 0.030325,
     "end_time": "2021-09-17T03:33:34.269454",
     "exception": false,
     "start_time": "2021-09-17T03:33:34.239129",
     "status": "completed"
    },
    "tags": []
   },
   "outputs": [
    {
     "data": {
      "text/plain": [
       "(22515, 3752)"
      ]
     },
     "execution_count": 9,
     "metadata": {},
     "output_type": "execute_result"
    }
   ],
   "source": [
    "smultixcan_results.shape"
   ]
  },
  {
   "cell_type": "code",
   "execution_count": 10,
   "metadata": {
    "execution": {
     "iopub.execute_input": "2021-09-17T03:33:34.320719Z",
     "iopub.status.busy": "2021-09-17T03:33:34.320331Z",
     "iopub.status.idle": "2021-09-17T03:33:34.336547Z",
     "shell.execute_reply": "2021-09-17T03:33:34.336942Z"
    },
    "papermill": {
     "duration": 0.047015,
     "end_time": "2021-09-17T03:33:34.337050",
     "exception": false,
     "start_time": "2021-09-17T03:33:34.290035",
     "status": "completed"
    },
    "tags": []
   },
   "outputs": [
    {
     "data": {
      "text/html": [
       "<div>\n",
       "<style scoped>\n",
       "    .dataframe tbody tr th:only-of-type {\n",
       "        vertical-align: middle;\n",
       "    }\n",
       "\n",
       "    .dataframe tbody tr th {\n",
       "        vertical-align: top;\n",
       "    }\n",
       "\n",
       "    .dataframe thead th {\n",
       "        text-align: right;\n",
       "    }\n",
       "</style>\n",
       "<table border=\"1\" class=\"dataframe\">\n",
       "  <thead>\n",
       "    <tr style=\"text-align: right;\">\n",
       "      <th></th>\n",
       "      <th>100001_raw-Food_weight</th>\n",
       "      <th>100002_raw-Energy</th>\n",
       "      <th>100003_raw-Protein</th>\n",
       "      <th>100004_raw-Fat</th>\n",
       "      <th>100005_raw-Carbohydrate</th>\n",
       "      <th>100006_raw-Saturated_fat</th>\n",
       "      <th>100007_raw-Polyunsaturated_fat</th>\n",
       "      <th>100008_raw-Total_sugars</th>\n",
       "      <th>100009_raw-Englyst_dietary_fibre</th>\n",
       "      <th>100010-Portion_size</th>\n",
       "      <th>...</th>\n",
       "      <th>visual impairment</th>\n",
       "      <th>vitiligo</th>\n",
       "      <th>vitreous body disease</th>\n",
       "      <th>vocal cord polyp</th>\n",
       "      <th>voice disorders</th>\n",
       "      <th>wellbeing measurement AND family relationship</th>\n",
       "      <th>wheezing</th>\n",
       "      <th>whooping cough</th>\n",
       "      <th>worry measurement</th>\n",
       "      <th>wrist fracture</th>\n",
       "    </tr>\n",
       "    <tr>\n",
       "      <th>gene_name</th>\n",
       "      <th></th>\n",
       "      <th></th>\n",
       "      <th></th>\n",
       "      <th></th>\n",
       "      <th></th>\n",
       "      <th></th>\n",
       "      <th></th>\n",
       "      <th></th>\n",
       "      <th></th>\n",
       "      <th></th>\n",
       "      <th></th>\n",
       "      <th></th>\n",
       "      <th></th>\n",
       "      <th></th>\n",
       "      <th></th>\n",
       "      <th></th>\n",
       "      <th></th>\n",
       "      <th></th>\n",
       "      <th></th>\n",
       "      <th></th>\n",
       "      <th></th>\n",
       "    </tr>\n",
       "  </thead>\n",
       "  <tbody>\n",
       "    <tr>\n",
       "      <th>ENSG00000000419</th>\n",
       "      <td>1.145442</td>\n",
       "      <td>0.724557</td>\n",
       "      <td>0.090876</td>\n",
       "      <td>0.298165</td>\n",
       "      <td>1.134347</td>\n",
       "      <td>1.371138</td>\n",
       "      <td>0.065718</td>\n",
       "      <td>0.794317</td>\n",
       "      <td>0.600342</td>\n",
       "      <td>0.317652</td>\n",
       "      <td>...</td>\n",
       "      <td>0.360518</td>\n",
       "      <td>1.351624</td>\n",
       "      <td>1.157695</td>\n",
       "      <td>0.835289</td>\n",
       "      <td>1.173072</td>\n",
       "      <td>1.337280</td>\n",
       "      <td>1.743822</td>\n",
       "      <td>1.017226</td>\n",
       "      <td>1.512184</td>\n",
       "      <td>0.972241</td>\n",
       "    </tr>\n",
       "    <tr>\n",
       "      <th>ENSG00000000457</th>\n",
       "      <td>0.618066</td>\n",
       "      <td>1.028131</td>\n",
       "      <td>2.218420</td>\n",
       "      <td>0.762584</td>\n",
       "      <td>0.934418</td>\n",
       "      <td>0.192993</td>\n",
       "      <td>1.080230</td>\n",
       "      <td>0.765997</td>\n",
       "      <td>0.375898</td>\n",
       "      <td>0.678731</td>\n",
       "      <td>...</td>\n",
       "      <td>2.134504</td>\n",
       "      <td>0.127830</td>\n",
       "      <td>0.534690</td>\n",
       "      <td>0.120516</td>\n",
       "      <td>0.517464</td>\n",
       "      <td>2.545363</td>\n",
       "      <td>0.673331</td>\n",
       "      <td>2.003092</td>\n",
       "      <td>0.344000</td>\n",
       "      <td>2.033122</td>\n",
       "    </tr>\n",
       "    <tr>\n",
       "      <th>ENSG00000000460</th>\n",
       "      <td>0.515724</td>\n",
       "      <td>0.403596</td>\n",
       "      <td>1.251359</td>\n",
       "      <td>0.433091</td>\n",
       "      <td>0.413466</td>\n",
       "      <td>0.246261</td>\n",
       "      <td>1.236151</td>\n",
       "      <td>0.827430</td>\n",
       "      <td>0.571985</td>\n",
       "      <td>0.782174</td>\n",
       "      <td>...</td>\n",
       "      <td>1.768905</td>\n",
       "      <td>0.992408</td>\n",
       "      <td>0.548215</td>\n",
       "      <td>0.412341</td>\n",
       "      <td>1.499415</td>\n",
       "      <td>1.366780</td>\n",
       "      <td>0.443318</td>\n",
       "      <td>0.417630</td>\n",
       "      <td>0.225934</td>\n",
       "      <td>1.613246</td>\n",
       "    </tr>\n",
       "    <tr>\n",
       "      <th>ENSG00000000938</th>\n",
       "      <td>0.280781</td>\n",
       "      <td>0.253910</td>\n",
       "      <td>0.879148</td>\n",
       "      <td>0.352705</td>\n",
       "      <td>0.051846</td>\n",
       "      <td>0.184212</td>\n",
       "      <td>0.148566</td>\n",
       "      <td>0.009989</td>\n",
       "      <td>0.363751</td>\n",
       "      <td>0.374514</td>\n",
       "      <td>...</td>\n",
       "      <td>0.656552</td>\n",
       "      <td>2.046041</td>\n",
       "      <td>2.746832</td>\n",
       "      <td>0.108211</td>\n",
       "      <td>1.008258</td>\n",
       "      <td>0.755695</td>\n",
       "      <td>0.896228</td>\n",
       "      <td>0.875047</td>\n",
       "      <td>0.476405</td>\n",
       "      <td>1.693057</td>\n",
       "    </tr>\n",
       "    <tr>\n",
       "      <th>ENSG00000000971</th>\n",
       "      <td>0.548127</td>\n",
       "      <td>0.389877</td>\n",
       "      <td>0.723469</td>\n",
       "      <td>1.167250</td>\n",
       "      <td>0.315952</td>\n",
       "      <td>0.324939</td>\n",
       "      <td>1.613932</td>\n",
       "      <td>0.311432</td>\n",
       "      <td>0.333548</td>\n",
       "      <td>1.807243</td>\n",
       "      <td>...</td>\n",
       "      <td>0.260482</td>\n",
       "      <td>0.646204</td>\n",
       "      <td>1.080240</td>\n",
       "      <td>0.678330</td>\n",
       "      <td>1.465358</td>\n",
       "      <td>0.307672</td>\n",
       "      <td>0.118376</td>\n",
       "      <td>1.419812</td>\n",
       "      <td>0.000002</td>\n",
       "      <td>1.040737</td>\n",
       "    </tr>\n",
       "  </tbody>\n",
       "</table>\n",
       "<p>5 rows × 3752 columns</p>\n",
       "</div>"
      ],
      "text/plain": [
       "                 100001_raw-Food_weight  100002_raw-Energy  \\\n",
       "gene_name                                                    \n",
       "ENSG00000000419                1.145442           0.724557   \n",
       "ENSG00000000457                0.618066           1.028131   \n",
       "ENSG00000000460                0.515724           0.403596   \n",
       "ENSG00000000938                0.280781           0.253910   \n",
       "ENSG00000000971                0.548127           0.389877   \n",
       "\n",
       "                 100003_raw-Protein  100004_raw-Fat  100005_raw-Carbohydrate  \\\n",
       "gene_name                                                                      \n",
       "ENSG00000000419            0.090876        0.298165                 1.134347   \n",
       "ENSG00000000457            2.218420        0.762584                 0.934418   \n",
       "ENSG00000000460            1.251359        0.433091                 0.413466   \n",
       "ENSG00000000938            0.879148        0.352705                 0.051846   \n",
       "ENSG00000000971            0.723469        1.167250                 0.315952   \n",
       "\n",
       "                 100006_raw-Saturated_fat  100007_raw-Polyunsaturated_fat  \\\n",
       "gene_name                                                                   \n",
       "ENSG00000000419                  1.371138                        0.065718   \n",
       "ENSG00000000457                  0.192993                        1.080230   \n",
       "ENSG00000000460                  0.246261                        1.236151   \n",
       "ENSG00000000938                  0.184212                        0.148566   \n",
       "ENSG00000000971                  0.324939                        1.613932   \n",
       "\n",
       "                 100008_raw-Total_sugars  100009_raw-Englyst_dietary_fibre  \\\n",
       "gene_name                                                                    \n",
       "ENSG00000000419                 0.794317                          0.600342   \n",
       "ENSG00000000457                 0.765997                          0.375898   \n",
       "ENSG00000000460                 0.827430                          0.571985   \n",
       "ENSG00000000938                 0.009989                          0.363751   \n",
       "ENSG00000000971                 0.311432                          0.333548   \n",
       "\n",
       "                 100010-Portion_size  ...  visual impairment  vitiligo  \\\n",
       "gene_name                             ...                                \n",
       "ENSG00000000419             0.317652  ...           0.360518  1.351624   \n",
       "ENSG00000000457             0.678731  ...           2.134504  0.127830   \n",
       "ENSG00000000460             0.782174  ...           1.768905  0.992408   \n",
       "ENSG00000000938             0.374514  ...           0.656552  2.046041   \n",
       "ENSG00000000971             1.807243  ...           0.260482  0.646204   \n",
       "\n",
       "                 vitreous body disease  vocal cord polyp  voice disorders  \\\n",
       "gene_name                                                                   \n",
       "ENSG00000000419               1.157695          0.835289         1.173072   \n",
       "ENSG00000000457               0.534690          0.120516         0.517464   \n",
       "ENSG00000000460               0.548215          0.412341         1.499415   \n",
       "ENSG00000000938               2.746832          0.108211         1.008258   \n",
       "ENSG00000000971               1.080240          0.678330         1.465358   \n",
       "\n",
       "                 wellbeing measurement AND family relationship  wheezing  \\\n",
       "gene_name                                                                  \n",
       "ENSG00000000419                                       1.337280  1.743822   \n",
       "ENSG00000000457                                       2.545363  0.673331   \n",
       "ENSG00000000460                                       1.366780  0.443318   \n",
       "ENSG00000000938                                       0.755695  0.896228   \n",
       "ENSG00000000971                                       0.307672  0.118376   \n",
       "\n",
       "                 whooping cough  worry measurement  wrist fracture  \n",
       "gene_name                                                           \n",
       "ENSG00000000419        1.017226           1.512184        0.972241  \n",
       "ENSG00000000457        2.003092           0.344000        2.033122  \n",
       "ENSG00000000460        0.417630           0.225934        1.613246  \n",
       "ENSG00000000938        0.875047           0.476405        1.693057  \n",
       "ENSG00000000971        1.419812           0.000002        1.040737  \n",
       "\n",
       "[5 rows x 3752 columns]"
      ]
     },
     "execution_count": 10,
     "metadata": {},
     "output_type": "execute_result"
    }
   ],
   "source": [
    "smultixcan_results.head()"
   ]
  },
  {
   "cell_type": "markdown",
   "metadata": {
    "papermill": {
     "duration": 0.02748,
     "end_time": "2021-09-17T03:33:34.393053",
     "exception": false,
     "start_time": "2021-09-17T03:33:34.365573",
     "status": "completed"
    },
    "tags": []
   },
   "source": [
    "## Gene IDs to Gene names"
   ]
  },
  {
   "cell_type": "code",
   "execution_count": 11,
   "metadata": {
    "execution": {
     "iopub.execute_input": "2021-09-17T03:33:34.449122Z",
     "iopub.status.busy": "2021-09-17T03:33:34.448743Z",
     "iopub.status.idle": "2021-09-17T03:33:34.580000Z",
     "shell.execute_reply": "2021-09-17T03:33:34.580514Z"
    },
    "papermill": {
     "duration": 0.16407,
     "end_time": "2021-09-17T03:33:34.580624",
     "exception": false,
     "start_time": "2021-09-17T03:33:34.416554",
     "status": "completed"
    },
    "tags": []
   },
   "outputs": [],
   "source": [
    "smultixcan_results = smultixcan_results.rename(index=Gene.GENE_ID_TO_NAME_MAP)"
   ]
  },
  {
   "cell_type": "code",
   "execution_count": 12,
   "metadata": {
    "execution": {
     "iopub.execute_input": "2021-09-17T03:33:34.630981Z",
     "iopub.status.busy": "2021-09-17T03:33:34.630601Z",
     "iopub.status.idle": "2021-09-17T03:33:34.632882Z",
     "shell.execute_reply": "2021-09-17T03:33:34.633171Z"
    },
    "papermill": {
     "duration": 0.031368,
     "end_time": "2021-09-17T03:33:34.633276",
     "exception": false,
     "start_time": "2021-09-17T03:33:34.601908",
     "status": "completed"
    },
    "tags": []
   },
   "outputs": [
    {
     "data": {
      "text/plain": [
       "(22515, 3752)"
      ]
     },
     "execution_count": 12,
     "metadata": {},
     "output_type": "execute_result"
    }
   ],
   "source": [
    "smultixcan_results.shape"
   ]
  },
  {
   "cell_type": "code",
   "execution_count": 13,
   "metadata": {
    "execution": {
     "iopub.execute_input": "2021-09-17T03:33:34.687961Z",
     "iopub.status.busy": "2021-09-17T03:33:34.687570Z",
     "iopub.status.idle": "2021-09-17T03:33:34.698340Z",
     "shell.execute_reply": "2021-09-17T03:33:34.698844Z"
    },
    "papermill": {
     "duration": 0.044759,
     "end_time": "2021-09-17T03:33:34.698953",
     "exception": false,
     "start_time": "2021-09-17T03:33:34.654194",
     "status": "completed"
    },
    "tags": []
   },
   "outputs": [
    {
     "data": {
      "text/html": [
       "<div>\n",
       "<style scoped>\n",
       "    .dataframe tbody tr th:only-of-type {\n",
       "        vertical-align: middle;\n",
       "    }\n",
       "\n",
       "    .dataframe tbody tr th {\n",
       "        vertical-align: top;\n",
       "    }\n",
       "\n",
       "    .dataframe thead th {\n",
       "        text-align: right;\n",
       "    }\n",
       "</style>\n",
       "<table border=\"1\" class=\"dataframe\">\n",
       "  <thead>\n",
       "    <tr style=\"text-align: right;\">\n",
       "      <th></th>\n",
       "      <th>100001_raw-Food_weight</th>\n",
       "      <th>100002_raw-Energy</th>\n",
       "      <th>100003_raw-Protein</th>\n",
       "      <th>100004_raw-Fat</th>\n",
       "      <th>100005_raw-Carbohydrate</th>\n",
       "      <th>100006_raw-Saturated_fat</th>\n",
       "      <th>100007_raw-Polyunsaturated_fat</th>\n",
       "      <th>100008_raw-Total_sugars</th>\n",
       "      <th>100009_raw-Englyst_dietary_fibre</th>\n",
       "      <th>100010-Portion_size</th>\n",
       "      <th>...</th>\n",
       "      <th>visual impairment</th>\n",
       "      <th>vitiligo</th>\n",
       "      <th>vitreous body disease</th>\n",
       "      <th>vocal cord polyp</th>\n",
       "      <th>voice disorders</th>\n",
       "      <th>wellbeing measurement AND family relationship</th>\n",
       "      <th>wheezing</th>\n",
       "      <th>whooping cough</th>\n",
       "      <th>worry measurement</th>\n",
       "      <th>wrist fracture</th>\n",
       "    </tr>\n",
       "    <tr>\n",
       "      <th>gene_name</th>\n",
       "      <th></th>\n",
       "      <th></th>\n",
       "      <th></th>\n",
       "      <th></th>\n",
       "      <th></th>\n",
       "      <th></th>\n",
       "      <th></th>\n",
       "      <th></th>\n",
       "      <th></th>\n",
       "      <th></th>\n",
       "      <th></th>\n",
       "      <th></th>\n",
       "      <th></th>\n",
       "      <th></th>\n",
       "      <th></th>\n",
       "      <th></th>\n",
       "      <th></th>\n",
       "      <th></th>\n",
       "      <th></th>\n",
       "      <th></th>\n",
       "      <th></th>\n",
       "    </tr>\n",
       "  </thead>\n",
       "  <tbody>\n",
       "    <tr>\n",
       "      <th>DPM1</th>\n",
       "      <td>1.145442</td>\n",
       "      <td>0.724557</td>\n",
       "      <td>0.090876</td>\n",
       "      <td>0.298165</td>\n",
       "      <td>1.134347</td>\n",
       "      <td>1.371138</td>\n",
       "      <td>0.065718</td>\n",
       "      <td>0.794317</td>\n",
       "      <td>0.600342</td>\n",
       "      <td>0.317652</td>\n",
       "      <td>...</td>\n",
       "      <td>0.360518</td>\n",
       "      <td>1.351624</td>\n",
       "      <td>1.157695</td>\n",
       "      <td>0.835289</td>\n",
       "      <td>1.173072</td>\n",
       "      <td>1.337280</td>\n",
       "      <td>1.743822</td>\n",
       "      <td>1.017226</td>\n",
       "      <td>1.512184</td>\n",
       "      <td>0.972241</td>\n",
       "    </tr>\n",
       "    <tr>\n",
       "      <th>SCYL3</th>\n",
       "      <td>0.618066</td>\n",
       "      <td>1.028131</td>\n",
       "      <td>2.218420</td>\n",
       "      <td>0.762584</td>\n",
       "      <td>0.934418</td>\n",
       "      <td>0.192993</td>\n",
       "      <td>1.080230</td>\n",
       "      <td>0.765997</td>\n",
       "      <td>0.375898</td>\n",
       "      <td>0.678731</td>\n",
       "      <td>...</td>\n",
       "      <td>2.134504</td>\n",
       "      <td>0.127830</td>\n",
       "      <td>0.534690</td>\n",
       "      <td>0.120516</td>\n",
       "      <td>0.517464</td>\n",
       "      <td>2.545363</td>\n",
       "      <td>0.673331</td>\n",
       "      <td>2.003092</td>\n",
       "      <td>0.344000</td>\n",
       "      <td>2.033122</td>\n",
       "    </tr>\n",
       "    <tr>\n",
       "      <th>C1orf112</th>\n",
       "      <td>0.515724</td>\n",
       "      <td>0.403596</td>\n",
       "      <td>1.251359</td>\n",
       "      <td>0.433091</td>\n",
       "      <td>0.413466</td>\n",
       "      <td>0.246261</td>\n",
       "      <td>1.236151</td>\n",
       "      <td>0.827430</td>\n",
       "      <td>0.571985</td>\n",
       "      <td>0.782174</td>\n",
       "      <td>...</td>\n",
       "      <td>1.768905</td>\n",
       "      <td>0.992408</td>\n",
       "      <td>0.548215</td>\n",
       "      <td>0.412341</td>\n",
       "      <td>1.499415</td>\n",
       "      <td>1.366780</td>\n",
       "      <td>0.443318</td>\n",
       "      <td>0.417630</td>\n",
       "      <td>0.225934</td>\n",
       "      <td>1.613246</td>\n",
       "    </tr>\n",
       "    <tr>\n",
       "      <th>FGR</th>\n",
       "      <td>0.280781</td>\n",
       "      <td>0.253910</td>\n",
       "      <td>0.879148</td>\n",
       "      <td>0.352705</td>\n",
       "      <td>0.051846</td>\n",
       "      <td>0.184212</td>\n",
       "      <td>0.148566</td>\n",
       "      <td>0.009989</td>\n",
       "      <td>0.363751</td>\n",
       "      <td>0.374514</td>\n",
       "      <td>...</td>\n",
       "      <td>0.656552</td>\n",
       "      <td>2.046041</td>\n",
       "      <td>2.746832</td>\n",
       "      <td>0.108211</td>\n",
       "      <td>1.008258</td>\n",
       "      <td>0.755695</td>\n",
       "      <td>0.896228</td>\n",
       "      <td>0.875047</td>\n",
       "      <td>0.476405</td>\n",
       "      <td>1.693057</td>\n",
       "    </tr>\n",
       "    <tr>\n",
       "      <th>CFH</th>\n",
       "      <td>0.548127</td>\n",
       "      <td>0.389877</td>\n",
       "      <td>0.723469</td>\n",
       "      <td>1.167250</td>\n",
       "      <td>0.315952</td>\n",
       "      <td>0.324939</td>\n",
       "      <td>1.613932</td>\n",
       "      <td>0.311432</td>\n",
       "      <td>0.333548</td>\n",
       "      <td>1.807243</td>\n",
       "      <td>...</td>\n",
       "      <td>0.260482</td>\n",
       "      <td>0.646204</td>\n",
       "      <td>1.080240</td>\n",
       "      <td>0.678330</td>\n",
       "      <td>1.465358</td>\n",
       "      <td>0.307672</td>\n",
       "      <td>0.118376</td>\n",
       "      <td>1.419812</td>\n",
       "      <td>0.000002</td>\n",
       "      <td>1.040737</td>\n",
       "    </tr>\n",
       "  </tbody>\n",
       "</table>\n",
       "<p>5 rows × 3752 columns</p>\n",
       "</div>"
      ],
      "text/plain": [
       "           100001_raw-Food_weight  100002_raw-Energy  100003_raw-Protein  \\\n",
       "gene_name                                                                  \n",
       "DPM1                     1.145442           0.724557            0.090876   \n",
       "SCYL3                    0.618066           1.028131            2.218420   \n",
       "C1orf112                 0.515724           0.403596            1.251359   \n",
       "FGR                      0.280781           0.253910            0.879148   \n",
       "CFH                      0.548127           0.389877            0.723469   \n",
       "\n",
       "           100004_raw-Fat  100005_raw-Carbohydrate  100006_raw-Saturated_fat  \\\n",
       "gene_name                                                                      \n",
       "DPM1             0.298165                 1.134347                  1.371138   \n",
       "SCYL3            0.762584                 0.934418                  0.192993   \n",
       "C1orf112         0.433091                 0.413466                  0.246261   \n",
       "FGR              0.352705                 0.051846                  0.184212   \n",
       "CFH              1.167250                 0.315952                  0.324939   \n",
       "\n",
       "           100007_raw-Polyunsaturated_fat  100008_raw-Total_sugars  \\\n",
       "gene_name                                                            \n",
       "DPM1                             0.065718                 0.794317   \n",
       "SCYL3                            1.080230                 0.765997   \n",
       "C1orf112                         1.236151                 0.827430   \n",
       "FGR                              0.148566                 0.009989   \n",
       "CFH                              1.613932                 0.311432   \n",
       "\n",
       "           100009_raw-Englyst_dietary_fibre  100010-Portion_size  ...  \\\n",
       "gene_name                                                         ...   \n",
       "DPM1                               0.600342             0.317652  ...   \n",
       "SCYL3                              0.375898             0.678731  ...   \n",
       "C1orf112                           0.571985             0.782174  ...   \n",
       "FGR                                0.363751             0.374514  ...   \n",
       "CFH                                0.333548             1.807243  ...   \n",
       "\n",
       "           visual impairment  vitiligo  vitreous body disease  \\\n",
       "gene_name                                                       \n",
       "DPM1                0.360518  1.351624               1.157695   \n",
       "SCYL3               2.134504  0.127830               0.534690   \n",
       "C1orf112            1.768905  0.992408               0.548215   \n",
       "FGR                 0.656552  2.046041               2.746832   \n",
       "CFH                 0.260482  0.646204               1.080240   \n",
       "\n",
       "           vocal cord polyp  voice disorders  \\\n",
       "gene_name                                      \n",
       "DPM1               0.835289         1.173072   \n",
       "SCYL3              0.120516         0.517464   \n",
       "C1orf112           0.412341         1.499415   \n",
       "FGR                0.108211         1.008258   \n",
       "CFH                0.678330         1.465358   \n",
       "\n",
       "           wellbeing measurement AND family relationship  wheezing  \\\n",
       "gene_name                                                            \n",
       "DPM1                                            1.337280  1.743822   \n",
       "SCYL3                                           2.545363  0.673331   \n",
       "C1orf112                                        1.366780  0.443318   \n",
       "FGR                                             0.755695  0.896228   \n",
       "CFH                                             0.307672  0.118376   \n",
       "\n",
       "           whooping cough  worry measurement  wrist fracture  \n",
       "gene_name                                                     \n",
       "DPM1             1.017226           1.512184        0.972241  \n",
       "SCYL3            2.003092           0.344000        2.033122  \n",
       "C1orf112         0.417630           0.225934        1.613246  \n",
       "FGR              0.875047           0.476405        1.693057  \n",
       "CFH              1.419812           0.000002        1.040737  \n",
       "\n",
       "[5 rows x 3752 columns]"
      ]
     },
     "execution_count": 13,
     "metadata": {},
     "output_type": "execute_result"
    }
   ],
   "source": [
    "smultixcan_results.head()"
   ]
  },
  {
   "cell_type": "markdown",
   "metadata": {
    "papermill": {
     "duration": 0.020995,
     "end_time": "2021-09-17T03:33:34.741756",
     "exception": false,
     "start_time": "2021-09-17T03:33:34.720761",
     "status": "completed"
    },
    "tags": []
   },
   "source": [
    "## Remove duplicated gene entries"
   ]
  },
  {
   "cell_type": "code",
   "execution_count": 14,
   "metadata": {
    "execution": {
     "iopub.execute_input": "2021-09-17T03:33:34.795261Z",
     "iopub.status.busy": "2021-09-17T03:33:34.794875Z",
     "iopub.status.idle": "2021-09-17T03:33:34.798100Z",
     "shell.execute_reply": "2021-09-17T03:33:34.798390Z"
    },
    "papermill": {
     "duration": 0.035646,
     "end_time": "2021-09-17T03:33:34.798498",
     "exception": false,
     "start_time": "2021-09-17T03:33:34.762852",
     "status": "completed"
    },
    "tags": []
   },
   "outputs": [
    {
     "data": {
      "text/plain": [
       "Index(['SPATA13', 'LINC01422', 'LINC00484', 'MAL2', 'GOLGA8M', 'LINC01115',\n",
       "       'LYNX1'],\n",
       "      dtype='object', name='gene_name')"
      ]
     },
     "execution_count": 14,
     "metadata": {},
     "output_type": "execute_result"
    }
   ],
   "source": [
    "smultixcan_results.index[smultixcan_results.index.duplicated(keep=\"first\")]"
   ]
  },
  {
   "cell_type": "code",
   "execution_count": 15,
   "metadata": {
    "execution": {
     "iopub.execute_input": "2021-09-17T03:33:34.853044Z",
     "iopub.status.busy": "2021-09-17T03:33:34.852616Z",
     "iopub.status.idle": "2021-09-17T03:33:35.046798Z",
     "shell.execute_reply": "2021-09-17T03:33:35.047131Z"
    },
    "papermill": {
     "duration": 0.227183,
     "end_time": "2021-09-17T03:33:35.047239",
     "exception": false,
     "start_time": "2021-09-17T03:33:34.820056",
     "status": "completed"
    },
    "tags": []
   },
   "outputs": [],
   "source": [
    "smultixcan_results = smultixcan_results.loc[\n",
    "    ~smultixcan_results.index.duplicated(keep=\"first\")\n",
    "]"
   ]
  },
  {
   "cell_type": "code",
   "execution_count": 16,
   "metadata": {
    "execution": {
     "iopub.execute_input": "2021-09-17T03:33:35.098714Z",
     "iopub.status.busy": "2021-09-17T03:33:35.098320Z",
     "iopub.status.idle": "2021-09-17T03:33:35.103930Z",
     "shell.execute_reply": "2021-09-17T03:33:35.104227Z"
    },
    "papermill": {
     "duration": 0.035223,
     "end_time": "2021-09-17T03:33:35.104337",
     "exception": false,
     "start_time": "2021-09-17T03:33:35.069114",
     "status": "completed"
    },
    "tags": []
   },
   "outputs": [
    {
     "data": {
      "text/plain": [
       "(22508, 3752)"
      ]
     },
     "execution_count": 16,
     "metadata": {},
     "output_type": "execute_result"
    }
   ],
   "source": [
    "smultixcan_results.shape"
   ]
  },
  {
   "cell_type": "markdown",
   "metadata": {
    "papermill": {
     "duration": 0.021535,
     "end_time": "2021-09-17T03:33:35.147759",
     "exception": false,
     "start_time": "2021-09-17T03:33:35.126224",
     "status": "completed"
    },
    "tags": []
   },
   "source": [
    "## Some checks"
   ]
  },
  {
   "cell_type": "code",
   "execution_count": 17,
   "metadata": {
    "execution": {
     "iopub.execute_input": "2021-09-17T03:33:35.200883Z",
     "iopub.status.busy": "2021-09-17T03:33:35.200470Z",
     "iopub.status.idle": "2021-09-17T03:33:35.661605Z",
     "shell.execute_reply": "2021-09-17T03:33:35.661925Z"
    },
    "papermill": {
     "duration": 0.492328,
     "end_time": "2021-09-17T03:33:35.662036",
     "exception": false,
     "start_time": "2021-09-17T03:33:35.169708",
     "status": "completed"
    },
    "tags": []
   },
   "outputs": [],
   "source": [
    "# the data should have no NaN values\n",
    "assert smultixcan_results.shape == smultixcan_results.dropna(how=\"any\").shape"
   ]
  },
  {
   "cell_type": "markdown",
   "metadata": {
    "papermill": {
     "duration": 0.021942,
     "end_time": "2021-09-17T03:33:35.705987",
     "exception": false,
     "start_time": "2021-09-17T03:33:35.684045",
     "status": "completed"
    },
    "tags": []
   },
   "source": [
    "# Standardize S-MultiXcan results"
   ]
  },
  {
   "cell_type": "markdown",
   "metadata": {
    "papermill": {
     "duration": 0.021967,
     "end_time": "2021-09-17T03:33:35.749979",
     "exception": false,
     "start_time": "2021-09-17T03:33:35.728012",
     "status": "completed"
    },
    "tags": []
   },
   "source": [
    "Here we adjust for highly polygenic traits (see notebook `005_00-data_analysis.ipynb`): we penalize those traits that have large effect sizes across several genes, such as antropometric traits."
   ]
  },
  {
   "cell_type": "code",
   "execution_count": 18,
   "metadata": {
    "execution": {
     "iopub.execute_input": "2021-09-17T03:33:35.800936Z",
     "iopub.status.busy": "2021-09-17T03:33:35.800551Z",
     "iopub.status.idle": "2021-09-17T03:33:37.660142Z",
     "shell.execute_reply": "2021-09-17T03:33:37.659596Z"
    },
    "papermill": {
     "duration": 1.888446,
     "end_time": "2021-09-17T03:33:37.660237",
     "exception": false,
     "start_time": "2021-09-17T03:33:35.771791",
     "status": "completed"
    },
    "tags": []
   },
   "outputs": [],
   "source": [
    "_tmp = smultixcan_results.apply(lambda x: x / x.sum())"
   ]
  },
  {
   "cell_type": "code",
   "execution_count": 19,
   "metadata": {
    "execution": {
     "iopub.execute_input": "2021-09-17T03:33:37.708703Z",
     "iopub.status.busy": "2021-09-17T03:33:37.708316Z",
     "iopub.status.idle": "2021-09-17T03:33:37.712863Z",
     "shell.execute_reply": "2021-09-17T03:33:37.713215Z"
    },
    "papermill": {
     "duration": 0.031264,
     "end_time": "2021-09-17T03:33:37.713321",
     "exception": false,
     "start_time": "2021-09-17T03:33:37.682057",
     "status": "completed"
    },
    "tags": []
   },
   "outputs": [
    {
     "data": {
      "text/plain": [
       "(22508, 3752)"
      ]
     },
     "execution_count": 19,
     "metadata": {},
     "output_type": "execute_result"
    }
   ],
   "source": [
    "_tmp.shape"
   ]
  },
  {
   "cell_type": "code",
   "execution_count": 20,
   "metadata": {
    "execution": {
     "iopub.execute_input": "2021-09-17T03:33:37.759462Z",
     "iopub.status.busy": "2021-09-17T03:33:37.759084Z",
     "iopub.status.idle": "2021-09-17T03:33:37.769787Z",
     "shell.execute_reply": "2021-09-17T03:33:37.770098Z"
    },
    "papermill": {
     "duration": 0.034936,
     "end_time": "2021-09-17T03:33:37.770203",
     "exception": false,
     "start_time": "2021-09-17T03:33:37.735267",
     "status": "completed"
    },
    "tags": []
   },
   "outputs": [],
   "source": [
    "assert _tmp.shape == smultixcan_results.shape"
   ]
  },
  {
   "cell_type": "code",
   "execution_count": 21,
   "metadata": {
    "execution": {
     "iopub.execute_input": "2021-09-17T03:33:37.828932Z",
     "iopub.status.busy": "2021-09-17T03:33:37.828540Z",
     "iopub.status.idle": "2021-09-17T03:33:37.835713Z",
     "shell.execute_reply": "2021-09-17T03:33:37.835375Z"
    },
    "papermill": {
     "duration": 0.043631,
     "end_time": "2021-09-17T03:33:37.835805",
     "exception": false,
     "start_time": "2021-09-17T03:33:37.792174",
     "status": "completed"
    },
    "tags": []
   },
   "outputs": [],
   "source": [
    "# some testing\n",
    "_trait = \"body height\"\n",
    "_gene = \"SCYL3\"\n",
    "assert (\n",
    "    _tmp.loc[_gene, _trait]\n",
    "    == smultixcan_results.loc[_gene, _trait] / smultixcan_results[_trait].sum()\n",
    ")\n",
    "\n",
    "_trait = \"100001_raw-Food_weight\"\n",
    "_gene = \"DPM1\"\n",
    "assert (\n",
    "    _tmp.loc[_gene, _trait]\n",
    "    == smultixcan_results.loc[_gene, _trait] / smultixcan_results[_trait].sum()\n",
    ")\n",
    "\n",
    "_trait = \"estrogen-receptor negative breast cancer\"\n",
    "_gene = \"CFH\"\n",
    "assert (\n",
    "    _tmp.loc[_gene, _trait]\n",
    "    == smultixcan_results.loc[_gene, _trait] / smultixcan_results[_trait].sum()\n",
    ")\n",
    "\n",
    "_trait = \"asthma\"\n",
    "_gene = \"C1orf112\"\n",
    "assert (\n",
    "    _tmp.loc[_gene, _trait]\n",
    "    == smultixcan_results.loc[_gene, _trait] / smultixcan_results[_trait].sum()\n",
    ")"
   ]
  },
  {
   "cell_type": "code",
   "execution_count": 22,
   "metadata": {
    "execution": {
     "iopub.execute_input": "2021-09-17T03:33:37.889375Z",
     "iopub.status.busy": "2021-09-17T03:33:37.888763Z",
     "iopub.status.idle": "2021-09-17T03:33:37.890046Z",
     "shell.execute_reply": "2021-09-17T03:33:37.890371Z"
    },
    "papermill": {
     "duration": 0.032665,
     "end_time": "2021-09-17T03:33:37.890476",
     "exception": false,
     "start_time": "2021-09-17T03:33:37.857811",
     "status": "completed"
    },
    "tags": []
   },
   "outputs": [],
   "source": [
    "smultixcan_results = _tmp"
   ]
  },
  {
   "cell_type": "code",
   "execution_count": 23,
   "metadata": {
    "execution": {
     "iopub.execute_input": "2021-09-17T03:33:37.940967Z",
     "iopub.status.busy": "2021-09-17T03:33:37.940582Z",
     "iopub.status.idle": "2021-09-17T03:33:37.955426Z",
     "shell.execute_reply": "2021-09-17T03:33:37.955732Z"
    },
    "papermill": {
     "duration": 0.043404,
     "end_time": "2021-09-17T03:33:37.955841",
     "exception": false,
     "start_time": "2021-09-17T03:33:37.912437",
     "status": "completed"
    },
    "tags": []
   },
   "outputs": [
    {
     "data": {
      "text/html": [
       "<div>\n",
       "<style scoped>\n",
       "    .dataframe tbody tr th:only-of-type {\n",
       "        vertical-align: middle;\n",
       "    }\n",
       "\n",
       "    .dataframe tbody tr th {\n",
       "        vertical-align: top;\n",
       "    }\n",
       "\n",
       "    .dataframe thead th {\n",
       "        text-align: right;\n",
       "    }\n",
       "</style>\n",
       "<table border=\"1\" class=\"dataframe\">\n",
       "  <thead>\n",
       "    <tr style=\"text-align: right;\">\n",
       "      <th></th>\n",
       "      <th>100001_raw-Food_weight</th>\n",
       "      <th>100002_raw-Energy</th>\n",
       "      <th>100003_raw-Protein</th>\n",
       "      <th>100004_raw-Fat</th>\n",
       "      <th>100005_raw-Carbohydrate</th>\n",
       "      <th>100006_raw-Saturated_fat</th>\n",
       "      <th>100007_raw-Polyunsaturated_fat</th>\n",
       "      <th>100008_raw-Total_sugars</th>\n",
       "      <th>100009_raw-Englyst_dietary_fibre</th>\n",
       "      <th>100010-Portion_size</th>\n",
       "      <th>...</th>\n",
       "      <th>visual impairment</th>\n",
       "      <th>vitiligo</th>\n",
       "      <th>vitreous body disease</th>\n",
       "      <th>vocal cord polyp</th>\n",
       "      <th>voice disorders</th>\n",
       "      <th>wellbeing measurement AND family relationship</th>\n",
       "      <th>wheezing</th>\n",
       "      <th>whooping cough</th>\n",
       "      <th>worry measurement</th>\n",
       "      <th>wrist fracture</th>\n",
       "    </tr>\n",
       "    <tr>\n",
       "      <th>gene_name</th>\n",
       "      <th></th>\n",
       "      <th></th>\n",
       "      <th></th>\n",
       "      <th></th>\n",
       "      <th></th>\n",
       "      <th></th>\n",
       "      <th></th>\n",
       "      <th></th>\n",
       "      <th></th>\n",
       "      <th></th>\n",
       "      <th></th>\n",
       "      <th></th>\n",
       "      <th></th>\n",
       "      <th></th>\n",
       "      <th></th>\n",
       "      <th></th>\n",
       "      <th></th>\n",
       "      <th></th>\n",
       "      <th></th>\n",
       "      <th></th>\n",
       "      <th></th>\n",
       "    </tr>\n",
       "  </thead>\n",
       "  <tbody>\n",
       "    <tr>\n",
       "      <th>DPM1</th>\n",
       "      <td>0.000060</td>\n",
       "      <td>0.000039</td>\n",
       "      <td>0.000005</td>\n",
       "      <td>0.000016</td>\n",
       "      <td>0.000061</td>\n",
       "      <td>0.000075</td>\n",
       "      <td>0.000004</td>\n",
       "      <td>4.254814e-05</td>\n",
       "      <td>0.000031</td>\n",
       "      <td>0.000017</td>\n",
       "      <td>...</td>\n",
       "      <td>0.000020</td>\n",
       "      <td>0.000075</td>\n",
       "      <td>0.000064</td>\n",
       "      <td>0.000047</td>\n",
       "      <td>0.000066</td>\n",
       "      <td>0.000066</td>\n",
       "      <td>0.000069</td>\n",
       "      <td>0.000058</td>\n",
       "      <td>6.250232e-05</td>\n",
       "      <td>0.000034</td>\n",
       "    </tr>\n",
       "    <tr>\n",
       "      <th>SCYL3</th>\n",
       "      <td>0.000033</td>\n",
       "      <td>0.000055</td>\n",
       "      <td>0.000119</td>\n",
       "      <td>0.000041</td>\n",
       "      <td>0.000050</td>\n",
       "      <td>0.000011</td>\n",
       "      <td>0.000059</td>\n",
       "      <td>4.103114e-05</td>\n",
       "      <td>0.000020</td>\n",
       "      <td>0.000036</td>\n",
       "      <td>...</td>\n",
       "      <td>0.000118</td>\n",
       "      <td>0.000007</td>\n",
       "      <td>0.000030</td>\n",
       "      <td>0.000007</td>\n",
       "      <td>0.000029</td>\n",
       "      <td>0.000126</td>\n",
       "      <td>0.000027</td>\n",
       "      <td>0.000114</td>\n",
       "      <td>1.421837e-05</td>\n",
       "      <td>0.000070</td>\n",
       "    </tr>\n",
       "    <tr>\n",
       "      <th>C1orf112</th>\n",
       "      <td>0.000027</td>\n",
       "      <td>0.000022</td>\n",
       "      <td>0.000067</td>\n",
       "      <td>0.000023</td>\n",
       "      <td>0.000022</td>\n",
       "      <td>0.000014</td>\n",
       "      <td>0.000067</td>\n",
       "      <td>4.432186e-05</td>\n",
       "      <td>0.000030</td>\n",
       "      <td>0.000041</td>\n",
       "      <td>...</td>\n",
       "      <td>0.000098</td>\n",
       "      <td>0.000055</td>\n",
       "      <td>0.000030</td>\n",
       "      <td>0.000023</td>\n",
       "      <td>0.000084</td>\n",
       "      <td>0.000068</td>\n",
       "      <td>0.000018</td>\n",
       "      <td>0.000024</td>\n",
       "      <td>9.338414e-06</td>\n",
       "      <td>0.000056</td>\n",
       "    </tr>\n",
       "    <tr>\n",
       "      <th>FGR</th>\n",
       "      <td>0.000015</td>\n",
       "      <td>0.000014</td>\n",
       "      <td>0.000047</td>\n",
       "      <td>0.000019</td>\n",
       "      <td>0.000003</td>\n",
       "      <td>0.000010</td>\n",
       "      <td>0.000008</td>\n",
       "      <td>5.350929e-07</td>\n",
       "      <td>0.000019</td>\n",
       "      <td>0.000020</td>\n",
       "      <td>...</td>\n",
       "      <td>0.000036</td>\n",
       "      <td>0.000114</td>\n",
       "      <td>0.000152</td>\n",
       "      <td>0.000006</td>\n",
       "      <td>0.000057</td>\n",
       "      <td>0.000038</td>\n",
       "      <td>0.000035</td>\n",
       "      <td>0.000050</td>\n",
       "      <td>1.969101e-05</td>\n",
       "      <td>0.000058</td>\n",
       "    </tr>\n",
       "    <tr>\n",
       "      <th>CFH</th>\n",
       "      <td>0.000029</td>\n",
       "      <td>0.000021</td>\n",
       "      <td>0.000039</td>\n",
       "      <td>0.000063</td>\n",
       "      <td>0.000017</td>\n",
       "      <td>0.000018</td>\n",
       "      <td>0.000088</td>\n",
       "      <td>1.668206e-05</td>\n",
       "      <td>0.000017</td>\n",
       "      <td>0.000095</td>\n",
       "      <td>...</td>\n",
       "      <td>0.000014</td>\n",
       "      <td>0.000036</td>\n",
       "      <td>0.000060</td>\n",
       "      <td>0.000038</td>\n",
       "      <td>0.000083</td>\n",
       "      <td>0.000015</td>\n",
       "      <td>0.000005</td>\n",
       "      <td>0.000081</td>\n",
       "      <td>8.895497e-11</td>\n",
       "      <td>0.000036</td>\n",
       "    </tr>\n",
       "  </tbody>\n",
       "</table>\n",
       "<p>5 rows × 3752 columns</p>\n",
       "</div>"
      ],
      "text/plain": [
       "           100001_raw-Food_weight  100002_raw-Energy  100003_raw-Protein  \\\n",
       "gene_name                                                                  \n",
       "DPM1                     0.000060           0.000039            0.000005   \n",
       "SCYL3                    0.000033           0.000055            0.000119   \n",
       "C1orf112                 0.000027           0.000022            0.000067   \n",
       "FGR                      0.000015           0.000014            0.000047   \n",
       "CFH                      0.000029           0.000021            0.000039   \n",
       "\n",
       "           100004_raw-Fat  100005_raw-Carbohydrate  100006_raw-Saturated_fat  \\\n",
       "gene_name                                                                      \n",
       "DPM1             0.000016                 0.000061                  0.000075   \n",
       "SCYL3            0.000041                 0.000050                  0.000011   \n",
       "C1orf112         0.000023                 0.000022                  0.000014   \n",
       "FGR              0.000019                 0.000003                  0.000010   \n",
       "CFH              0.000063                 0.000017                  0.000018   \n",
       "\n",
       "           100007_raw-Polyunsaturated_fat  100008_raw-Total_sugars  \\\n",
       "gene_name                                                            \n",
       "DPM1                             0.000004             4.254814e-05   \n",
       "SCYL3                            0.000059             4.103114e-05   \n",
       "C1orf112                         0.000067             4.432186e-05   \n",
       "FGR                              0.000008             5.350929e-07   \n",
       "CFH                              0.000088             1.668206e-05   \n",
       "\n",
       "           100009_raw-Englyst_dietary_fibre  100010-Portion_size  ...  \\\n",
       "gene_name                                                         ...   \n",
       "DPM1                               0.000031             0.000017  ...   \n",
       "SCYL3                              0.000020             0.000036  ...   \n",
       "C1orf112                           0.000030             0.000041  ...   \n",
       "FGR                                0.000019             0.000020  ...   \n",
       "CFH                                0.000017             0.000095  ...   \n",
       "\n",
       "           visual impairment  vitiligo  vitreous body disease  \\\n",
       "gene_name                                                       \n",
       "DPM1                0.000020  0.000075               0.000064   \n",
       "SCYL3               0.000118  0.000007               0.000030   \n",
       "C1orf112            0.000098  0.000055               0.000030   \n",
       "FGR                 0.000036  0.000114               0.000152   \n",
       "CFH                 0.000014  0.000036               0.000060   \n",
       "\n",
       "           vocal cord polyp  voice disorders  \\\n",
       "gene_name                                      \n",
       "DPM1               0.000047         0.000066   \n",
       "SCYL3              0.000007         0.000029   \n",
       "C1orf112           0.000023         0.000084   \n",
       "FGR                0.000006         0.000057   \n",
       "CFH                0.000038         0.000083   \n",
       "\n",
       "           wellbeing measurement AND family relationship  wheezing  \\\n",
       "gene_name                                                            \n",
       "DPM1                                            0.000066  0.000069   \n",
       "SCYL3                                           0.000126  0.000027   \n",
       "C1orf112                                        0.000068  0.000018   \n",
       "FGR                                             0.000038  0.000035   \n",
       "CFH                                             0.000015  0.000005   \n",
       "\n",
       "           whooping cough  worry measurement  wrist fracture  \n",
       "gene_name                                                     \n",
       "DPM1             0.000058       6.250232e-05        0.000034  \n",
       "SCYL3            0.000114       1.421837e-05        0.000070  \n",
       "C1orf112         0.000024       9.338414e-06        0.000056  \n",
       "FGR              0.000050       1.969101e-05        0.000058  \n",
       "CFH              0.000081       8.895497e-11        0.000036  \n",
       "\n",
       "[5 rows x 3752 columns]"
      ]
     },
     "execution_count": 23,
     "metadata": {},
     "output_type": "execute_result"
    }
   ],
   "source": [
    "smultixcan_results.head()"
   ]
  },
  {
   "cell_type": "markdown",
   "metadata": {
    "papermill": {
     "duration": 0.022147,
     "end_time": "2021-09-17T03:33:38.000328",
     "exception": false,
     "start_time": "2021-09-17T03:33:37.978181",
     "status": "completed"
    },
    "tags": []
   },
   "source": [
    "# Project S-MultiXcan data into MultiPLIER latent space"
   ]
  },
  {
   "cell_type": "code",
   "execution_count": 24,
   "metadata": {
    "execution": {
     "iopub.execute_input": "2021-09-17T03:33:38.052418Z",
     "iopub.status.busy": "2021-09-17T03:33:38.052033Z",
     "iopub.status.idle": "2021-09-17T03:33:38.053168Z",
     "shell.execute_reply": "2021-09-17T03:33:38.053519Z"
    },
    "papermill": {
     "duration": 0.03094,
     "end_time": "2021-09-17T03:33:38.053619",
     "exception": false,
     "start_time": "2021-09-17T03:33:38.022679",
     "status": "completed"
    },
    "tags": []
   },
   "outputs": [],
   "source": [
    "mproj = MultiplierProjection()"
   ]
  },
  {
   "cell_type": "code",
   "execution_count": 25,
   "metadata": {
    "execution": {
     "iopub.execute_input": "2021-09-17T03:33:38.109015Z",
     "iopub.status.busy": "2021-09-17T03:33:38.108606Z",
     "iopub.status.idle": "2021-09-17T03:33:43.584655Z",
     "shell.execute_reply": "2021-09-17T03:33:43.588328Z"
    },
    "papermill": {
     "duration": 5.512345,
     "end_time": "2021-09-17T03:33:43.588438",
     "exception": false,
     "start_time": "2021-09-17T03:33:38.076093",
     "status": "completed"
    },
    "tags": []
   },
   "outputs": [],
   "source": [
    "smultixcan_into_multiplier = mproj.transform(smultixcan_results)"
   ]
  },
  {
   "cell_type": "code",
   "execution_count": 26,
   "metadata": {
    "execution": {
     "iopub.execute_input": "2021-09-17T03:33:43.662458Z",
     "iopub.status.busy": "2021-09-17T03:33:43.661744Z",
     "iopub.status.idle": "2021-09-17T03:33:43.671436Z",
     "shell.execute_reply": "2021-09-17T03:33:43.671935Z"
    },
    "papermill": {
     "duration": 0.034135,
     "end_time": "2021-09-17T03:33:43.672044",
     "exception": false,
     "start_time": "2021-09-17T03:33:43.637909",
     "status": "completed"
    },
    "tags": []
   },
   "outputs": [
    {
     "data": {
      "text/plain": [
       "(987, 3752)"
      ]
     },
     "execution_count": 26,
     "metadata": {},
     "output_type": "execute_result"
    }
   ],
   "source": [
    "smultixcan_into_multiplier.shape"
   ]
  },
  {
   "cell_type": "code",
   "execution_count": 27,
   "metadata": {
    "execution": {
     "iopub.execute_input": "2021-09-17T03:33:43.736846Z",
     "iopub.status.busy": "2021-09-17T03:33:43.736471Z",
     "iopub.status.idle": "2021-09-17T03:33:43.740309Z",
     "shell.execute_reply": "2021-09-17T03:33:43.740796Z"
    },
    "papermill": {
     "duration": 0.045864,
     "end_time": "2021-09-17T03:33:43.740900",
     "exception": false,
     "start_time": "2021-09-17T03:33:43.695036",
     "status": "completed"
    },
    "tags": []
   },
   "outputs": [
    {
     "data": {
      "text/html": [
       "<div>\n",
       "<style scoped>\n",
       "    .dataframe tbody tr th:only-of-type {\n",
       "        vertical-align: middle;\n",
       "    }\n",
       "\n",
       "    .dataframe tbody tr th {\n",
       "        vertical-align: top;\n",
       "    }\n",
       "\n",
       "    .dataframe thead th {\n",
       "        text-align: right;\n",
       "    }\n",
       "</style>\n",
       "<table border=\"1\" class=\"dataframe\">\n",
       "  <thead>\n",
       "    <tr style=\"text-align: right;\">\n",
       "      <th></th>\n",
       "      <th>100001_raw-Food_weight</th>\n",
       "      <th>100002_raw-Energy</th>\n",
       "      <th>100003_raw-Protein</th>\n",
       "      <th>100004_raw-Fat</th>\n",
       "      <th>100005_raw-Carbohydrate</th>\n",
       "      <th>100006_raw-Saturated_fat</th>\n",
       "      <th>100007_raw-Polyunsaturated_fat</th>\n",
       "      <th>100008_raw-Total_sugars</th>\n",
       "      <th>100009_raw-Englyst_dietary_fibre</th>\n",
       "      <th>100010-Portion_size</th>\n",
       "      <th>...</th>\n",
       "      <th>visual impairment</th>\n",
       "      <th>vitiligo</th>\n",
       "      <th>vitreous body disease</th>\n",
       "      <th>vocal cord polyp</th>\n",
       "      <th>voice disorders</th>\n",
       "      <th>wellbeing measurement AND family relationship</th>\n",
       "      <th>wheezing</th>\n",
       "      <th>whooping cough</th>\n",
       "      <th>worry measurement</th>\n",
       "      <th>wrist fracture</th>\n",
       "    </tr>\n",
       "  </thead>\n",
       "  <tbody>\n",
       "    <tr>\n",
       "      <th>LV1</th>\n",
       "      <td>-0.021292</td>\n",
       "      <td>-0.046815</td>\n",
       "      <td>-0.021585</td>\n",
       "      <td>-0.030324</td>\n",
       "      <td>-0.017773</td>\n",
       "      <td>-0.007844</td>\n",
       "      <td>-0.015529</td>\n",
       "      <td>-0.011609</td>\n",
       "      <td>-0.051342</td>\n",
       "      <td>-0.036813</td>\n",
       "      <td>...</td>\n",
       "      <td>-0.001614</td>\n",
       "      <td>0.002102</td>\n",
       "      <td>-0.005318</td>\n",
       "      <td>-0.003041</td>\n",
       "      <td>0.012873</td>\n",
       "      <td>-0.015951</td>\n",
       "      <td>-0.018904</td>\n",
       "      <td>0.009576</td>\n",
       "      <td>0.019755</td>\n",
       "      <td>0.010027</td>\n",
       "    </tr>\n",
       "    <tr>\n",
       "      <th>LV2</th>\n",
       "      <td>0.056061</td>\n",
       "      <td>-0.009864</td>\n",
       "      <td>-0.028888</td>\n",
       "      <td>-0.053573</td>\n",
       "      <td>0.006951</td>\n",
       "      <td>-0.054597</td>\n",
       "      <td>-0.030748</td>\n",
       "      <td>0.014519</td>\n",
       "      <td>-0.026933</td>\n",
       "      <td>0.009024</td>\n",
       "      <td>...</td>\n",
       "      <td>-0.029614</td>\n",
       "      <td>-0.033636</td>\n",
       "      <td>0.020768</td>\n",
       "      <td>0.010656</td>\n",
       "      <td>-0.013305</td>\n",
       "      <td>0.050738</td>\n",
       "      <td>0.012085</td>\n",
       "      <td>-0.032372</td>\n",
       "      <td>-0.024540</td>\n",
       "      <td>-0.002616</td>\n",
       "    </tr>\n",
       "    <tr>\n",
       "      <th>LV3</th>\n",
       "      <td>0.001650</td>\n",
       "      <td>-0.004262</td>\n",
       "      <td>0.019211</td>\n",
       "      <td>0.007484</td>\n",
       "      <td>0.004548</td>\n",
       "      <td>0.006548</td>\n",
       "      <td>0.006741</td>\n",
       "      <td>-0.005634</td>\n",
       "      <td>-0.022129</td>\n",
       "      <td>-0.017256</td>\n",
       "      <td>...</td>\n",
       "      <td>0.010539</td>\n",
       "      <td>-0.019591</td>\n",
       "      <td>-0.013391</td>\n",
       "      <td>-0.044369</td>\n",
       "      <td>0.020142</td>\n",
       "      <td>0.006052</td>\n",
       "      <td>0.020869</td>\n",
       "      <td>0.043931</td>\n",
       "      <td>0.058049</td>\n",
       "      <td>-0.013144</td>\n",
       "    </tr>\n",
       "    <tr>\n",
       "      <th>LV4</th>\n",
       "      <td>0.026265</td>\n",
       "      <td>-0.007235</td>\n",
       "      <td>0.004304</td>\n",
       "      <td>-0.042464</td>\n",
       "      <td>-0.001093</td>\n",
       "      <td>-0.041208</td>\n",
       "      <td>-0.051179</td>\n",
       "      <td>0.009060</td>\n",
       "      <td>-0.003999</td>\n",
       "      <td>-0.005874</td>\n",
       "      <td>...</td>\n",
       "      <td>-0.018162</td>\n",
       "      <td>0.012136</td>\n",
       "      <td>-0.046232</td>\n",
       "      <td>-0.030949</td>\n",
       "      <td>-0.040147</td>\n",
       "      <td>0.044545</td>\n",
       "      <td>0.009865</td>\n",
       "      <td>-0.049828</td>\n",
       "      <td>-0.013725</td>\n",
       "      <td>0.024988</td>\n",
       "    </tr>\n",
       "    <tr>\n",
       "      <th>LV5</th>\n",
       "      <td>-0.015616</td>\n",
       "      <td>0.010799</td>\n",
       "      <td>0.017792</td>\n",
       "      <td>0.010591</td>\n",
       "      <td>0.001972</td>\n",
       "      <td>0.040024</td>\n",
       "      <td>-0.027612</td>\n",
       "      <td>-0.001540</td>\n",
       "      <td>0.033072</td>\n",
       "      <td>0.009477</td>\n",
       "      <td>...</td>\n",
       "      <td>0.030632</td>\n",
       "      <td>-0.023253</td>\n",
       "      <td>0.015853</td>\n",
       "      <td>-0.002222</td>\n",
       "      <td>0.019385</td>\n",
       "      <td>-0.015501</td>\n",
       "      <td>-0.031477</td>\n",
       "      <td>-0.002554</td>\n",
       "      <td>-0.032620</td>\n",
       "      <td>0.017731</td>\n",
       "    </tr>\n",
       "  </tbody>\n",
       "</table>\n",
       "<p>5 rows × 3752 columns</p>\n",
       "</div>"
      ],
      "text/plain": [
       "     100001_raw-Food_weight  100002_raw-Energy  100003_raw-Protein  \\\n",
       "LV1               -0.021292          -0.046815           -0.021585   \n",
       "LV2                0.056061          -0.009864           -0.028888   \n",
       "LV3                0.001650          -0.004262            0.019211   \n",
       "LV4                0.026265          -0.007235            0.004304   \n",
       "LV5               -0.015616           0.010799            0.017792   \n",
       "\n",
       "     100004_raw-Fat  100005_raw-Carbohydrate  100006_raw-Saturated_fat  \\\n",
       "LV1       -0.030324                -0.017773                 -0.007844   \n",
       "LV2       -0.053573                 0.006951                 -0.054597   \n",
       "LV3        0.007484                 0.004548                  0.006548   \n",
       "LV4       -0.042464                -0.001093                 -0.041208   \n",
       "LV5        0.010591                 0.001972                  0.040024   \n",
       "\n",
       "     100007_raw-Polyunsaturated_fat  100008_raw-Total_sugars  \\\n",
       "LV1                       -0.015529                -0.011609   \n",
       "LV2                       -0.030748                 0.014519   \n",
       "LV3                        0.006741                -0.005634   \n",
       "LV4                       -0.051179                 0.009060   \n",
       "LV5                       -0.027612                -0.001540   \n",
       "\n",
       "     100009_raw-Englyst_dietary_fibre  100010-Portion_size  ...  \\\n",
       "LV1                         -0.051342            -0.036813  ...   \n",
       "LV2                         -0.026933             0.009024  ...   \n",
       "LV3                         -0.022129            -0.017256  ...   \n",
       "LV4                         -0.003999            -0.005874  ...   \n",
       "LV5                          0.033072             0.009477  ...   \n",
       "\n",
       "     visual impairment  vitiligo  vitreous body disease  vocal cord polyp  \\\n",
       "LV1          -0.001614  0.002102              -0.005318         -0.003041   \n",
       "LV2          -0.029614 -0.033636               0.020768          0.010656   \n",
       "LV3           0.010539 -0.019591              -0.013391         -0.044369   \n",
       "LV4          -0.018162  0.012136              -0.046232         -0.030949   \n",
       "LV5           0.030632 -0.023253               0.015853         -0.002222   \n",
       "\n",
       "     voice disorders  wellbeing measurement AND family relationship  wheezing  \\\n",
       "LV1         0.012873                                      -0.015951 -0.018904   \n",
       "LV2        -0.013305                                       0.050738  0.012085   \n",
       "LV3         0.020142                                       0.006052  0.020869   \n",
       "LV4        -0.040147                                       0.044545  0.009865   \n",
       "LV5         0.019385                                      -0.015501 -0.031477   \n",
       "\n",
       "     whooping cough  worry measurement  wrist fracture  \n",
       "LV1        0.009576           0.019755        0.010027  \n",
       "LV2       -0.032372          -0.024540       -0.002616  \n",
       "LV3        0.043931           0.058049       -0.013144  \n",
       "LV4       -0.049828          -0.013725        0.024988  \n",
       "LV5       -0.002554          -0.032620        0.017731  \n",
       "\n",
       "[5 rows x 3752 columns]"
      ]
     },
     "execution_count": 27,
     "metadata": {},
     "output_type": "execute_result"
    }
   ],
   "source": [
    "smultixcan_into_multiplier.head()"
   ]
  },
  {
   "cell_type": "markdown",
   "metadata": {
    "papermill": {
     "duration": 0.022787,
     "end_time": "2021-09-17T03:33:43.786825",
     "exception": false,
     "start_time": "2021-09-17T03:33:43.764038",
     "status": "completed"
    },
    "tags": []
   },
   "source": [
    "# Quick analysis"
   ]
  },
  {
   "cell_type": "code",
   "execution_count": 28,
   "metadata": {
    "execution": {
     "iopub.execute_input": "2021-09-17T03:33:43.843215Z",
     "iopub.status.busy": "2021-09-17T03:33:43.842836Z",
     "iopub.status.idle": "2021-09-17T03:33:43.845204Z",
     "shell.execute_reply": "2021-09-17T03:33:43.845491Z"
    },
    "papermill": {
     "duration": 0.035829,
     "end_time": "2021-09-17T03:33:43.845597",
     "exception": false,
     "start_time": "2021-09-17T03:33:43.809768",
     "status": "completed"
    },
    "tags": []
   },
   "outputs": [
    {
     "data": {
      "text/plain": [
       "30220_raw-Basophill_percentage                                   0.181608\n",
       "30130_raw-Monocyte_count                                         0.158166\n",
       "30000_raw-White_blood_cell_leukocyte_count                       0.146061\n",
       "myeloid white cell count                                         0.133998\n",
       "leukocyte count                                                  0.131486\n",
       "sum of neutrophil and eosinophil counts                          0.128405\n",
       "granulocyte count                                                0.128316\n",
       "sum of basophil and neutrophil counts                            0.126586\n",
       "neutrophil count                                                 0.125868\n",
       "30160-Basophill_count                                            0.122953\n",
       "30180_raw-Lymphocyte_percentage                                  0.119818\n",
       "30140_raw-Neutrophill_count                                      0.113055\n",
       "monocyte count                                                   0.113054\n",
       "20003_1140875420-Treatmentmedication_code_baclofen               0.111199\n",
       "30200_raw-Neutrophill_percentage                                 0.106398\n",
       "30190_raw-Monocyte_percentage                                    0.095853\n",
       "30120_raw-Lymphocyte_count                                       0.089833\n",
       "M13_DORSOPATHYOTH-Other_dorsopathies_not_elsewhere_classified    0.081227\n",
       "AB1_VIRAL_CNS-Viral_infections_of_the_central_nervous_system     0.080479\n",
       "20022_raw-Birth_weight                                           0.080032\n",
       "Name: LV603, dtype: float64"
      ]
     },
     "execution_count": 28,
     "metadata": {},
     "output_type": "execute_result"
    }
   ],
   "source": [
    "(smultixcan_into_multiplier.loc[\"LV603\"].sort_values(ascending=False).head(20))"
   ]
  },
  {
   "cell_type": "code",
   "execution_count": 29,
   "metadata": {
    "execution": {
     "iopub.execute_input": "2021-09-17T03:33:43.902229Z",
     "iopub.status.busy": "2021-09-17T03:33:43.901850Z",
     "iopub.status.idle": "2021-09-17T03:33:43.904202Z",
     "shell.execute_reply": "2021-09-17T03:33:43.904493Z"
    },
    "papermill": {
     "duration": 0.035779,
     "end_time": "2021-09-17T03:33:43.904597",
     "exception": false,
     "start_time": "2021-09-17T03:33:43.868818",
     "status": "completed"
    },
    "tags": []
   },
   "outputs": [
    {
     "data": {
      "text/plain": [
       "coronary artery disease                                           0.210545\n",
       "5132_raw-3mm_strong_meridian_right                                0.179597\n",
       "5134_raw-6mm_strong_meridian_left                                 0.167916\n",
       "5099_raw-3mm_weak_meridian_right                                  0.161459\n",
       "5133_raw-6mm_strong_meridian_right                                0.160688\n",
       "5098_raw-6mm_weak_meridian_right                                  0.157502\n",
       "I9_CORATHER-Coronary_atherosclerosis                              0.154131\n",
       "5097_raw-6mm_weak_meridian_left                                   0.150595\n",
       "5096_raw-3mm_weak_meridian_left                                   0.150400\n",
       "5135_raw-3mm_strong_meridian_left                                 0.149901\n",
       "I9_IHD-Ischaemic_heart_disease_wide_definition                    0.148814\n",
       "I9_MI_STRICT-Myocardial_infarction_strict                         0.125965\n",
       "I9_MI-Myocardial_infarction                                       0.125965\n",
       "acute myocardial infarction                                       0.119488\n",
       "6150_1-Vascularheart_problems_diagnosed_by_doctor_Heart_attack    0.110447\n",
       "1508_4-Coffee_type_Other_type_of_coffee                           0.107850\n",
       "20079_4-Dayofweek_questionnaire_completion_requested_Thursday     0.107839\n",
       "6072_1-OCT_measured_left_Measurable                               0.105302\n",
       "20089_461-Type_of_meals_eaten_Takeaway_meals                      0.105030\n",
       "CAMPYLOENTERITIS-Campylobacter_enteritis                          0.102211\n",
       "Name: LV136, dtype: float64"
      ]
     },
     "execution_count": 29,
     "metadata": {},
     "output_type": "execute_result"
    }
   ],
   "source": [
    "(smultixcan_into_multiplier.loc[\"LV136\"].sort_values(ascending=False).head(20))"
   ]
  },
  {
   "cell_type": "code",
   "execution_count": 30,
   "metadata": {
    "execution": {
     "iopub.execute_input": "2021-09-17T03:33:43.961897Z",
     "iopub.status.busy": "2021-09-17T03:33:43.961513Z",
     "iopub.status.idle": "2021-09-17T03:33:43.963900Z",
     "shell.execute_reply": "2021-09-17T03:33:43.964186Z"
    },
    "papermill": {
     "duration": 0.036153,
     "end_time": "2021-09-17T03:33:43.964291",
     "exception": false,
     "start_time": "2021-09-17T03:33:43.928138",
     "status": "completed"
    },
    "tags": []
   },
   "outputs": [
    {
     "data": {
      "text/plain": [
       "celiac disease                                                                                  0.714810\n",
       "rheumatoid arthritis                                                                            0.600279\n",
       "K11_COELIAC-Coeliac_disease                                                                     0.600040\n",
       "malabsorption syndrome                                                                          0.570880\n",
       "2986-Started_insulin_within_one_year_diagnosis_of_diabetes                                      0.350327\n",
       "6144_3-Never_eat_eggs_dairy_wheat_sugar_Wheat_products                                          0.338204\n",
       "systemic lupus erythematosus                                                                    0.327493\n",
       "hyperthyroidism AND thyrotoxicosis                                                              0.309382\n",
       "20003_1140883066-Treatmentmedication_code_insulin_product                                       0.289095\n",
       "psoriasis                                                                                       0.284361\n",
       "2976_raw-Age_diabetes_diagnosed                                                                 0.282864\n",
       "hypothyroidism AND myxedema                                                                     0.248533\n",
       "leukocyte count                                                                                 0.242229\n",
       "30000_raw-White_blood_cell_leukocyte_count                                                      0.229804\n",
       "6153_3-Medication_for_cholesterol_blood_pressure_diabetes_or_take_exogenous_hormones_Insulin    0.224296\n",
       "20003_1141191044-Treatmentmedication_code_levothyroxine_sodium                                  0.220401\n",
       "E4_DM1-Type_1_diabetes                                                                          0.210884\n",
       "6177_3-Medication_for_cholesterol_blood_pressure_or_diabetes_Insulin                            0.209958\n",
       "lymphocyte count                                                                                0.206800\n",
       "type i diabetes mellitus                                                                        0.206408\n",
       "Name: LV844, dtype: float64"
      ]
     },
     "execution_count": 30,
     "metadata": {},
     "output_type": "execute_result"
    }
   ],
   "source": [
    "(smultixcan_into_multiplier.loc[\"LV844\"].sort_values(ascending=False).head(20))"
   ]
  },
  {
   "cell_type": "markdown",
   "metadata": {
    "papermill": {
     "duration": 0.023299,
     "end_time": "2021-09-17T03:33:44.011139",
     "exception": false,
     "start_time": "2021-09-17T03:33:43.987840",
     "status": "completed"
    },
    "tags": []
   },
   "source": [
    "# Save"
   ]
  },
  {
   "cell_type": "code",
   "execution_count": 31,
   "metadata": {
    "execution": {
     "iopub.execute_input": "2021-09-17T03:33:44.066655Z",
     "iopub.status.busy": "2021-09-17T03:33:44.066275Z",
     "iopub.status.idle": "2021-09-17T03:33:44.068552Z",
     "shell.execute_reply": "2021-09-17T03:33:44.068844Z"
    },
    "papermill": {
     "duration": 0.034403,
     "end_time": "2021-09-17T03:33:44.068948",
     "exception": false,
     "start_time": "2021-09-17T03:33:44.034545",
     "status": "completed"
    },
    "tags": []
   },
   "outputs": [
    {
     "data": {
      "text/plain": [
       "PosixPath('/home/miltondp/projects/labs/greenelab/phenoplier/base/results/projections/projection-smultixcan-efo_partial-mashr-zscores.pkl')"
      ]
     },
     "metadata": {},
     "output_type": "display_data"
    }
   ],
   "source": [
    "output_file = Path(\n",
    "    RESULTS_PROJ_OUTPUT_DIR, f\"projection-{results_filename_stem}.pkl\"\n",
    ").resolve()\n",
    "\n",
    "display(output_file)"
   ]
  },
  {
   "cell_type": "code",
   "execution_count": 32,
   "metadata": {
    "execution": {
     "iopub.execute_input": "2021-09-17T03:33:44.136879Z",
     "iopub.status.busy": "2021-09-17T03:33:44.136490Z",
     "iopub.status.idle": "2021-09-17T03:33:44.266857Z",
     "shell.execute_reply": "2021-09-17T03:33:44.267362Z"
    },
    "papermill": {
     "duration": 0.174553,
     "end_time": "2021-09-17T03:33:44.267472",
     "exception": false,
     "start_time": "2021-09-17T03:33:44.092919",
     "status": "completed"
    },
    "tags": []
   },
   "outputs": [],
   "source": [
    "smultixcan_into_multiplier.to_pickle(output_file)"
   ]
  },
  {
   "cell_type": "markdown",
   "metadata": {
    "papermill": {
     "duration": 0.023697,
     "end_time": "2021-09-17T03:33:44.332862",
     "exception": false,
     "start_time": "2021-09-17T03:33:44.309165",
     "status": "completed"
    },
    "tags": []
   },
   "source": [
    "## RDS format"
   ]
  },
  {
   "cell_type": "code",
   "execution_count": 33,
   "metadata": {
    "execution": {
     "iopub.execute_input": "2021-09-17T03:33:44.397409Z",
     "iopub.status.busy": "2021-09-17T03:33:44.396664Z",
     "iopub.status.idle": "2021-09-17T03:33:44.398408Z",
     "shell.execute_reply": "2021-09-17T03:33:44.396998Z"
    },
    "papermill": {
     "duration": 0.041935,
     "end_time": "2021-09-17T03:33:44.398495",
     "exception": false,
     "start_time": "2021-09-17T03:33:44.356560",
     "status": "completed"
    },
    "tags": []
   },
   "outputs": [
    {
     "data": {
      "text/plain": [
       "PosixPath('/home/miltondp/projects/labs/greenelab/phenoplier/base/results/projections/projection-smultixcan-efo_partial-mashr-zscores.rds')"
      ]
     },
     "metadata": {},
     "output_type": "display_data"
    }
   ],
   "source": [
    "output_rds_file = output_file.with_suffix(\".rds\")\n",
    "display(output_rds_file)"
   ]
  },
  {
   "cell_type": "code",
   "execution_count": 34,
   "metadata": {
    "execution": {
     "iopub.execute_input": "2021-09-17T03:33:44.476719Z",
     "iopub.status.busy": "2021-09-17T03:33:44.476333Z",
     "iopub.status.idle": "2021-09-17T03:33:51.160976Z",
     "shell.execute_reply": "2021-09-17T03:33:51.161278Z"
    },
    "papermill": {
     "duration": 6.737718,
     "end_time": "2021-09-17T03:33:51.161392",
     "exception": false,
     "start_time": "2021-09-17T03:33:44.423674",
     "status": "completed"
    },
    "tags": []
   },
   "outputs": [],
   "source": [
    "with localconverter(ro.default_converter + pandas2ri.converter):\n",
    "    data_r = ro.conversion.py2rpy(smultixcan_into_multiplier)"
   ]
  },
  {
   "cell_type": "code",
   "execution_count": 35,
   "metadata": {
    "execution": {
     "iopub.execute_input": "2021-09-17T03:33:51.216712Z",
     "iopub.status.busy": "2021-09-17T03:33:51.216325Z",
     "iopub.status.idle": "2021-09-17T03:33:51.224535Z",
     "shell.execute_reply": "2021-09-17T03:33:51.224904Z"
    },
    "papermill": {
     "duration": 0.038877,
     "end_time": "2021-09-17T03:33:51.225012",
     "exception": false,
     "start_time": "2021-09-17T03:33:51.186135",
     "status": "completed"
    },
    "tags": []
   },
   "outputs": [
    {
     "data": {
      "text/html": [
       "\n",
       "        <span>R/rpy2 DataFrame (987 x 3752)</span>\n",
       "        <table>\n",
       "          <thead>\n",
       "            <tr>\n",
       "              \n",
       "              <th>100001_raw-Food_weight</th>\n",
       "              \n",
       "              <th>100002_raw-Energy</th>\n",
       "              \n",
       "              <th>100003_raw-Protein</th>\n",
       "              \n",
       "              <th>...</th>\n",
       "              \n",
       "              <th>whooping cough</th>\n",
       "              \n",
       "              <th>worry measurement</th>\n",
       "              \n",
       "              <th>wrist fracture</th>\n",
       "              \n",
       "            </tr>\n",
       "          </thead>\n",
       "          <tbody>\n",
       "          \n",
       "          <tr>\n",
       "            \n",
       "            <td>\n",
       "              -0.021292\n",
       "            </td>\n",
       "            \n",
       "            <td>\n",
       "              -0.046815\n",
       "            </td>\n",
       "            \n",
       "            <td>\n",
       "              -0.021585\n",
       "            </td>\n",
       "            \n",
       "            <td>\n",
       "              ...\n",
       "            </td>\n",
       "            \n",
       "            <td>\n",
       "              0.009576\n",
       "            </td>\n",
       "            \n",
       "            <td>\n",
       "              0.019755\n",
       "            </td>\n",
       "            \n",
       "            <td>\n",
       "              0.010027\n",
       "            </td>\n",
       "            \n",
       "          </tr>\n",
       "          \n",
       "          <tr>\n",
       "            \n",
       "            <td>\n",
       "              0.056061\n",
       "            </td>\n",
       "            \n",
       "            <td>\n",
       "              -0.009864\n",
       "            </td>\n",
       "            \n",
       "            <td>\n",
       "              -0.028888\n",
       "            </td>\n",
       "            \n",
       "            <td>\n",
       "              \n",
       "            </td>\n",
       "            \n",
       "            <td>\n",
       "              -0.032372\n",
       "            </td>\n",
       "            \n",
       "            <td>\n",
       "              -0.024540\n",
       "            </td>\n",
       "            \n",
       "            <td>\n",
       "              -0.002616\n",
       "            </td>\n",
       "            \n",
       "          </tr>\n",
       "          \n",
       "          <tr>\n",
       "            \n",
       "            <td>\n",
       "              0.001650\n",
       "            </td>\n",
       "            \n",
       "            <td>\n",
       "              -0.004262\n",
       "            </td>\n",
       "            \n",
       "            <td>\n",
       "              0.019211\n",
       "            </td>\n",
       "            \n",
       "            <td>\n",
       "              \n",
       "            </td>\n",
       "            \n",
       "            <td>\n",
       "              0.043931\n",
       "            </td>\n",
       "            \n",
       "            <td>\n",
       "              0.058049\n",
       "            </td>\n",
       "            \n",
       "            <td>\n",
       "              -0.013144\n",
       "            </td>\n",
       "            \n",
       "          </tr>\n",
       "          \n",
       "          <tr>\n",
       "            \n",
       "            <td>\n",
       "              0.026265\n",
       "            </td>\n",
       "            \n",
       "            <td>\n",
       "              -0.007235\n",
       "            </td>\n",
       "            \n",
       "            <td>\n",
       "              0.004304\n",
       "            </td>\n",
       "            \n",
       "            <td>\n",
       "              \n",
       "            </td>\n",
       "            \n",
       "            <td>\n",
       "              -0.049828\n",
       "            </td>\n",
       "            \n",
       "            <td>\n",
       "              -0.013725\n",
       "            </td>\n",
       "            \n",
       "            <td>\n",
       "              0.024988\n",
       "            </td>\n",
       "            \n",
       "          </tr>\n",
       "          \n",
       "          <tr>\n",
       "            \n",
       "            <td>\n",
       "              ...\n",
       "            </td>\n",
       "            \n",
       "            <td>\n",
       "              ...\n",
       "            </td>\n",
       "            \n",
       "            <td>\n",
       "              ...\n",
       "            </td>\n",
       "            \n",
       "            <td>\n",
       "              \n",
       "            </td>\n",
       "            \n",
       "            <td>\n",
       "              ...\n",
       "            </td>\n",
       "            \n",
       "            <td>\n",
       "              ...\n",
       "            </td>\n",
       "            \n",
       "            <td>\n",
       "              ...\n",
       "            </td>\n",
       "            \n",
       "          </tr>\n",
       "          \n",
       "          <tr>\n",
       "            \n",
       "            <td>\n",
       "              0.015128\n",
       "            </td>\n",
       "            \n",
       "            <td>\n",
       "              -0.001040\n",
       "            </td>\n",
       "            \n",
       "            <td>\n",
       "              -0.006422\n",
       "            </td>\n",
       "            \n",
       "            <td>\n",
       "              \n",
       "            </td>\n",
       "            \n",
       "            <td>\n",
       "              0.025357\n",
       "            </td>\n",
       "            \n",
       "            <td>\n",
       "              -0.021055\n",
       "            </td>\n",
       "            \n",
       "            <td>\n",
       "              -0.014192\n",
       "            </td>\n",
       "            \n",
       "          </tr>\n",
       "          \n",
       "          <tr>\n",
       "            \n",
       "            <td>\n",
       "              -0.018430\n",
       "            </td>\n",
       "            \n",
       "            <td>\n",
       "              0.050533\n",
       "            </td>\n",
       "            \n",
       "            <td>\n",
       "              0.040084\n",
       "            </td>\n",
       "            \n",
       "            <td>\n",
       "              \n",
       "            </td>\n",
       "            \n",
       "            <td>\n",
       "              -0.001305\n",
       "            </td>\n",
       "            \n",
       "            <td>\n",
       "              0.023432\n",
       "            </td>\n",
       "            \n",
       "            <td>\n",
       "              0.015387\n",
       "            </td>\n",
       "            \n",
       "          </tr>\n",
       "          \n",
       "          <tr>\n",
       "            \n",
       "            <td>\n",
       "              0.016253\n",
       "            </td>\n",
       "            \n",
       "            <td>\n",
       "              -0.007979\n",
       "            </td>\n",
       "            \n",
       "            <td>\n",
       "              -0.008175\n",
       "            </td>\n",
       "            \n",
       "            <td>\n",
       "              \n",
       "            </td>\n",
       "            \n",
       "            <td>\n",
       "              -0.005414\n",
       "            </td>\n",
       "            \n",
       "            <td>\n",
       "              0.066239\n",
       "            </td>\n",
       "            \n",
       "            <td>\n",
       "              0.003844\n",
       "            </td>\n",
       "            \n",
       "          </tr>\n",
       "          \n",
       "          <tr>\n",
       "            \n",
       "            <td>\n",
       "              -0.021666\n",
       "            </td>\n",
       "            \n",
       "            <td>\n",
       "              -0.017742\n",
       "            </td>\n",
       "            \n",
       "            <td>\n",
       "              -0.014154\n",
       "            </td>\n",
       "            \n",
       "            <td>\n",
       "              \n",
       "            </td>\n",
       "            \n",
       "            <td>\n",
       "              -0.041389\n",
       "            </td>\n",
       "            \n",
       "            <td>\n",
       "              0.031741\n",
       "            </td>\n",
       "            \n",
       "            <td>\n",
       "              -0.030431\n",
       "            </td>\n",
       "            \n",
       "          </tr>\n",
       "          \n",
       "          </tbody>\n",
       "        </table>\n",
       "    "
      ],
      "text/plain": [
       "R object with classes: ('data.frame',) mapped to:\n",
       "[FloatSexp..., FloatSexp..., FloatSexp..., FloatSexp..., ..., FloatSexp..., FloatSexp..., FloatSexp..., FloatSexp...]\n",
       "  100001_raw-Food_weight: <class 'rpy2.robjects.vectors.FloatVector'>\n",
       "  R object with classes: ('numeric',) mapped to:\n",
       "[-0.021292, 0.056061, 0.001650, 0.026265, ..., 0.015128, -0.018430, 0.016253, -0.021666]\n",
       "  100002_raw-Energy: <class 'rpy2.robjects.vectors.FloatVector'>\n",
       "  R object with classes: ('numeric',) mapped to:\n",
       "[-0.046815, -0.009864, -0.004262, -0.007235, ..., -0.001040, 0.050533, -0.007979, -0.017742]\n",
       "  100003_raw-Protein: <class 'rpy2.robjects.vectors.FloatVector'>\n",
       "  R object with classes: ('numeric',) mapped to:\n",
       "[-0.021585, -0.028888, 0.019211, 0.004304, ..., -0.006422, 0.040084, -0.008175, -0.014154]\n",
       "  100004_raw-Fat: <class 'rpy2.robjects.vectors.FloatVector'>\n",
       "  R object with classes: ('numeric',) mapped to:\n",
       "[-0.030324, -0.053573, 0.007484, -0.042464, ..., 0.019393, 0.029495, -0.015966, -0.002160]\n",
       "...\n",
       "  100006_raw-Saturated_fat: <class 'rpy2.robjects.vectors.FloatVector'>\n",
       "  R object with classes: ('numeric',) mapped to:\n",
       "[-0.018904, 0.012085, 0.020869, 0.009865, ..., 0.006515, 0.010780, 0.007398, -0.003027]\n",
       "  100007_raw-Polyunsaturated_fat: <class 'rpy2.robjects.vectors.FloatVector'>\n",
       "  R object with classes: ('numeric',) mapped to:\n",
       "[0.009576, -0.032372, 0.043931, -0.049828, ..., 0.025357, -0.001305, -0.005414, -0.041389]\n",
       "  100008_raw-Total_sugars: <class 'rpy2.robjects.vectors.FloatVector'>\n",
       "  R object with classes: ('numeric',) mapped to:\n",
       "[0.019755, -0.024540, 0.058049, -0.013725, ..., -0.021055, 0.023432, 0.066239, 0.031741]\n",
       "  100009_raw-Englyst_dietary_fibre: <class 'rpy2.robjects.vectors.FloatVector'>\n",
       "  R object with classes: ('numeric',) mapped to:\n",
       "[0.010027, -0.002616, -0.013144, 0.024988, ..., -0.014192, 0.015387, 0.003844, -0.030431]"
      ]
     },
     "execution_count": 35,
     "metadata": {},
     "output_type": "execute_result"
    }
   ],
   "source": [
    "data_r"
   ]
  },
  {
   "cell_type": "code",
   "execution_count": 36,
   "metadata": {
    "execution": {
     "iopub.execute_input": "2021-09-17T03:33:51.276849Z",
     "iopub.status.busy": "2021-09-17T03:33:51.276464Z",
     "iopub.status.idle": "2021-09-17T03:33:53.418504Z",
     "shell.execute_reply": "2021-09-17T03:33:53.418993Z"
    },
    "papermill": {
     "duration": 2.168849,
     "end_time": "2021-09-17T03:33:53.419104",
     "exception": false,
     "start_time": "2021-09-17T03:33:51.250255",
     "status": "completed"
    },
    "tags": []
   },
   "outputs": [
    {
     "data": {
      "text/plain": [
       "<rpy2.rinterface_lib.sexp.NULLType object at 0x7fb5e6448580> [RTYPES.NILSXP]"
      ]
     },
     "execution_count": 36,
     "metadata": {},
     "output_type": "execute_result"
    }
   ],
   "source": [
    "saveRDS(data_r, str(output_rds_file))"
   ]
  },
  {
   "cell_type": "code",
   "execution_count": 37,
   "metadata": {
    "execution": {
     "iopub.execute_input": "2021-09-17T03:33:53.485055Z",
     "iopub.status.busy": "2021-09-17T03:33:53.484672Z",
     "iopub.status.idle": "2021-09-17T03:33:54.566388Z",
     "shell.execute_reply": "2021-09-17T03:33:54.566892Z"
    },
    "papermill": {
     "duration": 1.117858,
     "end_time": "2021-09-17T03:33:54.567001",
     "exception": false,
     "start_time": "2021-09-17T03:33:53.449143",
     "status": "completed"
    },
    "tags": []
   },
   "outputs": [],
   "source": [
    "# testing: load the rds file again\n",
    "data_r = readRDS(str(output_rds_file))"
   ]
  },
  {
   "cell_type": "code",
   "execution_count": 38,
   "metadata": {
    "execution": {
     "iopub.execute_input": "2021-09-17T03:33:54.636866Z",
     "iopub.status.busy": "2021-09-17T03:33:54.636484Z",
     "iopub.status.idle": "2021-09-17T03:33:54.998382Z",
     "shell.execute_reply": "2021-09-17T03:33:54.998885Z"
    },
    "papermill": {
     "duration": 0.406417,
     "end_time": "2021-09-17T03:33:54.998996",
     "exception": false,
     "start_time": "2021-09-17T03:33:54.592579",
     "status": "completed"
    },
    "tags": []
   },
   "outputs": [],
   "source": [
    "with localconverter(ro.default_converter + pandas2ri.converter):\n",
    "    data_again = ro.conversion.rpy2py(data_r)\n",
    "#     data_again.index = data_again.index.astype(int)"
   ]
  },
  {
   "cell_type": "code",
   "execution_count": 39,
   "metadata": {
    "execution": {
     "iopub.execute_input": "2021-09-17T03:33:55.058248Z",
     "iopub.status.busy": "2021-09-17T03:33:55.057866Z",
     "iopub.status.idle": "2021-09-17T03:33:55.060164Z",
     "shell.execute_reply": "2021-09-17T03:33:55.060455Z"
    },
    "papermill": {
     "duration": 0.035853,
     "end_time": "2021-09-17T03:33:55.060560",
     "exception": false,
     "start_time": "2021-09-17T03:33:55.024707",
     "status": "completed"
    },
    "tags": []
   },
   "outputs": [
    {
     "data": {
      "text/plain": [
       "(987, 3752)"
      ]
     },
     "execution_count": 39,
     "metadata": {},
     "output_type": "execute_result"
    }
   ],
   "source": [
    "data_again.shape"
   ]
  },
  {
   "cell_type": "code",
   "execution_count": 40,
   "metadata": {
    "execution": {
     "iopub.execute_input": "2021-09-17T03:33:55.131309Z",
     "iopub.status.busy": "2021-09-17T03:33:55.130915Z",
     "iopub.status.idle": "2021-09-17T03:33:55.135078Z",
     "shell.execute_reply": "2021-09-17T03:33:55.135372Z"
    },
    "papermill": {
     "duration": 0.049367,
     "end_time": "2021-09-17T03:33:55.135483",
     "exception": false,
     "start_time": "2021-09-17T03:33:55.086116",
     "status": "completed"
    },
    "tags": []
   },
   "outputs": [
    {
     "data": {
      "text/html": [
       "<div>\n",
       "<style scoped>\n",
       "    .dataframe tbody tr th:only-of-type {\n",
       "        vertical-align: middle;\n",
       "    }\n",
       "\n",
       "    .dataframe tbody tr th {\n",
       "        vertical-align: top;\n",
       "    }\n",
       "\n",
       "    .dataframe thead th {\n",
       "        text-align: right;\n",
       "    }\n",
       "</style>\n",
       "<table border=\"1\" class=\"dataframe\">\n",
       "  <thead>\n",
       "    <tr style=\"text-align: right;\">\n",
       "      <th></th>\n",
       "      <th>100001_raw-Food_weight</th>\n",
       "      <th>100002_raw-Energy</th>\n",
       "      <th>100003_raw-Protein</th>\n",
       "      <th>100004_raw-Fat</th>\n",
       "      <th>100005_raw-Carbohydrate</th>\n",
       "      <th>100006_raw-Saturated_fat</th>\n",
       "      <th>100007_raw-Polyunsaturated_fat</th>\n",
       "      <th>100008_raw-Total_sugars</th>\n",
       "      <th>100009_raw-Englyst_dietary_fibre</th>\n",
       "      <th>100010-Portion_size</th>\n",
       "      <th>...</th>\n",
       "      <th>visual impairment</th>\n",
       "      <th>vitiligo</th>\n",
       "      <th>vitreous body disease</th>\n",
       "      <th>vocal cord polyp</th>\n",
       "      <th>voice disorders</th>\n",
       "      <th>wellbeing measurement AND family relationship</th>\n",
       "      <th>wheezing</th>\n",
       "      <th>whooping cough</th>\n",
       "      <th>worry measurement</th>\n",
       "      <th>wrist fracture</th>\n",
       "    </tr>\n",
       "  </thead>\n",
       "  <tbody>\n",
       "    <tr>\n",
       "      <th>LV1</th>\n",
       "      <td>-0.021292</td>\n",
       "      <td>-0.046815</td>\n",
       "      <td>-0.021585</td>\n",
       "      <td>-0.030324</td>\n",
       "      <td>-0.017773</td>\n",
       "      <td>-0.007844</td>\n",
       "      <td>-0.015529</td>\n",
       "      <td>-0.011609</td>\n",
       "      <td>-0.051342</td>\n",
       "      <td>-0.036813</td>\n",
       "      <td>...</td>\n",
       "      <td>-0.001614</td>\n",
       "      <td>0.002102</td>\n",
       "      <td>-0.005318</td>\n",
       "      <td>-0.003041</td>\n",
       "      <td>0.012873</td>\n",
       "      <td>-0.015951</td>\n",
       "      <td>-0.018904</td>\n",
       "      <td>0.009576</td>\n",
       "      <td>0.019755</td>\n",
       "      <td>0.010027</td>\n",
       "    </tr>\n",
       "    <tr>\n",
       "      <th>LV2</th>\n",
       "      <td>0.056061</td>\n",
       "      <td>-0.009864</td>\n",
       "      <td>-0.028888</td>\n",
       "      <td>-0.053573</td>\n",
       "      <td>0.006951</td>\n",
       "      <td>-0.054597</td>\n",
       "      <td>-0.030748</td>\n",
       "      <td>0.014519</td>\n",
       "      <td>-0.026933</td>\n",
       "      <td>0.009024</td>\n",
       "      <td>...</td>\n",
       "      <td>-0.029614</td>\n",
       "      <td>-0.033636</td>\n",
       "      <td>0.020768</td>\n",
       "      <td>0.010656</td>\n",
       "      <td>-0.013305</td>\n",
       "      <td>0.050738</td>\n",
       "      <td>0.012085</td>\n",
       "      <td>-0.032372</td>\n",
       "      <td>-0.024540</td>\n",
       "      <td>-0.002616</td>\n",
       "    </tr>\n",
       "    <tr>\n",
       "      <th>LV3</th>\n",
       "      <td>0.001650</td>\n",
       "      <td>-0.004262</td>\n",
       "      <td>0.019211</td>\n",
       "      <td>0.007484</td>\n",
       "      <td>0.004548</td>\n",
       "      <td>0.006548</td>\n",
       "      <td>0.006741</td>\n",
       "      <td>-0.005634</td>\n",
       "      <td>-0.022129</td>\n",
       "      <td>-0.017256</td>\n",
       "      <td>...</td>\n",
       "      <td>0.010539</td>\n",
       "      <td>-0.019591</td>\n",
       "      <td>-0.013391</td>\n",
       "      <td>-0.044369</td>\n",
       "      <td>0.020142</td>\n",
       "      <td>0.006052</td>\n",
       "      <td>0.020869</td>\n",
       "      <td>0.043931</td>\n",
       "      <td>0.058049</td>\n",
       "      <td>-0.013144</td>\n",
       "    </tr>\n",
       "    <tr>\n",
       "      <th>LV4</th>\n",
       "      <td>0.026265</td>\n",
       "      <td>-0.007235</td>\n",
       "      <td>0.004304</td>\n",
       "      <td>-0.042464</td>\n",
       "      <td>-0.001093</td>\n",
       "      <td>-0.041208</td>\n",
       "      <td>-0.051179</td>\n",
       "      <td>0.009060</td>\n",
       "      <td>-0.003999</td>\n",
       "      <td>-0.005874</td>\n",
       "      <td>...</td>\n",
       "      <td>-0.018162</td>\n",
       "      <td>0.012136</td>\n",
       "      <td>-0.046232</td>\n",
       "      <td>-0.030949</td>\n",
       "      <td>-0.040147</td>\n",
       "      <td>0.044545</td>\n",
       "      <td>0.009865</td>\n",
       "      <td>-0.049828</td>\n",
       "      <td>-0.013725</td>\n",
       "      <td>0.024988</td>\n",
       "    </tr>\n",
       "    <tr>\n",
       "      <th>LV5</th>\n",
       "      <td>-0.015616</td>\n",
       "      <td>0.010799</td>\n",
       "      <td>0.017792</td>\n",
       "      <td>0.010591</td>\n",
       "      <td>0.001972</td>\n",
       "      <td>0.040024</td>\n",
       "      <td>-0.027612</td>\n",
       "      <td>-0.001540</td>\n",
       "      <td>0.033072</td>\n",
       "      <td>0.009477</td>\n",
       "      <td>...</td>\n",
       "      <td>0.030632</td>\n",
       "      <td>-0.023253</td>\n",
       "      <td>0.015853</td>\n",
       "      <td>-0.002222</td>\n",
       "      <td>0.019385</td>\n",
       "      <td>-0.015501</td>\n",
       "      <td>-0.031477</td>\n",
       "      <td>-0.002554</td>\n",
       "      <td>-0.032620</td>\n",
       "      <td>0.017731</td>\n",
       "    </tr>\n",
       "  </tbody>\n",
       "</table>\n",
       "<p>5 rows × 3752 columns</p>\n",
       "</div>"
      ],
      "text/plain": [
       "     100001_raw-Food_weight  100002_raw-Energy  100003_raw-Protein  \\\n",
       "LV1               -0.021292          -0.046815           -0.021585   \n",
       "LV2                0.056061          -0.009864           -0.028888   \n",
       "LV3                0.001650          -0.004262            0.019211   \n",
       "LV4                0.026265          -0.007235            0.004304   \n",
       "LV5               -0.015616           0.010799            0.017792   \n",
       "\n",
       "     100004_raw-Fat  100005_raw-Carbohydrate  100006_raw-Saturated_fat  \\\n",
       "LV1       -0.030324                -0.017773                 -0.007844   \n",
       "LV2       -0.053573                 0.006951                 -0.054597   \n",
       "LV3        0.007484                 0.004548                  0.006548   \n",
       "LV4       -0.042464                -0.001093                 -0.041208   \n",
       "LV5        0.010591                 0.001972                  0.040024   \n",
       "\n",
       "     100007_raw-Polyunsaturated_fat  100008_raw-Total_sugars  \\\n",
       "LV1                       -0.015529                -0.011609   \n",
       "LV2                       -0.030748                 0.014519   \n",
       "LV3                        0.006741                -0.005634   \n",
       "LV4                       -0.051179                 0.009060   \n",
       "LV5                       -0.027612                -0.001540   \n",
       "\n",
       "     100009_raw-Englyst_dietary_fibre  100010-Portion_size  ...  \\\n",
       "LV1                         -0.051342            -0.036813  ...   \n",
       "LV2                         -0.026933             0.009024  ...   \n",
       "LV3                         -0.022129            -0.017256  ...   \n",
       "LV4                         -0.003999            -0.005874  ...   \n",
       "LV5                          0.033072             0.009477  ...   \n",
       "\n",
       "     visual impairment  vitiligo  vitreous body disease  vocal cord polyp  \\\n",
       "LV1          -0.001614  0.002102              -0.005318         -0.003041   \n",
       "LV2          -0.029614 -0.033636               0.020768          0.010656   \n",
       "LV3           0.010539 -0.019591              -0.013391         -0.044369   \n",
       "LV4          -0.018162  0.012136              -0.046232         -0.030949   \n",
       "LV5           0.030632 -0.023253               0.015853         -0.002222   \n",
       "\n",
       "     voice disorders  wellbeing measurement AND family relationship  wheezing  \\\n",
       "LV1         0.012873                                      -0.015951 -0.018904   \n",
       "LV2        -0.013305                                       0.050738  0.012085   \n",
       "LV3         0.020142                                       0.006052  0.020869   \n",
       "LV4        -0.040147                                       0.044545  0.009865   \n",
       "LV5         0.019385                                      -0.015501 -0.031477   \n",
       "\n",
       "     whooping cough  worry measurement  wrist fracture  \n",
       "LV1        0.009576           0.019755        0.010027  \n",
       "LV2       -0.032372          -0.024540       -0.002616  \n",
       "LV3        0.043931           0.058049       -0.013144  \n",
       "LV4       -0.049828          -0.013725        0.024988  \n",
       "LV5       -0.002554          -0.032620        0.017731  \n",
       "\n",
       "[5 rows x 3752 columns]"
      ]
     },
     "execution_count": 40,
     "metadata": {},
     "output_type": "execute_result"
    }
   ],
   "source": [
    "data_again.head()"
   ]
  },
  {
   "cell_type": "code",
   "execution_count": 41,
   "metadata": {
    "execution": {
     "iopub.execute_input": "2021-09-17T03:33:55.190509Z",
     "iopub.status.busy": "2021-09-17T03:33:55.190125Z",
     "iopub.status.idle": "2021-09-17T03:33:56.163701Z",
     "shell.execute_reply": "2021-09-17T03:33:56.164008Z"
    },
    "papermill": {
     "duration": 1.001896,
     "end_time": "2021-09-17T03:33:56.164121",
     "exception": false,
     "start_time": "2021-09-17T03:33:55.162225",
     "status": "completed"
    },
    "tags": []
   },
   "outputs": [],
   "source": [
    "pd.testing.assert_frame_equal(\n",
    "    smultixcan_into_multiplier,\n",
    "    data_again,\n",
    "    check_names=False,\n",
    "    check_exact=True,\n",
    "    #     rtol=0.0,\n",
    "    #     atol=1e-50,\n",
    "    #     check_dtype=False,\n",
    ")"
   ]
  },
  {
   "cell_type": "markdown",
   "metadata": {
    "papermill": {
     "duration": 0.025697,
     "end_time": "2021-09-17T03:33:56.216353",
     "exception": false,
     "start_time": "2021-09-17T03:33:56.190656",
     "status": "completed"
    },
    "tags": []
   },
   "source": [
    "## Text format"
   ]
  },
  {
   "cell_type": "code",
   "execution_count": 42,
   "metadata": {
    "execution": {
     "iopub.execute_input": "2021-09-17T03:33:56.276737Z",
     "iopub.status.busy": "2021-09-17T03:33:56.276345Z",
     "iopub.status.idle": "2021-09-17T03:33:56.278083Z",
     "shell.execute_reply": "2021-09-17T03:33:56.277754Z"
    },
    "papermill": {
     "duration": 0.036166,
     "end_time": "2021-09-17T03:33:56.278169",
     "exception": false,
     "start_time": "2021-09-17T03:33:56.242003",
     "status": "completed"
    },
    "tags": []
   },
   "outputs": [
    {
     "data": {
      "text/plain": [
       "PosixPath('/home/miltondp/projects/labs/greenelab/phenoplier/base/results/projections/projection-smultixcan-efo_partial-mashr-zscores.tsv.gz')"
      ]
     },
     "metadata": {},
     "output_type": "display_data"
    }
   ],
   "source": [
    "# tsv format\n",
    "output_text_file = output_file.with_suffix(\".tsv.gz\")\n",
    "display(output_text_file)"
   ]
  },
  {
   "cell_type": "code",
   "execution_count": 43,
   "metadata": {
    "execution": {
     "iopub.execute_input": "2021-09-17T03:33:56.340763Z",
     "iopub.status.busy": "2021-09-17T03:33:56.340373Z",
     "iopub.status.idle": "2021-09-17T03:34:20.821085Z",
     "shell.execute_reply": "2021-09-17T03:34:20.820757Z"
    },
    "papermill": {
     "duration": 24.516587,
     "end_time": "2021-09-17T03:34:20.821180",
     "exception": false,
     "start_time": "2021-09-17T03:33:56.304593",
     "status": "completed"
    },
    "tags": []
   },
   "outputs": [],
   "source": [
    "smultixcan_into_multiplier.to_csv(\n",
    "    output_text_file, sep=\"\\t\", index=True, float_format=\"%.5e\"\n",
    ")"
   ]
  },
  {
   "cell_type": "code",
   "execution_count": 44,
   "metadata": {
    "execution": {
     "iopub.execute_input": "2021-09-17T03:34:20.880779Z",
     "iopub.status.busy": "2021-09-17T03:34:20.880386Z",
     "iopub.status.idle": "2021-09-17T03:34:21.849353Z",
     "shell.execute_reply": "2021-09-17T03:34:21.849671Z"
    },
    "papermill": {
     "duration": 1.00208,
     "end_time": "2021-09-17T03:34:21.849779",
     "exception": false,
     "start_time": "2021-09-17T03:34:20.847699",
     "status": "completed"
    },
    "tags": []
   },
   "outputs": [],
   "source": [
    "# testing\n",
    "# data2 = data.copy()\n",
    "# data2.index = list(range(0, data2.shape[0]))\n",
    "\n",
    "data_again = pd.read_csv(output_text_file, sep=\"\\t\", index_col=0)\n",
    "\n",
    "# data_again.index = list(data_again.index)\n",
    "# data_again[\"part_k\"] = data_again[\"part_k\"].astype(float)"
   ]
  },
  {
   "cell_type": "code",
   "execution_count": 45,
   "metadata": {
    "execution": {
     "iopub.execute_input": "2021-09-17T03:34:21.910985Z",
     "iopub.status.busy": "2021-09-17T03:34:21.910599Z",
     "iopub.status.idle": "2021-09-17T03:34:21.913588Z",
     "shell.execute_reply": "2021-09-17T03:34:21.913897Z"
    },
    "papermill": {
     "duration": 0.037051,
     "end_time": "2021-09-17T03:34:21.914004",
     "exception": false,
     "start_time": "2021-09-17T03:34:21.876953",
     "status": "completed"
    },
    "tags": []
   },
   "outputs": [
    {
     "data": {
      "text/plain": [
       "(987, 3752)"
      ]
     },
     "execution_count": 45,
     "metadata": {},
     "output_type": "execute_result"
    }
   ],
   "source": [
    "data_again.shape"
   ]
  },
  {
   "cell_type": "code",
   "execution_count": 46,
   "metadata": {
    "execution": {
     "iopub.execute_input": "2021-09-17T03:34:21.976750Z",
     "iopub.status.busy": "2021-09-17T03:34:21.976361Z",
     "iopub.status.idle": "2021-09-17T03:34:21.988347Z",
     "shell.execute_reply": "2021-09-17T03:34:21.988703Z"
    },
    "papermill": {
     "duration": 0.048204,
     "end_time": "2021-09-17T03:34:21.988808",
     "exception": false,
     "start_time": "2021-09-17T03:34:21.940604",
     "status": "completed"
    },
    "tags": []
   },
   "outputs": [
    {
     "data": {
      "text/html": [
       "<div>\n",
       "<style scoped>\n",
       "    .dataframe tbody tr th:only-of-type {\n",
       "        vertical-align: middle;\n",
       "    }\n",
       "\n",
       "    .dataframe tbody tr th {\n",
       "        vertical-align: top;\n",
       "    }\n",
       "\n",
       "    .dataframe thead th {\n",
       "        text-align: right;\n",
       "    }\n",
       "</style>\n",
       "<table border=\"1\" class=\"dataframe\">\n",
       "  <thead>\n",
       "    <tr style=\"text-align: right;\">\n",
       "      <th></th>\n",
       "      <th>100001_raw-Food_weight</th>\n",
       "      <th>100002_raw-Energy</th>\n",
       "      <th>100003_raw-Protein</th>\n",
       "      <th>100004_raw-Fat</th>\n",
       "      <th>100005_raw-Carbohydrate</th>\n",
       "      <th>100006_raw-Saturated_fat</th>\n",
       "      <th>100007_raw-Polyunsaturated_fat</th>\n",
       "      <th>100008_raw-Total_sugars</th>\n",
       "      <th>100009_raw-Englyst_dietary_fibre</th>\n",
       "      <th>100010-Portion_size</th>\n",
       "      <th>...</th>\n",
       "      <th>visual impairment</th>\n",
       "      <th>vitiligo</th>\n",
       "      <th>vitreous body disease</th>\n",
       "      <th>vocal cord polyp</th>\n",
       "      <th>voice disorders</th>\n",
       "      <th>wellbeing measurement AND family relationship</th>\n",
       "      <th>wheezing</th>\n",
       "      <th>whooping cough</th>\n",
       "      <th>worry measurement</th>\n",
       "      <th>wrist fracture</th>\n",
       "    </tr>\n",
       "  </thead>\n",
       "  <tbody>\n",
       "    <tr>\n",
       "      <th>LV1</th>\n",
       "      <td>-0.021292</td>\n",
       "      <td>-0.046815</td>\n",
       "      <td>-0.021585</td>\n",
       "      <td>-0.030324</td>\n",
       "      <td>-0.017773</td>\n",
       "      <td>-0.007844</td>\n",
       "      <td>-0.015529</td>\n",
       "      <td>-0.011609</td>\n",
       "      <td>-0.051342</td>\n",
       "      <td>-0.036813</td>\n",
       "      <td>...</td>\n",
       "      <td>-0.001614</td>\n",
       "      <td>0.002102</td>\n",
       "      <td>-0.005318</td>\n",
       "      <td>-0.003041</td>\n",
       "      <td>0.012873</td>\n",
       "      <td>-0.015951</td>\n",
       "      <td>-0.018904</td>\n",
       "      <td>0.009576</td>\n",
       "      <td>0.019755</td>\n",
       "      <td>0.010027</td>\n",
       "    </tr>\n",
       "    <tr>\n",
       "      <th>LV2</th>\n",
       "      <td>0.056061</td>\n",
       "      <td>-0.009864</td>\n",
       "      <td>-0.028888</td>\n",
       "      <td>-0.053573</td>\n",
       "      <td>0.006951</td>\n",
       "      <td>-0.054597</td>\n",
       "      <td>-0.030748</td>\n",
       "      <td>0.014519</td>\n",
       "      <td>-0.026933</td>\n",
       "      <td>0.009024</td>\n",
       "      <td>...</td>\n",
       "      <td>-0.029614</td>\n",
       "      <td>-0.033636</td>\n",
       "      <td>0.020768</td>\n",
       "      <td>0.010656</td>\n",
       "      <td>-0.013305</td>\n",
       "      <td>0.050738</td>\n",
       "      <td>0.012085</td>\n",
       "      <td>-0.032372</td>\n",
       "      <td>-0.024540</td>\n",
       "      <td>-0.002616</td>\n",
       "    </tr>\n",
       "    <tr>\n",
       "      <th>LV3</th>\n",
       "      <td>0.001650</td>\n",
       "      <td>-0.004262</td>\n",
       "      <td>0.019211</td>\n",
       "      <td>0.007484</td>\n",
       "      <td>0.004548</td>\n",
       "      <td>0.006548</td>\n",
       "      <td>0.006741</td>\n",
       "      <td>-0.005634</td>\n",
       "      <td>-0.022129</td>\n",
       "      <td>-0.017256</td>\n",
       "      <td>...</td>\n",
       "      <td>0.010539</td>\n",
       "      <td>-0.019591</td>\n",
       "      <td>-0.013391</td>\n",
       "      <td>-0.044369</td>\n",
       "      <td>0.020142</td>\n",
       "      <td>0.006052</td>\n",
       "      <td>0.020869</td>\n",
       "      <td>0.043931</td>\n",
       "      <td>0.058049</td>\n",
       "      <td>-0.013144</td>\n",
       "    </tr>\n",
       "    <tr>\n",
       "      <th>LV4</th>\n",
       "      <td>0.026265</td>\n",
       "      <td>-0.007235</td>\n",
       "      <td>0.004304</td>\n",
       "      <td>-0.042464</td>\n",
       "      <td>-0.001093</td>\n",
       "      <td>-0.041208</td>\n",
       "      <td>-0.051179</td>\n",
       "      <td>0.009060</td>\n",
       "      <td>-0.003999</td>\n",
       "      <td>-0.005874</td>\n",
       "      <td>...</td>\n",
       "      <td>-0.018162</td>\n",
       "      <td>0.012136</td>\n",
       "      <td>-0.046232</td>\n",
       "      <td>-0.030949</td>\n",
       "      <td>-0.040147</td>\n",
       "      <td>0.044545</td>\n",
       "      <td>0.009865</td>\n",
       "      <td>-0.049828</td>\n",
       "      <td>-0.013725</td>\n",
       "      <td>0.024988</td>\n",
       "    </tr>\n",
       "    <tr>\n",
       "      <th>LV5</th>\n",
       "      <td>-0.015616</td>\n",
       "      <td>0.010799</td>\n",
       "      <td>0.017792</td>\n",
       "      <td>0.010592</td>\n",
       "      <td>0.001972</td>\n",
       "      <td>0.040024</td>\n",
       "      <td>-0.027612</td>\n",
       "      <td>-0.001540</td>\n",
       "      <td>0.033072</td>\n",
       "      <td>0.009477</td>\n",
       "      <td>...</td>\n",
       "      <td>0.030632</td>\n",
       "      <td>-0.023253</td>\n",
       "      <td>0.015853</td>\n",
       "      <td>-0.002222</td>\n",
       "      <td>0.019385</td>\n",
       "      <td>-0.015501</td>\n",
       "      <td>-0.031477</td>\n",
       "      <td>-0.002554</td>\n",
       "      <td>-0.032620</td>\n",
       "      <td>0.017731</td>\n",
       "    </tr>\n",
       "  </tbody>\n",
       "</table>\n",
       "<p>5 rows × 3752 columns</p>\n",
       "</div>"
      ],
      "text/plain": [
       "     100001_raw-Food_weight  100002_raw-Energy  100003_raw-Protein  \\\n",
       "LV1               -0.021292          -0.046815           -0.021585   \n",
       "LV2                0.056061          -0.009864           -0.028888   \n",
       "LV3                0.001650          -0.004262            0.019211   \n",
       "LV4                0.026265          -0.007235            0.004304   \n",
       "LV5               -0.015616           0.010799            0.017792   \n",
       "\n",
       "     100004_raw-Fat  100005_raw-Carbohydrate  100006_raw-Saturated_fat  \\\n",
       "LV1       -0.030324                -0.017773                 -0.007844   \n",
       "LV2       -0.053573                 0.006951                 -0.054597   \n",
       "LV3        0.007484                 0.004548                  0.006548   \n",
       "LV4       -0.042464                -0.001093                 -0.041208   \n",
       "LV5        0.010592                 0.001972                  0.040024   \n",
       "\n",
       "     100007_raw-Polyunsaturated_fat  100008_raw-Total_sugars  \\\n",
       "LV1                       -0.015529                -0.011609   \n",
       "LV2                       -0.030748                 0.014519   \n",
       "LV3                        0.006741                -0.005634   \n",
       "LV4                       -0.051179                 0.009060   \n",
       "LV5                       -0.027612                -0.001540   \n",
       "\n",
       "     100009_raw-Englyst_dietary_fibre  100010-Portion_size  ...  \\\n",
       "LV1                         -0.051342            -0.036813  ...   \n",
       "LV2                         -0.026933             0.009024  ...   \n",
       "LV3                         -0.022129            -0.017256  ...   \n",
       "LV4                         -0.003999            -0.005874  ...   \n",
       "LV5                          0.033072             0.009477  ...   \n",
       "\n",
       "     visual impairment  vitiligo  vitreous body disease  vocal cord polyp  \\\n",
       "LV1          -0.001614  0.002102              -0.005318         -0.003041   \n",
       "LV2          -0.029614 -0.033636               0.020768          0.010656   \n",
       "LV3           0.010539 -0.019591              -0.013391         -0.044369   \n",
       "LV4          -0.018162  0.012136              -0.046232         -0.030949   \n",
       "LV5           0.030632 -0.023253               0.015853         -0.002222   \n",
       "\n",
       "     voice disorders  wellbeing measurement AND family relationship  wheezing  \\\n",
       "LV1         0.012873                                      -0.015951 -0.018904   \n",
       "LV2        -0.013305                                       0.050738  0.012085   \n",
       "LV3         0.020142                                       0.006052  0.020869   \n",
       "LV4        -0.040147                                       0.044545  0.009865   \n",
       "LV5         0.019385                                      -0.015501 -0.031477   \n",
       "\n",
       "     whooping cough  worry measurement  wrist fracture  \n",
       "LV1        0.009576           0.019755        0.010027  \n",
       "LV2       -0.032372          -0.024540       -0.002616  \n",
       "LV3        0.043931           0.058049       -0.013144  \n",
       "LV4       -0.049828          -0.013725        0.024988  \n",
       "LV5       -0.002554          -0.032620        0.017731  \n",
       "\n",
       "[5 rows x 3752 columns]"
      ]
     },
     "execution_count": 46,
     "metadata": {},
     "output_type": "execute_result"
    }
   ],
   "source": [
    "data_again.head()"
   ]
  },
  {
   "cell_type": "code",
   "execution_count": 47,
   "metadata": {
    "execution": {
     "iopub.execute_input": "2021-09-17T03:34:22.052842Z",
     "iopub.status.busy": "2021-09-17T03:34:22.052455Z",
     "iopub.status.idle": "2021-09-17T03:36:59.123191Z",
     "shell.execute_reply": "2021-09-17T03:36:59.122859Z"
    },
    "papermill": {
     "duration": 157.107139,
     "end_time": "2021-09-17T03:36:59.123285",
     "exception": false,
     "start_time": "2021-09-17T03:34:22.016146",
     "status": "completed"
    },
    "tags": []
   },
   "outputs": [],
   "source": [
    "pd.testing.assert_frame_equal(\n",
    "    smultixcan_into_multiplier,\n",
    "    data_again,\n",
    "    check_exact=False,\n",
    "    rtol=0.0,\n",
    "    atol=5e-5,\n",
    ")"
   ]
  },
  {
   "cell_type": "code",
   "execution_count": null,
   "metadata": {
    "papermill": {
     "duration": 0.027631,
     "end_time": "2021-09-17T03:36:59.178733",
     "exception": false,
     "start_time": "2021-09-17T03:36:59.151102",
     "status": "completed"
    },
    "tags": []
   },
   "outputs": [],
   "source": []
  }
 ],
 "metadata": {
  "jupytext": {
   "cell_metadata_filter": "all,-execution,-papermill,-trusted",
   "formats": "ipynb,py//py:percent"
  },
  "kernelspec": {
   "display_name": "Python 3",
   "language": "python",
   "name": "python3"
  },
  "language_info": {
   "codemirror_mode": {
    "name": "ipython",
    "version": 3
   },
   "file_extension": ".py",
   "mimetype": "text/x-python",
   "name": "python",
   "nbconvert_exporter": "python",
   "pygments_lexer": "ipython3",
   "version": "3.8.8"
  },
  "papermill": {
   "default_parameters": {},
   "duration": 207.885117,
   "end_time": "2021-09-17T03:36:59.733977",
   "environment_variables": {},
   "exception": null,
   "input_path": "05_projections/010-multiplier-phenomexcan_efo.ipynb",
   "output_path": "05_projections/010-multiplier-phenomexcan_efo.run.ipynb",
   "parameters": {},
   "start_time": "2021-09-17T03:33:31.848860",
   "version": "2.2.2"
  },
  "toc-autonumbering": true
 },
 "nbformat": 4,
 "nbformat_minor": 4
}
