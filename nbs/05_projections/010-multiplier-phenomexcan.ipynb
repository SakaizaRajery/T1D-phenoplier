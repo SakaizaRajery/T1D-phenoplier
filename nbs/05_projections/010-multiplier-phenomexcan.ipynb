{
 "cells": [
  {
   "cell_type": "markdown",
   "metadata": {
    "papermill": {
     "duration": 0.018249,
     "end_time": "2021-09-17T03:37:02.506802",
     "exception": false,
     "start_time": "2021-09-17T03:37:02.488553",
     "status": "completed"
    },
    "tags": []
   },
   "source": [
    "# Description"
   ]
  },
  {
   "cell_type": "markdown",
   "metadata": {
    "papermill": {
     "duration": 0.017111,
     "end_time": "2021-09-17T03:37:02.541329",
     "exception": false,
     "start_time": "2021-09-17T03:37:02.524218",
     "status": "completed"
    },
    "tags": []
   },
   "source": [
    "It projects the PhenomeXcan results (S-MultiXcan) into the MultiPLIER latent space.\n",
    "Before projecting, repeated gene symbols as well as genes with NaN are removed."
   ]
  },
  {
   "cell_type": "markdown",
   "metadata": {
    "papermill": {
     "duration": 0.016989,
     "end_time": "2021-09-17T03:37:02.575463",
     "exception": false,
     "start_time": "2021-09-17T03:37:02.558474",
     "status": "completed"
    },
    "tags": []
   },
   "source": [
    "# Modules loading"
   ]
  },
  {
   "cell_type": "code",
   "execution_count": 1,
   "metadata": {
    "execution": {
     "iopub.execute_input": "2021-09-17T03:37:02.621145Z",
     "iopub.status.busy": "2021-09-17T03:37:02.620758Z",
     "iopub.status.idle": "2021-09-17T03:37:02.623607Z",
     "shell.execute_reply": "2021-09-17T03:37:02.624267Z"
    },
    "papermill": {
     "duration": 0.031484,
     "end_time": "2021-09-17T03:37:02.624425",
     "exception": false,
     "start_time": "2021-09-17T03:37:02.592941",
     "status": "completed"
    },
    "tags": []
   },
   "outputs": [],
   "source": [
    "%load_ext autoreload\n",
    "%autoreload 2"
   ]
  },
  {
   "cell_type": "code",
   "execution_count": 2,
   "metadata": {
    "execution": {
     "iopub.execute_input": "2021-09-17T03:37:02.670990Z",
     "iopub.status.busy": "2021-09-17T03:37:02.670599Z",
     "iopub.status.idle": "2021-09-17T03:37:03.253084Z",
     "shell.execute_reply": "2021-09-17T03:37:03.253389Z"
    },
    "papermill": {
     "duration": 0.611437,
     "end_time": "2021-09-17T03:37:03.253500",
     "exception": false,
     "start_time": "2021-09-17T03:37:02.642063",
     "status": "completed"
    },
    "tags": []
   },
   "outputs": [],
   "source": [
    "from pathlib import Path\n",
    "\n",
    "from IPython.display import display\n",
    "import pandas as pd\n",
    "\n",
    "import rpy2.robjects as ro\n",
    "from rpy2.robjects import pandas2ri\n",
    "from rpy2.robjects.conversion import localconverter\n",
    "\n",
    "import conf\n",
    "from entity import Gene\n",
    "from data.cache import read_data\n",
    "from multiplier import MultiplierProjection"
   ]
  },
  {
   "cell_type": "code",
   "execution_count": 3,
   "metadata": {
    "execution": {
     "iopub.execute_input": "2021-09-17T03:37:03.298294Z",
     "iopub.status.busy": "2021-09-17T03:37:03.297915Z",
     "iopub.status.idle": "2021-09-17T03:37:03.299622Z",
     "shell.execute_reply": "2021-09-17T03:37:03.299924Z"
    },
    "papermill": {
     "duration": 0.02893,
     "end_time": "2021-09-17T03:37:03.300027",
     "exception": false,
     "start_time": "2021-09-17T03:37:03.271097",
     "status": "completed"
    },
    "tags": []
   },
   "outputs": [],
   "source": [
    "readRDS = ro.r[\"readRDS\"]"
   ]
  },
  {
   "cell_type": "code",
   "execution_count": 4,
   "metadata": {
    "execution": {
     "iopub.execute_input": "2021-09-17T03:37:03.343406Z",
     "iopub.status.busy": "2021-09-17T03:37:03.343028Z",
     "iopub.status.idle": "2021-09-17T03:37:03.344728Z",
     "shell.execute_reply": "2021-09-17T03:37:03.345018Z"
    },
    "papermill": {
     "duration": 0.027491,
     "end_time": "2021-09-17T03:37:03.345118",
     "exception": false,
     "start_time": "2021-09-17T03:37:03.317627",
     "status": "completed"
    },
    "tags": []
   },
   "outputs": [],
   "source": [
    "saveRDS = ro.r[\"saveRDS\"]"
   ]
  },
  {
   "cell_type": "markdown",
   "metadata": {
    "papermill": {
     "duration": 0.017236,
     "end_time": "2021-09-17T03:37:03.380347",
     "exception": false,
     "start_time": "2021-09-17T03:37:03.363111",
     "status": "completed"
    },
    "tags": []
   },
   "source": [
    "# Settings"
   ]
  },
  {
   "cell_type": "code",
   "execution_count": 5,
   "metadata": {
    "execution": {
     "iopub.execute_input": "2021-09-17T03:37:03.427481Z",
     "iopub.status.busy": "2021-09-17T03:37:03.427084Z",
     "iopub.status.idle": "2021-09-17T03:37:03.429999Z",
     "shell.execute_reply": "2021-09-17T03:37:03.430293Z"
    },
    "papermill": {
     "duration": 0.032497,
     "end_time": "2021-09-17T03:37:03.430399",
     "exception": false,
     "start_time": "2021-09-17T03:37:03.397902",
     "status": "completed"
    },
    "tags": []
   },
   "outputs": [
    {
     "data": {
      "text/plain": [
       "PosixPath('/home/miltondp/projects/labs/greenelab/phenoplier/base/results/projections')"
      ]
     },
     "metadata": {},
     "output_type": "display_data"
    }
   ],
   "source": [
    "RESULTS_PROJ_OUTPUT_DIR = Path(conf.RESULTS[\"PROJECTIONS_DIR\"])\n",
    "RESULTS_PROJ_OUTPUT_DIR.mkdir(parents=True, exist_ok=True)\n",
    "\n",
    "display(RESULTS_PROJ_OUTPUT_DIR)"
   ]
  },
  {
   "cell_type": "markdown",
   "metadata": {
    "papermill": {
     "duration": 0.017465,
     "end_time": "2021-09-17T03:37:03.465548",
     "exception": false,
     "start_time": "2021-09-17T03:37:03.448083",
     "status": "completed"
    },
    "tags": []
   },
   "source": [
    "# Load PhenomeXcan data (S-MultiXcan)"
   ]
  },
  {
   "cell_type": "code",
   "execution_count": 6,
   "metadata": {
    "execution": {
     "iopub.execute_input": "2021-09-17T03:37:03.509592Z",
     "iopub.status.busy": "2021-09-17T03:37:03.509210Z",
     "iopub.status.idle": "2021-09-17T03:37:03.511888Z",
     "shell.execute_reply": "2021-09-17T03:37:03.511548Z"
    },
    "papermill": {
     "duration": 0.028958,
     "end_time": "2021-09-17T03:37:03.511972",
     "exception": false,
     "start_time": "2021-09-17T03:37:03.483014",
     "status": "completed"
    },
    "tags": []
   },
   "outputs": [
    {
     "data": {
      "text/plain": [
       "PosixPath('/home/miltondp/projects/labs/greenelab/phenoplier/base/data/phenomexcan/gene_assoc/smultixcan-mashr-zscores.pkl')"
      ]
     },
     "metadata": {},
     "output_type": "display_data"
    }
   ],
   "source": [
    "smultixcan_results_filename = conf.PHENOMEXCAN[\"SMULTIXCAN_MASHR_ZSCORES_FILE\"]\n",
    "\n",
    "display(smultixcan_results_filename)"
   ]
  },
  {
   "cell_type": "code",
   "execution_count": 7,
   "metadata": {
    "execution": {
     "iopub.execute_input": "2021-09-17T03:37:03.556453Z",
     "iopub.status.busy": "2021-09-17T03:37:03.556068Z",
     "iopub.status.idle": "2021-09-17T03:37:03.558360Z",
     "shell.execute_reply": "2021-09-17T03:37:03.558653Z"
    },
    "papermill": {
     "duration": 0.028561,
     "end_time": "2021-09-17T03:37:03.558755",
     "exception": false,
     "start_time": "2021-09-17T03:37:03.530194",
     "status": "completed"
    },
    "tags": []
   },
   "outputs": [
    {
     "data": {
      "text/plain": [
       "'smultixcan-mashr-zscores'"
      ]
     },
     "metadata": {},
     "output_type": "display_data"
    }
   ],
   "source": [
    "results_filename_stem = smultixcan_results_filename.stem\n",
    "display(results_filename_stem)"
   ]
  },
  {
   "cell_type": "code",
   "execution_count": 8,
   "metadata": {
    "execution": {
     "iopub.execute_input": "2021-09-17T03:37:03.603641Z",
     "iopub.status.busy": "2021-09-17T03:37:03.603264Z",
     "iopub.status.idle": "2021-09-17T03:37:07.192854Z",
     "shell.execute_reply": "2021-09-17T03:37:07.193354Z"
    },
    "papermill": {
     "duration": 3.616567,
     "end_time": "2021-09-17T03:37:07.193462",
     "exception": false,
     "start_time": "2021-09-17T03:37:03.576895",
     "status": "completed"
    },
    "tags": []
   },
   "outputs": [],
   "source": [
    "smultixcan_results = pd.read_pickle(smultixcan_results_filename)"
   ]
  },
  {
   "cell_type": "code",
   "execution_count": 9,
   "metadata": {
    "execution": {
     "iopub.execute_input": "2021-09-17T03:37:07.281529Z",
     "iopub.status.busy": "2021-09-17T03:37:07.281144Z",
     "iopub.status.idle": "2021-09-17T03:37:07.283536Z",
     "shell.execute_reply": "2021-09-17T03:37:07.283827Z"
    },
    "papermill": {
     "duration": 0.056553,
     "end_time": "2021-09-17T03:37:07.283937",
     "exception": false,
     "start_time": "2021-09-17T03:37:07.227384",
     "status": "completed"
    },
    "tags": []
   },
   "outputs": [
    {
     "data": {
      "text/plain": [
       "(22515, 4091)"
      ]
     },
     "execution_count": 9,
     "metadata": {},
     "output_type": "execute_result"
    }
   ],
   "source": [
    "smultixcan_results.shape"
   ]
  },
  {
   "cell_type": "code",
   "execution_count": 10,
   "metadata": {
    "execution": {
     "iopub.execute_input": "2021-09-17T03:37:07.328898Z",
     "iopub.status.busy": "2021-09-17T03:37:07.328514Z",
     "iopub.status.idle": "2021-09-17T03:37:07.345823Z",
     "shell.execute_reply": "2021-09-17T03:37:07.346184Z"
    },
    "papermill": {
     "duration": 0.042834,
     "end_time": "2021-09-17T03:37:07.346286",
     "exception": false,
     "start_time": "2021-09-17T03:37:07.303452",
     "status": "completed"
    },
    "tags": []
   },
   "outputs": [
    {
     "data": {
      "text/html": [
       "<div>\n",
       "<style scoped>\n",
       "    .dataframe tbody tr th:only-of-type {\n",
       "        vertical-align: middle;\n",
       "    }\n",
       "\n",
       "    .dataframe tbody tr th {\n",
       "        vertical-align: top;\n",
       "    }\n",
       "\n",
       "    .dataframe thead th {\n",
       "        text-align: right;\n",
       "    }\n",
       "</style>\n",
       "<table border=\"1\" class=\"dataframe\">\n",
       "  <thead>\n",
       "    <tr style=\"text-align: right;\">\n",
       "      <th></th>\n",
       "      <th>20096_1-Size_of_red_wine_glass_drunk_small_125ml</th>\n",
       "      <th>2345-Ever_had_bowel_cancer_screening</th>\n",
       "      <th>N49-Diagnoses_main_ICD10_N49_Inflammatory_disorders_of_male_genital_organs_not_elsewhere_classified</th>\n",
       "      <th>100011_raw-Iron</th>\n",
       "      <th>5221-Index_of_best_refractometry_result_right</th>\n",
       "      <th>20003_1141150624-Treatmentmedication_code_zomig_25mg_tablet</th>\n",
       "      <th>S69-Diagnoses_main_ICD10_S69_Other_and_unspecified_injuries_of_wrist_and_hand</th>\n",
       "      <th>20024_1136-Job_code_deduced_Information_and_communication_technology_managers</th>\n",
       "      <th>20002_1385-Noncancer_illness_code_selfreported_allergy_or_anaphylactic_reaction_to_food</th>\n",
       "      <th>G6_SLEEPAPNO-Sleep_apnoea</th>\n",
       "      <th>...</th>\n",
       "      <th>Astle_et_al_2016_Sum_basophil_neutrophil_counts</th>\n",
       "      <th>RA_OKADA_TRANS_ETHNIC</th>\n",
       "      <th>pgc.scz2</th>\n",
       "      <th>PGC_ADHD_EUR_2017</th>\n",
       "      <th>MAGIC_FastingGlucose</th>\n",
       "      <th>Astle_et_al_2016_Red_blood_cell_count</th>\n",
       "      <th>SSGAC_Depressive_Symptoms</th>\n",
       "      <th>BCAC_ER_positive_BreastCancer_EUR</th>\n",
       "      <th>IBD.EUR.Inflammatory_Bowel_Disease</th>\n",
       "      <th>Astle_et_al_2016_High_light_scatter_reticulocyte_count</th>\n",
       "    </tr>\n",
       "    <tr>\n",
       "      <th>gene_name</th>\n",
       "      <th></th>\n",
       "      <th></th>\n",
       "      <th></th>\n",
       "      <th></th>\n",
       "      <th></th>\n",
       "      <th></th>\n",
       "      <th></th>\n",
       "      <th></th>\n",
       "      <th></th>\n",
       "      <th></th>\n",
       "      <th></th>\n",
       "      <th></th>\n",
       "      <th></th>\n",
       "      <th></th>\n",
       "      <th></th>\n",
       "      <th></th>\n",
       "      <th></th>\n",
       "      <th></th>\n",
       "      <th></th>\n",
       "      <th></th>\n",
       "      <th></th>\n",
       "    </tr>\n",
       "  </thead>\n",
       "  <tbody>\n",
       "    <tr>\n",
       "      <th>ENSG00000000419</th>\n",
       "      <td>0.169468</td>\n",
       "      <td>0.102558</td>\n",
       "      <td>0.239545</td>\n",
       "      <td>0.887758</td>\n",
       "      <td>1.313448</td>\n",
       "      <td>1.472148</td>\n",
       "      <td>0.726160</td>\n",
       "      <td>1.516367</td>\n",
       "      <td>1.299771</td>\n",
       "      <td>1.068093</td>\n",
       "      <td>...</td>\n",
       "      <td>0.813014</td>\n",
       "      <td>0.275993</td>\n",
       "      <td>0.510834</td>\n",
       "      <td>0.024717</td>\n",
       "      <td>0.430951</td>\n",
       "      <td>0.824314</td>\n",
       "      <td>0.367414</td>\n",
       "      <td>1.377624</td>\n",
       "      <td>0.738444</td>\n",
       "      <td>0.298259</td>\n",
       "    </tr>\n",
       "    <tr>\n",
       "      <th>ENSG00000000457</th>\n",
       "      <td>1.358856</td>\n",
       "      <td>1.846875</td>\n",
       "      <td>0.139324</td>\n",
       "      <td>0.129530</td>\n",
       "      <td>0.757757</td>\n",
       "      <td>1.103979</td>\n",
       "      <td>0.612418</td>\n",
       "      <td>1.822327</td>\n",
       "      <td>2.035372</td>\n",
       "      <td>1.008058</td>\n",
       "      <td>...</td>\n",
       "      <td>1.441795</td>\n",
       "      <td>0.654791</td>\n",
       "      <td>2.545653</td>\n",
       "      <td>1.202984</td>\n",
       "      <td>0.514244</td>\n",
       "      <td>0.237223</td>\n",
       "      <td>0.414171</td>\n",
       "      <td>0.101731</td>\n",
       "      <td>1.012735</td>\n",
       "      <td>0.945167</td>\n",
       "    </tr>\n",
       "    <tr>\n",
       "      <th>ENSG00000000460</th>\n",
       "      <td>0.151008</td>\n",
       "      <td>1.173202</td>\n",
       "      <td>1.179426</td>\n",
       "      <td>0.571656</td>\n",
       "      <td>0.098771</td>\n",
       "      <td>0.221072</td>\n",
       "      <td>0.276415</td>\n",
       "      <td>0.461381</td>\n",
       "      <td>0.855502</td>\n",
       "      <td>0.201876</td>\n",
       "      <td>...</td>\n",
       "      <td>0.668962</td>\n",
       "      <td>0.300040</td>\n",
       "      <td>0.541782</td>\n",
       "      <td>1.033308</td>\n",
       "      <td>0.482261</td>\n",
       "      <td>0.695624</td>\n",
       "      <td>0.336480</td>\n",
       "      <td>0.083316</td>\n",
       "      <td>3.493196</td>\n",
       "      <td>0.991948</td>\n",
       "    </tr>\n",
       "    <tr>\n",
       "      <th>ENSG00000000938</th>\n",
       "      <td>1.302722</td>\n",
       "      <td>0.841524</td>\n",
       "      <td>1.578926</td>\n",
       "      <td>0.721340</td>\n",
       "      <td>0.139314</td>\n",
       "      <td>4.387016</td>\n",
       "      <td>0.125959</td>\n",
       "      <td>1.247123</td>\n",
       "      <td>0.215124</td>\n",
       "      <td>0.892083</td>\n",
       "      <td>...</td>\n",
       "      <td>0.126657</td>\n",
       "      <td>0.048048</td>\n",
       "      <td>1.886356</td>\n",
       "      <td>0.540496</td>\n",
       "      <td>0.127524</td>\n",
       "      <td>1.494501</td>\n",
       "      <td>0.056432</td>\n",
       "      <td>1.704863</td>\n",
       "      <td>1.351619</td>\n",
       "      <td>1.027297</td>\n",
       "    </tr>\n",
       "    <tr>\n",
       "      <th>ENSG00000000971</th>\n",
       "      <td>1.338813</td>\n",
       "      <td>0.262339</td>\n",
       "      <td>0.689379</td>\n",
       "      <td>1.702019</td>\n",
       "      <td>0.325859</td>\n",
       "      <td>0.063161</td>\n",
       "      <td>1.141126</td>\n",
       "      <td>0.882682</td>\n",
       "      <td>0.035533</td>\n",
       "      <td>1.810191</td>\n",
       "      <td>...</td>\n",
       "      <td>0.858497</td>\n",
       "      <td>1.675562</td>\n",
       "      <td>2.319072</td>\n",
       "      <td>1.598721</td>\n",
       "      <td>0.162958</td>\n",
       "      <td>0.005703</td>\n",
       "      <td>3.004544</td>\n",
       "      <td>0.803669</td>\n",
       "      <td>0.444266</td>\n",
       "      <td>0.165671</td>\n",
       "    </tr>\n",
       "  </tbody>\n",
       "</table>\n",
       "<p>5 rows × 4091 columns</p>\n",
       "</div>"
      ],
      "text/plain": [
       "                 20096_1-Size_of_red_wine_glass_drunk_small_125ml  \\\n",
       "gene_name                                                           \n",
       "ENSG00000000419                                          0.169468   \n",
       "ENSG00000000457                                          1.358856   \n",
       "ENSG00000000460                                          0.151008   \n",
       "ENSG00000000938                                          1.302722   \n",
       "ENSG00000000971                                          1.338813   \n",
       "\n",
       "                 2345-Ever_had_bowel_cancer_screening  \\\n",
       "gene_name                                               \n",
       "ENSG00000000419                              0.102558   \n",
       "ENSG00000000457                              1.846875   \n",
       "ENSG00000000460                              1.173202   \n",
       "ENSG00000000938                              0.841524   \n",
       "ENSG00000000971                              0.262339   \n",
       "\n",
       "                 N49-Diagnoses_main_ICD10_N49_Inflammatory_disorders_of_male_genital_organs_not_elsewhere_classified  \\\n",
       "gene_name                                                                                                              \n",
       "ENSG00000000419                                           0.239545                                                     \n",
       "ENSG00000000457                                           0.139324                                                     \n",
       "ENSG00000000460                                           1.179426                                                     \n",
       "ENSG00000000938                                           1.578926                                                     \n",
       "ENSG00000000971                                           0.689379                                                     \n",
       "\n",
       "                 100011_raw-Iron  \\\n",
       "gene_name                          \n",
       "ENSG00000000419         0.887758   \n",
       "ENSG00000000457         0.129530   \n",
       "ENSG00000000460         0.571656   \n",
       "ENSG00000000938         0.721340   \n",
       "ENSG00000000971         1.702019   \n",
       "\n",
       "                 5221-Index_of_best_refractometry_result_right  \\\n",
       "gene_name                                                        \n",
       "ENSG00000000419                                       1.313448   \n",
       "ENSG00000000457                                       0.757757   \n",
       "ENSG00000000460                                       0.098771   \n",
       "ENSG00000000938                                       0.139314   \n",
       "ENSG00000000971                                       0.325859   \n",
       "\n",
       "                 20003_1141150624-Treatmentmedication_code_zomig_25mg_tablet  \\\n",
       "gene_name                                                                      \n",
       "ENSG00000000419                                           1.472148             \n",
       "ENSG00000000457                                           1.103979             \n",
       "ENSG00000000460                                           0.221072             \n",
       "ENSG00000000938                                           4.387016             \n",
       "ENSG00000000971                                           0.063161             \n",
       "\n",
       "                 S69-Diagnoses_main_ICD10_S69_Other_and_unspecified_injuries_of_wrist_and_hand  \\\n",
       "gene_name                                                                                        \n",
       "ENSG00000000419                                           0.726160                               \n",
       "ENSG00000000457                                           0.612418                               \n",
       "ENSG00000000460                                           0.276415                               \n",
       "ENSG00000000938                                           0.125959                               \n",
       "ENSG00000000971                                           1.141126                               \n",
       "\n",
       "                 20024_1136-Job_code_deduced_Information_and_communication_technology_managers  \\\n",
       "gene_name                                                                                        \n",
       "ENSG00000000419                                           1.516367                               \n",
       "ENSG00000000457                                           1.822327                               \n",
       "ENSG00000000460                                           0.461381                               \n",
       "ENSG00000000938                                           1.247123                               \n",
       "ENSG00000000971                                           0.882682                               \n",
       "\n",
       "                 20002_1385-Noncancer_illness_code_selfreported_allergy_or_anaphylactic_reaction_to_food  \\\n",
       "gene_name                                                                                                  \n",
       "ENSG00000000419                                           1.299771                                         \n",
       "ENSG00000000457                                           2.035372                                         \n",
       "ENSG00000000460                                           0.855502                                         \n",
       "ENSG00000000938                                           0.215124                                         \n",
       "ENSG00000000971                                           0.035533                                         \n",
       "\n",
       "                 G6_SLEEPAPNO-Sleep_apnoea  ...  \\\n",
       "gene_name                                   ...   \n",
       "ENSG00000000419                   1.068093  ...   \n",
       "ENSG00000000457                   1.008058  ...   \n",
       "ENSG00000000460                   0.201876  ...   \n",
       "ENSG00000000938                   0.892083  ...   \n",
       "ENSG00000000971                   1.810191  ...   \n",
       "\n",
       "                 Astle_et_al_2016_Sum_basophil_neutrophil_counts  \\\n",
       "gene_name                                                          \n",
       "ENSG00000000419                                         0.813014   \n",
       "ENSG00000000457                                         1.441795   \n",
       "ENSG00000000460                                         0.668962   \n",
       "ENSG00000000938                                         0.126657   \n",
       "ENSG00000000971                                         0.858497   \n",
       "\n",
       "                 RA_OKADA_TRANS_ETHNIC  pgc.scz2  PGC_ADHD_EUR_2017  \\\n",
       "gene_name                                                             \n",
       "ENSG00000000419               0.275993  0.510834           0.024717   \n",
       "ENSG00000000457               0.654791  2.545653           1.202984   \n",
       "ENSG00000000460               0.300040  0.541782           1.033308   \n",
       "ENSG00000000938               0.048048  1.886356           0.540496   \n",
       "ENSG00000000971               1.675562  2.319072           1.598721   \n",
       "\n",
       "                 MAGIC_FastingGlucose  Astle_et_al_2016_Red_blood_cell_count  \\\n",
       "gene_name                                                                      \n",
       "ENSG00000000419              0.430951                               0.824314   \n",
       "ENSG00000000457              0.514244                               0.237223   \n",
       "ENSG00000000460              0.482261                               0.695624   \n",
       "ENSG00000000938              0.127524                               1.494501   \n",
       "ENSG00000000971              0.162958                               0.005703   \n",
       "\n",
       "                 SSGAC_Depressive_Symptoms  BCAC_ER_positive_BreastCancer_EUR  \\\n",
       "gene_name                                                                       \n",
       "ENSG00000000419                   0.367414                           1.377624   \n",
       "ENSG00000000457                   0.414171                           0.101731   \n",
       "ENSG00000000460                   0.336480                           0.083316   \n",
       "ENSG00000000938                   0.056432                           1.704863   \n",
       "ENSG00000000971                   3.004544                           0.803669   \n",
       "\n",
       "                 IBD.EUR.Inflammatory_Bowel_Disease  \\\n",
       "gene_name                                             \n",
       "ENSG00000000419                            0.738444   \n",
       "ENSG00000000457                            1.012735   \n",
       "ENSG00000000460                            3.493196   \n",
       "ENSG00000000938                            1.351619   \n",
       "ENSG00000000971                            0.444266   \n",
       "\n",
       "                 Astle_et_al_2016_High_light_scatter_reticulocyte_count  \n",
       "gene_name                                                                \n",
       "ENSG00000000419                                           0.298259       \n",
       "ENSG00000000457                                           0.945167       \n",
       "ENSG00000000460                                           0.991948       \n",
       "ENSG00000000938                                           1.027297       \n",
       "ENSG00000000971                                           0.165671       \n",
       "\n",
       "[5 rows x 4091 columns]"
      ]
     },
     "execution_count": 10,
     "metadata": {},
     "output_type": "execute_result"
    }
   ],
   "source": [
    "smultixcan_results.head()"
   ]
  },
  {
   "cell_type": "markdown",
   "metadata": {
    "papermill": {
     "duration": 0.018573,
     "end_time": "2021-09-17T03:37:07.383687",
     "exception": false,
     "start_time": "2021-09-17T03:37:07.365114",
     "status": "completed"
    },
    "tags": []
   },
   "source": [
    "## Gene IDs to Gene names"
   ]
  },
  {
   "cell_type": "code",
   "execution_count": 11,
   "metadata": {
    "execution": {
     "iopub.execute_input": "2021-09-17T03:37:07.428724Z",
     "iopub.status.busy": "2021-09-17T03:37:07.428337Z",
     "iopub.status.idle": "2021-09-17T03:37:07.574139Z",
     "shell.execute_reply": "2021-09-17T03:37:07.574466Z"
    },
    "papermill": {
     "duration": 0.172089,
     "end_time": "2021-09-17T03:37:07.574572",
     "exception": false,
     "start_time": "2021-09-17T03:37:07.402483",
     "status": "completed"
    },
    "tags": []
   },
   "outputs": [],
   "source": [
    "smultixcan_results = smultixcan_results.rename(index=Gene.GENE_ID_TO_NAME_MAP)"
   ]
  },
  {
   "cell_type": "code",
   "execution_count": 12,
   "metadata": {
    "execution": {
     "iopub.execute_input": "2021-09-17T03:37:07.619981Z",
     "iopub.status.busy": "2021-09-17T03:37:07.619585Z",
     "iopub.status.idle": "2021-09-17T03:37:07.621922Z",
     "shell.execute_reply": "2021-09-17T03:37:07.622211Z"
    },
    "papermill": {
     "duration": 0.028974,
     "end_time": "2021-09-17T03:37:07.622314",
     "exception": false,
     "start_time": "2021-09-17T03:37:07.593340",
     "status": "completed"
    },
    "tags": []
   },
   "outputs": [
    {
     "data": {
      "text/plain": [
       "(22515, 4091)"
      ]
     },
     "execution_count": 12,
     "metadata": {},
     "output_type": "execute_result"
    }
   ],
   "source": [
    "smultixcan_results.shape"
   ]
  },
  {
   "cell_type": "code",
   "execution_count": 13,
   "metadata": {
    "execution": {
     "iopub.execute_input": "2021-09-17T03:37:07.673003Z",
     "iopub.status.busy": "2021-09-17T03:37:07.672622Z",
     "iopub.status.idle": "2021-09-17T03:37:07.683988Z",
     "shell.execute_reply": "2021-09-17T03:37:07.684489Z"
    },
    "papermill": {
     "duration": 0.043446,
     "end_time": "2021-09-17T03:37:07.684595",
     "exception": false,
     "start_time": "2021-09-17T03:37:07.641149",
     "status": "completed"
    },
    "tags": []
   },
   "outputs": [
    {
     "data": {
      "text/html": [
       "<div>\n",
       "<style scoped>\n",
       "    .dataframe tbody tr th:only-of-type {\n",
       "        vertical-align: middle;\n",
       "    }\n",
       "\n",
       "    .dataframe tbody tr th {\n",
       "        vertical-align: top;\n",
       "    }\n",
       "\n",
       "    .dataframe thead th {\n",
       "        text-align: right;\n",
       "    }\n",
       "</style>\n",
       "<table border=\"1\" class=\"dataframe\">\n",
       "  <thead>\n",
       "    <tr style=\"text-align: right;\">\n",
       "      <th></th>\n",
       "      <th>20096_1-Size_of_red_wine_glass_drunk_small_125ml</th>\n",
       "      <th>2345-Ever_had_bowel_cancer_screening</th>\n",
       "      <th>N49-Diagnoses_main_ICD10_N49_Inflammatory_disorders_of_male_genital_organs_not_elsewhere_classified</th>\n",
       "      <th>100011_raw-Iron</th>\n",
       "      <th>5221-Index_of_best_refractometry_result_right</th>\n",
       "      <th>20003_1141150624-Treatmentmedication_code_zomig_25mg_tablet</th>\n",
       "      <th>S69-Diagnoses_main_ICD10_S69_Other_and_unspecified_injuries_of_wrist_and_hand</th>\n",
       "      <th>20024_1136-Job_code_deduced_Information_and_communication_technology_managers</th>\n",
       "      <th>20002_1385-Noncancer_illness_code_selfreported_allergy_or_anaphylactic_reaction_to_food</th>\n",
       "      <th>G6_SLEEPAPNO-Sleep_apnoea</th>\n",
       "      <th>...</th>\n",
       "      <th>Astle_et_al_2016_Sum_basophil_neutrophil_counts</th>\n",
       "      <th>RA_OKADA_TRANS_ETHNIC</th>\n",
       "      <th>pgc.scz2</th>\n",
       "      <th>PGC_ADHD_EUR_2017</th>\n",
       "      <th>MAGIC_FastingGlucose</th>\n",
       "      <th>Astle_et_al_2016_Red_blood_cell_count</th>\n",
       "      <th>SSGAC_Depressive_Symptoms</th>\n",
       "      <th>BCAC_ER_positive_BreastCancer_EUR</th>\n",
       "      <th>IBD.EUR.Inflammatory_Bowel_Disease</th>\n",
       "      <th>Astle_et_al_2016_High_light_scatter_reticulocyte_count</th>\n",
       "    </tr>\n",
       "    <tr>\n",
       "      <th>gene_name</th>\n",
       "      <th></th>\n",
       "      <th></th>\n",
       "      <th></th>\n",
       "      <th></th>\n",
       "      <th></th>\n",
       "      <th></th>\n",
       "      <th></th>\n",
       "      <th></th>\n",
       "      <th></th>\n",
       "      <th></th>\n",
       "      <th></th>\n",
       "      <th></th>\n",
       "      <th></th>\n",
       "      <th></th>\n",
       "      <th></th>\n",
       "      <th></th>\n",
       "      <th></th>\n",
       "      <th></th>\n",
       "      <th></th>\n",
       "      <th></th>\n",
       "      <th></th>\n",
       "    </tr>\n",
       "  </thead>\n",
       "  <tbody>\n",
       "    <tr>\n",
       "      <th>DPM1</th>\n",
       "      <td>0.169468</td>\n",
       "      <td>0.102558</td>\n",
       "      <td>0.239545</td>\n",
       "      <td>0.887758</td>\n",
       "      <td>1.313448</td>\n",
       "      <td>1.472148</td>\n",
       "      <td>0.726160</td>\n",
       "      <td>1.516367</td>\n",
       "      <td>1.299771</td>\n",
       "      <td>1.068093</td>\n",
       "      <td>...</td>\n",
       "      <td>0.813014</td>\n",
       "      <td>0.275993</td>\n",
       "      <td>0.510834</td>\n",
       "      <td>0.024717</td>\n",
       "      <td>0.430951</td>\n",
       "      <td>0.824314</td>\n",
       "      <td>0.367414</td>\n",
       "      <td>1.377624</td>\n",
       "      <td>0.738444</td>\n",
       "      <td>0.298259</td>\n",
       "    </tr>\n",
       "    <tr>\n",
       "      <th>SCYL3</th>\n",
       "      <td>1.358856</td>\n",
       "      <td>1.846875</td>\n",
       "      <td>0.139324</td>\n",
       "      <td>0.129530</td>\n",
       "      <td>0.757757</td>\n",
       "      <td>1.103979</td>\n",
       "      <td>0.612418</td>\n",
       "      <td>1.822327</td>\n",
       "      <td>2.035372</td>\n",
       "      <td>1.008058</td>\n",
       "      <td>...</td>\n",
       "      <td>1.441795</td>\n",
       "      <td>0.654791</td>\n",
       "      <td>2.545653</td>\n",
       "      <td>1.202984</td>\n",
       "      <td>0.514244</td>\n",
       "      <td>0.237223</td>\n",
       "      <td>0.414171</td>\n",
       "      <td>0.101731</td>\n",
       "      <td>1.012735</td>\n",
       "      <td>0.945167</td>\n",
       "    </tr>\n",
       "    <tr>\n",
       "      <th>C1orf112</th>\n",
       "      <td>0.151008</td>\n",
       "      <td>1.173202</td>\n",
       "      <td>1.179426</td>\n",
       "      <td>0.571656</td>\n",
       "      <td>0.098771</td>\n",
       "      <td>0.221072</td>\n",
       "      <td>0.276415</td>\n",
       "      <td>0.461381</td>\n",
       "      <td>0.855502</td>\n",
       "      <td>0.201876</td>\n",
       "      <td>...</td>\n",
       "      <td>0.668962</td>\n",
       "      <td>0.300040</td>\n",
       "      <td>0.541782</td>\n",
       "      <td>1.033308</td>\n",
       "      <td>0.482261</td>\n",
       "      <td>0.695624</td>\n",
       "      <td>0.336480</td>\n",
       "      <td>0.083316</td>\n",
       "      <td>3.493196</td>\n",
       "      <td>0.991948</td>\n",
       "    </tr>\n",
       "    <tr>\n",
       "      <th>FGR</th>\n",
       "      <td>1.302722</td>\n",
       "      <td>0.841524</td>\n",
       "      <td>1.578926</td>\n",
       "      <td>0.721340</td>\n",
       "      <td>0.139314</td>\n",
       "      <td>4.387016</td>\n",
       "      <td>0.125959</td>\n",
       "      <td>1.247123</td>\n",
       "      <td>0.215124</td>\n",
       "      <td>0.892083</td>\n",
       "      <td>...</td>\n",
       "      <td>0.126657</td>\n",
       "      <td>0.048048</td>\n",
       "      <td>1.886356</td>\n",
       "      <td>0.540496</td>\n",
       "      <td>0.127524</td>\n",
       "      <td>1.494501</td>\n",
       "      <td>0.056432</td>\n",
       "      <td>1.704863</td>\n",
       "      <td>1.351619</td>\n",
       "      <td>1.027297</td>\n",
       "    </tr>\n",
       "    <tr>\n",
       "      <th>CFH</th>\n",
       "      <td>1.338813</td>\n",
       "      <td>0.262339</td>\n",
       "      <td>0.689379</td>\n",
       "      <td>1.702019</td>\n",
       "      <td>0.325859</td>\n",
       "      <td>0.063161</td>\n",
       "      <td>1.141126</td>\n",
       "      <td>0.882682</td>\n",
       "      <td>0.035533</td>\n",
       "      <td>1.810191</td>\n",
       "      <td>...</td>\n",
       "      <td>0.858497</td>\n",
       "      <td>1.675562</td>\n",
       "      <td>2.319072</td>\n",
       "      <td>1.598721</td>\n",
       "      <td>0.162958</td>\n",
       "      <td>0.005703</td>\n",
       "      <td>3.004544</td>\n",
       "      <td>0.803669</td>\n",
       "      <td>0.444266</td>\n",
       "      <td>0.165671</td>\n",
       "    </tr>\n",
       "  </tbody>\n",
       "</table>\n",
       "<p>5 rows × 4091 columns</p>\n",
       "</div>"
      ],
      "text/plain": [
       "           20096_1-Size_of_red_wine_glass_drunk_small_125ml  \\\n",
       "gene_name                                                     \n",
       "DPM1                                               0.169468   \n",
       "SCYL3                                              1.358856   \n",
       "C1orf112                                           0.151008   \n",
       "FGR                                                1.302722   \n",
       "CFH                                                1.338813   \n",
       "\n",
       "           2345-Ever_had_bowel_cancer_screening  \\\n",
       "gene_name                                         \n",
       "DPM1                                   0.102558   \n",
       "SCYL3                                  1.846875   \n",
       "C1orf112                               1.173202   \n",
       "FGR                                    0.841524   \n",
       "CFH                                    0.262339   \n",
       "\n",
       "           N49-Diagnoses_main_ICD10_N49_Inflammatory_disorders_of_male_genital_organs_not_elsewhere_classified  \\\n",
       "gene_name                                                                                                        \n",
       "DPM1                                                0.239545                                                     \n",
       "SCYL3                                               0.139324                                                     \n",
       "C1orf112                                            1.179426                                                     \n",
       "FGR                                                 1.578926                                                     \n",
       "CFH                                                 0.689379                                                     \n",
       "\n",
       "           100011_raw-Iron  5221-Index_of_best_refractometry_result_right  \\\n",
       "gene_name                                                                   \n",
       "DPM1              0.887758                                       1.313448   \n",
       "SCYL3             0.129530                                       0.757757   \n",
       "C1orf112          0.571656                                       0.098771   \n",
       "FGR               0.721340                                       0.139314   \n",
       "CFH               1.702019                                       0.325859   \n",
       "\n",
       "           20003_1141150624-Treatmentmedication_code_zomig_25mg_tablet  \\\n",
       "gene_name                                                                \n",
       "DPM1                                                1.472148             \n",
       "SCYL3                                               1.103979             \n",
       "C1orf112                                            0.221072             \n",
       "FGR                                                 4.387016             \n",
       "CFH                                                 0.063161             \n",
       "\n",
       "           S69-Diagnoses_main_ICD10_S69_Other_and_unspecified_injuries_of_wrist_and_hand  \\\n",
       "gene_name                                                                                  \n",
       "DPM1                                                0.726160                               \n",
       "SCYL3                                               0.612418                               \n",
       "C1orf112                                            0.276415                               \n",
       "FGR                                                 0.125959                               \n",
       "CFH                                                 1.141126                               \n",
       "\n",
       "           20024_1136-Job_code_deduced_Information_and_communication_technology_managers  \\\n",
       "gene_name                                                                                  \n",
       "DPM1                                                1.516367                               \n",
       "SCYL3                                               1.822327                               \n",
       "C1orf112                                            0.461381                               \n",
       "FGR                                                 1.247123                               \n",
       "CFH                                                 0.882682                               \n",
       "\n",
       "           20002_1385-Noncancer_illness_code_selfreported_allergy_or_anaphylactic_reaction_to_food  \\\n",
       "gene_name                                                                                            \n",
       "DPM1                                                1.299771                                         \n",
       "SCYL3                                               2.035372                                         \n",
       "C1orf112                                            0.855502                                         \n",
       "FGR                                                 0.215124                                         \n",
       "CFH                                                 0.035533                                         \n",
       "\n",
       "           G6_SLEEPAPNO-Sleep_apnoea  ...  \\\n",
       "gene_name                             ...   \n",
       "DPM1                        1.068093  ...   \n",
       "SCYL3                       1.008058  ...   \n",
       "C1orf112                    0.201876  ...   \n",
       "FGR                         0.892083  ...   \n",
       "CFH                         1.810191  ...   \n",
       "\n",
       "           Astle_et_al_2016_Sum_basophil_neutrophil_counts  \\\n",
       "gene_name                                                    \n",
       "DPM1                                              0.813014   \n",
       "SCYL3                                             1.441795   \n",
       "C1orf112                                          0.668962   \n",
       "FGR                                               0.126657   \n",
       "CFH                                               0.858497   \n",
       "\n",
       "           RA_OKADA_TRANS_ETHNIC  pgc.scz2  PGC_ADHD_EUR_2017  \\\n",
       "gene_name                                                       \n",
       "DPM1                    0.275993  0.510834           0.024717   \n",
       "SCYL3                   0.654791  2.545653           1.202984   \n",
       "C1orf112                0.300040  0.541782           1.033308   \n",
       "FGR                     0.048048  1.886356           0.540496   \n",
       "CFH                     1.675562  2.319072           1.598721   \n",
       "\n",
       "           MAGIC_FastingGlucose  Astle_et_al_2016_Red_blood_cell_count  \\\n",
       "gene_name                                                                \n",
       "DPM1                   0.430951                               0.824314   \n",
       "SCYL3                  0.514244                               0.237223   \n",
       "C1orf112               0.482261                               0.695624   \n",
       "FGR                    0.127524                               1.494501   \n",
       "CFH                    0.162958                               0.005703   \n",
       "\n",
       "           SSGAC_Depressive_Symptoms  BCAC_ER_positive_BreastCancer_EUR  \\\n",
       "gene_name                                                                 \n",
       "DPM1                        0.367414                           1.377624   \n",
       "SCYL3                       0.414171                           0.101731   \n",
       "C1orf112                    0.336480                           0.083316   \n",
       "FGR                         0.056432                           1.704863   \n",
       "CFH                         3.004544                           0.803669   \n",
       "\n",
       "           IBD.EUR.Inflammatory_Bowel_Disease  \\\n",
       "gene_name                                       \n",
       "DPM1                                 0.738444   \n",
       "SCYL3                                1.012735   \n",
       "C1orf112                             3.493196   \n",
       "FGR                                  1.351619   \n",
       "CFH                                  0.444266   \n",
       "\n",
       "           Astle_et_al_2016_High_light_scatter_reticulocyte_count  \n",
       "gene_name                                                          \n",
       "DPM1                                                0.298259       \n",
       "SCYL3                                               0.945167       \n",
       "C1orf112                                            0.991948       \n",
       "FGR                                                 1.027297       \n",
       "CFH                                                 0.165671       \n",
       "\n",
       "[5 rows x 4091 columns]"
      ]
     },
     "execution_count": 13,
     "metadata": {},
     "output_type": "execute_result"
    }
   ],
   "source": [
    "smultixcan_results.head()"
   ]
  },
  {
   "cell_type": "markdown",
   "metadata": {
    "papermill": {
     "duration": 0.019286,
     "end_time": "2021-09-17T03:37:07.723705",
     "exception": false,
     "start_time": "2021-09-17T03:37:07.704419",
     "status": "completed"
    },
    "tags": []
   },
   "source": [
    "## Remove duplicated gene entries"
   ]
  },
  {
   "cell_type": "code",
   "execution_count": 14,
   "metadata": {
    "execution": {
     "iopub.execute_input": "2021-09-17T03:37:07.773615Z",
     "iopub.status.busy": "2021-09-17T03:37:07.773232Z",
     "iopub.status.idle": "2021-09-17T03:37:07.776965Z",
     "shell.execute_reply": "2021-09-17T03:37:07.777273Z"
    },
    "papermill": {
     "duration": 0.034337,
     "end_time": "2021-09-17T03:37:07.777378",
     "exception": false,
     "start_time": "2021-09-17T03:37:07.743041",
     "status": "completed"
    },
    "tags": []
   },
   "outputs": [
    {
     "data": {
      "text/plain": [
       "Index(['SPATA13', 'LINC01422', 'LINC00484', 'MAL2', 'GOLGA8M', 'LINC01115',\n",
       "       'LYNX1'],\n",
       "      dtype='object', name='gene_name')"
      ]
     },
     "execution_count": 14,
     "metadata": {},
     "output_type": "execute_result"
    }
   ],
   "source": [
    "smultixcan_results.index[smultixcan_results.index.duplicated(keep=\"first\")]"
   ]
  },
  {
   "cell_type": "code",
   "execution_count": 15,
   "metadata": {
    "execution": {
     "iopub.execute_input": "2021-09-17T03:37:07.824765Z",
     "iopub.status.busy": "2021-09-17T03:37:07.824361Z",
     "iopub.status.idle": "2021-09-17T03:37:08.039340Z",
     "shell.execute_reply": "2021-09-17T03:37:08.039668Z"
    },
    "papermill": {
     "duration": 0.242732,
     "end_time": "2021-09-17T03:37:08.039774",
     "exception": false,
     "start_time": "2021-09-17T03:37:07.797042",
     "status": "completed"
    },
    "tags": []
   },
   "outputs": [],
   "source": [
    "smultixcan_results = smultixcan_results.loc[\n",
    "    ~smultixcan_results.index.duplicated(keep=\"first\")\n",
    "]"
   ]
  },
  {
   "cell_type": "code",
   "execution_count": 16,
   "metadata": {
    "execution": {
     "iopub.execute_input": "2021-09-17T03:37:08.081910Z",
     "iopub.status.busy": "2021-09-17T03:37:08.081523Z",
     "iopub.status.idle": "2021-09-17T03:37:08.089637Z",
     "shell.execute_reply": "2021-09-17T03:37:08.089322Z"
    },
    "papermill": {
     "duration": 0.030004,
     "end_time": "2021-09-17T03:37:08.089724",
     "exception": false,
     "start_time": "2021-09-17T03:37:08.059720",
     "status": "completed"
    },
    "tags": []
   },
   "outputs": [
    {
     "data": {
      "text/plain": [
       "(22508, 4091)"
      ]
     },
     "execution_count": 16,
     "metadata": {},
     "output_type": "execute_result"
    }
   ],
   "source": [
    "smultixcan_results.shape"
   ]
  },
  {
   "cell_type": "markdown",
   "metadata": {
    "papermill": {
     "duration": 0.019642,
     "end_time": "2021-09-17T03:37:08.129259",
     "exception": false,
     "start_time": "2021-09-17T03:37:08.109617",
     "status": "completed"
    },
    "tags": []
   },
   "source": [
    "## Remove NaN values"
   ]
  },
  {
   "cell_type": "markdown",
   "metadata": {
    "papermill": {
     "duration": 0.019632,
     "end_time": "2021-09-17T03:37:08.168692",
     "exception": false,
     "start_time": "2021-09-17T03:37:08.149060",
     "status": "completed"
    },
    "tags": []
   },
   "source": [
    "**TODO**: it might be better to try to impute these values"
   ]
  },
  {
   "cell_type": "code",
   "execution_count": 17,
   "metadata": {
    "execution": {
     "iopub.execute_input": "2021-09-17T03:37:08.210524Z",
     "iopub.status.busy": "2021-09-17T03:37:08.209762Z",
     "iopub.status.idle": "2021-09-17T03:37:08.603396Z",
     "shell.execute_reply": "2021-09-17T03:37:08.603899Z"
    },
    "papermill": {
     "duration": 0.415651,
     "end_time": "2021-09-17T03:37:08.604008",
     "exception": false,
     "start_time": "2021-09-17T03:37:08.188357",
     "status": "completed"
    },
    "tags": []
   },
   "outputs": [],
   "source": [
    "smultixcan_results = smultixcan_results.dropna(how=\"any\")"
   ]
  },
  {
   "cell_type": "code",
   "execution_count": 18,
   "metadata": {
    "execution": {
     "iopub.execute_input": "2021-09-17T03:37:08.652806Z",
     "iopub.status.busy": "2021-09-17T03:37:08.652431Z",
     "iopub.status.idle": "2021-09-17T03:37:08.654712Z",
     "shell.execute_reply": "2021-09-17T03:37:08.655004Z"
    },
    "papermill": {
     "duration": 0.030721,
     "end_time": "2021-09-17T03:37:08.655106",
     "exception": false,
     "start_time": "2021-09-17T03:37:08.624385",
     "status": "completed"
    },
    "tags": []
   },
   "outputs": [
    {
     "data": {
      "text/plain": [
       "(22145, 4091)"
      ]
     },
     "execution_count": 18,
     "metadata": {},
     "output_type": "execute_result"
    }
   ],
   "source": [
    "smultixcan_results.shape"
   ]
  },
  {
   "cell_type": "markdown",
   "metadata": {
    "papermill": {
     "duration": 0.020062,
     "end_time": "2021-09-17T03:37:08.695172",
     "exception": false,
     "start_time": "2021-09-17T03:37:08.675110",
     "status": "completed"
    },
    "tags": []
   },
   "source": [
    "# Project S-MultiXcan data into MultiPLIER latent space"
   ]
  },
  {
   "cell_type": "code",
   "execution_count": 19,
   "metadata": {
    "execution": {
     "iopub.execute_input": "2021-09-17T03:37:08.740957Z",
     "iopub.status.busy": "2021-09-17T03:37:08.740571Z",
     "iopub.status.idle": "2021-09-17T03:37:08.744432Z",
     "shell.execute_reply": "2021-09-17T03:37:08.744723Z"
    },
    "papermill": {
     "duration": 0.029709,
     "end_time": "2021-09-17T03:37:08.744831",
     "exception": false,
     "start_time": "2021-09-17T03:37:08.715122",
     "status": "completed"
    },
    "tags": []
   },
   "outputs": [],
   "source": [
    "mproj = MultiplierProjection()"
   ]
  },
  {
   "cell_type": "code",
   "execution_count": 20,
   "metadata": {
    "execution": {
     "iopub.execute_input": "2021-09-17T03:37:08.792929Z",
     "iopub.status.busy": "2021-09-17T03:37:08.792538Z",
     "iopub.status.idle": "2021-09-17T03:37:13.677092Z",
     "shell.execute_reply": "2021-09-17T03:37:13.677408Z"
    },
    "papermill": {
     "duration": 4.912369,
     "end_time": "2021-09-17T03:37:13.677515",
     "exception": false,
     "start_time": "2021-09-17T03:37:08.765146",
     "status": "completed"
    },
    "tags": []
   },
   "outputs": [],
   "source": [
    "smultixcan_into_multiplier = mproj.transform(smultixcan_results)"
   ]
  },
  {
   "cell_type": "code",
   "execution_count": 21,
   "metadata": {
    "execution": {
     "iopub.execute_input": "2021-09-17T03:37:13.768828Z",
     "iopub.status.busy": "2021-09-17T03:37:13.768446Z",
     "iopub.status.idle": "2021-09-17T03:37:13.771924Z",
     "shell.execute_reply": "2021-09-17T03:37:13.772412Z"
    },
    "papermill": {
     "duration": 0.060717,
     "end_time": "2021-09-17T03:37:13.772517",
     "exception": false,
     "start_time": "2021-09-17T03:37:13.711800",
     "status": "completed"
    },
    "tags": []
   },
   "outputs": [
    {
     "data": {
      "text/plain": [
       "(987, 4091)"
      ]
     },
     "execution_count": 21,
     "metadata": {},
     "output_type": "execute_result"
    }
   ],
   "source": [
    "smultixcan_into_multiplier.shape"
   ]
  },
  {
   "cell_type": "code",
   "execution_count": 22,
   "metadata": {
    "execution": {
     "iopub.execute_input": "2021-09-17T03:37:13.832868Z",
     "iopub.status.busy": "2021-09-17T03:37:13.832489Z",
     "iopub.status.idle": "2021-09-17T03:37:13.836544Z",
     "shell.execute_reply": "2021-09-17T03:37:13.837028Z"
    },
    "papermill": {
     "duration": 0.044036,
     "end_time": "2021-09-17T03:37:13.837130",
     "exception": false,
     "start_time": "2021-09-17T03:37:13.793094",
     "status": "completed"
    },
    "tags": []
   },
   "outputs": [
    {
     "data": {
      "text/html": [
       "<div>\n",
       "<style scoped>\n",
       "    .dataframe tbody tr th:only-of-type {\n",
       "        vertical-align: middle;\n",
       "    }\n",
       "\n",
       "    .dataframe tbody tr th {\n",
       "        vertical-align: top;\n",
       "    }\n",
       "\n",
       "    .dataframe thead th {\n",
       "        text-align: right;\n",
       "    }\n",
       "</style>\n",
       "<table border=\"1\" class=\"dataframe\">\n",
       "  <thead>\n",
       "    <tr style=\"text-align: right;\">\n",
       "      <th></th>\n",
       "      <th>20096_1-Size_of_red_wine_glass_drunk_small_125ml</th>\n",
       "      <th>2345-Ever_had_bowel_cancer_screening</th>\n",
       "      <th>N49-Diagnoses_main_ICD10_N49_Inflammatory_disorders_of_male_genital_organs_not_elsewhere_classified</th>\n",
       "      <th>100011_raw-Iron</th>\n",
       "      <th>5221-Index_of_best_refractometry_result_right</th>\n",
       "      <th>20003_1141150624-Treatmentmedication_code_zomig_25mg_tablet</th>\n",
       "      <th>S69-Diagnoses_main_ICD10_S69_Other_and_unspecified_injuries_of_wrist_and_hand</th>\n",
       "      <th>20024_1136-Job_code_deduced_Information_and_communication_technology_managers</th>\n",
       "      <th>20002_1385-Noncancer_illness_code_selfreported_allergy_or_anaphylactic_reaction_to_food</th>\n",
       "      <th>G6_SLEEPAPNO-Sleep_apnoea</th>\n",
       "      <th>...</th>\n",
       "      <th>Astle_et_al_2016_Sum_basophil_neutrophil_counts</th>\n",
       "      <th>RA_OKADA_TRANS_ETHNIC</th>\n",
       "      <th>pgc.scz2</th>\n",
       "      <th>PGC_ADHD_EUR_2017</th>\n",
       "      <th>MAGIC_FastingGlucose</th>\n",
       "      <th>Astle_et_al_2016_Red_blood_cell_count</th>\n",
       "      <th>SSGAC_Depressive_Symptoms</th>\n",
       "      <th>BCAC_ER_positive_BreastCancer_EUR</th>\n",
       "      <th>IBD.EUR.Inflammatory_Bowel_Disease</th>\n",
       "      <th>Astle_et_al_2016_High_light_scatter_reticulocyte_count</th>\n",
       "    </tr>\n",
       "  </thead>\n",
       "  <tbody>\n",
       "    <tr>\n",
       "      <th>LV1</th>\n",
       "      <td>-0.026255</td>\n",
       "      <td>0.006045</td>\n",
       "      <td>0.007276</td>\n",
       "      <td>-0.029740</td>\n",
       "      <td>-0.001949</td>\n",
       "      <td>0.009288</td>\n",
       "      <td>0.006488</td>\n",
       "      <td>0.003354</td>\n",
       "      <td>-0.021751</td>\n",
       "      <td>-0.039159</td>\n",
       "      <td>...</td>\n",
       "      <td>0.036648</td>\n",
       "      <td>0.094062</td>\n",
       "      <td>0.047505</td>\n",
       "      <td>-0.035089</td>\n",
       "      <td>-0.036600</td>\n",
       "      <td>0.185595</td>\n",
       "      <td>-0.031841</td>\n",
       "      <td>-0.011883</td>\n",
       "      <td>0.033163</td>\n",
       "      <td>0.061374</td>\n",
       "    </tr>\n",
       "    <tr>\n",
       "      <th>LV2</th>\n",
       "      <td>-0.006253</td>\n",
       "      <td>-0.023996</td>\n",
       "      <td>0.037932</td>\n",
       "      <td>-0.000018</td>\n",
       "      <td>-0.016128</td>\n",
       "      <td>-0.033736</td>\n",
       "      <td>-0.017215</td>\n",
       "      <td>-0.004558</td>\n",
       "      <td>0.079234</td>\n",
       "      <td>-0.040277</td>\n",
       "      <td>...</td>\n",
       "      <td>0.085747</td>\n",
       "      <td>-0.064254</td>\n",
       "      <td>0.022124</td>\n",
       "      <td>-0.008441</td>\n",
       "      <td>-0.049594</td>\n",
       "      <td>0.074838</td>\n",
       "      <td>-0.057865</td>\n",
       "      <td>-0.007585</td>\n",
       "      <td>0.003580</td>\n",
       "      <td>-0.025216</td>\n",
       "    </tr>\n",
       "    <tr>\n",
       "      <th>LV3</th>\n",
       "      <td>-0.002729</td>\n",
       "      <td>0.051637</td>\n",
       "      <td>-0.013182</td>\n",
       "      <td>-0.001663</td>\n",
       "      <td>0.035221</td>\n",
       "      <td>-0.016019</td>\n",
       "      <td>0.000484</td>\n",
       "      <td>-0.046965</td>\n",
       "      <td>-0.000498</td>\n",
       "      <td>-0.041794</td>\n",
       "      <td>...</td>\n",
       "      <td>0.068618</td>\n",
       "      <td>-0.034395</td>\n",
       "      <td>0.145881</td>\n",
       "      <td>0.031539</td>\n",
       "      <td>-0.031740</td>\n",
       "      <td>0.015501</td>\n",
       "      <td>-0.028148</td>\n",
       "      <td>-0.048226</td>\n",
       "      <td>0.030093</td>\n",
       "      <td>-0.026938</td>\n",
       "    </tr>\n",
       "    <tr>\n",
       "      <th>LV4</th>\n",
       "      <td>0.042319</td>\n",
       "      <td>-0.023236</td>\n",
       "      <td>0.063016</td>\n",
       "      <td>-0.002628</td>\n",
       "      <td>-0.046487</td>\n",
       "      <td>0.018004</td>\n",
       "      <td>-0.029841</td>\n",
       "      <td>-0.023949</td>\n",
       "      <td>-0.026485</td>\n",
       "      <td>0.022759</td>\n",
       "      <td>...</td>\n",
       "      <td>-0.070986</td>\n",
       "      <td>-0.028960</td>\n",
       "      <td>0.015369</td>\n",
       "      <td>0.051671</td>\n",
       "      <td>0.014078</td>\n",
       "      <td>-0.147863</td>\n",
       "      <td>0.034195</td>\n",
       "      <td>0.068829</td>\n",
       "      <td>-0.023213</td>\n",
       "      <td>-0.089619</td>\n",
       "    </tr>\n",
       "    <tr>\n",
       "      <th>LV5</th>\n",
       "      <td>-0.025975</td>\n",
       "      <td>0.002167</td>\n",
       "      <td>-0.022646</td>\n",
       "      <td>0.004559</td>\n",
       "      <td>0.004649</td>\n",
       "      <td>0.028440</td>\n",
       "      <td>-0.024379</td>\n",
       "      <td>-0.028536</td>\n",
       "      <td>0.019263</td>\n",
       "      <td>-0.026291</td>\n",
       "      <td>...</td>\n",
       "      <td>0.008842</td>\n",
       "      <td>-0.000932</td>\n",
       "      <td>0.004195</td>\n",
       "      <td>0.029759</td>\n",
       "      <td>-0.043760</td>\n",
       "      <td>0.057031</td>\n",
       "      <td>-0.002836</td>\n",
       "      <td>-0.046215</td>\n",
       "      <td>0.099309</td>\n",
       "      <td>0.075663</td>\n",
       "    </tr>\n",
       "  </tbody>\n",
       "</table>\n",
       "<p>5 rows × 4091 columns</p>\n",
       "</div>"
      ],
      "text/plain": [
       "     20096_1-Size_of_red_wine_glass_drunk_small_125ml  \\\n",
       "LV1                                         -0.026255   \n",
       "LV2                                         -0.006253   \n",
       "LV3                                         -0.002729   \n",
       "LV4                                          0.042319   \n",
       "LV5                                         -0.025975   \n",
       "\n",
       "     2345-Ever_had_bowel_cancer_screening  \\\n",
       "LV1                              0.006045   \n",
       "LV2                             -0.023996   \n",
       "LV3                              0.051637   \n",
       "LV4                             -0.023236   \n",
       "LV5                              0.002167   \n",
       "\n",
       "     N49-Diagnoses_main_ICD10_N49_Inflammatory_disorders_of_male_genital_organs_not_elsewhere_classified  \\\n",
       "LV1                                           0.007276                                                     \n",
       "LV2                                           0.037932                                                     \n",
       "LV3                                          -0.013182                                                     \n",
       "LV4                                           0.063016                                                     \n",
       "LV5                                          -0.022646                                                     \n",
       "\n",
       "     100011_raw-Iron  5221-Index_of_best_refractometry_result_right  \\\n",
       "LV1        -0.029740                                      -0.001949   \n",
       "LV2        -0.000018                                      -0.016128   \n",
       "LV3        -0.001663                                       0.035221   \n",
       "LV4        -0.002628                                      -0.046487   \n",
       "LV5         0.004559                                       0.004649   \n",
       "\n",
       "     20003_1141150624-Treatmentmedication_code_zomig_25mg_tablet  \\\n",
       "LV1                                           0.009288             \n",
       "LV2                                          -0.033736             \n",
       "LV3                                          -0.016019             \n",
       "LV4                                           0.018004             \n",
       "LV5                                           0.028440             \n",
       "\n",
       "     S69-Diagnoses_main_ICD10_S69_Other_and_unspecified_injuries_of_wrist_and_hand  \\\n",
       "LV1                                           0.006488                               \n",
       "LV2                                          -0.017215                               \n",
       "LV3                                           0.000484                               \n",
       "LV4                                          -0.029841                               \n",
       "LV5                                          -0.024379                               \n",
       "\n",
       "     20024_1136-Job_code_deduced_Information_and_communication_technology_managers  \\\n",
       "LV1                                           0.003354                               \n",
       "LV2                                          -0.004558                               \n",
       "LV3                                          -0.046965                               \n",
       "LV4                                          -0.023949                               \n",
       "LV5                                          -0.028536                               \n",
       "\n",
       "     20002_1385-Noncancer_illness_code_selfreported_allergy_or_anaphylactic_reaction_to_food  \\\n",
       "LV1                                          -0.021751                                         \n",
       "LV2                                           0.079234                                         \n",
       "LV3                                          -0.000498                                         \n",
       "LV4                                          -0.026485                                         \n",
       "LV5                                           0.019263                                         \n",
       "\n",
       "     G6_SLEEPAPNO-Sleep_apnoea  ...  \\\n",
       "LV1                  -0.039159  ...   \n",
       "LV2                  -0.040277  ...   \n",
       "LV3                  -0.041794  ...   \n",
       "LV4                   0.022759  ...   \n",
       "LV5                  -0.026291  ...   \n",
       "\n",
       "     Astle_et_al_2016_Sum_basophil_neutrophil_counts  RA_OKADA_TRANS_ETHNIC  \\\n",
       "LV1                                         0.036648               0.094062   \n",
       "LV2                                         0.085747              -0.064254   \n",
       "LV3                                         0.068618              -0.034395   \n",
       "LV4                                        -0.070986              -0.028960   \n",
       "LV5                                         0.008842              -0.000932   \n",
       "\n",
       "     pgc.scz2  PGC_ADHD_EUR_2017  MAGIC_FastingGlucose  \\\n",
       "LV1  0.047505          -0.035089             -0.036600   \n",
       "LV2  0.022124          -0.008441             -0.049594   \n",
       "LV3  0.145881           0.031539             -0.031740   \n",
       "LV4  0.015369           0.051671              0.014078   \n",
       "LV5  0.004195           0.029759             -0.043760   \n",
       "\n",
       "     Astle_et_al_2016_Red_blood_cell_count  SSGAC_Depressive_Symptoms  \\\n",
       "LV1                               0.185595                  -0.031841   \n",
       "LV2                               0.074838                  -0.057865   \n",
       "LV3                               0.015501                  -0.028148   \n",
       "LV4                              -0.147863                   0.034195   \n",
       "LV5                               0.057031                  -0.002836   \n",
       "\n",
       "     BCAC_ER_positive_BreastCancer_EUR  IBD.EUR.Inflammatory_Bowel_Disease  \\\n",
       "LV1                          -0.011883                            0.033163   \n",
       "LV2                          -0.007585                            0.003580   \n",
       "LV3                          -0.048226                            0.030093   \n",
       "LV4                           0.068829                           -0.023213   \n",
       "LV5                          -0.046215                            0.099309   \n",
       "\n",
       "     Astle_et_al_2016_High_light_scatter_reticulocyte_count  \n",
       "LV1                                           0.061374       \n",
       "LV2                                          -0.025216       \n",
       "LV3                                          -0.026938       \n",
       "LV4                                          -0.089619       \n",
       "LV5                                           0.075663       \n",
       "\n",
       "[5 rows x 4091 columns]"
      ]
     },
     "execution_count": 22,
     "metadata": {},
     "output_type": "execute_result"
    }
   ],
   "source": [
    "smultixcan_into_multiplier.head()"
   ]
  },
  {
   "cell_type": "markdown",
   "metadata": {
    "papermill": {
     "duration": 0.020641,
     "end_time": "2021-09-17T03:37:13.878858",
     "exception": false,
     "start_time": "2021-09-17T03:37:13.858217",
     "status": "completed"
    },
    "tags": []
   },
   "source": [
    "# Quick analysis"
   ]
  },
  {
   "cell_type": "code",
   "execution_count": 23,
   "metadata": {
    "execution": {
     "iopub.execute_input": "2021-09-17T03:37:13.930643Z",
     "iopub.status.busy": "2021-09-17T03:37:13.930259Z",
     "iopub.status.idle": "2021-09-17T03:37:13.932619Z",
     "shell.execute_reply": "2021-09-17T03:37:13.932911Z"
    },
    "papermill": {
     "duration": 0.033556,
     "end_time": "2021-09-17T03:37:13.933014",
     "exception": false,
     "start_time": "2021-09-17T03:37:13.899458",
     "status": "completed"
    },
    "tags": []
   },
   "outputs": [
    {
     "data": {
      "text/plain": [
       "30000_raw-White_blood_cell_leukocyte_count           0.347896\n",
       "30130_raw-Monocyte_count                             0.317362\n",
       "50_raw-Standing_height                               0.305480\n",
       "30100_raw-Mean_platelet_thrombocyte_volume           0.300201\n",
       "30180_raw-Lymphocyte_percentage                      0.299121\n",
       "Astle_et_al_2016_White_blood_cell_count              0.292459\n",
       "Astle_et_al_2016_Monocyte_count                      0.291476\n",
       "30140_raw-Neutrophill_count                          0.291155\n",
       "Astle_et_al_2016_Myeloid_white_cell_count            0.283702\n",
       "Astle_et_al_2016_Granulocyte_count                   0.265380\n",
       "30200_raw-Neutrophill_percentage                     0.265349\n",
       "Astle_et_al_2016_Sum_neutrophil_eosinophil_counts    0.264932\n",
       "Astle_et_al_2016_Sum_basophil_neutrophil_counts      0.259895\n",
       "Astle_et_al_2016_Neutrophil_count                    0.258384\n",
       "30150-Eosinophill_count                              0.252839\n",
       "30090_raw-Platelet_crit                              0.233135\n",
       "30080_raw-Platelet_count                             0.231489\n",
       "30110_raw-Platelet_distribution_width                0.224630\n",
       "30030_raw-Haematocrit_percentage                     0.221294\n",
       "30210_raw-Eosinophill_percentage                     0.221285\n",
       "Name: LV603, dtype: float64"
      ]
     },
     "execution_count": 23,
     "metadata": {},
     "output_type": "execute_result"
    }
   ],
   "source": [
    "(smultixcan_into_multiplier.loc[\"LV603\"].sort_values(ascending=False).head(20))"
   ]
  },
  {
   "cell_type": "code",
   "execution_count": 24,
   "metadata": {
    "execution": {
     "iopub.execute_input": "2021-09-17T03:37:13.976858Z",
     "iopub.status.busy": "2021-09-17T03:37:13.976477Z",
     "iopub.status.idle": "2021-09-17T03:37:13.986111Z",
     "shell.execute_reply": "2021-09-17T03:37:13.986407Z"
    },
    "papermill": {
     "duration": 0.032615,
     "end_time": "2021-09-17T03:37:13.986514",
     "exception": false,
     "start_time": "2021-09-17T03:37:13.953899",
     "status": "completed"
    },
    "tags": []
   },
   "outputs": [
    {
     "data": {
      "text/plain": [
       "5132_raw-3mm_strong_meridian_right                                0.270901\n",
       "5134_raw-6mm_strong_meridian_left                                 0.252899\n",
       "5099_raw-3mm_weak_meridian_right                                  0.249057\n",
       "5133_raw-6mm_strong_meridian_right                                0.240017\n",
       "5098_raw-6mm_weak_meridian_right                                  0.237263\n",
       "5096_raw-3mm_weak_meridian_left                                   0.234509\n",
       "5097_raw-6mm_weak_meridian_left                                   0.231357\n",
       "5135_raw-3mm_strong_meridian_left                                 0.228634\n",
       "CARDIoGRAM_C4D_CAD_ADDITIVE                                       0.223093\n",
       "I25-Diagnoses_main_ICD10_I25_Chronic_ischaemic_heart_disease      0.175861\n",
       "I9_CORATHER-Coronary_atherosclerosis                              0.175774\n",
       "I9_IHD-Ischaemic_heart_disease_wide_definition                    0.174624\n",
       "4079_raw-Diastolic_blood_pressure_automated_reading               0.173653\n",
       "I9_MI_STRICT-Myocardial_infarction_strict                         0.130762\n",
       "I9_MI-Myocardial_infarction                                       0.130762\n",
       "I21-Diagnoses_main_ICD10_I21_Acute_myocardial_infarction          0.121962\n",
       "1757-Facial_ageing                                                0.119445\n",
       "5257_raw-Corneal_resistance_factor_right                          0.118846\n",
       "5255_raw-Intraocular_pressure_Goldmanncorrelated_right            0.118222\n",
       "6150_1-Vascularheart_problems_diagnosed_by_doctor_Heart_attack    0.115942\n",
       "Name: LV136, dtype: float64"
      ]
     },
     "execution_count": 24,
     "metadata": {},
     "output_type": "execute_result"
    }
   ],
   "source": [
    "(smultixcan_into_multiplier.loc[\"LV136\"].sort_values(ascending=False).head(20))"
   ]
  },
  {
   "cell_type": "code",
   "execution_count": 25,
   "metadata": {
    "execution": {
     "iopub.execute_input": "2021-09-17T03:37:14.039628Z",
     "iopub.status.busy": "2021-09-17T03:37:14.039251Z",
     "iopub.status.idle": "2021-09-17T03:37:14.041621Z",
     "shell.execute_reply": "2021-09-17T03:37:14.041910Z"
    },
    "papermill": {
     "duration": 0.034159,
     "end_time": "2021-09-17T03:37:14.042013",
     "exception": false,
     "start_time": "2021-09-17T03:37:14.007854",
     "status": "completed"
    },
    "tags": []
   },
   "outputs": [
    {
     "data": {
      "text/plain": [
       "20002_1456-Noncancer_illness_code_selfreported_malabsorptioncoeliac_disease     0.670999\n",
       "RA_OKADA_TRANS_ETHNIC                                                           0.600623\n",
       "K11_COELIAC-Coeliac_disease                                                     0.524043\n",
       "K90-Diagnoses_main_ICD10_K90_Intestinal_malabsorption                           0.490613\n",
       "30000_raw-White_blood_cell_leukocyte_count                                      0.355532\n",
       "30110_raw-Platelet_distribution_width                                           0.329447\n",
       "IMMUNOBASE_Systemic_lupus_erythematosus_hg19                                    0.327888\n",
       "Astle_et_al_2016_White_blood_cell_count                                         0.325425\n",
       "30140_raw-Neutrophill_count                                                     0.317810\n",
       "30270_raw-Mean_sphered_cell_volume                                              0.282390\n",
       "2986-Started_insulin_within_one_year_diagnosis_of_diabetes                      0.280818\n",
       "Astle_et_al_2016_Lymphocyte_counts                                              0.276588\n",
       "30260_raw-Mean_reticulocyte_volume                                              0.275516\n",
       "6144_3-Never_eat_eggs_dairy_wheat_sugar_Wheat_products                          0.269268\n",
       "20002_1226-Noncancer_illness_code_selfreported_hypothyroidismmyxoedema          0.265160\n",
       "20002_1453-Noncancer_illness_code_selfreported_psoriasis                        0.264161\n",
       "30100_raw-Mean_platelet_thrombocyte_volume                                      0.262648\n",
       "Astle_et_al_2016_Monocyte_count                                                 0.260492\n",
       "20002_1225-Noncancer_illness_code_selfreported_hyperthyroidismthyrotoxicosis    0.255280\n",
       "30020_raw-Haemoglobin_concentration                                             0.253693\n",
       "Name: LV844, dtype: float64"
      ]
     },
     "execution_count": 25,
     "metadata": {},
     "output_type": "execute_result"
    }
   ],
   "source": [
    "(smultixcan_into_multiplier.loc[\"LV844\"].sort_values(ascending=False).head(20))"
   ]
  },
  {
   "cell_type": "markdown",
   "metadata": {
    "papermill": {
     "duration": 0.021187,
     "end_time": "2021-09-17T03:37:14.084508",
     "exception": false,
     "start_time": "2021-09-17T03:37:14.063321",
     "status": "completed"
    },
    "tags": []
   },
   "source": [
    "# Save"
   ]
  },
  {
   "cell_type": "code",
   "execution_count": 26,
   "metadata": {
    "execution": {
     "iopub.execute_input": "2021-09-17T03:37:14.136049Z",
     "iopub.status.busy": "2021-09-17T03:37:14.135660Z",
     "iopub.status.idle": "2021-09-17T03:37:14.137065Z",
     "shell.execute_reply": "2021-09-17T03:37:14.137370Z"
    },
    "papermill": {
     "duration": 0.031597,
     "end_time": "2021-09-17T03:37:14.137469",
     "exception": false,
     "start_time": "2021-09-17T03:37:14.105872",
     "status": "completed"
    },
    "tags": []
   },
   "outputs": [
    {
     "data": {
      "text/plain": [
       "PosixPath('/home/miltondp/projects/labs/greenelab/phenoplier/base/results/projections/projection-smultixcan-mashr-zscores.pkl')"
      ]
     },
     "metadata": {},
     "output_type": "display_data"
    }
   ],
   "source": [
    "output_file = Path(\n",
    "    RESULTS_PROJ_OUTPUT_DIR, f\"projection-{results_filename_stem}.pkl\"\n",
    ").resolve()\n",
    "\n",
    "display(output_file)"
   ]
  },
  {
   "cell_type": "code",
   "execution_count": 27,
   "metadata": {
    "execution": {
     "iopub.execute_input": "2021-09-17T03:37:14.188737Z",
     "iopub.status.busy": "2021-09-17T03:37:14.188342Z",
     "iopub.status.idle": "2021-09-17T03:37:14.345146Z",
     "shell.execute_reply": "2021-09-17T03:37:14.344794Z"
    },
    "papermill": {
     "duration": 0.186324,
     "end_time": "2021-09-17T03:37:14.345231",
     "exception": false,
     "start_time": "2021-09-17T03:37:14.158907",
     "status": "completed"
    },
    "tags": []
   },
   "outputs": [],
   "source": [
    "smultixcan_into_multiplier.to_pickle(output_file)"
   ]
  },
  {
   "cell_type": "markdown",
   "metadata": {
    "papermill": {
     "duration": 0.021185,
     "end_time": "2021-09-17T03:37:14.387915",
     "exception": false,
     "start_time": "2021-09-17T03:37:14.366730",
     "status": "completed"
    },
    "tags": []
   },
   "source": [
    "## RDS format"
   ]
  },
  {
   "cell_type": "code",
   "execution_count": 28,
   "metadata": {
    "execution": {
     "iopub.execute_input": "2021-09-17T03:37:14.438712Z",
     "iopub.status.busy": "2021-09-17T03:37:14.438326Z",
     "iopub.status.idle": "2021-09-17T03:37:14.440630Z",
     "shell.execute_reply": "2021-09-17T03:37:14.440918Z"
    },
    "papermill": {
     "duration": 0.031556,
     "end_time": "2021-09-17T03:37:14.441022",
     "exception": false,
     "start_time": "2021-09-17T03:37:14.409466",
     "status": "completed"
    },
    "tags": []
   },
   "outputs": [
    {
     "data": {
      "text/plain": [
       "PosixPath('/home/miltondp/projects/labs/greenelab/phenoplier/base/results/projections/projection-smultixcan-mashr-zscores.rds')"
      ]
     },
     "metadata": {},
     "output_type": "display_data"
    }
   ],
   "source": [
    "output_rds_file = output_file.with_suffix(\".rds\")\n",
    "display(output_rds_file)"
   ]
  },
  {
   "cell_type": "code",
   "execution_count": 29,
   "metadata": {
    "execution": {
     "iopub.execute_input": "2021-09-17T03:37:14.500872Z",
     "iopub.status.busy": "2021-09-17T03:37:14.500497Z",
     "iopub.status.idle": "2021-09-17T03:37:21.760562Z",
     "shell.execute_reply": "2021-09-17T03:37:21.760856Z"
    },
    "papermill": {
     "duration": 7.298263,
     "end_time": "2021-09-17T03:37:21.760966",
     "exception": false,
     "start_time": "2021-09-17T03:37:14.462703",
     "status": "completed"
    },
    "tags": []
   },
   "outputs": [],
   "source": [
    "with localconverter(ro.default_converter + pandas2ri.converter):\n",
    "    data_r = ro.conversion.py2rpy(smultixcan_into_multiplier)"
   ]
  },
  {
   "cell_type": "code",
   "execution_count": 30,
   "metadata": {
    "execution": {
     "iopub.execute_input": "2021-09-17T03:37:21.812725Z",
     "iopub.status.busy": "2021-09-17T03:37:21.812343Z",
     "iopub.status.idle": "2021-09-17T03:37:21.819190Z",
     "shell.execute_reply": "2021-09-17T03:37:21.819555Z"
    },
    "papermill": {
     "duration": 0.036571,
     "end_time": "2021-09-17T03:37:21.819661",
     "exception": false,
     "start_time": "2021-09-17T03:37:21.783090",
     "status": "completed"
    },
    "tags": []
   },
   "outputs": [
    {
     "data": {
      "text/html": [
       "\n",
       "        <span>R/rpy2 DataFrame (987 x 4091)</span>\n",
       "        <table>\n",
       "          <thead>\n",
       "            <tr>\n",
       "              \n",
       "              <th>20096_1-Size_of_red_wine_glass_drunk_small_125ml</th>\n",
       "              \n",
       "              <th>2345-Ever_had_bowel_cancer_screening</th>\n",
       "              \n",
       "              <th>N49-Diagnoses_main_ICD10_N49_Inflammatory_disorders_of_male_genital_organs_not_elsewhere_classified</th>\n",
       "              \n",
       "              <th>...</th>\n",
       "              \n",
       "              <th>BCAC_ER_positive_BreastCancer_EUR</th>\n",
       "              \n",
       "              <th>IBD.EUR.Inflammatory_Bowel_Disease</th>\n",
       "              \n",
       "              <th>Astle_et_al_2016_High_light_scatter_reticulocyte_count</th>\n",
       "              \n",
       "            </tr>\n",
       "          </thead>\n",
       "          <tbody>\n",
       "          \n",
       "          <tr>\n",
       "            \n",
       "            <td>\n",
       "              -0.026255\n",
       "            </td>\n",
       "            \n",
       "            <td>\n",
       "              0.006045\n",
       "            </td>\n",
       "            \n",
       "            <td>\n",
       "              0.007276\n",
       "            </td>\n",
       "            \n",
       "            <td>\n",
       "              ...\n",
       "            </td>\n",
       "            \n",
       "            <td>\n",
       "              -0.011883\n",
       "            </td>\n",
       "            \n",
       "            <td>\n",
       "              0.033163\n",
       "            </td>\n",
       "            \n",
       "            <td>\n",
       "              0.061374\n",
       "            </td>\n",
       "            \n",
       "          </tr>\n",
       "          \n",
       "          <tr>\n",
       "            \n",
       "            <td>\n",
       "              -0.006253\n",
       "            </td>\n",
       "            \n",
       "            <td>\n",
       "              -0.023996\n",
       "            </td>\n",
       "            \n",
       "            <td>\n",
       "              0.037932\n",
       "            </td>\n",
       "            \n",
       "            <td>\n",
       "              \n",
       "            </td>\n",
       "            \n",
       "            <td>\n",
       "              -0.007585\n",
       "            </td>\n",
       "            \n",
       "            <td>\n",
       "              0.003580\n",
       "            </td>\n",
       "            \n",
       "            <td>\n",
       "              -0.025216\n",
       "            </td>\n",
       "            \n",
       "          </tr>\n",
       "          \n",
       "          <tr>\n",
       "            \n",
       "            <td>\n",
       "              -0.002729\n",
       "            </td>\n",
       "            \n",
       "            <td>\n",
       "              0.051637\n",
       "            </td>\n",
       "            \n",
       "            <td>\n",
       "              -0.013182\n",
       "            </td>\n",
       "            \n",
       "            <td>\n",
       "              \n",
       "            </td>\n",
       "            \n",
       "            <td>\n",
       "              -0.048226\n",
       "            </td>\n",
       "            \n",
       "            <td>\n",
       "              0.030093\n",
       "            </td>\n",
       "            \n",
       "            <td>\n",
       "              -0.026938\n",
       "            </td>\n",
       "            \n",
       "          </tr>\n",
       "          \n",
       "          <tr>\n",
       "            \n",
       "            <td>\n",
       "              0.042319\n",
       "            </td>\n",
       "            \n",
       "            <td>\n",
       "              -0.023236\n",
       "            </td>\n",
       "            \n",
       "            <td>\n",
       "              0.063016\n",
       "            </td>\n",
       "            \n",
       "            <td>\n",
       "              \n",
       "            </td>\n",
       "            \n",
       "            <td>\n",
       "              0.068829\n",
       "            </td>\n",
       "            \n",
       "            <td>\n",
       "              -0.023213\n",
       "            </td>\n",
       "            \n",
       "            <td>\n",
       "              -0.089619\n",
       "            </td>\n",
       "            \n",
       "          </tr>\n",
       "          \n",
       "          <tr>\n",
       "            \n",
       "            <td>\n",
       "              ...\n",
       "            </td>\n",
       "            \n",
       "            <td>\n",
       "              ...\n",
       "            </td>\n",
       "            \n",
       "            <td>\n",
       "              ...\n",
       "            </td>\n",
       "            \n",
       "            <td>\n",
       "              \n",
       "            </td>\n",
       "            \n",
       "            <td>\n",
       "              ...\n",
       "            </td>\n",
       "            \n",
       "            <td>\n",
       "              ...\n",
       "            </td>\n",
       "            \n",
       "            <td>\n",
       "              ...\n",
       "            </td>\n",
       "            \n",
       "          </tr>\n",
       "          \n",
       "          <tr>\n",
       "            \n",
       "            <td>\n",
       "              -0.042334\n",
       "            </td>\n",
       "            \n",
       "            <td>\n",
       "              0.043547\n",
       "            </td>\n",
       "            \n",
       "            <td>\n",
       "              -0.009513\n",
       "            </td>\n",
       "            \n",
       "            <td>\n",
       "              \n",
       "            </td>\n",
       "            \n",
       "            <td>\n",
       "              -0.017770\n",
       "            </td>\n",
       "            \n",
       "            <td>\n",
       "              0.194727\n",
       "            </td>\n",
       "            \n",
       "            <td>\n",
       "              0.084871\n",
       "            </td>\n",
       "            \n",
       "          </tr>\n",
       "          \n",
       "          <tr>\n",
       "            \n",
       "            <td>\n",
       "              -0.025743\n",
       "            </td>\n",
       "            \n",
       "            <td>\n",
       "              -0.037085\n",
       "            </td>\n",
       "            \n",
       "            <td>\n",
       "              0.020852\n",
       "            </td>\n",
       "            \n",
       "            <td>\n",
       "              \n",
       "            </td>\n",
       "            \n",
       "            <td>\n",
       "              -0.012830\n",
       "            </td>\n",
       "            \n",
       "            <td>\n",
       "              0.042764\n",
       "            </td>\n",
       "            \n",
       "            <td>\n",
       "              0.025788\n",
       "            </td>\n",
       "            \n",
       "          </tr>\n",
       "          \n",
       "          <tr>\n",
       "            \n",
       "            <td>\n",
       "              0.003379\n",
       "            </td>\n",
       "            \n",
       "            <td>\n",
       "              0.043986\n",
       "            </td>\n",
       "            \n",
       "            <td>\n",
       "              0.005649\n",
       "            </td>\n",
       "            \n",
       "            <td>\n",
       "              \n",
       "            </td>\n",
       "            \n",
       "            <td>\n",
       "              0.012123\n",
       "            </td>\n",
       "            \n",
       "            <td>\n",
       "              -0.008597\n",
       "            </td>\n",
       "            \n",
       "            <td>\n",
       "              -0.015044\n",
       "            </td>\n",
       "            \n",
       "          </tr>\n",
       "          \n",
       "          <tr>\n",
       "            \n",
       "            <td>\n",
       "              0.003053\n",
       "            </td>\n",
       "            \n",
       "            <td>\n",
       "              0.001230\n",
       "            </td>\n",
       "            \n",
       "            <td>\n",
       "              -0.003510\n",
       "            </td>\n",
       "            \n",
       "            <td>\n",
       "              \n",
       "            </td>\n",
       "            \n",
       "            <td>\n",
       "              0.051657\n",
       "            </td>\n",
       "            \n",
       "            <td>\n",
       "              -0.014330\n",
       "            </td>\n",
       "            \n",
       "            <td>\n",
       "              0.063460\n",
       "            </td>\n",
       "            \n",
       "          </tr>\n",
       "          \n",
       "          </tbody>\n",
       "        </table>\n",
       "    "
      ],
      "text/plain": [
       "R object with classes: ('data.frame',) mapped to:\n",
       "[FloatSexp..., FloatSexp..., FloatSexp..., FloatSexp..., ..., FloatSexp..., FloatSexp..., FloatSexp..., FloatSexp...]\n",
       "  20096_1-Size_of_red_wine_glass_drunk_small_125ml: <class 'rpy2.robjects.vectors.FloatVector'>\n",
       "  R object with classes: ('numeric',) mapped to:\n",
       "[-0.026255, -0.006253, -0.002729, 0.042319, ..., -0.042334, -0.025743, 0.003379, 0.003053]\n",
       "  2345-Ever_had_bowel_cancer_screening: <class 'rpy2.robjects.vectors.FloatVector'>\n",
       "  R object with classes: ('numeric',) mapped to:\n",
       "[0.006045, -0.023996, 0.051637, -0.023236, ..., 0.043547, -0.037085, 0.043986, 0.001230]\n",
       "  N49-Diagnoses_main_ICD10_N49_Inflammatory_disorders_of_male_genital_organs_not_elsewhere_classified: <class 'rpy2.robjects.vectors.FloatVector'>\n",
       "  R object with classes: ('numeric',) mapped to:\n",
       "[0.007276, 0.037932, -0.013182, 0.063016, ..., -0.009513, 0.020852, 0.005649, -0.003510]\n",
       "  100011_raw-Iron: <class 'rpy2.robjects.vectors.FloatVector'>\n",
       "  R object with classes: ('numeric',) mapped to:\n",
       "[-0.029740, -0.000018, -0.001663, -0.002628, ..., 0.013973, 0.033139, -0.049358, -0.030986]\n",
       "...\n",
       "  20003_1141150624-Treatmentmedication_code_zomig_25mg_tablet: <class 'rpy2.robjects.vectors.FloatVector'>\n",
       "  R object with classes: ('numeric',) mapped to:\n",
       "[-0.031841, -0.057865, -0.028148, 0.034195, ..., -0.011758, -0.003928, -0.040058, -0.011053]\n",
       "  S69-Diagnoses_main_ICD10_S69_Other_and_unspecified_injuries_of_wrist_and_hand: <class 'rpy2.robjects.vectors.FloatVector'>\n",
       "  R object with classes: ('numeric',) mapped to:\n",
       "[-0.011883, -0.007585, -0.048226, 0.068829, ..., -0.017770, -0.012830, 0.012123, 0.051657]\n",
       "  20024_1136-Job_code_deduced_Information_and_communication_technology_managers: <class 'rpy2.robjects.vectors.FloatVector'>\n",
       "  R object with classes: ('numeric',) mapped to:\n",
       "[0.033163, 0.003580, 0.030093, -0.023213, ..., 0.194727, 0.042764, -0.008597, -0.014330]\n",
       "  20002_1385-Noncancer_illness_code_selfreported_allergy_or_anaphylactic_reaction_to_food: <class 'rpy2.robjects.vectors.FloatVector'>\n",
       "  R object with classes: ('numeric',) mapped to:\n",
       "[0.061374, -0.025216, -0.026938, -0.089619, ..., 0.084871, 0.025788, -0.015044, 0.063460]"
      ]
     },
     "execution_count": 30,
     "metadata": {},
     "output_type": "execute_result"
    }
   ],
   "source": [
    "data_r"
   ]
  },
  {
   "cell_type": "code",
   "execution_count": 31,
   "metadata": {
    "execution": {
     "iopub.execute_input": "2021-09-17T03:37:21.872726Z",
     "iopub.status.busy": "2021-09-17T03:37:21.872344Z",
     "iopub.status.idle": "2021-09-17T03:37:24.098046Z",
     "shell.execute_reply": "2021-09-17T03:37:24.098521Z"
    },
    "papermill": {
     "duration": 2.256561,
     "end_time": "2021-09-17T03:37:24.098629",
     "exception": false,
     "start_time": "2021-09-17T03:37:21.842068",
     "status": "completed"
    },
    "tags": []
   },
   "outputs": [
    {
     "data": {
      "text/plain": [
       "<rpy2.rinterface_lib.sexp.NULLType object at 0x7f7f1608a680> [RTYPES.NILSXP]"
      ]
     },
     "execution_count": 31,
     "metadata": {},
     "output_type": "execute_result"
    }
   ],
   "source": [
    "saveRDS(data_r, str(output_rds_file))"
   ]
  },
  {
   "cell_type": "code",
   "execution_count": 32,
   "metadata": {
    "execution": {
     "iopub.execute_input": "2021-09-17T03:37:24.164795Z",
     "iopub.status.busy": "2021-09-17T03:37:24.164410Z",
     "iopub.status.idle": "2021-09-17T03:37:25.377005Z",
     "shell.execute_reply": "2021-09-17T03:37:25.380332Z"
    },
    "papermill": {
     "duration": 1.259001,
     "end_time": "2021-09-17T03:37:25.380439",
     "exception": false,
     "start_time": "2021-09-17T03:37:24.121438",
     "status": "completed"
    },
    "tags": []
   },
   "outputs": [],
   "source": [
    "# testing: load the rds file again\n",
    "data_r = readRDS(str(output_rds_file))"
   ]
  },
  {
   "cell_type": "code",
   "execution_count": 33,
   "metadata": {
    "execution": {
     "iopub.execute_input": "2021-09-17T03:37:25.433102Z",
     "iopub.status.busy": "2021-09-17T03:37:25.432712Z",
     "iopub.status.idle": "2021-09-17T03:37:25.808162Z",
     "shell.execute_reply": "2021-09-17T03:37:25.808459Z"
    },
    "papermill": {
     "duration": 0.405313,
     "end_time": "2021-09-17T03:37:25.808570",
     "exception": false,
     "start_time": "2021-09-17T03:37:25.403257",
     "status": "completed"
    },
    "tags": []
   },
   "outputs": [],
   "source": [
    "with localconverter(ro.default_converter + pandas2ri.converter):\n",
    "    data_again = ro.conversion.rpy2py(data_r)\n",
    "#     data_again.index = data_again.index.astype(int)"
   ]
  },
  {
   "cell_type": "code",
   "execution_count": 34,
   "metadata": {
    "execution": {
     "iopub.execute_input": "2021-09-17T03:37:25.860714Z",
     "iopub.status.busy": "2021-09-17T03:37:25.860334Z",
     "iopub.status.idle": "2021-09-17T03:37:25.863425Z",
     "shell.execute_reply": "2021-09-17T03:37:25.863776Z"
    },
    "papermill": {
     "duration": 0.032454,
     "end_time": "2021-09-17T03:37:25.863909",
     "exception": false,
     "start_time": "2021-09-17T03:37:25.831455",
     "status": "completed"
    },
    "tags": []
   },
   "outputs": [
    {
     "data": {
      "text/plain": [
       "(987, 4091)"
      ]
     },
     "execution_count": 34,
     "metadata": {},
     "output_type": "execute_result"
    }
   ],
   "source": [
    "data_again.shape"
   ]
  },
  {
   "cell_type": "code",
   "execution_count": 35,
   "metadata": {
    "execution": {
     "iopub.execute_input": "2021-09-17T03:37:25.916705Z",
     "iopub.status.busy": "2021-09-17T03:37:25.916325Z",
     "iopub.status.idle": "2021-09-17T03:37:25.931875Z",
     "shell.execute_reply": "2021-09-17T03:37:25.932243Z"
    },
    "papermill": {
     "duration": 0.0454,
     "end_time": "2021-09-17T03:37:25.932343",
     "exception": false,
     "start_time": "2021-09-17T03:37:25.886943",
     "status": "completed"
    },
    "tags": []
   },
   "outputs": [
    {
     "data": {
      "text/html": [
       "<div>\n",
       "<style scoped>\n",
       "    .dataframe tbody tr th:only-of-type {\n",
       "        vertical-align: middle;\n",
       "    }\n",
       "\n",
       "    .dataframe tbody tr th {\n",
       "        vertical-align: top;\n",
       "    }\n",
       "\n",
       "    .dataframe thead th {\n",
       "        text-align: right;\n",
       "    }\n",
       "</style>\n",
       "<table border=\"1\" class=\"dataframe\">\n",
       "  <thead>\n",
       "    <tr style=\"text-align: right;\">\n",
       "      <th></th>\n",
       "      <th>20096_1-Size_of_red_wine_glass_drunk_small_125ml</th>\n",
       "      <th>2345-Ever_had_bowel_cancer_screening</th>\n",
       "      <th>N49-Diagnoses_main_ICD10_N49_Inflammatory_disorders_of_male_genital_organs_not_elsewhere_classified</th>\n",
       "      <th>100011_raw-Iron</th>\n",
       "      <th>5221-Index_of_best_refractometry_result_right</th>\n",
       "      <th>20003_1141150624-Treatmentmedication_code_zomig_25mg_tablet</th>\n",
       "      <th>S69-Diagnoses_main_ICD10_S69_Other_and_unspecified_injuries_of_wrist_and_hand</th>\n",
       "      <th>20024_1136-Job_code_deduced_Information_and_communication_technology_managers</th>\n",
       "      <th>20002_1385-Noncancer_illness_code_selfreported_allergy_or_anaphylactic_reaction_to_food</th>\n",
       "      <th>G6_SLEEPAPNO-Sleep_apnoea</th>\n",
       "      <th>...</th>\n",
       "      <th>Astle_et_al_2016_Sum_basophil_neutrophil_counts</th>\n",
       "      <th>RA_OKADA_TRANS_ETHNIC</th>\n",
       "      <th>pgc.scz2</th>\n",
       "      <th>PGC_ADHD_EUR_2017</th>\n",
       "      <th>MAGIC_FastingGlucose</th>\n",
       "      <th>Astle_et_al_2016_Red_blood_cell_count</th>\n",
       "      <th>SSGAC_Depressive_Symptoms</th>\n",
       "      <th>BCAC_ER_positive_BreastCancer_EUR</th>\n",
       "      <th>IBD.EUR.Inflammatory_Bowel_Disease</th>\n",
       "      <th>Astle_et_al_2016_High_light_scatter_reticulocyte_count</th>\n",
       "    </tr>\n",
       "  </thead>\n",
       "  <tbody>\n",
       "    <tr>\n",
       "      <th>LV1</th>\n",
       "      <td>-0.026255</td>\n",
       "      <td>0.006045</td>\n",
       "      <td>0.007276</td>\n",
       "      <td>-0.029740</td>\n",
       "      <td>-0.001949</td>\n",
       "      <td>0.009288</td>\n",
       "      <td>0.006488</td>\n",
       "      <td>0.003354</td>\n",
       "      <td>-0.021751</td>\n",
       "      <td>-0.039159</td>\n",
       "      <td>...</td>\n",
       "      <td>0.036648</td>\n",
       "      <td>0.094062</td>\n",
       "      <td>0.047505</td>\n",
       "      <td>-0.035089</td>\n",
       "      <td>-0.036600</td>\n",
       "      <td>0.185595</td>\n",
       "      <td>-0.031841</td>\n",
       "      <td>-0.011883</td>\n",
       "      <td>0.033163</td>\n",
       "      <td>0.061374</td>\n",
       "    </tr>\n",
       "    <tr>\n",
       "      <th>LV2</th>\n",
       "      <td>-0.006253</td>\n",
       "      <td>-0.023996</td>\n",
       "      <td>0.037932</td>\n",
       "      <td>-0.000018</td>\n",
       "      <td>-0.016128</td>\n",
       "      <td>-0.033736</td>\n",
       "      <td>-0.017215</td>\n",
       "      <td>-0.004558</td>\n",
       "      <td>0.079234</td>\n",
       "      <td>-0.040277</td>\n",
       "      <td>...</td>\n",
       "      <td>0.085747</td>\n",
       "      <td>-0.064254</td>\n",
       "      <td>0.022124</td>\n",
       "      <td>-0.008441</td>\n",
       "      <td>-0.049594</td>\n",
       "      <td>0.074838</td>\n",
       "      <td>-0.057865</td>\n",
       "      <td>-0.007585</td>\n",
       "      <td>0.003580</td>\n",
       "      <td>-0.025216</td>\n",
       "    </tr>\n",
       "    <tr>\n",
       "      <th>LV3</th>\n",
       "      <td>-0.002729</td>\n",
       "      <td>0.051637</td>\n",
       "      <td>-0.013182</td>\n",
       "      <td>-0.001663</td>\n",
       "      <td>0.035221</td>\n",
       "      <td>-0.016019</td>\n",
       "      <td>0.000484</td>\n",
       "      <td>-0.046965</td>\n",
       "      <td>-0.000498</td>\n",
       "      <td>-0.041794</td>\n",
       "      <td>...</td>\n",
       "      <td>0.068618</td>\n",
       "      <td>-0.034395</td>\n",
       "      <td>0.145881</td>\n",
       "      <td>0.031539</td>\n",
       "      <td>-0.031740</td>\n",
       "      <td>0.015501</td>\n",
       "      <td>-0.028148</td>\n",
       "      <td>-0.048226</td>\n",
       "      <td>0.030093</td>\n",
       "      <td>-0.026938</td>\n",
       "    </tr>\n",
       "    <tr>\n",
       "      <th>LV4</th>\n",
       "      <td>0.042319</td>\n",
       "      <td>-0.023236</td>\n",
       "      <td>0.063016</td>\n",
       "      <td>-0.002628</td>\n",
       "      <td>-0.046487</td>\n",
       "      <td>0.018004</td>\n",
       "      <td>-0.029841</td>\n",
       "      <td>-0.023949</td>\n",
       "      <td>-0.026485</td>\n",
       "      <td>0.022759</td>\n",
       "      <td>...</td>\n",
       "      <td>-0.070986</td>\n",
       "      <td>-0.028960</td>\n",
       "      <td>0.015369</td>\n",
       "      <td>0.051671</td>\n",
       "      <td>0.014078</td>\n",
       "      <td>-0.147863</td>\n",
       "      <td>0.034195</td>\n",
       "      <td>0.068829</td>\n",
       "      <td>-0.023213</td>\n",
       "      <td>-0.089619</td>\n",
       "    </tr>\n",
       "    <tr>\n",
       "      <th>LV5</th>\n",
       "      <td>-0.025975</td>\n",
       "      <td>0.002167</td>\n",
       "      <td>-0.022646</td>\n",
       "      <td>0.004559</td>\n",
       "      <td>0.004649</td>\n",
       "      <td>0.028440</td>\n",
       "      <td>-0.024379</td>\n",
       "      <td>-0.028536</td>\n",
       "      <td>0.019263</td>\n",
       "      <td>-0.026291</td>\n",
       "      <td>...</td>\n",
       "      <td>0.008842</td>\n",
       "      <td>-0.000932</td>\n",
       "      <td>0.004195</td>\n",
       "      <td>0.029759</td>\n",
       "      <td>-0.043760</td>\n",
       "      <td>0.057031</td>\n",
       "      <td>-0.002836</td>\n",
       "      <td>-0.046215</td>\n",
       "      <td>0.099309</td>\n",
       "      <td>0.075663</td>\n",
       "    </tr>\n",
       "  </tbody>\n",
       "</table>\n",
       "<p>5 rows × 4091 columns</p>\n",
       "</div>"
      ],
      "text/plain": [
       "     20096_1-Size_of_red_wine_glass_drunk_small_125ml  \\\n",
       "LV1                                         -0.026255   \n",
       "LV2                                         -0.006253   \n",
       "LV3                                         -0.002729   \n",
       "LV4                                          0.042319   \n",
       "LV5                                         -0.025975   \n",
       "\n",
       "     2345-Ever_had_bowel_cancer_screening  \\\n",
       "LV1                              0.006045   \n",
       "LV2                             -0.023996   \n",
       "LV3                              0.051637   \n",
       "LV4                             -0.023236   \n",
       "LV5                              0.002167   \n",
       "\n",
       "     N49-Diagnoses_main_ICD10_N49_Inflammatory_disorders_of_male_genital_organs_not_elsewhere_classified  \\\n",
       "LV1                                           0.007276                                                     \n",
       "LV2                                           0.037932                                                     \n",
       "LV3                                          -0.013182                                                     \n",
       "LV4                                           0.063016                                                     \n",
       "LV5                                          -0.022646                                                     \n",
       "\n",
       "     100011_raw-Iron  5221-Index_of_best_refractometry_result_right  \\\n",
       "LV1        -0.029740                                      -0.001949   \n",
       "LV2        -0.000018                                      -0.016128   \n",
       "LV3        -0.001663                                       0.035221   \n",
       "LV4        -0.002628                                      -0.046487   \n",
       "LV5         0.004559                                       0.004649   \n",
       "\n",
       "     20003_1141150624-Treatmentmedication_code_zomig_25mg_tablet  \\\n",
       "LV1                                           0.009288             \n",
       "LV2                                          -0.033736             \n",
       "LV3                                          -0.016019             \n",
       "LV4                                           0.018004             \n",
       "LV5                                           0.028440             \n",
       "\n",
       "     S69-Diagnoses_main_ICD10_S69_Other_and_unspecified_injuries_of_wrist_and_hand  \\\n",
       "LV1                                           0.006488                               \n",
       "LV2                                          -0.017215                               \n",
       "LV3                                           0.000484                               \n",
       "LV4                                          -0.029841                               \n",
       "LV5                                          -0.024379                               \n",
       "\n",
       "     20024_1136-Job_code_deduced_Information_and_communication_technology_managers  \\\n",
       "LV1                                           0.003354                               \n",
       "LV2                                          -0.004558                               \n",
       "LV3                                          -0.046965                               \n",
       "LV4                                          -0.023949                               \n",
       "LV5                                          -0.028536                               \n",
       "\n",
       "     20002_1385-Noncancer_illness_code_selfreported_allergy_or_anaphylactic_reaction_to_food  \\\n",
       "LV1                                          -0.021751                                         \n",
       "LV2                                           0.079234                                         \n",
       "LV3                                          -0.000498                                         \n",
       "LV4                                          -0.026485                                         \n",
       "LV5                                           0.019263                                         \n",
       "\n",
       "     G6_SLEEPAPNO-Sleep_apnoea  ...  \\\n",
       "LV1                  -0.039159  ...   \n",
       "LV2                  -0.040277  ...   \n",
       "LV3                  -0.041794  ...   \n",
       "LV4                   0.022759  ...   \n",
       "LV5                  -0.026291  ...   \n",
       "\n",
       "     Astle_et_al_2016_Sum_basophil_neutrophil_counts  RA_OKADA_TRANS_ETHNIC  \\\n",
       "LV1                                         0.036648               0.094062   \n",
       "LV2                                         0.085747              -0.064254   \n",
       "LV3                                         0.068618              -0.034395   \n",
       "LV4                                        -0.070986              -0.028960   \n",
       "LV5                                         0.008842              -0.000932   \n",
       "\n",
       "     pgc.scz2  PGC_ADHD_EUR_2017  MAGIC_FastingGlucose  \\\n",
       "LV1  0.047505          -0.035089             -0.036600   \n",
       "LV2  0.022124          -0.008441             -0.049594   \n",
       "LV3  0.145881           0.031539             -0.031740   \n",
       "LV4  0.015369           0.051671              0.014078   \n",
       "LV5  0.004195           0.029759             -0.043760   \n",
       "\n",
       "     Astle_et_al_2016_Red_blood_cell_count  SSGAC_Depressive_Symptoms  \\\n",
       "LV1                               0.185595                  -0.031841   \n",
       "LV2                               0.074838                  -0.057865   \n",
       "LV3                               0.015501                  -0.028148   \n",
       "LV4                              -0.147863                   0.034195   \n",
       "LV5                               0.057031                  -0.002836   \n",
       "\n",
       "     BCAC_ER_positive_BreastCancer_EUR  IBD.EUR.Inflammatory_Bowel_Disease  \\\n",
       "LV1                          -0.011883                            0.033163   \n",
       "LV2                          -0.007585                            0.003580   \n",
       "LV3                          -0.048226                            0.030093   \n",
       "LV4                           0.068829                           -0.023213   \n",
       "LV5                          -0.046215                            0.099309   \n",
       "\n",
       "     Astle_et_al_2016_High_light_scatter_reticulocyte_count  \n",
       "LV1                                           0.061374       \n",
       "LV2                                          -0.025216       \n",
       "LV3                                          -0.026938       \n",
       "LV4                                          -0.089619       \n",
       "LV5                                           0.075663       \n",
       "\n",
       "[5 rows x 4091 columns]"
      ]
     },
     "execution_count": 35,
     "metadata": {},
     "output_type": "execute_result"
    }
   ],
   "source": [
    "data_again.head()"
   ]
  },
  {
   "cell_type": "code",
   "execution_count": 36,
   "metadata": {
    "execution": {
     "iopub.execute_input": "2021-09-17T03:37:25.988757Z",
     "iopub.status.busy": "2021-09-17T03:37:25.988365Z",
     "iopub.status.idle": "2021-09-17T03:37:27.070611Z",
     "shell.execute_reply": "2021-09-17T03:37:27.070918Z"
    },
    "papermill": {
     "duration": 1.115251,
     "end_time": "2021-09-17T03:37:27.071026",
     "exception": false,
     "start_time": "2021-09-17T03:37:25.955775",
     "status": "completed"
    },
    "tags": []
   },
   "outputs": [],
   "source": [
    "pd.testing.assert_frame_equal(\n",
    "    smultixcan_into_multiplier,\n",
    "    data_again,\n",
    "    check_names=False,\n",
    "    check_exact=True,\n",
    "    #     rtol=0.0,\n",
    "    #     atol=1e-50,\n",
    "    #     check_dtype=False,\n",
    ")"
   ]
  },
  {
   "cell_type": "markdown",
   "metadata": {
    "papermill": {
     "duration": 0.023415,
     "end_time": "2021-09-17T03:37:27.118873",
     "exception": false,
     "start_time": "2021-09-17T03:37:27.095458",
     "status": "completed"
    },
    "tags": []
   },
   "source": [
    "## Text format"
   ]
  },
  {
   "cell_type": "code",
   "execution_count": 37,
   "metadata": {
    "execution": {
     "iopub.execute_input": "2021-09-17T03:37:27.172706Z",
     "iopub.status.busy": "2021-09-17T03:37:27.172318Z",
     "iopub.status.idle": "2021-09-17T03:37:27.174984Z",
     "shell.execute_reply": "2021-09-17T03:37:27.175337Z"
    },
    "papermill": {
     "duration": 0.033166,
     "end_time": "2021-09-17T03:37:27.175438",
     "exception": false,
     "start_time": "2021-09-17T03:37:27.142272",
     "status": "completed"
    },
    "tags": []
   },
   "outputs": [
    {
     "data": {
      "text/plain": [
       "PosixPath('/home/miltondp/projects/labs/greenelab/phenoplier/base/results/projections/projection-smultixcan-mashr-zscores.tsv.gz')"
      ]
     },
     "metadata": {},
     "output_type": "display_data"
    }
   ],
   "source": [
    "# tsv format\n",
    "output_text_file = output_file.with_suffix(\".tsv.gz\")\n",
    "display(output_text_file)"
   ]
  },
  {
   "cell_type": "code",
   "execution_count": 38,
   "metadata": {
    "execution": {
     "iopub.execute_input": "2021-09-17T03:37:27.235349Z",
     "iopub.status.busy": "2021-09-17T03:37:27.234961Z",
     "iopub.status.idle": "2021-09-17T03:37:53.245520Z",
     "shell.execute_reply": "2021-09-17T03:37:53.245197Z"
    },
    "papermill": {
     "duration": 26.046269,
     "end_time": "2021-09-17T03:37:53.245608",
     "exception": false,
     "start_time": "2021-09-17T03:37:27.199339",
     "status": "completed"
    },
    "tags": []
   },
   "outputs": [],
   "source": [
    "smultixcan_into_multiplier.to_csv(\n",
    "    output_text_file, sep=\"\\t\", index=True, float_format=\"%.5e\"\n",
    ")"
   ]
  },
  {
   "cell_type": "code",
   "execution_count": 39,
   "metadata": {
    "execution": {
     "iopub.execute_input": "2021-09-17T03:37:53.301289Z",
     "iopub.status.busy": "2021-09-17T03:37:53.300904Z",
     "iopub.status.idle": "2021-09-17T03:37:54.535100Z",
     "shell.execute_reply": "2021-09-17T03:37:54.534775Z"
    },
    "papermill": {
     "duration": 1.265492,
     "end_time": "2021-09-17T03:37:54.535191",
     "exception": false,
     "start_time": "2021-09-17T03:37:53.269699",
     "status": "completed"
    },
    "tags": []
   },
   "outputs": [],
   "source": [
    "# testing\n",
    "# data2 = data.copy()\n",
    "# data2.index = list(range(0, data2.shape[0]))\n",
    "\n",
    "data_again = pd.read_csv(output_text_file, sep=\"\\t\", index_col=0)\n",
    "\n",
    "# data_again.index = list(data_again.index)\n",
    "# data_again[\"part_k\"] = data_again[\"part_k\"].astype(float)"
   ]
  },
  {
   "cell_type": "code",
   "execution_count": 40,
   "metadata": {
    "execution": {
     "iopub.execute_input": "2021-09-17T03:37:54.591902Z",
     "iopub.status.busy": "2021-09-17T03:37:54.591500Z",
     "iopub.status.idle": "2021-09-17T03:37:54.593830Z",
     "shell.execute_reply": "2021-09-17T03:37:54.594118Z"
    },
    "papermill": {
     "duration": 0.034824,
     "end_time": "2021-09-17T03:37:54.594224",
     "exception": false,
     "start_time": "2021-09-17T03:37:54.559400",
     "status": "completed"
    },
    "tags": []
   },
   "outputs": [
    {
     "data": {
      "text/plain": [
       "(987, 4091)"
      ]
     },
     "execution_count": 40,
     "metadata": {},
     "output_type": "execute_result"
    }
   ],
   "source": [
    "data_again.shape"
   ]
  },
  {
   "cell_type": "code",
   "execution_count": 41,
   "metadata": {
    "execution": {
     "iopub.execute_input": "2021-09-17T03:37:54.656103Z",
     "iopub.status.busy": "2021-09-17T03:37:54.655716Z",
     "iopub.status.idle": "2021-09-17T03:37:54.666621Z",
     "shell.execute_reply": "2021-09-17T03:37:54.667112Z"
    },
    "papermill": {
     "duration": 0.048758,
     "end_time": "2021-09-17T03:37:54.667220",
     "exception": false,
     "start_time": "2021-09-17T03:37:54.618462",
     "status": "completed"
    },
    "tags": []
   },
   "outputs": [
    {
     "data": {
      "text/html": [
       "<div>\n",
       "<style scoped>\n",
       "    .dataframe tbody tr th:only-of-type {\n",
       "        vertical-align: middle;\n",
       "    }\n",
       "\n",
       "    .dataframe tbody tr th {\n",
       "        vertical-align: top;\n",
       "    }\n",
       "\n",
       "    .dataframe thead th {\n",
       "        text-align: right;\n",
       "    }\n",
       "</style>\n",
       "<table border=\"1\" class=\"dataframe\">\n",
       "  <thead>\n",
       "    <tr style=\"text-align: right;\">\n",
       "      <th></th>\n",
       "      <th>20096_1-Size_of_red_wine_glass_drunk_small_125ml</th>\n",
       "      <th>2345-Ever_had_bowel_cancer_screening</th>\n",
       "      <th>N49-Diagnoses_main_ICD10_N49_Inflammatory_disorders_of_male_genital_organs_not_elsewhere_classified</th>\n",
       "      <th>100011_raw-Iron</th>\n",
       "      <th>5221-Index_of_best_refractometry_result_right</th>\n",
       "      <th>20003_1141150624-Treatmentmedication_code_zomig_25mg_tablet</th>\n",
       "      <th>S69-Diagnoses_main_ICD10_S69_Other_and_unspecified_injuries_of_wrist_and_hand</th>\n",
       "      <th>20024_1136-Job_code_deduced_Information_and_communication_technology_managers</th>\n",
       "      <th>20002_1385-Noncancer_illness_code_selfreported_allergy_or_anaphylactic_reaction_to_food</th>\n",
       "      <th>G6_SLEEPAPNO-Sleep_apnoea</th>\n",
       "      <th>...</th>\n",
       "      <th>Astle_et_al_2016_Sum_basophil_neutrophil_counts</th>\n",
       "      <th>RA_OKADA_TRANS_ETHNIC</th>\n",
       "      <th>pgc.scz2</th>\n",
       "      <th>PGC_ADHD_EUR_2017</th>\n",
       "      <th>MAGIC_FastingGlucose</th>\n",
       "      <th>Astle_et_al_2016_Red_blood_cell_count</th>\n",
       "      <th>SSGAC_Depressive_Symptoms</th>\n",
       "      <th>BCAC_ER_positive_BreastCancer_EUR</th>\n",
       "      <th>IBD.EUR.Inflammatory_Bowel_Disease</th>\n",
       "      <th>Astle_et_al_2016_High_light_scatter_reticulocyte_count</th>\n",
       "    </tr>\n",
       "  </thead>\n",
       "  <tbody>\n",
       "    <tr>\n",
       "      <th>LV1</th>\n",
       "      <td>-0.026255</td>\n",
       "      <td>0.006045</td>\n",
       "      <td>0.007276</td>\n",
       "      <td>-0.029740</td>\n",
       "      <td>-0.001949</td>\n",
       "      <td>0.009288</td>\n",
       "      <td>0.006488</td>\n",
       "      <td>0.003354</td>\n",
       "      <td>-0.021751</td>\n",
       "      <td>-0.039159</td>\n",
       "      <td>...</td>\n",
       "      <td>0.036648</td>\n",
       "      <td>0.094062</td>\n",
       "      <td>0.047505</td>\n",
       "      <td>-0.035089</td>\n",
       "      <td>-0.036600</td>\n",
       "      <td>0.185595</td>\n",
       "      <td>-0.031841</td>\n",
       "      <td>-0.011883</td>\n",
       "      <td>0.033163</td>\n",
       "      <td>0.061374</td>\n",
       "    </tr>\n",
       "    <tr>\n",
       "      <th>LV2</th>\n",
       "      <td>-0.006253</td>\n",
       "      <td>-0.023996</td>\n",
       "      <td>0.037932</td>\n",
       "      <td>-0.000018</td>\n",
       "      <td>-0.016128</td>\n",
       "      <td>-0.033736</td>\n",
       "      <td>-0.017215</td>\n",
       "      <td>-0.004558</td>\n",
       "      <td>0.079234</td>\n",
       "      <td>-0.040277</td>\n",
       "      <td>...</td>\n",
       "      <td>0.085747</td>\n",
       "      <td>-0.064254</td>\n",
       "      <td>0.022124</td>\n",
       "      <td>-0.008441</td>\n",
       "      <td>-0.049594</td>\n",
       "      <td>0.074838</td>\n",
       "      <td>-0.057865</td>\n",
       "      <td>-0.007585</td>\n",
       "      <td>0.003580</td>\n",
       "      <td>-0.025216</td>\n",
       "    </tr>\n",
       "    <tr>\n",
       "      <th>LV3</th>\n",
       "      <td>-0.002729</td>\n",
       "      <td>0.051638</td>\n",
       "      <td>-0.013182</td>\n",
       "      <td>-0.001663</td>\n",
       "      <td>0.035221</td>\n",
       "      <td>-0.016019</td>\n",
       "      <td>0.000484</td>\n",
       "      <td>-0.046965</td>\n",
       "      <td>-0.000498</td>\n",
       "      <td>-0.041794</td>\n",
       "      <td>...</td>\n",
       "      <td>0.068618</td>\n",
       "      <td>-0.034395</td>\n",
       "      <td>0.145881</td>\n",
       "      <td>0.031539</td>\n",
       "      <td>-0.031740</td>\n",
       "      <td>0.015501</td>\n",
       "      <td>-0.028148</td>\n",
       "      <td>-0.048226</td>\n",
       "      <td>0.030093</td>\n",
       "      <td>-0.026938</td>\n",
       "    </tr>\n",
       "    <tr>\n",
       "      <th>LV4</th>\n",
       "      <td>0.042319</td>\n",
       "      <td>-0.023237</td>\n",
       "      <td>0.063016</td>\n",
       "      <td>-0.002628</td>\n",
       "      <td>-0.046487</td>\n",
       "      <td>0.018004</td>\n",
       "      <td>-0.029841</td>\n",
       "      <td>-0.023949</td>\n",
       "      <td>-0.026485</td>\n",
       "      <td>0.022759</td>\n",
       "      <td>...</td>\n",
       "      <td>-0.070986</td>\n",
       "      <td>-0.028960</td>\n",
       "      <td>0.015369</td>\n",
       "      <td>0.051671</td>\n",
       "      <td>0.014078</td>\n",
       "      <td>-0.147863</td>\n",
       "      <td>0.034195</td>\n",
       "      <td>0.068829</td>\n",
       "      <td>-0.023213</td>\n",
       "      <td>-0.089619</td>\n",
       "    </tr>\n",
       "    <tr>\n",
       "      <th>LV5</th>\n",
       "      <td>-0.025975</td>\n",
       "      <td>0.002167</td>\n",
       "      <td>-0.022646</td>\n",
       "      <td>0.004559</td>\n",
       "      <td>0.004649</td>\n",
       "      <td>0.028440</td>\n",
       "      <td>-0.024379</td>\n",
       "      <td>-0.028536</td>\n",
       "      <td>0.019263</td>\n",
       "      <td>-0.026291</td>\n",
       "      <td>...</td>\n",
       "      <td>0.008842</td>\n",
       "      <td>-0.000932</td>\n",
       "      <td>0.004195</td>\n",
       "      <td>0.029759</td>\n",
       "      <td>-0.043760</td>\n",
       "      <td>0.057031</td>\n",
       "      <td>-0.002836</td>\n",
       "      <td>-0.046215</td>\n",
       "      <td>0.099309</td>\n",
       "      <td>0.075663</td>\n",
       "    </tr>\n",
       "  </tbody>\n",
       "</table>\n",
       "<p>5 rows × 4091 columns</p>\n",
       "</div>"
      ],
      "text/plain": [
       "     20096_1-Size_of_red_wine_glass_drunk_small_125ml  \\\n",
       "LV1                                         -0.026255   \n",
       "LV2                                         -0.006253   \n",
       "LV3                                         -0.002729   \n",
       "LV4                                          0.042319   \n",
       "LV5                                         -0.025975   \n",
       "\n",
       "     2345-Ever_had_bowel_cancer_screening  \\\n",
       "LV1                              0.006045   \n",
       "LV2                             -0.023996   \n",
       "LV3                              0.051638   \n",
       "LV4                             -0.023237   \n",
       "LV5                              0.002167   \n",
       "\n",
       "     N49-Diagnoses_main_ICD10_N49_Inflammatory_disorders_of_male_genital_organs_not_elsewhere_classified  \\\n",
       "LV1                                           0.007276                                                     \n",
       "LV2                                           0.037932                                                     \n",
       "LV3                                          -0.013182                                                     \n",
       "LV4                                           0.063016                                                     \n",
       "LV5                                          -0.022646                                                     \n",
       "\n",
       "     100011_raw-Iron  5221-Index_of_best_refractometry_result_right  \\\n",
       "LV1        -0.029740                                      -0.001949   \n",
       "LV2        -0.000018                                      -0.016128   \n",
       "LV3        -0.001663                                       0.035221   \n",
       "LV4        -0.002628                                      -0.046487   \n",
       "LV5         0.004559                                       0.004649   \n",
       "\n",
       "     20003_1141150624-Treatmentmedication_code_zomig_25mg_tablet  \\\n",
       "LV1                                           0.009288             \n",
       "LV2                                          -0.033736             \n",
       "LV3                                          -0.016019             \n",
       "LV4                                           0.018004             \n",
       "LV5                                           0.028440             \n",
       "\n",
       "     S69-Diagnoses_main_ICD10_S69_Other_and_unspecified_injuries_of_wrist_and_hand  \\\n",
       "LV1                                           0.006488                               \n",
       "LV2                                          -0.017215                               \n",
       "LV3                                           0.000484                               \n",
       "LV4                                          -0.029841                               \n",
       "LV5                                          -0.024379                               \n",
       "\n",
       "     20024_1136-Job_code_deduced_Information_and_communication_technology_managers  \\\n",
       "LV1                                           0.003354                               \n",
       "LV2                                          -0.004558                               \n",
       "LV3                                          -0.046965                               \n",
       "LV4                                          -0.023949                               \n",
       "LV5                                          -0.028536                               \n",
       "\n",
       "     20002_1385-Noncancer_illness_code_selfreported_allergy_or_anaphylactic_reaction_to_food  \\\n",
       "LV1                                          -0.021751                                         \n",
       "LV2                                           0.079234                                         \n",
       "LV3                                          -0.000498                                         \n",
       "LV4                                          -0.026485                                         \n",
       "LV5                                           0.019263                                         \n",
       "\n",
       "     G6_SLEEPAPNO-Sleep_apnoea  ...  \\\n",
       "LV1                  -0.039159  ...   \n",
       "LV2                  -0.040277  ...   \n",
       "LV3                  -0.041794  ...   \n",
       "LV4                   0.022759  ...   \n",
       "LV5                  -0.026291  ...   \n",
       "\n",
       "     Astle_et_al_2016_Sum_basophil_neutrophil_counts  RA_OKADA_TRANS_ETHNIC  \\\n",
       "LV1                                         0.036648               0.094062   \n",
       "LV2                                         0.085747              -0.064254   \n",
       "LV3                                         0.068618              -0.034395   \n",
       "LV4                                        -0.070986              -0.028960   \n",
       "LV5                                         0.008842              -0.000932   \n",
       "\n",
       "     pgc.scz2  PGC_ADHD_EUR_2017  MAGIC_FastingGlucose  \\\n",
       "LV1  0.047505          -0.035089             -0.036600   \n",
       "LV2  0.022124          -0.008441             -0.049594   \n",
       "LV3  0.145881           0.031539             -0.031740   \n",
       "LV4  0.015369           0.051671              0.014078   \n",
       "LV5  0.004195           0.029759             -0.043760   \n",
       "\n",
       "     Astle_et_al_2016_Red_blood_cell_count  SSGAC_Depressive_Symptoms  \\\n",
       "LV1                               0.185595                  -0.031841   \n",
       "LV2                               0.074838                  -0.057865   \n",
       "LV3                               0.015501                  -0.028148   \n",
       "LV4                              -0.147863                   0.034195   \n",
       "LV5                               0.057031                  -0.002836   \n",
       "\n",
       "     BCAC_ER_positive_BreastCancer_EUR  IBD.EUR.Inflammatory_Bowel_Disease  \\\n",
       "LV1                          -0.011883                            0.033163   \n",
       "LV2                          -0.007585                            0.003580   \n",
       "LV3                          -0.048226                            0.030093   \n",
       "LV4                           0.068829                           -0.023213   \n",
       "LV5                          -0.046215                            0.099309   \n",
       "\n",
       "     Astle_et_al_2016_High_light_scatter_reticulocyte_count  \n",
       "LV1                                           0.061374       \n",
       "LV2                                          -0.025216       \n",
       "LV3                                          -0.026938       \n",
       "LV4                                          -0.089619       \n",
       "LV5                                           0.075663       \n",
       "\n",
       "[5 rows x 4091 columns]"
      ]
     },
     "execution_count": 41,
     "metadata": {},
     "output_type": "execute_result"
    }
   ],
   "source": [
    "data_again.head()"
   ]
  },
  {
   "cell_type": "code",
   "execution_count": 42,
   "metadata": {
    "execution": {
     "iopub.execute_input": "2021-09-17T03:37:54.730167Z",
     "iopub.status.busy": "2021-09-17T03:37:54.729789Z",
     "iopub.status.idle": "2021-09-17T03:40:50.463995Z",
     "shell.execute_reply": "2021-09-17T03:40:50.463657Z"
    },
    "papermill": {
     "duration": 175.771637,
     "end_time": "2021-09-17T03:40:50.464084",
     "exception": false,
     "start_time": "2021-09-17T03:37:54.692447",
     "status": "completed"
    },
    "tags": []
   },
   "outputs": [],
   "source": [
    "pd.testing.assert_frame_equal(\n",
    "    smultixcan_into_multiplier,\n",
    "    data_again,\n",
    "    check_exact=False,\n",
    "    rtol=0.0,\n",
    "    atol=5e-5,\n",
    ")"
   ]
  },
  {
   "cell_type": "code",
   "execution_count": null,
   "metadata": {
    "papermill": {
     "duration": 0.913706,
     "end_time": "2021-09-17T03:40:51.403008",
     "exception": false,
     "start_time": "2021-09-17T03:40:50.489302",
     "status": "completed"
    },
    "tags": []
   },
   "outputs": [],
   "source": []
  }
 ],
 "metadata": {
  "jupytext": {
   "cell_metadata_filter": "all,-execution,-papermill,-trusted",
   "formats": "ipynb,py//py:percent"
  },
  "kernelspec": {
   "display_name": "Python 3",
   "language": "python",
   "name": "python3"
  },
  "language_info": {
   "codemirror_mode": {
    "name": "ipython",
    "version": 3
   },
   "file_extension": ".py",
   "mimetype": "text/x-python",
   "name": "python",
   "nbconvert_exporter": "python",
   "pygments_lexer": "ipython3",
   "version": "3.8.8"
  },
  "papermill": {
   "default_parameters": {},
   "duration": 231.313685,
   "end_time": "2021-09-17T03:40:52.879879",
   "environment_variables": {},
   "exception": null,
   "input_path": "05_projections/010-multiplier-phenomexcan.ipynb",
   "output_path": "05_projections/010-multiplier-phenomexcan.run.ipynb",
   "parameters": {},
   "start_time": "2021-09-17T03:37:01.566194",
   "version": "2.2.2"
  },
  "toc-autonumbering": true
 },
 "nbformat": 4,
 "nbformat_minor": 4
}
