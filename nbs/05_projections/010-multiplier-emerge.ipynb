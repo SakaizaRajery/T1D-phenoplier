{
 "cells": [
  {
   "cell_type": "markdown",
   "metadata": {
    "papermill": {
     "duration": 0.045288,
     "end_time": "2021-01-12T05:37:03.559146",
     "exception": false,
     "start_time": "2021-01-12T05:37:03.513858",
     "status": "completed"
    },
    "tags": []
   },
   "source": [
    "# Description"
   ]
  },
  {
   "cell_type": "markdown",
   "metadata": {
    "papermill": {
     "duration": 0.011982,
     "end_time": "2021-01-12T05:37:03.586706",
     "exception": false,
     "start_time": "2021-01-12T05:37:03.574724",
     "status": "completed"
    },
    "tags": []
   },
   "source": [
    "It projects eMERGE S-MultiXcan results into the MultiPLIER latent space."
   ]
  },
  {
   "cell_type": "markdown",
   "metadata": {
    "papermill": {
     "duration": 0.01194,
     "end_time": "2021-01-12T05:37:03.611391",
     "exception": false,
     "start_time": "2021-01-12T05:37:03.599451",
     "status": "completed"
    },
    "tags": []
   },
   "source": [
    "# Modules loading"
   ]
  },
  {
   "cell_type": "code",
   "execution_count": 1,
   "metadata": {
    "papermill": {
     "duration": 0.023421,
     "end_time": "2021-01-12T05:37:03.646913",
     "exception": false,
     "start_time": "2021-01-12T05:37:03.623492",
     "status": "completed"
    },
    "tags": []
   },
   "outputs": [],
   "source": [
    "%load_ext autoreload\n",
    "%autoreload 2"
   ]
  },
  {
   "cell_type": "code",
   "execution_count": 2,
   "metadata": {
    "papermill": {
     "duration": 0.195433,
     "end_time": "2021-01-12T05:37:03.855056",
     "exception": false,
     "start_time": "2021-01-12T05:37:03.659623",
     "status": "completed"
    },
    "tags": []
   },
   "outputs": [],
   "source": [
    "from pathlib import Path\n",
    "\n",
    "from IPython.display import display\n",
    "import pandas as pd\n",
    "\n",
    "import conf\n",
    "from data.cache import read_data\n",
    "from multiplier import MultiplierProjection\n",
    "from entity import Gene"
   ]
  },
  {
   "cell_type": "markdown",
   "metadata": {
    "papermill": {
     "duration": 0.013243,
     "end_time": "2021-01-12T05:37:03.882413",
     "exception": false,
     "start_time": "2021-01-12T05:37:03.869170",
     "status": "completed"
    },
    "tags": []
   },
   "source": [
    "# Settings"
   ]
  },
  {
   "cell_type": "code",
   "execution_count": 3,
   "metadata": {
    "papermill": {
     "duration": 0.023051,
     "end_time": "2021-01-12T05:37:03.957400",
     "exception": false,
     "start_time": "2021-01-12T05:37:03.934349",
     "status": "completed"
    },
    "tags": []
   },
   "outputs": [
    {
     "data": {
      "text/plain": [
       "PosixPath('/home/miltondp/projects/labs/greenelab/phenoplier/base/results/projections')"
      ]
     },
     "metadata": {},
     "output_type": "display_data"
    }
   ],
   "source": [
    "RESULTS_PROJ_OUTPUT_DIR = Path(conf.RESULTS[\"PROJECTIONS_DIR\"])\n",
    "\n",
    "RESULTS_PROJ_OUTPUT_DIR.mkdir(parents=True, exist_ok=True)\n",
    "\n",
    "display(RESULTS_PROJ_OUTPUT_DIR)"
   ]
  },
  {
   "cell_type": "markdown",
   "metadata": {
    "papermill": {
     "duration": 0.012936,
     "end_time": "2021-01-12T05:37:04.057618",
     "exception": false,
     "start_time": "2021-01-12T05:37:04.044682",
     "status": "completed"
    },
    "tags": []
   },
   "source": [
    "# Load eMERGE data (S-MultiXcan)"
   ]
  },
  {
   "cell_type": "code",
   "execution_count": 4,
   "metadata": {
    "papermill": {
     "duration": 0.022999,
     "end_time": "2021-01-12T05:37:04.093315",
     "exception": false,
     "start_time": "2021-01-12T05:37:04.070316",
     "status": "completed"
    },
    "tags": []
   },
   "outputs": [
    {
     "data": {
      "text/plain": [
       "PosixPath('/home/miltondp/projects/labs/greenelab/phenoplier/base/data/emerge/gene_assoc/emerge-smultixcan-mashr-zscores.pkl')"
      ]
     },
     "metadata": {},
     "output_type": "display_data"
    }
   ],
   "source": [
    "smultixcan_results_filename = conf.EMERGE[\"SMULTIXCAN_MASHR_ZSCORES_FILE\"]\n",
    "\n",
    "display(smultixcan_results_filename)"
   ]
  },
  {
   "cell_type": "code",
   "execution_count": 5,
   "metadata": {
    "papermill": {
     "duration": 0.02297,
     "end_time": "2021-01-12T05:37:04.129586",
     "exception": false,
     "start_time": "2021-01-12T05:37:04.106616",
     "status": "completed"
    },
    "tags": []
   },
   "outputs": [
    {
     "data": {
      "text/plain": [
       "'emerge-smultixcan-mashr-zscores'"
      ]
     },
     "metadata": {},
     "output_type": "display_data"
    }
   ],
   "source": [
    "results_filename_stem = smultixcan_results_filename.stem\n",
    "display(results_filename_stem)"
   ]
  },
  {
   "cell_type": "code",
   "execution_count": 6,
   "metadata": {
    "papermill": {
     "duration": 0.281228,
     "end_time": "2021-01-12T05:37:04.424377",
     "exception": false,
     "start_time": "2021-01-12T05:37:04.143149",
     "status": "completed"
    },
    "tags": []
   },
   "outputs": [],
   "source": [
    "smultixcan_results = pd.read_pickle(smultixcan_results_filename)"
   ]
  },
  {
   "cell_type": "code",
   "execution_count": 7,
   "metadata": {
    "papermill": {
     "duration": 0.024642,
     "end_time": "2021-01-12T05:37:04.465266",
     "exception": false,
     "start_time": "2021-01-12T05:37:04.440624",
     "status": "completed"
    },
    "tags": []
   },
   "outputs": [
    {
     "data": {
      "text/plain": [
       "(22198, 309)"
      ]
     },
     "execution_count": 7,
     "metadata": {},
     "output_type": "execute_result"
    }
   ],
   "source": [
    "smultixcan_results.shape"
   ]
  },
  {
   "cell_type": "code",
   "execution_count": 8,
   "metadata": {
    "papermill": {
     "duration": 0.036898,
     "end_time": "2021-01-12T05:37:04.516361",
     "exception": false,
     "start_time": "2021-01-12T05:37:04.479463",
     "status": "completed"
    },
    "tags": []
   },
   "outputs": [
    {
     "data": {
      "text/html": [
       "<div>\n",
       "<style scoped>\n",
       "    .dataframe tbody tr th:only-of-type {\n",
       "        vertical-align: middle;\n",
       "    }\n",
       "\n",
       "    .dataframe tbody tr th {\n",
       "        vertical-align: top;\n",
       "    }\n",
       "\n",
       "    .dataframe thead th {\n",
       "        text-align: right;\n",
       "    }\n",
       "</style>\n",
       "<table border=\"1\" class=\"dataframe\">\n",
       "  <thead>\n",
       "    <tr style=\"text-align: right;\">\n",
       "      <th></th>\n",
       "      <th>292.3</th>\n",
       "      <th>079</th>\n",
       "      <th>741</th>\n",
       "      <th>418.1</th>\n",
       "      <th>280</th>\n",
       "      <th>747</th>\n",
       "      <th>591</th>\n",
       "      <th>426.21</th>\n",
       "      <th>244</th>\n",
       "      <th>070.3</th>\n",
       "      <th>...</th>\n",
       "      <th>427</th>\n",
       "      <th>585.4</th>\n",
       "      <th>345</th>\n",
       "      <th>366.2</th>\n",
       "      <th>420.2</th>\n",
       "      <th>195</th>\n",
       "      <th>250.2</th>\n",
       "      <th>250.1</th>\n",
       "      <th>371</th>\n",
       "      <th>562</th>\n",
       "    </tr>\n",
       "    <tr>\n",
       "      <th>gene_name</th>\n",
       "      <th></th>\n",
       "      <th></th>\n",
       "      <th></th>\n",
       "      <th></th>\n",
       "      <th></th>\n",
       "      <th></th>\n",
       "      <th></th>\n",
       "      <th></th>\n",
       "      <th></th>\n",
       "      <th></th>\n",
       "      <th></th>\n",
       "      <th></th>\n",
       "      <th></th>\n",
       "      <th></th>\n",
       "      <th></th>\n",
       "      <th></th>\n",
       "      <th></th>\n",
       "      <th></th>\n",
       "      <th></th>\n",
       "      <th></th>\n",
       "      <th></th>\n",
       "    </tr>\n",
       "  </thead>\n",
       "  <tbody>\n",
       "    <tr>\n",
       "      <th>ENSG00000000419</th>\n",
       "      <td>1.043436</td>\n",
       "      <td>1.134028</td>\n",
       "      <td>1.595979</td>\n",
       "      <td>0.399451</td>\n",
       "      <td>0.725100</td>\n",
       "      <td>1.655468</td>\n",
       "      <td>1.803598</td>\n",
       "      <td>0.125250</td>\n",
       "      <td>1.053218</td>\n",
       "      <td>0.922592</td>\n",
       "      <td>...</td>\n",
       "      <td>0.364789</td>\n",
       "      <td>0.453873</td>\n",
       "      <td>0.759558</td>\n",
       "      <td>1.173671</td>\n",
       "      <td>0.298944</td>\n",
       "      <td>1.029646</td>\n",
       "      <td>0.826238</td>\n",
       "      <td>0.685711</td>\n",
       "      <td>2.069701</td>\n",
       "      <td>1.544766</td>\n",
       "    </tr>\n",
       "    <tr>\n",
       "      <th>ENSG00000000457</th>\n",
       "      <td>1.236752</td>\n",
       "      <td>0.119837</td>\n",
       "      <td>0.224120</td>\n",
       "      <td>0.200610</td>\n",
       "      <td>1.304190</td>\n",
       "      <td>0.541478</td>\n",
       "      <td>0.646474</td>\n",
       "      <td>0.493759</td>\n",
       "      <td>0.189680</td>\n",
       "      <td>1.563273</td>\n",
       "      <td>...</td>\n",
       "      <td>1.519500</td>\n",
       "      <td>0.201290</td>\n",
       "      <td>1.020996</td>\n",
       "      <td>0.592006</td>\n",
       "      <td>0.632661</td>\n",
       "      <td>0.995453</td>\n",
       "      <td>0.069362</td>\n",
       "      <td>0.460979</td>\n",
       "      <td>0.217046</td>\n",
       "      <td>1.350475</td>\n",
       "    </tr>\n",
       "    <tr>\n",
       "      <th>ENSG00000000460</th>\n",
       "      <td>0.497108</td>\n",
       "      <td>0.005690</td>\n",
       "      <td>0.317710</td>\n",
       "      <td>0.184918</td>\n",
       "      <td>1.136574</td>\n",
       "      <td>1.708245</td>\n",
       "      <td>0.288962</td>\n",
       "      <td>1.070026</td>\n",
       "      <td>0.403510</td>\n",
       "      <td>1.106321</td>\n",
       "      <td>...</td>\n",
       "      <td>0.678253</td>\n",
       "      <td>1.166204</td>\n",
       "      <td>1.138126</td>\n",
       "      <td>0.608565</td>\n",
       "      <td>0.449551</td>\n",
       "      <td>0.096689</td>\n",
       "      <td>0.887467</td>\n",
       "      <td>0.143815</td>\n",
       "      <td>0.236647</td>\n",
       "      <td>1.048859</td>\n",
       "    </tr>\n",
       "    <tr>\n",
       "      <th>ENSG00000000938</th>\n",
       "      <td>0.374442</td>\n",
       "      <td>1.099899</td>\n",
       "      <td>1.975795</td>\n",
       "      <td>0.107667</td>\n",
       "      <td>0.903520</td>\n",
       "      <td>0.673819</td>\n",
       "      <td>0.855749</td>\n",
       "      <td>0.499088</td>\n",
       "      <td>0.375406</td>\n",
       "      <td>0.815757</td>\n",
       "      <td>...</td>\n",
       "      <td>1.585687</td>\n",
       "      <td>0.584143</td>\n",
       "      <td>0.751384</td>\n",
       "      <td>2.758230</td>\n",
       "      <td>0.572712</td>\n",
       "      <td>0.141023</td>\n",
       "      <td>1.437022</td>\n",
       "      <td>0.288943</td>\n",
       "      <td>0.665727</td>\n",
       "      <td>1.225229</td>\n",
       "    </tr>\n",
       "    <tr>\n",
       "      <th>ENSG00000000971</th>\n",
       "      <td>1.108762</td>\n",
       "      <td>1.133163</td>\n",
       "      <td>0.227188</td>\n",
       "      <td>0.222948</td>\n",
       "      <td>0.072709</td>\n",
       "      <td>0.256124</td>\n",
       "      <td>0.540911</td>\n",
       "      <td>0.606947</td>\n",
       "      <td>0.229133</td>\n",
       "      <td>1.557433</td>\n",
       "      <td>...</td>\n",
       "      <td>2.349373</td>\n",
       "      <td>1.122458</td>\n",
       "      <td>0.155346</td>\n",
       "      <td>0.990123</td>\n",
       "      <td>0.326914</td>\n",
       "      <td>1.100210</td>\n",
       "      <td>1.099537</td>\n",
       "      <td>2.511358</td>\n",
       "      <td>0.950262</td>\n",
       "      <td>1.467305</td>\n",
       "    </tr>\n",
       "  </tbody>\n",
       "</table>\n",
       "<p>5 rows × 309 columns</p>\n",
       "</div>"
      ],
      "text/plain": [
       "                    292.3       079       741     418.1       280       747  \\\n",
       "gene_name                                                                     \n",
       "ENSG00000000419  1.043436  1.134028  1.595979  0.399451  0.725100  1.655468   \n",
       "ENSG00000000457  1.236752  0.119837  0.224120  0.200610  1.304190  0.541478   \n",
       "ENSG00000000460  0.497108  0.005690  0.317710  0.184918  1.136574  1.708245   \n",
       "ENSG00000000938  0.374442  1.099899  1.975795  0.107667  0.903520  0.673819   \n",
       "ENSG00000000971  1.108762  1.133163  0.227188  0.222948  0.072709  0.256124   \n",
       "\n",
       "                      591    426.21       244     070.3  ...       427  \\\n",
       "gene_name                                                ...             \n",
       "ENSG00000000419  1.803598  0.125250  1.053218  0.922592  ...  0.364789   \n",
       "ENSG00000000457  0.646474  0.493759  0.189680  1.563273  ...  1.519500   \n",
       "ENSG00000000460  0.288962  1.070026  0.403510  1.106321  ...  0.678253   \n",
       "ENSG00000000938  0.855749  0.499088  0.375406  0.815757  ...  1.585687   \n",
       "ENSG00000000971  0.540911  0.606947  0.229133  1.557433  ...  2.349373   \n",
       "\n",
       "                    585.4       345     366.2     420.2       195     250.2  \\\n",
       "gene_name                                                                     \n",
       "ENSG00000000419  0.453873  0.759558  1.173671  0.298944  1.029646  0.826238   \n",
       "ENSG00000000457  0.201290  1.020996  0.592006  0.632661  0.995453  0.069362   \n",
       "ENSG00000000460  1.166204  1.138126  0.608565  0.449551  0.096689  0.887467   \n",
       "ENSG00000000938  0.584143  0.751384  2.758230  0.572712  0.141023  1.437022   \n",
       "ENSG00000000971  1.122458  0.155346  0.990123  0.326914  1.100210  1.099537   \n",
       "\n",
       "                    250.1       371       562  \n",
       "gene_name                                      \n",
       "ENSG00000000419  0.685711  2.069701  1.544766  \n",
       "ENSG00000000457  0.460979  0.217046  1.350475  \n",
       "ENSG00000000460  0.143815  0.236647  1.048859  \n",
       "ENSG00000000938  0.288943  0.665727  1.225229  \n",
       "ENSG00000000971  2.511358  0.950262  1.467305  \n",
       "\n",
       "[5 rows x 309 columns]"
      ]
     },
     "execution_count": 8,
     "metadata": {},
     "output_type": "execute_result"
    }
   ],
   "source": [
    "smultixcan_results.head()"
   ]
  },
  {
   "cell_type": "markdown",
   "metadata": {
    "papermill": {
     "duration": 0.013468,
     "end_time": "2021-01-12T05:37:04.543704",
     "exception": false,
     "start_time": "2021-01-12T05:37:04.530236",
     "status": "completed"
    },
    "tags": []
   },
   "source": [
    "## Gene IDs to Gene names"
   ]
  },
  {
   "cell_type": "code",
   "execution_count": 9,
   "metadata": {
    "papermill": {
     "duration": 0.168134,
     "end_time": "2021-01-12T05:37:04.725436",
     "exception": false,
     "start_time": "2021-01-12T05:37:04.557302",
     "status": "completed"
    },
    "tags": []
   },
   "outputs": [],
   "source": [
    "smultixcan_results = smultixcan_results.rename(index=Gene.GENE_ID_TO_NAME_MAP)"
   ]
  },
  {
   "cell_type": "code",
   "execution_count": 10,
   "metadata": {
    "papermill": {
     "duration": 0.025097,
     "end_time": "2021-01-12T05:37:04.766249",
     "exception": false,
     "start_time": "2021-01-12T05:37:04.741152",
     "status": "completed"
    },
    "tags": []
   },
   "outputs": [
    {
     "data": {
      "text/plain": [
       "(22198, 309)"
      ]
     },
     "execution_count": 10,
     "metadata": {},
     "output_type": "execute_result"
    }
   ],
   "source": [
    "smultixcan_results.shape"
   ]
  },
  {
   "cell_type": "code",
   "execution_count": 11,
   "metadata": {
    "papermill": {
     "duration": 0.035369,
     "end_time": "2021-01-12T05:37:04.816775",
     "exception": false,
     "start_time": "2021-01-12T05:37:04.781406",
     "status": "completed"
    },
    "tags": []
   },
   "outputs": [
    {
     "data": {
      "text/html": [
       "<div>\n",
       "<style scoped>\n",
       "    .dataframe tbody tr th:only-of-type {\n",
       "        vertical-align: middle;\n",
       "    }\n",
       "\n",
       "    .dataframe tbody tr th {\n",
       "        vertical-align: top;\n",
       "    }\n",
       "\n",
       "    .dataframe thead th {\n",
       "        text-align: right;\n",
       "    }\n",
       "</style>\n",
       "<table border=\"1\" class=\"dataframe\">\n",
       "  <thead>\n",
       "    <tr style=\"text-align: right;\">\n",
       "      <th></th>\n",
       "      <th>292.3</th>\n",
       "      <th>079</th>\n",
       "      <th>741</th>\n",
       "      <th>418.1</th>\n",
       "      <th>280</th>\n",
       "      <th>747</th>\n",
       "      <th>591</th>\n",
       "      <th>426.21</th>\n",
       "      <th>244</th>\n",
       "      <th>070.3</th>\n",
       "      <th>...</th>\n",
       "      <th>427</th>\n",
       "      <th>585.4</th>\n",
       "      <th>345</th>\n",
       "      <th>366.2</th>\n",
       "      <th>420.2</th>\n",
       "      <th>195</th>\n",
       "      <th>250.2</th>\n",
       "      <th>250.1</th>\n",
       "      <th>371</th>\n",
       "      <th>562</th>\n",
       "    </tr>\n",
       "    <tr>\n",
       "      <th>gene_name</th>\n",
       "      <th></th>\n",
       "      <th></th>\n",
       "      <th></th>\n",
       "      <th></th>\n",
       "      <th></th>\n",
       "      <th></th>\n",
       "      <th></th>\n",
       "      <th></th>\n",
       "      <th></th>\n",
       "      <th></th>\n",
       "      <th></th>\n",
       "      <th></th>\n",
       "      <th></th>\n",
       "      <th></th>\n",
       "      <th></th>\n",
       "      <th></th>\n",
       "      <th></th>\n",
       "      <th></th>\n",
       "      <th></th>\n",
       "      <th></th>\n",
       "      <th></th>\n",
       "    </tr>\n",
       "  </thead>\n",
       "  <tbody>\n",
       "    <tr>\n",
       "      <th>DPM1</th>\n",
       "      <td>1.043436</td>\n",
       "      <td>1.134028</td>\n",
       "      <td>1.595979</td>\n",
       "      <td>0.399451</td>\n",
       "      <td>0.725100</td>\n",
       "      <td>1.655468</td>\n",
       "      <td>1.803598</td>\n",
       "      <td>0.125250</td>\n",
       "      <td>1.053218</td>\n",
       "      <td>0.922592</td>\n",
       "      <td>...</td>\n",
       "      <td>0.364789</td>\n",
       "      <td>0.453873</td>\n",
       "      <td>0.759558</td>\n",
       "      <td>1.173671</td>\n",
       "      <td>0.298944</td>\n",
       "      <td>1.029646</td>\n",
       "      <td>0.826238</td>\n",
       "      <td>0.685711</td>\n",
       "      <td>2.069701</td>\n",
       "      <td>1.544766</td>\n",
       "    </tr>\n",
       "    <tr>\n",
       "      <th>SCYL3</th>\n",
       "      <td>1.236752</td>\n",
       "      <td>0.119837</td>\n",
       "      <td>0.224120</td>\n",
       "      <td>0.200610</td>\n",
       "      <td>1.304190</td>\n",
       "      <td>0.541478</td>\n",
       "      <td>0.646474</td>\n",
       "      <td>0.493759</td>\n",
       "      <td>0.189680</td>\n",
       "      <td>1.563273</td>\n",
       "      <td>...</td>\n",
       "      <td>1.519500</td>\n",
       "      <td>0.201290</td>\n",
       "      <td>1.020996</td>\n",
       "      <td>0.592006</td>\n",
       "      <td>0.632661</td>\n",
       "      <td>0.995453</td>\n",
       "      <td>0.069362</td>\n",
       "      <td>0.460979</td>\n",
       "      <td>0.217046</td>\n",
       "      <td>1.350475</td>\n",
       "    </tr>\n",
       "    <tr>\n",
       "      <th>C1orf112</th>\n",
       "      <td>0.497108</td>\n",
       "      <td>0.005690</td>\n",
       "      <td>0.317710</td>\n",
       "      <td>0.184918</td>\n",
       "      <td>1.136574</td>\n",
       "      <td>1.708245</td>\n",
       "      <td>0.288962</td>\n",
       "      <td>1.070026</td>\n",
       "      <td>0.403510</td>\n",
       "      <td>1.106321</td>\n",
       "      <td>...</td>\n",
       "      <td>0.678253</td>\n",
       "      <td>1.166204</td>\n",
       "      <td>1.138126</td>\n",
       "      <td>0.608565</td>\n",
       "      <td>0.449551</td>\n",
       "      <td>0.096689</td>\n",
       "      <td>0.887467</td>\n",
       "      <td>0.143815</td>\n",
       "      <td>0.236647</td>\n",
       "      <td>1.048859</td>\n",
       "    </tr>\n",
       "    <tr>\n",
       "      <th>FGR</th>\n",
       "      <td>0.374442</td>\n",
       "      <td>1.099899</td>\n",
       "      <td>1.975795</td>\n",
       "      <td>0.107667</td>\n",
       "      <td>0.903520</td>\n",
       "      <td>0.673819</td>\n",
       "      <td>0.855749</td>\n",
       "      <td>0.499088</td>\n",
       "      <td>0.375406</td>\n",
       "      <td>0.815757</td>\n",
       "      <td>...</td>\n",
       "      <td>1.585687</td>\n",
       "      <td>0.584143</td>\n",
       "      <td>0.751384</td>\n",
       "      <td>2.758230</td>\n",
       "      <td>0.572712</td>\n",
       "      <td>0.141023</td>\n",
       "      <td>1.437022</td>\n",
       "      <td>0.288943</td>\n",
       "      <td>0.665727</td>\n",
       "      <td>1.225229</td>\n",
       "    </tr>\n",
       "    <tr>\n",
       "      <th>CFH</th>\n",
       "      <td>1.108762</td>\n",
       "      <td>1.133163</td>\n",
       "      <td>0.227188</td>\n",
       "      <td>0.222948</td>\n",
       "      <td>0.072709</td>\n",
       "      <td>0.256124</td>\n",
       "      <td>0.540911</td>\n",
       "      <td>0.606947</td>\n",
       "      <td>0.229133</td>\n",
       "      <td>1.557433</td>\n",
       "      <td>...</td>\n",
       "      <td>2.349373</td>\n",
       "      <td>1.122458</td>\n",
       "      <td>0.155346</td>\n",
       "      <td>0.990123</td>\n",
       "      <td>0.326914</td>\n",
       "      <td>1.100210</td>\n",
       "      <td>1.099537</td>\n",
       "      <td>2.511358</td>\n",
       "      <td>0.950262</td>\n",
       "      <td>1.467305</td>\n",
       "    </tr>\n",
       "  </tbody>\n",
       "</table>\n",
       "<p>5 rows × 309 columns</p>\n",
       "</div>"
      ],
      "text/plain": [
       "              292.3       079       741     418.1       280       747  \\\n",
       "gene_name                                                               \n",
       "DPM1       1.043436  1.134028  1.595979  0.399451  0.725100  1.655468   \n",
       "SCYL3      1.236752  0.119837  0.224120  0.200610  1.304190  0.541478   \n",
       "C1orf112   0.497108  0.005690  0.317710  0.184918  1.136574  1.708245   \n",
       "FGR        0.374442  1.099899  1.975795  0.107667  0.903520  0.673819   \n",
       "CFH        1.108762  1.133163  0.227188  0.222948  0.072709  0.256124   \n",
       "\n",
       "                591    426.21       244     070.3  ...       427     585.4  \\\n",
       "gene_name                                          ...                       \n",
       "DPM1       1.803598  0.125250  1.053218  0.922592  ...  0.364789  0.453873   \n",
       "SCYL3      0.646474  0.493759  0.189680  1.563273  ...  1.519500  0.201290   \n",
       "C1orf112   0.288962  1.070026  0.403510  1.106321  ...  0.678253  1.166204   \n",
       "FGR        0.855749  0.499088  0.375406  0.815757  ...  1.585687  0.584143   \n",
       "CFH        0.540911  0.606947  0.229133  1.557433  ...  2.349373  1.122458   \n",
       "\n",
       "                345     366.2     420.2       195     250.2     250.1  \\\n",
       "gene_name                                                               \n",
       "DPM1       0.759558  1.173671  0.298944  1.029646  0.826238  0.685711   \n",
       "SCYL3      1.020996  0.592006  0.632661  0.995453  0.069362  0.460979   \n",
       "C1orf112   1.138126  0.608565  0.449551  0.096689  0.887467  0.143815   \n",
       "FGR        0.751384  2.758230  0.572712  0.141023  1.437022  0.288943   \n",
       "CFH        0.155346  0.990123  0.326914  1.100210  1.099537  2.511358   \n",
       "\n",
       "                371       562  \n",
       "gene_name                      \n",
       "DPM1       2.069701  1.544766  \n",
       "SCYL3      0.217046  1.350475  \n",
       "C1orf112   0.236647  1.048859  \n",
       "FGR        0.665727  1.225229  \n",
       "CFH        0.950262  1.467305  \n",
       "\n",
       "[5 rows x 309 columns]"
      ]
     },
     "execution_count": 11,
     "metadata": {},
     "output_type": "execute_result"
    }
   ],
   "source": [
    "smultixcan_results.head()"
   ]
  },
  {
   "cell_type": "markdown",
   "metadata": {
    "papermill": {
     "duration": 0.015025,
     "end_time": "2021-01-12T05:37:04.846800",
     "exception": false,
     "start_time": "2021-01-12T05:37:04.831775",
     "status": "completed"
    },
    "tags": []
   },
   "source": [
    "## Remove duplicated gene entries"
   ]
  },
  {
   "cell_type": "code",
   "execution_count": 12,
   "metadata": {
    "papermill": {
     "duration": 0.028152,
     "end_time": "2021-01-12T05:37:04.890896",
     "exception": false,
     "start_time": "2021-01-12T05:37:04.862744",
     "status": "completed"
    },
    "tags": []
   },
   "outputs": [
    {
     "data": {
      "text/plain": [
       "Index(['SPATA13', 'LINC01422', 'LINC00484', 'MAL2', 'LINC01115', 'LYNX1'], dtype='object', name='gene_name')"
      ]
     },
     "execution_count": 12,
     "metadata": {},
     "output_type": "execute_result"
    }
   ],
   "source": [
    "smultixcan_results.index[smultixcan_results.index.duplicated(keep=\"first\")]"
   ]
  },
  {
   "cell_type": "code",
   "execution_count": 13,
   "metadata": {
    "papermill": {
     "duration": 0.162288,
     "end_time": "2021-01-12T05:37:05.068634",
     "exception": false,
     "start_time": "2021-01-12T05:37:04.906346",
     "status": "completed"
    },
    "tags": []
   },
   "outputs": [],
   "source": [
    "smultixcan_results = smultixcan_results.loc[\n",
    "    ~smultixcan_results.index.duplicated(keep=\"first\")\n",
    "]"
   ]
  },
  {
   "cell_type": "code",
   "execution_count": 14,
   "metadata": {
    "papermill": {
     "duration": 0.02512,
     "end_time": "2021-01-12T05:37:05.109627",
     "exception": false,
     "start_time": "2021-01-12T05:37:05.084507",
     "status": "completed"
    },
    "tags": []
   },
   "outputs": [
    {
     "data": {
      "text/plain": [
       "(22192, 309)"
      ]
     },
     "execution_count": 14,
     "metadata": {},
     "output_type": "execute_result"
    }
   ],
   "source": [
    "smultixcan_results.shape"
   ]
  },
  {
   "cell_type": "markdown",
   "metadata": {
    "papermill": {
     "duration": 0.014339,
     "end_time": "2021-01-12T05:37:05.139014",
     "exception": false,
     "start_time": "2021-01-12T05:37:05.124675",
     "status": "completed"
    },
    "tags": []
   },
   "source": [
    "## Remove NaN values"
   ]
  },
  {
   "cell_type": "markdown",
   "metadata": {
    "papermill": {
     "duration": 0.014445,
     "end_time": "2021-01-12T05:37:05.167899",
     "exception": false,
     "start_time": "2021-01-12T05:37:05.153454",
     "status": "completed"
    },
    "tags": []
   },
   "source": [
    "**TODO**: it might be better to try to impute these values"
   ]
  },
  {
   "cell_type": "code",
   "execution_count": 15,
   "metadata": {
    "papermill": {
     "duration": 0.308165,
     "end_time": "2021-01-12T05:37:05.490392",
     "exception": false,
     "start_time": "2021-01-12T05:37:05.182227",
     "status": "completed"
    },
    "tags": []
   },
   "outputs": [],
   "source": [
    "smultixcan_results = smultixcan_results.dropna(how=\"any\")"
   ]
  },
  {
   "cell_type": "code",
   "execution_count": 16,
   "metadata": {
    "papermill": {
     "duration": 0.025057,
     "end_time": "2021-01-12T05:37:05.531603",
     "exception": false,
     "start_time": "2021-01-12T05:37:05.506546",
     "status": "completed"
    },
    "tags": []
   },
   "outputs": [
    {
     "data": {
      "text/plain": [
       "(22107, 309)"
      ]
     },
     "execution_count": 16,
     "metadata": {},
     "output_type": "execute_result"
    }
   ],
   "source": [
    "smultixcan_results.shape"
   ]
  },
  {
   "cell_type": "markdown",
   "metadata": {
    "papermill": {
     "duration": 0.014583,
     "end_time": "2021-01-12T05:37:05.561206",
     "exception": false,
     "start_time": "2021-01-12T05:37:05.546623",
     "status": "completed"
    },
    "tags": []
   },
   "source": [
    "# Project S-MultiXcan data into MultiPLIER latent space"
   ]
  },
  {
   "cell_type": "code",
   "execution_count": 17,
   "metadata": {
    "papermill": {
     "duration": 0.024759,
     "end_time": "2021-01-12T05:37:05.600520",
     "exception": false,
     "start_time": "2021-01-12T05:37:05.575761",
     "status": "completed"
    },
    "tags": []
   },
   "outputs": [],
   "source": [
    "mproj = MultiplierProjection()"
   ]
  },
  {
   "cell_type": "code",
   "execution_count": 18,
   "metadata": {
    "papermill": {
     "duration": 2.849258,
     "end_time": "2021-01-12T05:37:08.465012",
     "exception": false,
     "start_time": "2021-01-12T05:37:05.615754",
     "status": "completed"
    },
    "tags": []
   },
   "outputs": [],
   "source": [
    "smultixcan_into_multiplier = mproj.transform(smultixcan_results)"
   ]
  },
  {
   "cell_type": "code",
   "execution_count": 19,
   "metadata": {
    "papermill": {
     "duration": 0.030869,
     "end_time": "2021-01-12T05:37:08.511701",
     "exception": false,
     "start_time": "2021-01-12T05:37:08.480832",
     "status": "completed"
    },
    "tags": []
   },
   "outputs": [
    {
     "data": {
      "text/plain": [
       "(987, 309)"
      ]
     },
     "execution_count": 19,
     "metadata": {},
     "output_type": "execute_result"
    }
   ],
   "source": [
    "smultixcan_into_multiplier.shape"
   ]
  },
  {
   "cell_type": "code",
   "execution_count": 20,
   "metadata": {
    "papermill": {
     "duration": 0.037362,
     "end_time": "2021-01-12T05:37:08.565704",
     "exception": false,
     "start_time": "2021-01-12T05:37:08.528342",
     "status": "completed"
    },
    "tags": []
   },
   "outputs": [
    {
     "data": {
      "text/html": [
       "<div>\n",
       "<style scoped>\n",
       "    .dataframe tbody tr th:only-of-type {\n",
       "        vertical-align: middle;\n",
       "    }\n",
       "\n",
       "    .dataframe tbody tr th {\n",
       "        vertical-align: top;\n",
       "    }\n",
       "\n",
       "    .dataframe thead th {\n",
       "        text-align: right;\n",
       "    }\n",
       "</style>\n",
       "<table border=\"1\" class=\"dataframe\">\n",
       "  <thead>\n",
       "    <tr style=\"text-align: right;\">\n",
       "      <th></th>\n",
       "      <th>292.3</th>\n",
       "      <th>079</th>\n",
       "      <th>741</th>\n",
       "      <th>418.1</th>\n",
       "      <th>280</th>\n",
       "      <th>747</th>\n",
       "      <th>591</th>\n",
       "      <th>426.21</th>\n",
       "      <th>244</th>\n",
       "      <th>070.3</th>\n",
       "      <th>...</th>\n",
       "      <th>427</th>\n",
       "      <th>585.4</th>\n",
       "      <th>345</th>\n",
       "      <th>366.2</th>\n",
       "      <th>420.2</th>\n",
       "      <th>195</th>\n",
       "      <th>250.2</th>\n",
       "      <th>250.1</th>\n",
       "      <th>371</th>\n",
       "      <th>562</th>\n",
       "    </tr>\n",
       "  </thead>\n",
       "  <tbody>\n",
       "    <tr>\n",
       "      <th>LV1</th>\n",
       "      <td>0.054491</td>\n",
       "      <td>-0.020097</td>\n",
       "      <td>0.022097</td>\n",
       "      <td>0.011815</td>\n",
       "      <td>-0.027529</td>\n",
       "      <td>-0.044248</td>\n",
       "      <td>0.022966</td>\n",
       "      <td>-0.052994</td>\n",
       "      <td>0.049973</td>\n",
       "      <td>0.000230</td>\n",
       "      <td>...</td>\n",
       "      <td>-0.032380</td>\n",
       "      <td>0.012214</td>\n",
       "      <td>0.006572</td>\n",
       "      <td>-0.024007</td>\n",
       "      <td>-0.006435</td>\n",
       "      <td>0.056310</td>\n",
       "      <td>0.072363</td>\n",
       "      <td>0.039763</td>\n",
       "      <td>-0.022529</td>\n",
       "      <td>0.034410</td>\n",
       "    </tr>\n",
       "    <tr>\n",
       "      <th>LV2</th>\n",
       "      <td>-0.045586</td>\n",
       "      <td>-0.009249</td>\n",
       "      <td>0.037598</td>\n",
       "      <td>-0.017011</td>\n",
       "      <td>-0.033393</td>\n",
       "      <td>-0.018336</td>\n",
       "      <td>0.007075</td>\n",
       "      <td>-0.011952</td>\n",
       "      <td>-0.002291</td>\n",
       "      <td>0.029972</td>\n",
       "      <td>...</td>\n",
       "      <td>0.018297</td>\n",
       "      <td>0.037166</td>\n",
       "      <td>-0.011099</td>\n",
       "      <td>-0.012876</td>\n",
       "      <td>-0.055898</td>\n",
       "      <td>0.002411</td>\n",
       "      <td>0.021665</td>\n",
       "      <td>0.011047</td>\n",
       "      <td>0.003468</td>\n",
       "      <td>0.035322</td>\n",
       "    </tr>\n",
       "    <tr>\n",
       "      <th>LV3</th>\n",
       "      <td>0.024822</td>\n",
       "      <td>-0.060301</td>\n",
       "      <td>-0.029168</td>\n",
       "      <td>-0.034559</td>\n",
       "      <td>0.006261</td>\n",
       "      <td>0.022122</td>\n",
       "      <td>-0.006224</td>\n",
       "      <td>0.000662</td>\n",
       "      <td>0.036817</td>\n",
       "      <td>-0.000077</td>\n",
       "      <td>...</td>\n",
       "      <td>0.038560</td>\n",
       "      <td>-0.038163</td>\n",
       "      <td>0.003248</td>\n",
       "      <td>-0.041152</td>\n",
       "      <td>0.014292</td>\n",
       "      <td>-0.039490</td>\n",
       "      <td>0.009368</td>\n",
       "      <td>0.013476</td>\n",
       "      <td>0.044817</td>\n",
       "      <td>0.004777</td>\n",
       "    </tr>\n",
       "    <tr>\n",
       "      <th>LV4</th>\n",
       "      <td>-0.039762</td>\n",
       "      <td>0.012785</td>\n",
       "      <td>-0.003700</td>\n",
       "      <td>0.028548</td>\n",
       "      <td>-0.029743</td>\n",
       "      <td>-0.003730</td>\n",
       "      <td>0.035600</td>\n",
       "      <td>-0.022699</td>\n",
       "      <td>0.005748</td>\n",
       "      <td>0.037000</td>\n",
       "      <td>...</td>\n",
       "      <td>-0.029203</td>\n",
       "      <td>0.075040</td>\n",
       "      <td>0.042023</td>\n",
       "      <td>-0.027431</td>\n",
       "      <td>0.004113</td>\n",
       "      <td>0.028081</td>\n",
       "      <td>0.008579</td>\n",
       "      <td>0.017368</td>\n",
       "      <td>-0.073883</td>\n",
       "      <td>-0.020724</td>\n",
       "    </tr>\n",
       "    <tr>\n",
       "      <th>LV5</th>\n",
       "      <td>-0.012542</td>\n",
       "      <td>-0.003956</td>\n",
       "      <td>-0.026013</td>\n",
       "      <td>0.012478</td>\n",
       "      <td>0.007327</td>\n",
       "      <td>0.024376</td>\n",
       "      <td>-0.000232</td>\n",
       "      <td>0.063066</td>\n",
       "      <td>0.044968</td>\n",
       "      <td>-0.002194</td>\n",
       "      <td>...</td>\n",
       "      <td>0.030944</td>\n",
       "      <td>-0.035498</td>\n",
       "      <td>-0.013057</td>\n",
       "      <td>-0.006033</td>\n",
       "      <td>-0.035562</td>\n",
       "      <td>-0.009096</td>\n",
       "      <td>-0.006855</td>\n",
       "      <td>-0.036068</td>\n",
       "      <td>0.002163</td>\n",
       "      <td>0.006373</td>\n",
       "    </tr>\n",
       "  </tbody>\n",
       "</table>\n",
       "<p>5 rows × 309 columns</p>\n",
       "</div>"
      ],
      "text/plain": [
       "        292.3       079       741     418.1       280       747       591  \\\n",
       "LV1  0.054491 -0.020097  0.022097  0.011815 -0.027529 -0.044248  0.022966   \n",
       "LV2 -0.045586 -0.009249  0.037598 -0.017011 -0.033393 -0.018336  0.007075   \n",
       "LV3  0.024822 -0.060301 -0.029168 -0.034559  0.006261  0.022122 -0.006224   \n",
       "LV4 -0.039762  0.012785 -0.003700  0.028548 -0.029743 -0.003730  0.035600   \n",
       "LV5 -0.012542 -0.003956 -0.026013  0.012478  0.007327  0.024376 -0.000232   \n",
       "\n",
       "       426.21       244     070.3  ...       427     585.4       345  \\\n",
       "LV1 -0.052994  0.049973  0.000230  ... -0.032380  0.012214  0.006572   \n",
       "LV2 -0.011952 -0.002291  0.029972  ...  0.018297  0.037166 -0.011099   \n",
       "LV3  0.000662  0.036817 -0.000077  ...  0.038560 -0.038163  0.003248   \n",
       "LV4 -0.022699  0.005748  0.037000  ... -0.029203  0.075040  0.042023   \n",
       "LV5  0.063066  0.044968 -0.002194  ...  0.030944 -0.035498 -0.013057   \n",
       "\n",
       "        366.2     420.2       195     250.2     250.1       371       562  \n",
       "LV1 -0.024007 -0.006435  0.056310  0.072363  0.039763 -0.022529  0.034410  \n",
       "LV2 -0.012876 -0.055898  0.002411  0.021665  0.011047  0.003468  0.035322  \n",
       "LV3 -0.041152  0.014292 -0.039490  0.009368  0.013476  0.044817  0.004777  \n",
       "LV4 -0.027431  0.004113  0.028081  0.008579  0.017368 -0.073883 -0.020724  \n",
       "LV5 -0.006033 -0.035562 -0.009096 -0.006855 -0.036068  0.002163  0.006373  \n",
       "\n",
       "[5 rows x 309 columns]"
      ]
     },
     "execution_count": 20,
     "metadata": {},
     "output_type": "execute_result"
    }
   ],
   "source": [
    "smultixcan_into_multiplier.head()"
   ]
  },
  {
   "cell_type": "markdown",
   "metadata": {
    "papermill": {
     "duration": 0.015442,
     "end_time": "2021-01-12T05:37:08.597131",
     "exception": false,
     "start_time": "2021-01-12T05:37:08.581689",
     "status": "completed"
    },
    "tags": []
   },
   "source": [
    "# Quick analysis"
   ]
  },
  {
   "cell_type": "code",
   "execution_count": 21,
   "metadata": {
    "papermill": {
     "duration": 0.026976,
     "end_time": "2021-01-12T05:37:08.639539",
     "exception": false,
     "start_time": "2021-01-12T05:37:08.612563",
     "status": "completed"
    },
    "tags": []
   },
   "outputs": [
    {
     "data": {
      "text/plain": [
       "244.2     0.074562\n",
       "743.1     0.065800\n",
       "112       0.065030\n",
       "272       0.061693\n",
       "743.12    0.061463\n",
       "272.1     0.059703\n",
       "327.7     0.056143\n",
       "279       0.054503\n",
       "426.32    0.054381\n",
       "571.8     0.053887\n",
       "250.22    0.052988\n",
       "571       0.052454\n",
       "442.11    0.048040\n",
       "429.1     0.047737\n",
       "244       0.047282\n",
       "743.11    0.047024\n",
       "599.3     0.042783\n",
       "427.21    0.042456\n",
       "599.2     0.041790\n",
       "272.11    0.041357\n",
       "Name: LV603, dtype: float64"
      ]
     },
     "execution_count": 21,
     "metadata": {},
     "output_type": "execute_result"
    }
   ],
   "source": [
    "(smultixcan_into_multiplier.loc[\"LV603\"].sort_values(ascending=False).head(20))"
   ]
  },
  {
   "cell_type": "code",
   "execution_count": 22,
   "metadata": {
    "papermill": {
     "duration": 0.027319,
     "end_time": "2021-01-12T05:37:08.682864",
     "exception": false,
     "start_time": "2021-01-12T05:37:08.655545",
     "status": "completed"
    },
    "tags": []
   },
   "outputs": [
    {
     "data": {
      "text/plain": [
       "411.4     0.075308\n",
       "740.1     0.074490\n",
       "426.3     0.070966\n",
       "747.1     0.069081\n",
       "740.11    0.067678\n",
       "433.21    0.064578\n",
       "496       0.063015\n",
       "411.2     0.062356\n",
       "433.2     0.061120\n",
       "443       0.060725\n",
       "274       0.059065\n",
       "571       0.056349\n",
       "426.2     0.055841\n",
       "426.31    0.055215\n",
       "274.1     0.054139\n",
       "480       0.053241\n",
       "571.51    0.053201\n",
       "741       0.051006\n",
       "411       0.049525\n",
       "208       0.049270\n",
       "Name: LV136, dtype: float64"
      ]
     },
     "execution_count": 22,
     "metadata": {},
     "output_type": "execute_result"
    }
   ],
   "source": [
    "(smultixcan_into_multiplier.loc[\"LV136\"].sort_values(ascending=False).head(20))"
   ]
  },
  {
   "cell_type": "markdown",
   "metadata": {
    "papermill": {
     "duration": 0.015845,
     "end_time": "2021-01-12T05:37:08.714705",
     "exception": false,
     "start_time": "2021-01-12T05:37:08.698860",
     "status": "completed"
    },
    "tags": []
   },
   "source": [
    "# Save"
   ]
  },
  {
   "cell_type": "code",
   "execution_count": 23,
   "metadata": {
    "papermill": {
     "duration": 0.026183,
     "end_time": "2021-01-12T05:37:08.756332",
     "exception": false,
     "start_time": "2021-01-12T05:37:08.730149",
     "status": "completed"
    },
    "tags": []
   },
   "outputs": [
    {
     "data": {
      "text/plain": [
       "PosixPath('/home/miltondp/projects/labs/greenelab/phenoplier/base/results/projections/projection-emerge-smultixcan-mashr-zscores.pkl')"
      ]
     },
     "metadata": {},
     "output_type": "display_data"
    }
   ],
   "source": [
    "output_file = Path(\n",
    "    RESULTS_PROJ_OUTPUT_DIR, f\"projection-{results_filename_stem}.pkl\"\n",
    ").resolve()\n",
    "\n",
    "display(output_file)"
   ]
  },
  {
   "cell_type": "code",
   "execution_count": 24,
   "metadata": {
    "papermill": {
     "duration": 0.054779,
     "end_time": "2021-01-12T05:37:08.827162",
     "exception": false,
     "start_time": "2021-01-12T05:37:08.772383",
     "status": "completed"
    },
    "tags": []
   },
   "outputs": [],
   "source": [
    "smultixcan_into_multiplier.to_pickle(output_file)"
   ]
  },
  {
   "cell_type": "code",
   "execution_count": null,
   "metadata": {
    "papermill": {
     "duration": 0.016908,
     "end_time": "2021-01-12T05:37:08.860844",
     "exception": false,
     "start_time": "2021-01-12T05:37:08.843936",
     "status": "completed"
    },
    "tags": []
   },
   "outputs": [],
   "source": []
  }
 ],
 "metadata": {
  "jupytext": {
   "cell_metadata_filter": "all,-execution,-papermill",
   "formats": "ipynb,py//py:percent"
  },
  "kernelspec": {
   "display_name": "Python 3",
   "language": "python",
   "name": "python3"
  },
  "language_info": {
   "codemirror_mode": {
    "name": "ipython",
    "version": 3
   },
   "file_extension": ".py",
   "mimetype": "text/x-python",
   "name": "python",
   "nbconvert_exporter": "python",
   "pygments_lexer": "ipython3",
   "version": "3.8.6"
  },
  "papermill": {
   "default_parameters": {},
   "duration": 6.462026,
   "end_time": "2021-01-12T05:37:09.183583",
   "environment_variables": {},
   "exception": null,
   "input_path": "05_projections/010-multiplier-phenomexcan_efo.ipynb",
   "output_path": "05_projections/010-multiplier-phenomexcan_efo.run.ipynb",
   "parameters": {},
   "start_time": "2021-01-12T05:37:02.721557",
   "version": "2.2.2"
  },
  "toc-autonumbering": true
 },
 "nbformat": 4,
 "nbformat_minor": 4
}
