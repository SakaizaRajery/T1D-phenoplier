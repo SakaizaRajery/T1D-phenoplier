{
 "cells": [
  {
   "cell_type": "markdown",
   "metadata": {
    "papermill": {
     "duration": 0.021994,
     "end_time": "2021-09-16T20:35:08.743979",
     "exception": false,
     "start_time": "2021-09-16T20:35:08.721985",
     "status": "completed"
    },
    "tags": []
   },
   "source": [
    "# Description"
   ]
  },
  {
   "cell_type": "markdown",
   "metadata": {
    "papermill": {
     "duration": 0.020902,
     "end_time": "2021-09-16T20:35:08.786608",
     "exception": false,
     "start_time": "2021-09-16T20:35:08.765706",
     "status": "completed"
    },
    "tags": []
   },
   "source": [
    "It uses the PhenomeXcan traits to EFO mapping files to group traits that end up having the same EFO label. Currently, this only combines the S-MultiXcan results (z-scores) using the [Stouffer method](https://en.wikipedia.org/wiki/Fisher%27s_method#Relation_to_Stouffer's_Z-score_method) (implemented in functions `get_weights` and `_combine_z_scores` below)."
   ]
  },
  {
   "cell_type": "markdown",
   "metadata": {
    "papermill": {
     "duration": 0.02096,
     "end_time": "2021-09-16T20:35:08.828621",
     "exception": false,
     "start_time": "2021-09-16T20:35:08.807661",
     "status": "completed"
    },
    "tags": []
   },
   "source": [
    "# Modules loading"
   ]
  },
  {
   "cell_type": "code",
   "execution_count": 1,
   "metadata": {
    "execution": {
     "iopub.execute_input": "2021-09-16T20:35:08.877287Z",
     "iopub.status.busy": "2021-09-16T20:35:08.876899Z",
     "iopub.status.idle": "2021-09-16T20:35:08.883800Z",
     "shell.execute_reply": "2021-09-16T20:35:08.884204Z"
    },
    "papermill": {
     "duration": 0.034434,
     "end_time": "2021-09-16T20:35:08.884366",
     "exception": false,
     "start_time": "2021-09-16T20:35:08.849932",
     "status": "completed"
    },
    "tags": []
   },
   "outputs": [],
   "source": [
    "%load_ext autoreload\n",
    "%autoreload 2"
   ]
  },
  {
   "cell_type": "code",
   "execution_count": 2,
   "metadata": {
    "execution": {
     "iopub.execute_input": "2021-09-16T20:35:08.936790Z",
     "iopub.status.busy": "2021-09-16T20:35:08.936383Z",
     "iopub.status.idle": "2021-09-16T20:35:09.571778Z",
     "shell.execute_reply": "2021-09-16T20:35:09.572088Z"
    },
    "papermill": {
     "duration": 0.66627,
     "end_time": "2021-09-16T20:35:09.572202",
     "exception": false,
     "start_time": "2021-09-16T20:35:08.905932",
     "status": "completed"
    },
    "tags": []
   },
   "outputs": [],
   "source": [
    "from IPython.display import display\n",
    "import numpy as np\n",
    "import pandas as pd\n",
    "\n",
    "import rpy2.robjects as ro\n",
    "from rpy2.robjects import pandas2ri\n",
    "from rpy2.robjects.conversion import localconverter\n",
    "\n",
    "import conf\n",
    "from data.cache import read_data\n",
    "from entity import Trait"
   ]
  },
  {
   "cell_type": "code",
   "execution_count": 3,
   "metadata": {
    "execution": {
     "iopub.execute_input": "2021-09-16T20:35:09.624752Z",
     "iopub.status.busy": "2021-09-16T20:35:09.624352Z",
     "iopub.status.idle": "2021-09-16T20:35:09.626078Z",
     "shell.execute_reply": "2021-09-16T20:35:09.626367Z"
    },
    "papermill": {
     "duration": 0.032598,
     "end_time": "2021-09-16T20:35:09.626474",
     "exception": false,
     "start_time": "2021-09-16T20:35:09.593876",
     "status": "completed"
    },
    "tags": []
   },
   "outputs": [],
   "source": [
    "readRDS = ro.r[\"readRDS\"]"
   ]
  },
  {
   "cell_type": "code",
   "execution_count": 4,
   "metadata": {
    "execution": {
     "iopub.execute_input": "2021-09-16T20:35:09.677559Z",
     "iopub.status.busy": "2021-09-16T20:35:09.677183Z",
     "iopub.status.idle": "2021-09-16T20:35:09.678871Z",
     "shell.execute_reply": "2021-09-16T20:35:09.679162Z"
    },
    "papermill": {
     "duration": 0.031336,
     "end_time": "2021-09-16T20:35:09.679263",
     "exception": false,
     "start_time": "2021-09-16T20:35:09.647927",
     "status": "completed"
    },
    "tags": []
   },
   "outputs": [],
   "source": [
    "saveRDS = ro.r[\"saveRDS\"]"
   ]
  },
  {
   "cell_type": "markdown",
   "metadata": {
    "papermill": {
     "duration": 0.028147,
     "end_time": "2021-09-16T20:35:09.728791",
     "exception": false,
     "start_time": "2021-09-16T20:35:09.700644",
     "status": "completed"
    },
    "tags": []
   },
   "source": [
    "# Load S-MultiXcan results"
   ]
  },
  {
   "cell_type": "code",
   "execution_count": 5,
   "metadata": {
    "execution": {
     "iopub.execute_input": "2021-09-16T20:35:09.785854Z",
     "iopub.status.busy": "2021-09-16T20:35:09.785458Z",
     "iopub.status.idle": "2021-09-16T20:35:10.061216Z",
     "shell.execute_reply": "2021-09-16T20:35:10.061531Z"
    },
    "papermill": {
     "duration": 0.311685,
     "end_time": "2021-09-16T20:35:10.061642",
     "exception": false,
     "start_time": "2021-09-16T20:35:09.749957",
     "status": "completed"
    },
    "tags": []
   },
   "outputs": [],
   "source": [
    "smultixcan_zscores = read_data(conf.PHENOMEXCAN[\"SMULTIXCAN_MASHR_ZSCORES_FILE\"])"
   ]
  },
  {
   "cell_type": "code",
   "execution_count": 6,
   "metadata": {
    "execution": {
     "iopub.execute_input": "2021-09-16T20:35:10.116355Z",
     "iopub.status.busy": "2021-09-16T20:35:10.115969Z",
     "iopub.status.idle": "2021-09-16T20:35:10.120128Z",
     "shell.execute_reply": "2021-09-16T20:35:10.120418Z"
    },
    "papermill": {
     "duration": 0.037126,
     "end_time": "2021-09-16T20:35:10.120525",
     "exception": false,
     "start_time": "2021-09-16T20:35:10.083399",
     "status": "completed"
    },
    "tags": []
   },
   "outputs": [
    {
     "data": {
      "text/plain": [
       "(22515, 4091)"
      ]
     },
     "execution_count": 6,
     "metadata": {},
     "output_type": "execute_result"
    }
   ],
   "source": [
    "smultixcan_zscores.shape"
   ]
  },
  {
   "cell_type": "code",
   "execution_count": 7,
   "metadata": {
    "execution": {
     "iopub.execute_input": "2021-09-16T20:35:10.165354Z",
     "iopub.status.busy": "2021-09-16T20:35:10.164980Z",
     "iopub.status.idle": "2021-09-16T20:35:10.187291Z",
     "shell.execute_reply": "2021-09-16T20:35:10.187581Z"
    },
    "papermill": {
     "duration": 0.045732,
     "end_time": "2021-09-16T20:35:10.187690",
     "exception": false,
     "start_time": "2021-09-16T20:35:10.141958",
     "status": "completed"
    },
    "tags": []
   },
   "outputs": [
    {
     "data": {
      "text/html": [
       "<div>\n",
       "<style scoped>\n",
       "    .dataframe tbody tr th:only-of-type {\n",
       "        vertical-align: middle;\n",
       "    }\n",
       "\n",
       "    .dataframe tbody tr th {\n",
       "        vertical-align: top;\n",
       "    }\n",
       "\n",
       "    .dataframe thead th {\n",
       "        text-align: right;\n",
       "    }\n",
       "</style>\n",
       "<table border=\"1\" class=\"dataframe\">\n",
       "  <thead>\n",
       "    <tr style=\"text-align: right;\">\n",
       "      <th></th>\n",
       "      <th>20096_1-Size_of_red_wine_glass_drunk_small_125ml</th>\n",
       "      <th>2345-Ever_had_bowel_cancer_screening</th>\n",
       "      <th>N49-Diagnoses_main_ICD10_N49_Inflammatory_disorders_of_male_genital_organs_not_elsewhere_classified</th>\n",
       "      <th>100011_raw-Iron</th>\n",
       "      <th>5221-Index_of_best_refractometry_result_right</th>\n",
       "      <th>20003_1141150624-Treatmentmedication_code_zomig_25mg_tablet</th>\n",
       "      <th>S69-Diagnoses_main_ICD10_S69_Other_and_unspecified_injuries_of_wrist_and_hand</th>\n",
       "      <th>20024_1136-Job_code_deduced_Information_and_communication_technology_managers</th>\n",
       "      <th>20002_1385-Noncancer_illness_code_selfreported_allergy_or_anaphylactic_reaction_to_food</th>\n",
       "      <th>G6_SLEEPAPNO-Sleep_apnoea</th>\n",
       "      <th>...</th>\n",
       "      <th>Astle_et_al_2016_Sum_basophil_neutrophil_counts</th>\n",
       "      <th>RA_OKADA_TRANS_ETHNIC</th>\n",
       "      <th>pgc.scz2</th>\n",
       "      <th>PGC_ADHD_EUR_2017</th>\n",
       "      <th>MAGIC_FastingGlucose</th>\n",
       "      <th>Astle_et_al_2016_Red_blood_cell_count</th>\n",
       "      <th>SSGAC_Depressive_Symptoms</th>\n",
       "      <th>BCAC_ER_positive_BreastCancer_EUR</th>\n",
       "      <th>IBD.EUR.Inflammatory_Bowel_Disease</th>\n",
       "      <th>Astle_et_al_2016_High_light_scatter_reticulocyte_count</th>\n",
       "    </tr>\n",
       "    <tr>\n",
       "      <th>gene_name</th>\n",
       "      <th></th>\n",
       "      <th></th>\n",
       "      <th></th>\n",
       "      <th></th>\n",
       "      <th></th>\n",
       "      <th></th>\n",
       "      <th></th>\n",
       "      <th></th>\n",
       "      <th></th>\n",
       "      <th></th>\n",
       "      <th></th>\n",
       "      <th></th>\n",
       "      <th></th>\n",
       "      <th></th>\n",
       "      <th></th>\n",
       "      <th></th>\n",
       "      <th></th>\n",
       "      <th></th>\n",
       "      <th></th>\n",
       "      <th></th>\n",
       "      <th></th>\n",
       "    </tr>\n",
       "  </thead>\n",
       "  <tbody>\n",
       "    <tr>\n",
       "      <th>ENSG00000000419</th>\n",
       "      <td>0.169468</td>\n",
       "      <td>0.102558</td>\n",
       "      <td>0.239545</td>\n",
       "      <td>0.887758</td>\n",
       "      <td>1.313448</td>\n",
       "      <td>1.472148</td>\n",
       "      <td>0.726160</td>\n",
       "      <td>1.516367</td>\n",
       "      <td>1.299771</td>\n",
       "      <td>1.068093</td>\n",
       "      <td>...</td>\n",
       "      <td>0.813014</td>\n",
       "      <td>0.275993</td>\n",
       "      <td>0.510834</td>\n",
       "      <td>0.024717</td>\n",
       "      <td>0.430951</td>\n",
       "      <td>0.824314</td>\n",
       "      <td>0.367414</td>\n",
       "      <td>1.377624</td>\n",
       "      <td>0.738444</td>\n",
       "      <td>0.298259</td>\n",
       "    </tr>\n",
       "    <tr>\n",
       "      <th>ENSG00000000457</th>\n",
       "      <td>1.358856</td>\n",
       "      <td>1.846875</td>\n",
       "      <td>0.139324</td>\n",
       "      <td>0.129530</td>\n",
       "      <td>0.757757</td>\n",
       "      <td>1.103979</td>\n",
       "      <td>0.612418</td>\n",
       "      <td>1.822327</td>\n",
       "      <td>2.035372</td>\n",
       "      <td>1.008058</td>\n",
       "      <td>...</td>\n",
       "      <td>1.441795</td>\n",
       "      <td>0.654791</td>\n",
       "      <td>2.545653</td>\n",
       "      <td>1.202984</td>\n",
       "      <td>0.514244</td>\n",
       "      <td>0.237223</td>\n",
       "      <td>0.414171</td>\n",
       "      <td>0.101731</td>\n",
       "      <td>1.012735</td>\n",
       "      <td>0.945167</td>\n",
       "    </tr>\n",
       "    <tr>\n",
       "      <th>ENSG00000000460</th>\n",
       "      <td>0.151008</td>\n",
       "      <td>1.173202</td>\n",
       "      <td>1.179426</td>\n",
       "      <td>0.571656</td>\n",
       "      <td>0.098771</td>\n",
       "      <td>0.221072</td>\n",
       "      <td>0.276415</td>\n",
       "      <td>0.461381</td>\n",
       "      <td>0.855502</td>\n",
       "      <td>0.201876</td>\n",
       "      <td>...</td>\n",
       "      <td>0.668962</td>\n",
       "      <td>0.300040</td>\n",
       "      <td>0.541782</td>\n",
       "      <td>1.033308</td>\n",
       "      <td>0.482261</td>\n",
       "      <td>0.695624</td>\n",
       "      <td>0.336480</td>\n",
       "      <td>0.083316</td>\n",
       "      <td>3.493196</td>\n",
       "      <td>0.991948</td>\n",
       "    </tr>\n",
       "    <tr>\n",
       "      <th>ENSG00000000938</th>\n",
       "      <td>1.302722</td>\n",
       "      <td>0.841524</td>\n",
       "      <td>1.578926</td>\n",
       "      <td>0.721340</td>\n",
       "      <td>0.139314</td>\n",
       "      <td>4.387016</td>\n",
       "      <td>0.125959</td>\n",
       "      <td>1.247123</td>\n",
       "      <td>0.215124</td>\n",
       "      <td>0.892083</td>\n",
       "      <td>...</td>\n",
       "      <td>0.126657</td>\n",
       "      <td>0.048048</td>\n",
       "      <td>1.886356</td>\n",
       "      <td>0.540496</td>\n",
       "      <td>0.127524</td>\n",
       "      <td>1.494501</td>\n",
       "      <td>0.056432</td>\n",
       "      <td>1.704863</td>\n",
       "      <td>1.351619</td>\n",
       "      <td>1.027297</td>\n",
       "    </tr>\n",
       "    <tr>\n",
       "      <th>ENSG00000000971</th>\n",
       "      <td>1.338813</td>\n",
       "      <td>0.262339</td>\n",
       "      <td>0.689379</td>\n",
       "      <td>1.702019</td>\n",
       "      <td>0.325859</td>\n",
       "      <td>0.063161</td>\n",
       "      <td>1.141126</td>\n",
       "      <td>0.882682</td>\n",
       "      <td>0.035533</td>\n",
       "      <td>1.810191</td>\n",
       "      <td>...</td>\n",
       "      <td>0.858497</td>\n",
       "      <td>1.675562</td>\n",
       "      <td>2.319072</td>\n",
       "      <td>1.598721</td>\n",
       "      <td>0.162958</td>\n",
       "      <td>0.005703</td>\n",
       "      <td>3.004544</td>\n",
       "      <td>0.803669</td>\n",
       "      <td>0.444266</td>\n",
       "      <td>0.165671</td>\n",
       "    </tr>\n",
       "  </tbody>\n",
       "</table>\n",
       "<p>5 rows × 4091 columns</p>\n",
       "</div>"
      ],
      "text/plain": [
       "                 20096_1-Size_of_red_wine_glass_drunk_small_125ml  \\\n",
       "gene_name                                                           \n",
       "ENSG00000000419                                          0.169468   \n",
       "ENSG00000000457                                          1.358856   \n",
       "ENSG00000000460                                          0.151008   \n",
       "ENSG00000000938                                          1.302722   \n",
       "ENSG00000000971                                          1.338813   \n",
       "\n",
       "                 2345-Ever_had_bowel_cancer_screening  \\\n",
       "gene_name                                               \n",
       "ENSG00000000419                              0.102558   \n",
       "ENSG00000000457                              1.846875   \n",
       "ENSG00000000460                              1.173202   \n",
       "ENSG00000000938                              0.841524   \n",
       "ENSG00000000971                              0.262339   \n",
       "\n",
       "                 N49-Diagnoses_main_ICD10_N49_Inflammatory_disorders_of_male_genital_organs_not_elsewhere_classified  \\\n",
       "gene_name                                                                                                              \n",
       "ENSG00000000419                                           0.239545                                                     \n",
       "ENSG00000000457                                           0.139324                                                     \n",
       "ENSG00000000460                                           1.179426                                                     \n",
       "ENSG00000000938                                           1.578926                                                     \n",
       "ENSG00000000971                                           0.689379                                                     \n",
       "\n",
       "                 100011_raw-Iron  \\\n",
       "gene_name                          \n",
       "ENSG00000000419         0.887758   \n",
       "ENSG00000000457         0.129530   \n",
       "ENSG00000000460         0.571656   \n",
       "ENSG00000000938         0.721340   \n",
       "ENSG00000000971         1.702019   \n",
       "\n",
       "                 5221-Index_of_best_refractometry_result_right  \\\n",
       "gene_name                                                        \n",
       "ENSG00000000419                                       1.313448   \n",
       "ENSG00000000457                                       0.757757   \n",
       "ENSG00000000460                                       0.098771   \n",
       "ENSG00000000938                                       0.139314   \n",
       "ENSG00000000971                                       0.325859   \n",
       "\n",
       "                 20003_1141150624-Treatmentmedication_code_zomig_25mg_tablet  \\\n",
       "gene_name                                                                      \n",
       "ENSG00000000419                                           1.472148             \n",
       "ENSG00000000457                                           1.103979             \n",
       "ENSG00000000460                                           0.221072             \n",
       "ENSG00000000938                                           4.387016             \n",
       "ENSG00000000971                                           0.063161             \n",
       "\n",
       "                 S69-Diagnoses_main_ICD10_S69_Other_and_unspecified_injuries_of_wrist_and_hand  \\\n",
       "gene_name                                                                                        \n",
       "ENSG00000000419                                           0.726160                               \n",
       "ENSG00000000457                                           0.612418                               \n",
       "ENSG00000000460                                           0.276415                               \n",
       "ENSG00000000938                                           0.125959                               \n",
       "ENSG00000000971                                           1.141126                               \n",
       "\n",
       "                 20024_1136-Job_code_deduced_Information_and_communication_technology_managers  \\\n",
       "gene_name                                                                                        \n",
       "ENSG00000000419                                           1.516367                               \n",
       "ENSG00000000457                                           1.822327                               \n",
       "ENSG00000000460                                           0.461381                               \n",
       "ENSG00000000938                                           1.247123                               \n",
       "ENSG00000000971                                           0.882682                               \n",
       "\n",
       "                 20002_1385-Noncancer_illness_code_selfreported_allergy_or_anaphylactic_reaction_to_food  \\\n",
       "gene_name                                                                                                  \n",
       "ENSG00000000419                                           1.299771                                         \n",
       "ENSG00000000457                                           2.035372                                         \n",
       "ENSG00000000460                                           0.855502                                         \n",
       "ENSG00000000938                                           0.215124                                         \n",
       "ENSG00000000971                                           0.035533                                         \n",
       "\n",
       "                 G6_SLEEPAPNO-Sleep_apnoea  ...  \\\n",
       "gene_name                                   ...   \n",
       "ENSG00000000419                   1.068093  ...   \n",
       "ENSG00000000457                   1.008058  ...   \n",
       "ENSG00000000460                   0.201876  ...   \n",
       "ENSG00000000938                   0.892083  ...   \n",
       "ENSG00000000971                   1.810191  ...   \n",
       "\n",
       "                 Astle_et_al_2016_Sum_basophil_neutrophil_counts  \\\n",
       "gene_name                                                          \n",
       "ENSG00000000419                                         0.813014   \n",
       "ENSG00000000457                                         1.441795   \n",
       "ENSG00000000460                                         0.668962   \n",
       "ENSG00000000938                                         0.126657   \n",
       "ENSG00000000971                                         0.858497   \n",
       "\n",
       "                 RA_OKADA_TRANS_ETHNIC  pgc.scz2  PGC_ADHD_EUR_2017  \\\n",
       "gene_name                                                             \n",
       "ENSG00000000419               0.275993  0.510834           0.024717   \n",
       "ENSG00000000457               0.654791  2.545653           1.202984   \n",
       "ENSG00000000460               0.300040  0.541782           1.033308   \n",
       "ENSG00000000938               0.048048  1.886356           0.540496   \n",
       "ENSG00000000971               1.675562  2.319072           1.598721   \n",
       "\n",
       "                 MAGIC_FastingGlucose  Astle_et_al_2016_Red_blood_cell_count  \\\n",
       "gene_name                                                                      \n",
       "ENSG00000000419              0.430951                               0.824314   \n",
       "ENSG00000000457              0.514244                               0.237223   \n",
       "ENSG00000000460              0.482261                               0.695624   \n",
       "ENSG00000000938              0.127524                               1.494501   \n",
       "ENSG00000000971              0.162958                               0.005703   \n",
       "\n",
       "                 SSGAC_Depressive_Symptoms  BCAC_ER_positive_BreastCancer_EUR  \\\n",
       "gene_name                                                                       \n",
       "ENSG00000000419                   0.367414                           1.377624   \n",
       "ENSG00000000457                   0.414171                           0.101731   \n",
       "ENSG00000000460                   0.336480                           0.083316   \n",
       "ENSG00000000938                   0.056432                           1.704863   \n",
       "ENSG00000000971                   3.004544                           0.803669   \n",
       "\n",
       "                 IBD.EUR.Inflammatory_Bowel_Disease  \\\n",
       "gene_name                                             \n",
       "ENSG00000000419                            0.738444   \n",
       "ENSG00000000457                            1.012735   \n",
       "ENSG00000000460                            3.493196   \n",
       "ENSG00000000938                            1.351619   \n",
       "ENSG00000000971                            0.444266   \n",
       "\n",
       "                 Astle_et_al_2016_High_light_scatter_reticulocyte_count  \n",
       "gene_name                                                                \n",
       "ENSG00000000419                                           0.298259       \n",
       "ENSG00000000457                                           0.945167       \n",
       "ENSG00000000460                                           0.991948       \n",
       "ENSG00000000938                                           1.027297       \n",
       "ENSG00000000971                                           0.165671       \n",
       "\n",
       "[5 rows x 4091 columns]"
      ]
     },
     "execution_count": 7,
     "metadata": {},
     "output_type": "execute_result"
    }
   ],
   "source": [
    "smultixcan_zscores.head()"
   ]
  },
  {
   "cell_type": "code",
   "execution_count": 8,
   "metadata": {
    "execution": {
     "iopub.execute_input": "2021-09-16T20:35:10.252924Z",
     "iopub.status.busy": "2021-09-16T20:35:10.252545Z",
     "iopub.status.idle": "2021-09-16T20:35:15.262423Z",
     "shell.execute_reply": "2021-09-16T20:35:15.262911Z"
    },
    "papermill": {
     "duration": 5.053186,
     "end_time": "2021-09-16T20:35:15.263016",
     "exception": false,
     "start_time": "2021-09-16T20:35:10.209830",
     "status": "completed"
    },
    "tags": []
   },
   "outputs": [
    {
     "data": {
      "text/plain": [
       "count             91055810.0\n",
       "mean      0.8548868013440799\n",
       "std       0.7207745082616361\n",
       "min                      0.0\n",
       "25%      0.33468240503293545\n",
       "50%       0.7071672980795678\n",
       "75%       1.2090944428758905\n",
       "max                     40.0\n",
       "dtype: object"
      ]
     },
     "execution_count": 8,
     "metadata": {},
     "output_type": "execute_result"
    }
   ],
   "source": [
    "pd.Series(smultixcan_zscores.values.flatten()).describe().apply(str)"
   ]
  },
  {
   "cell_type": "markdown",
   "metadata": {
    "papermill": {
     "duration": 0.022118,
     "end_time": "2021-09-16T20:35:15.307645",
     "exception": false,
     "start_time": "2021-09-16T20:35:15.285527",
     "status": "completed"
    },
    "tags": []
   },
   "source": [
    "# Get PhenomeXcan traits"
   ]
  },
  {
   "cell_type": "code",
   "execution_count": 9,
   "metadata": {
    "execution": {
     "iopub.execute_input": "2021-09-16T20:35:15.366194Z",
     "iopub.status.busy": "2021-09-16T20:35:15.365815Z",
     "iopub.status.idle": "2021-09-16T20:35:15.937983Z",
     "shell.execute_reply": "2021-09-16T20:35:15.937657Z"
    },
    "papermill": {
     "duration": 0.608201,
     "end_time": "2021-09-16T20:35:15.938076",
     "exception": false,
     "start_time": "2021-09-16T20:35:15.329875",
     "status": "completed"
    },
    "tags": []
   },
   "outputs": [],
   "source": [
    "phenomexcan_fullcode_to_traits = {\n",
    "    (trait_obj := Trait.get_trait(full_code=trait_name)).full_code: trait_obj\n",
    "    for trait_name in smultixcan_zscores.columns\n",
    "}"
   ]
  },
  {
   "cell_type": "code",
   "execution_count": 10,
   "metadata": {
    "execution": {
     "iopub.execute_input": "2021-09-16T20:35:15.992689Z",
     "iopub.status.busy": "2021-09-16T20:35:15.992309Z",
     "iopub.status.idle": "2021-09-16T20:35:15.995692Z",
     "shell.execute_reply": "2021-09-16T20:35:15.996090Z"
    },
    "papermill": {
     "duration": 0.03187,
     "end_time": "2021-09-16T20:35:15.996194",
     "exception": false,
     "start_time": "2021-09-16T20:35:15.964324",
     "status": "completed"
    },
    "tags": []
   },
   "outputs": [
    {
     "data": {
      "text/plain": [
       "4091"
      ]
     },
     "execution_count": 10,
     "metadata": {},
     "output_type": "execute_result"
    }
   ],
   "source": [
    "len(phenomexcan_fullcode_to_traits)"
   ]
  },
  {
   "cell_type": "code",
   "execution_count": 11,
   "metadata": {
    "execution": {
     "iopub.execute_input": "2021-09-16T20:35:16.048689Z",
     "iopub.status.busy": "2021-09-16T20:35:16.048295Z",
     "iopub.status.idle": "2021-09-16T20:35:16.050021Z",
     "shell.execute_reply": "2021-09-16T20:35:16.050310Z"
    },
    "papermill": {
     "duration": 0.031705,
     "end_time": "2021-09-16T20:35:16.050416",
     "exception": false,
     "start_time": "2021-09-16T20:35:16.018711",
     "status": "completed"
    },
    "tags": []
   },
   "outputs": [],
   "source": [
    "assert len(phenomexcan_fullcode_to_traits) == smultixcan_zscores.columns.shape[0]"
   ]
  },
  {
   "cell_type": "markdown",
   "metadata": {
    "papermill": {
     "duration": 0.022507,
     "end_time": "2021-09-16T20:35:16.095608",
     "exception": false,
     "start_time": "2021-09-16T20:35:16.073101",
     "status": "completed"
    },
    "tags": []
   },
   "source": [
    "# Change/combine traits in S-MultiXcan results"
   ]
  },
  {
   "cell_type": "code",
   "execution_count": 12,
   "metadata": {
    "execution": {
     "iopub.execute_input": "2021-09-16T20:35:16.155824Z",
     "iopub.status.busy": "2021-09-16T20:35:16.155438Z",
     "iopub.status.idle": "2021-09-16T20:35:16.157746Z",
     "shell.execute_reply": "2021-09-16T20:35:16.158239Z"
    },
    "papermill": {
     "duration": 0.040284,
     "end_time": "2021-09-16T20:35:16.158342",
     "exception": false,
     "start_time": "2021-09-16T20:35:16.118058",
     "status": "completed"
    },
    "tags": []
   },
   "outputs": [],
   "source": [
    "traits_sample_size = pd.DataFrame(\n",
    "    [\n",
    "        {\n",
    "            \"fullcode\": fc,\n",
    "            \"n_cases\": t.n_cases,\n",
    "            \"n_controls\": t.n_controls,\n",
    "            \"n\": t.n,\n",
    "        }\n",
    "        for fc, t in phenomexcan_fullcode_to_traits.items()\n",
    "    ]\n",
    ")"
   ]
  },
  {
   "cell_type": "code",
   "execution_count": 13,
   "metadata": {
    "execution": {
     "iopub.execute_input": "2021-09-16T20:35:16.211530Z",
     "iopub.status.busy": "2021-09-16T20:35:16.211152Z",
     "iopub.status.idle": "2021-09-16T20:35:16.213457Z",
     "shell.execute_reply": "2021-09-16T20:35:16.213749Z"
    },
    "papermill": {
     "duration": 0.032933,
     "end_time": "2021-09-16T20:35:16.213852",
     "exception": false,
     "start_time": "2021-09-16T20:35:16.180919",
     "status": "completed"
    },
    "tags": []
   },
   "outputs": [
    {
     "data": {
      "text/plain": [
       "(4091, 4)"
      ]
     },
     "execution_count": 13,
     "metadata": {},
     "output_type": "execute_result"
    }
   ],
   "source": [
    "traits_sample_size.shape"
   ]
  },
  {
   "cell_type": "code",
   "execution_count": 14,
   "metadata": {
    "execution": {
     "iopub.execute_input": "2021-09-16T20:35:16.270238Z",
     "iopub.status.busy": "2021-09-16T20:35:16.269856Z",
     "iopub.status.idle": "2021-09-16T20:35:16.273837Z",
     "shell.execute_reply": "2021-09-16T20:35:16.274129Z"
    },
    "papermill": {
     "duration": 0.037689,
     "end_time": "2021-09-16T20:35:16.274234",
     "exception": false,
     "start_time": "2021-09-16T20:35:16.236545",
     "status": "completed"
    },
    "tags": []
   },
   "outputs": [
    {
     "data": {
      "text/html": [
       "<div>\n",
       "<style scoped>\n",
       "    .dataframe tbody tr th:only-of-type {\n",
       "        vertical-align: middle;\n",
       "    }\n",
       "\n",
       "    .dataframe tbody tr th {\n",
       "        vertical-align: top;\n",
       "    }\n",
       "\n",
       "    .dataframe thead th {\n",
       "        text-align: right;\n",
       "    }\n",
       "</style>\n",
       "<table border=\"1\" class=\"dataframe\">\n",
       "  <thead>\n",
       "    <tr style=\"text-align: right;\">\n",
       "      <th></th>\n",
       "      <th>fullcode</th>\n",
       "      <th>n_cases</th>\n",
       "      <th>n_controls</th>\n",
       "      <th>n</th>\n",
       "    </tr>\n",
       "  </thead>\n",
       "  <tbody>\n",
       "    <tr>\n",
       "      <th>0</th>\n",
       "      <td>20096_1-Size_of_red_wine_glass_drunk_small_125ml</td>\n",
       "      <td>3078.0</td>\n",
       "      <td>48349.0</td>\n",
       "      <td>51427</td>\n",
       "    </tr>\n",
       "    <tr>\n",
       "      <th>1</th>\n",
       "      <td>2345-Ever_had_bowel_cancer_screening</td>\n",
       "      <td>114475.0</td>\n",
       "      <td>240878.0</td>\n",
       "      <td>355353</td>\n",
       "    </tr>\n",
       "    <tr>\n",
       "      <th>2</th>\n",
       "      <td>N49-Diagnoses_main_ICD10_N49_Inflammatory_diso...</td>\n",
       "      <td>121.0</td>\n",
       "      <td>361073.0</td>\n",
       "      <td>361194</td>\n",
       "    </tr>\n",
       "    <tr>\n",
       "      <th>3</th>\n",
       "      <td>100011_raw-Iron</td>\n",
       "      <td>NaN</td>\n",
       "      <td>NaN</td>\n",
       "      <td>51453</td>\n",
       "    </tr>\n",
       "    <tr>\n",
       "      <th>4</th>\n",
       "      <td>5221-Index_of_best_refractometry_result_right</td>\n",
       "      <td>NaN</td>\n",
       "      <td>NaN</td>\n",
       "      <td>77983</td>\n",
       "    </tr>\n",
       "  </tbody>\n",
       "</table>\n",
       "</div>"
      ],
      "text/plain": [
       "                                            fullcode   n_cases  n_controls  \\\n",
       "0   20096_1-Size_of_red_wine_glass_drunk_small_125ml    3078.0     48349.0   \n",
       "1               2345-Ever_had_bowel_cancer_screening  114475.0    240878.0   \n",
       "2  N49-Diagnoses_main_ICD10_N49_Inflammatory_diso...     121.0    361073.0   \n",
       "3                                    100011_raw-Iron       NaN         NaN   \n",
       "4      5221-Index_of_best_refractometry_result_right       NaN         NaN   \n",
       "\n",
       "        n  \n",
       "0   51427  \n",
       "1  355353  \n",
       "2  361194  \n",
       "3   51453  \n",
       "4   77983  "
      ]
     },
     "execution_count": 14,
     "metadata": {},
     "output_type": "execute_result"
    }
   ],
   "source": [
    "traits_sample_size.head()"
   ]
  },
  {
   "cell_type": "code",
   "execution_count": 15,
   "metadata": {
    "execution": {
     "iopub.execute_input": "2021-09-16T20:35:16.324070Z",
     "iopub.status.busy": "2021-09-16T20:35:16.323664Z",
     "iopub.status.idle": "2021-09-16T20:35:16.330459Z",
     "shell.execute_reply": "2021-09-16T20:35:16.330818Z"
    },
    "papermill": {
     "duration": 0.033806,
     "end_time": "2021-09-16T20:35:16.330922",
     "exception": false,
     "start_time": "2021-09-16T20:35:16.297116",
     "status": "completed"
    },
    "tags": []
   },
   "outputs": [],
   "source": [
    "def get_weights(traits_fullcodes):\n",
    "    \"\"\"\n",
    "    This function takes a list of PhenomeXcan traits that map to the same EFO label, and returns their weights using sample sizes\n",
    "    from GWASs. In the case of binary traits (i.e. diseases) the formula is:\n",
    "        (n_cases / n_controls) * sqrt(n)\n",
    "    where n=n_cases+n_controls\n",
    "    In case of continuous traits (such as height) it is sqrt(n)\n",
    "    \"\"\"\n",
    "    return np.array(\n",
    "        [\n",
    "            (t.n_cases / t.n_controls) * np.sqrt(t.n)\n",
    "            if not pd.isnull((t := phenomexcan_fullcode_to_traits[trait_name]).n_cases)\n",
    "            and not pd.isnull(t.n_controls)\n",
    "            else np.sqrt(t.n)\n",
    "            for trait_name in traits_fullcodes\n",
    "        ]\n",
    "    )\n",
    "\n",
    "\n",
    "def _combine_z_scores(x):\n",
    "    \"\"\"\n",
    "    Combines PhenomeXcan traits that map to the same EFO label using the Stouffer's Z-score method:\n",
    "    https://en.wikipedia.org/wiki/Fisher%27s_method#Relation_to_Stouffer's_Z-score_method\n",
    "\n",
    "    It uses weights for each traits, which are computed with function get_weights.\n",
    "\n",
    "    Args:\n",
    "        x: a pandas.DataFrame with PhenomeXcan traits in the columns, and genes in the rows. Values are z-scores of association in S-MultiXcan.\n",
    "\n",
    "    Returns:\n",
    "        pandas.Series for all genes and the single EFO label for which all traits in x map to. Values are the combined z-scores.\n",
    "    \"\"\"\n",
    "    # combine z-scores using Stouffer's method\n",
    "    weights = get_weights(x.columns)\n",
    "    numerator = (x * weights).sum(1)\n",
    "    denominator = np.sqrt(np.power(weights, 2).sum())\n",
    "    new_data = numerator / denominator\n",
    "\n",
    "    return pd.Series(\n",
    "        data=new_data.values,\n",
    "        index=x.index.copy(),\n",
    "        name=x.columns[0],\n",
    "    )"
   ]
  },
  {
   "cell_type": "markdown",
   "metadata": {
    "papermill": {
     "duration": 0.022586,
     "end_time": "2021-09-16T20:35:16.376356",
     "exception": false,
     "start_time": "2021-09-16T20:35:16.353770",
     "status": "completed"
    },
    "tags": []
   },
   "source": [
    "## Get a list of EFO labels for PhenomeXcan traits"
   ]
  },
  {
   "cell_type": "code",
   "execution_count": 16,
   "metadata": {
    "execution": {
     "iopub.execute_input": "2021-09-16T20:35:16.429064Z",
     "iopub.status.busy": "2021-09-16T20:35:16.428668Z",
     "iopub.status.idle": "2021-09-16T20:35:16.680176Z",
     "shell.execute_reply": "2021-09-16T20:35:16.679825Z"
    },
    "papermill": {
     "duration": 0.28113,
     "end_time": "2021-09-16T20:35:16.680268",
     "exception": false,
     "start_time": "2021-09-16T20:35:16.399138",
     "status": "completed"
    },
    "tags": []
   },
   "outputs": [],
   "source": [
    "traits_efo_labels = [\n",
    "    t.get_efo_info().label\n",
    "    if (t := phenomexcan_fullcode_to_traits[c]).get_efo_info() is not None\n",
    "    else t.full_code\n",
    "    for c in smultixcan_zscores.columns\n",
    "]"
   ]
  },
  {
   "cell_type": "code",
   "execution_count": 17,
   "metadata": {
    "execution": {
     "iopub.execute_input": "2021-09-16T20:35:16.732706Z",
     "iopub.status.busy": "2021-09-16T20:35:16.732316Z",
     "iopub.status.idle": "2021-09-16T20:35:16.734850Z",
     "shell.execute_reply": "2021-09-16T20:35:16.735212Z"
    },
    "papermill": {
     "duration": 0.032052,
     "end_time": "2021-09-16T20:35:16.735317",
     "exception": false,
     "start_time": "2021-09-16T20:35:16.703265",
     "status": "completed"
    },
    "tags": []
   },
   "outputs": [
    {
     "data": {
      "text/plain": [
       "4091"
      ]
     },
     "execution_count": 17,
     "metadata": {},
     "output_type": "execute_result"
    }
   ],
   "source": [
    "len(traits_efo_labels)"
   ]
  },
  {
   "cell_type": "code",
   "execution_count": 18,
   "metadata": {
    "execution": {
     "iopub.execute_input": "2021-09-16T20:35:16.788714Z",
     "iopub.status.busy": "2021-09-16T20:35:16.788330Z",
     "iopub.status.idle": "2021-09-16T20:35:16.790789Z",
     "shell.execute_reply": "2021-09-16T20:35:16.791141Z"
    },
    "papermill": {
     "duration": 0.032581,
     "end_time": "2021-09-16T20:35:16.791244",
     "exception": false,
     "start_time": "2021-09-16T20:35:16.758663",
     "status": "completed"
    },
    "tags": []
   },
   "outputs": [
    {
     "data": {
      "text/plain": [
       "['20096_1-Size_of_red_wine_glass_drunk_small_125ml',\n",
       " '2345-Ever_had_bowel_cancer_screening',\n",
       " 'male reproductive system disease',\n",
       " '100011_raw-Iron',\n",
       " '5221-Index_of_best_refractometry_result_right',\n",
       " '20003_1141150624-Treatmentmedication_code_zomig_25mg_tablet',\n",
       " 'injury',\n",
       " '20024_1136-Job_code_deduced_Information_and_communication_technology_managers',\n",
       " 'food allergy',\n",
       " 'G6_SLEEPAPNO-Sleep_apnoea']"
      ]
     },
     "execution_count": 18,
     "metadata": {},
     "output_type": "execute_result"
    }
   ],
   "source": [
    "traits_efo_labels[:10]"
   ]
  },
  {
   "cell_type": "markdown",
   "metadata": {
    "papermill": {
     "duration": 0.023051,
     "end_time": "2021-09-16T20:35:16.837338",
     "exception": false,
     "start_time": "2021-09-16T20:35:16.814287",
     "status": "completed"
    },
    "tags": []
   },
   "source": [
    "## Combine z-scores for same EFO labels"
   ]
  },
  {
   "cell_type": "code",
   "execution_count": 19,
   "metadata": {
    "execution": {
     "iopub.execute_input": "2021-09-16T20:35:16.892770Z",
     "iopub.status.busy": "2021-09-16T20:35:16.892370Z",
     "iopub.status.idle": "2021-09-16T20:35:25.410732Z",
     "shell.execute_reply": "2021-09-16T20:35:25.410385Z"
    },
    "papermill": {
     "duration": 8.55047,
     "end_time": "2021-09-16T20:35:25.410824",
     "exception": false,
     "start_time": "2021-09-16T20:35:16.860354",
     "status": "completed"
    },
    "tags": []
   },
   "outputs": [],
   "source": [
    "smultixcan_zscores_combined = smultixcan_zscores.groupby(\n",
    "    traits_efo_labels, axis=1\n",
    ").apply(_combine_z_scores)"
   ]
  },
  {
   "cell_type": "code",
   "execution_count": 20,
   "metadata": {
    "execution": {
     "iopub.execute_input": "2021-09-16T20:35:25.464699Z",
     "iopub.status.busy": "2021-09-16T20:35:25.464313Z",
     "iopub.status.idle": "2021-09-16T20:35:25.466652Z",
     "shell.execute_reply": "2021-09-16T20:35:25.466970Z"
    },
    "papermill": {
     "duration": 0.032786,
     "end_time": "2021-09-16T20:35:25.467077",
     "exception": false,
     "start_time": "2021-09-16T20:35:25.434291",
     "status": "completed"
    },
    "tags": []
   },
   "outputs": [
    {
     "data": {
      "text/plain": [
       "(22515, 3752)"
      ]
     },
     "execution_count": 20,
     "metadata": {},
     "output_type": "execute_result"
    }
   ],
   "source": [
    "smultixcan_zscores_combined.shape"
   ]
  },
  {
   "cell_type": "code",
   "execution_count": 21,
   "metadata": {
    "execution": {
     "iopub.execute_input": "2021-09-16T20:35:25.520937Z",
     "iopub.status.busy": "2021-09-16T20:35:25.520551Z",
     "iopub.status.idle": "2021-09-16T20:35:25.535905Z",
     "shell.execute_reply": "2021-09-16T20:35:25.536219Z"
    },
    "papermill": {
     "duration": 0.04541,
     "end_time": "2021-09-16T20:35:25.536328",
     "exception": false,
     "start_time": "2021-09-16T20:35:25.490918",
     "status": "completed"
    },
    "tags": []
   },
   "outputs": [
    {
     "data": {
      "text/html": [
       "<div>\n",
       "<style scoped>\n",
       "    .dataframe tbody tr th:only-of-type {\n",
       "        vertical-align: middle;\n",
       "    }\n",
       "\n",
       "    .dataframe tbody tr th {\n",
       "        vertical-align: top;\n",
       "    }\n",
       "\n",
       "    .dataframe thead th {\n",
       "        text-align: right;\n",
       "    }\n",
       "</style>\n",
       "<table border=\"1\" class=\"dataframe\">\n",
       "  <thead>\n",
       "    <tr style=\"text-align: right;\">\n",
       "      <th></th>\n",
       "      <th>100001_raw-Food_weight</th>\n",
       "      <th>100002_raw-Energy</th>\n",
       "      <th>100003_raw-Protein</th>\n",
       "      <th>100004_raw-Fat</th>\n",
       "      <th>100005_raw-Carbohydrate</th>\n",
       "      <th>100006_raw-Saturated_fat</th>\n",
       "      <th>100007_raw-Polyunsaturated_fat</th>\n",
       "      <th>100008_raw-Total_sugars</th>\n",
       "      <th>100009_raw-Englyst_dietary_fibre</th>\n",
       "      <th>100010-Portion_size</th>\n",
       "      <th>...</th>\n",
       "      <th>visual impairment</th>\n",
       "      <th>vitiligo</th>\n",
       "      <th>vitreous body disease</th>\n",
       "      <th>vocal cord polyp</th>\n",
       "      <th>voice disorders</th>\n",
       "      <th>wellbeing measurement AND family relationship</th>\n",
       "      <th>wheezing</th>\n",
       "      <th>whooping cough</th>\n",
       "      <th>worry measurement</th>\n",
       "      <th>wrist fracture</th>\n",
       "    </tr>\n",
       "    <tr>\n",
       "      <th>gene_name</th>\n",
       "      <th></th>\n",
       "      <th></th>\n",
       "      <th></th>\n",
       "      <th></th>\n",
       "      <th></th>\n",
       "      <th></th>\n",
       "      <th></th>\n",
       "      <th></th>\n",
       "      <th></th>\n",
       "      <th></th>\n",
       "      <th></th>\n",
       "      <th></th>\n",
       "      <th></th>\n",
       "      <th></th>\n",
       "      <th></th>\n",
       "      <th></th>\n",
       "      <th></th>\n",
       "      <th></th>\n",
       "      <th></th>\n",
       "      <th></th>\n",
       "      <th></th>\n",
       "    </tr>\n",
       "  </thead>\n",
       "  <tbody>\n",
       "    <tr>\n",
       "      <th>ENSG00000000419</th>\n",
       "      <td>1.145442</td>\n",
       "      <td>0.724557</td>\n",
       "      <td>0.090876</td>\n",
       "      <td>0.298165</td>\n",
       "      <td>1.134347</td>\n",
       "      <td>1.371138</td>\n",
       "      <td>0.065718</td>\n",
       "      <td>0.794317</td>\n",
       "      <td>0.600342</td>\n",
       "      <td>0.317652</td>\n",
       "      <td>...</td>\n",
       "      <td>0.360518</td>\n",
       "      <td>1.351624</td>\n",
       "      <td>1.157695</td>\n",
       "      <td>0.835289</td>\n",
       "      <td>1.173072</td>\n",
       "      <td>1.337280</td>\n",
       "      <td>1.743822</td>\n",
       "      <td>1.017226</td>\n",
       "      <td>1.512184</td>\n",
       "      <td>0.972241</td>\n",
       "    </tr>\n",
       "    <tr>\n",
       "      <th>ENSG00000000457</th>\n",
       "      <td>0.618066</td>\n",
       "      <td>1.028131</td>\n",
       "      <td>2.218420</td>\n",
       "      <td>0.762584</td>\n",
       "      <td>0.934418</td>\n",
       "      <td>0.192993</td>\n",
       "      <td>1.080230</td>\n",
       "      <td>0.765997</td>\n",
       "      <td>0.375898</td>\n",
       "      <td>0.678731</td>\n",
       "      <td>...</td>\n",
       "      <td>2.134504</td>\n",
       "      <td>0.127830</td>\n",
       "      <td>0.534690</td>\n",
       "      <td>0.120516</td>\n",
       "      <td>0.517464</td>\n",
       "      <td>2.545363</td>\n",
       "      <td>0.673331</td>\n",
       "      <td>2.003092</td>\n",
       "      <td>0.344000</td>\n",
       "      <td>2.033122</td>\n",
       "    </tr>\n",
       "    <tr>\n",
       "      <th>ENSG00000000460</th>\n",
       "      <td>0.515724</td>\n",
       "      <td>0.403596</td>\n",
       "      <td>1.251359</td>\n",
       "      <td>0.433091</td>\n",
       "      <td>0.413466</td>\n",
       "      <td>0.246261</td>\n",
       "      <td>1.236151</td>\n",
       "      <td>0.827430</td>\n",
       "      <td>0.571985</td>\n",
       "      <td>0.782174</td>\n",
       "      <td>...</td>\n",
       "      <td>1.768905</td>\n",
       "      <td>0.992408</td>\n",
       "      <td>0.548215</td>\n",
       "      <td>0.412341</td>\n",
       "      <td>1.499415</td>\n",
       "      <td>1.366780</td>\n",
       "      <td>0.443318</td>\n",
       "      <td>0.417630</td>\n",
       "      <td>0.225934</td>\n",
       "      <td>1.613246</td>\n",
       "    </tr>\n",
       "    <tr>\n",
       "      <th>ENSG00000000938</th>\n",
       "      <td>0.280781</td>\n",
       "      <td>0.253910</td>\n",
       "      <td>0.879148</td>\n",
       "      <td>0.352705</td>\n",
       "      <td>0.051846</td>\n",
       "      <td>0.184212</td>\n",
       "      <td>0.148566</td>\n",
       "      <td>0.009989</td>\n",
       "      <td>0.363751</td>\n",
       "      <td>0.374514</td>\n",
       "      <td>...</td>\n",
       "      <td>0.656552</td>\n",
       "      <td>2.046041</td>\n",
       "      <td>2.746832</td>\n",
       "      <td>0.108211</td>\n",
       "      <td>1.008258</td>\n",
       "      <td>0.755695</td>\n",
       "      <td>0.896228</td>\n",
       "      <td>0.875047</td>\n",
       "      <td>0.476405</td>\n",
       "      <td>1.693057</td>\n",
       "    </tr>\n",
       "    <tr>\n",
       "      <th>ENSG00000000971</th>\n",
       "      <td>0.548127</td>\n",
       "      <td>0.389877</td>\n",
       "      <td>0.723469</td>\n",
       "      <td>1.167250</td>\n",
       "      <td>0.315952</td>\n",
       "      <td>0.324939</td>\n",
       "      <td>1.613932</td>\n",
       "      <td>0.311432</td>\n",
       "      <td>0.333548</td>\n",
       "      <td>1.807243</td>\n",
       "      <td>...</td>\n",
       "      <td>0.260482</td>\n",
       "      <td>0.646204</td>\n",
       "      <td>1.080240</td>\n",
       "      <td>0.678330</td>\n",
       "      <td>1.465358</td>\n",
       "      <td>0.307672</td>\n",
       "      <td>0.118376</td>\n",
       "      <td>1.419812</td>\n",
       "      <td>0.000002</td>\n",
       "      <td>1.040737</td>\n",
       "    </tr>\n",
       "  </tbody>\n",
       "</table>\n",
       "<p>5 rows × 3752 columns</p>\n",
       "</div>"
      ],
      "text/plain": [
       "                 100001_raw-Food_weight  100002_raw-Energy  \\\n",
       "gene_name                                                    \n",
       "ENSG00000000419                1.145442           0.724557   \n",
       "ENSG00000000457                0.618066           1.028131   \n",
       "ENSG00000000460                0.515724           0.403596   \n",
       "ENSG00000000938                0.280781           0.253910   \n",
       "ENSG00000000971                0.548127           0.389877   \n",
       "\n",
       "                 100003_raw-Protein  100004_raw-Fat  100005_raw-Carbohydrate  \\\n",
       "gene_name                                                                      \n",
       "ENSG00000000419            0.090876        0.298165                 1.134347   \n",
       "ENSG00000000457            2.218420        0.762584                 0.934418   \n",
       "ENSG00000000460            1.251359        0.433091                 0.413466   \n",
       "ENSG00000000938            0.879148        0.352705                 0.051846   \n",
       "ENSG00000000971            0.723469        1.167250                 0.315952   \n",
       "\n",
       "                 100006_raw-Saturated_fat  100007_raw-Polyunsaturated_fat  \\\n",
       "gene_name                                                                   \n",
       "ENSG00000000419                  1.371138                        0.065718   \n",
       "ENSG00000000457                  0.192993                        1.080230   \n",
       "ENSG00000000460                  0.246261                        1.236151   \n",
       "ENSG00000000938                  0.184212                        0.148566   \n",
       "ENSG00000000971                  0.324939                        1.613932   \n",
       "\n",
       "                 100008_raw-Total_sugars  100009_raw-Englyst_dietary_fibre  \\\n",
       "gene_name                                                                    \n",
       "ENSG00000000419                 0.794317                          0.600342   \n",
       "ENSG00000000457                 0.765997                          0.375898   \n",
       "ENSG00000000460                 0.827430                          0.571985   \n",
       "ENSG00000000938                 0.009989                          0.363751   \n",
       "ENSG00000000971                 0.311432                          0.333548   \n",
       "\n",
       "                 100010-Portion_size  ...  visual impairment  vitiligo  \\\n",
       "gene_name                             ...                                \n",
       "ENSG00000000419             0.317652  ...           0.360518  1.351624   \n",
       "ENSG00000000457             0.678731  ...           2.134504  0.127830   \n",
       "ENSG00000000460             0.782174  ...           1.768905  0.992408   \n",
       "ENSG00000000938             0.374514  ...           0.656552  2.046041   \n",
       "ENSG00000000971             1.807243  ...           0.260482  0.646204   \n",
       "\n",
       "                 vitreous body disease  vocal cord polyp  voice disorders  \\\n",
       "gene_name                                                                   \n",
       "ENSG00000000419               1.157695          0.835289         1.173072   \n",
       "ENSG00000000457               0.534690          0.120516         0.517464   \n",
       "ENSG00000000460               0.548215          0.412341         1.499415   \n",
       "ENSG00000000938               2.746832          0.108211         1.008258   \n",
       "ENSG00000000971               1.080240          0.678330         1.465358   \n",
       "\n",
       "                 wellbeing measurement AND family relationship  wheezing  \\\n",
       "gene_name                                                                  \n",
       "ENSG00000000419                                       1.337280  1.743822   \n",
       "ENSG00000000457                                       2.545363  0.673331   \n",
       "ENSG00000000460                                       1.366780  0.443318   \n",
       "ENSG00000000938                                       0.755695  0.896228   \n",
       "ENSG00000000971                                       0.307672  0.118376   \n",
       "\n",
       "                 whooping cough  worry measurement  wrist fracture  \n",
       "gene_name                                                           \n",
       "ENSG00000000419        1.017226           1.512184        0.972241  \n",
       "ENSG00000000457        2.003092           0.344000        2.033122  \n",
       "ENSG00000000460        0.417630           0.225934        1.613246  \n",
       "ENSG00000000938        0.875047           0.476405        1.693057  \n",
       "ENSG00000000971        1.419812           0.000002        1.040737  \n",
       "\n",
       "[5 rows x 3752 columns]"
      ]
     },
     "execution_count": 21,
     "metadata": {},
     "output_type": "execute_result"
    }
   ],
   "source": [
    "smultixcan_zscores_combined.head()"
   ]
  },
  {
   "cell_type": "code",
   "execution_count": 22,
   "metadata": {
    "execution": {
     "iopub.execute_input": "2021-09-16T20:35:25.592898Z",
     "iopub.status.busy": "2021-09-16T20:35:25.592495Z",
     "iopub.status.idle": "2021-09-16T20:35:25.646053Z",
     "shell.execute_reply": "2021-09-16T20:35:25.646347Z"
    },
    "papermill": {
     "duration": 0.086153,
     "end_time": "2021-09-16T20:35:25.646459",
     "exception": false,
     "start_time": "2021-09-16T20:35:25.560306",
     "status": "completed"
    },
    "tags": []
   },
   "outputs": [],
   "source": [
    "assert not smultixcan_zscores_combined.isna().any().any()"
   ]
  },
  {
   "cell_type": "markdown",
   "metadata": {
    "papermill": {
     "duration": 0.023557,
     "end_time": "2021-09-16T20:35:25.694370",
     "exception": false,
     "start_time": "2021-09-16T20:35:25.670813",
     "status": "completed"
    },
    "tags": []
   },
   "source": [
    "## Testing"
   ]
  },
  {
   "cell_type": "markdown",
   "metadata": {
    "papermill": {
     "duration": 0.024125,
     "end_time": "2021-09-16T20:35:25.743160",
     "exception": false,
     "start_time": "2021-09-16T20:35:25.719035",
     "status": "completed"
    },
    "tags": []
   },
   "source": [
    "### Stats"
   ]
  },
  {
   "cell_type": "code",
   "execution_count": 23,
   "metadata": {
    "execution": {
     "iopub.execute_input": "2021-09-16T20:35:26.131125Z",
     "iopub.status.busy": "2021-09-16T20:35:26.130712Z",
     "iopub.status.idle": "2021-09-16T20:35:30.382893Z",
     "shell.execute_reply": "2021-09-16T20:35:30.383216Z"
    },
    "papermill": {
     "duration": 4.615722,
     "end_time": "2021-09-16T20:35:30.383325",
     "exception": false,
     "start_time": "2021-09-16T20:35:25.767603",
     "status": "completed"
    },
    "tags": []
   },
   "outputs": [
    {
     "data": {
      "text/plain": [
       "count             84476280.0\n",
       "mean      0.8638967105401182\n",
       "std       0.7355093768129249\n",
       "min                      0.0\n",
       "25%      0.33519032841499646\n",
       "50%       0.7165349117038435\n",
       "75%       1.2250506784524884\n",
       "max       52.732309168781974\n",
       "dtype: object"
      ]
     },
     "metadata": {},
     "output_type": "display_data"
    }
   ],
   "source": [
    "_stats = smultixcan_zscores_combined.stack().describe()\n",
    "display(_stats.apply(str))"
   ]
  },
  {
   "cell_type": "code",
   "execution_count": 24,
   "metadata": {
    "execution": {
     "iopub.execute_input": "2021-09-16T20:35:30.433965Z",
     "iopub.status.busy": "2021-09-16T20:35:30.433581Z",
     "iopub.status.idle": "2021-09-16T20:35:30.440304Z",
     "shell.execute_reply": "2021-09-16T20:35:30.440586Z"
    },
    "papermill": {
     "duration": 0.033204,
     "end_time": "2021-09-16T20:35:30.440691",
     "exception": false,
     "start_time": "2021-09-16T20:35:30.407487",
     "status": "completed"
    },
    "tags": []
   },
   "outputs": [],
   "source": [
    "assert _stats[\"min\"] >= 0.0"
   ]
  },
  {
   "cell_type": "code",
   "execution_count": 25,
   "metadata": {
    "execution": {
     "iopub.execute_input": "2021-09-16T20:35:30.496649Z",
     "iopub.status.busy": "2021-09-16T20:35:30.496244Z",
     "iopub.status.idle": "2021-09-16T20:35:30.497471Z",
     "shell.execute_reply": "2021-09-16T20:35:30.497822Z"
    },
    "papermill": {
     "duration": 0.032872,
     "end_time": "2021-09-16T20:35:30.497924",
     "exception": false,
     "start_time": "2021-09-16T20:35:30.465052",
     "status": "completed"
    },
    "tags": []
   },
   "outputs": [],
   "source": [
    "assert _stats[\"max\"] < 55.0"
   ]
  },
  {
   "cell_type": "markdown",
   "metadata": {
    "papermill": {
     "duration": 0.02391,
     "end_time": "2021-09-16T20:35:30.545982",
     "exception": false,
     "start_time": "2021-09-16T20:35:30.522072",
     "status": "completed"
    },
    "tags": []
   },
   "source": [
    "### EFO label (asthma) which combined three PhenomeXcan traits."
   ]
  },
  {
   "cell_type": "code",
   "execution_count": 26,
   "metadata": {
    "execution": {
     "iopub.execute_input": "2021-09-16T20:35:30.601037Z",
     "iopub.status.busy": "2021-09-16T20:35:30.600649Z",
     "iopub.status.idle": "2021-09-16T20:35:30.602920Z",
     "shell.execute_reply": "2021-09-16T20:35:30.603285Z"
    },
    "papermill": {
     "duration": 0.033153,
     "end_time": "2021-09-16T20:35:30.603390",
     "exception": false,
     "start_time": "2021-09-16T20:35:30.570237",
     "status": "completed"
    },
    "tags": []
   },
   "outputs": [],
   "source": [
    "_asthma_traits = [\n",
    "    \"22127-Doctor_diagnosed_asthma\",\n",
    "    \"20002_1111-Noncancer_illness_code_selfreported_asthma\",\n",
    "    \"J45-Diagnoses_main_ICD10_J45_Asthma\",\n",
    "]"
   ]
  },
  {
   "cell_type": "code",
   "execution_count": 27,
   "metadata": {
    "execution": {
     "iopub.execute_input": "2021-09-16T20:35:30.653860Z",
     "iopub.status.busy": "2021-09-16T20:35:30.653481Z",
     "iopub.status.idle": "2021-09-16T20:35:30.665774Z",
     "shell.execute_reply": "2021-09-16T20:35:30.666138Z"
    },
    "papermill": {
     "duration": 0.038614,
     "end_time": "2021-09-16T20:35:30.666244",
     "exception": false,
     "start_time": "2021-09-16T20:35:30.627630",
     "status": "completed"
    },
    "tags": []
   },
   "outputs": [
    {
     "data": {
      "text/html": [
       "<div>\n",
       "<style scoped>\n",
       "    .dataframe tbody tr th:only-of-type {\n",
       "        vertical-align: middle;\n",
       "    }\n",
       "\n",
       "    .dataframe tbody tr th {\n",
       "        vertical-align: top;\n",
       "    }\n",
       "\n",
       "    .dataframe thead th {\n",
       "        text-align: right;\n",
       "    }\n",
       "</style>\n",
       "<table border=\"1\" class=\"dataframe\">\n",
       "  <thead>\n",
       "    <tr style=\"text-align: right;\">\n",
       "      <th></th>\n",
       "      <th>22127-Doctor_diagnosed_asthma</th>\n",
       "      <th>20002_1111-Noncancer_illness_code_selfreported_asthma</th>\n",
       "      <th>J45-Diagnoses_main_ICD10_J45_Asthma</th>\n",
       "    </tr>\n",
       "    <tr>\n",
       "      <th>gene_name</th>\n",
       "      <th></th>\n",
       "      <th></th>\n",
       "      <th></th>\n",
       "    </tr>\n",
       "  </thead>\n",
       "  <tbody>\n",
       "    <tr>\n",
       "      <th>ENSG00000000419</th>\n",
       "      <td>0.327024</td>\n",
       "      <td>0.707137</td>\n",
       "      <td>0.805021</td>\n",
       "    </tr>\n",
       "    <tr>\n",
       "      <th>ENSG00000000457</th>\n",
       "      <td>1.088281</td>\n",
       "      <td>0.700004</td>\n",
       "      <td>1.214683</td>\n",
       "    </tr>\n",
       "    <tr>\n",
       "      <th>ENSG00000000460</th>\n",
       "      <td>1.520867</td>\n",
       "      <td>0.695085</td>\n",
       "      <td>1.681098</td>\n",
       "    </tr>\n",
       "    <tr>\n",
       "      <th>ENSG00000000938</th>\n",
       "      <td>0.911426</td>\n",
       "      <td>2.321047</td>\n",
       "      <td>0.661209</td>\n",
       "    </tr>\n",
       "    <tr>\n",
       "      <th>ENSG00000000971</th>\n",
       "      <td>0.738320</td>\n",
       "      <td>1.788336</td>\n",
       "      <td>0.701912</td>\n",
       "    </tr>\n",
       "    <tr>\n",
       "      <th>...</th>\n",
       "      <td>...</td>\n",
       "      <td>...</td>\n",
       "      <td>...</td>\n",
       "    </tr>\n",
       "    <tr>\n",
       "      <th>ENSG00000284430</th>\n",
       "      <td>0.965250</td>\n",
       "      <td>0.760152</td>\n",
       "      <td>1.476950</td>\n",
       "    </tr>\n",
       "    <tr>\n",
       "      <th>ENSG00000284452</th>\n",
       "      <td>0.479626</td>\n",
       "      <td>0.508688</td>\n",
       "      <td>1.071783</td>\n",
       "    </tr>\n",
       "    <tr>\n",
       "      <th>ENSG00000284513</th>\n",
       "      <td>1.150067</td>\n",
       "      <td>1.378157</td>\n",
       "      <td>1.326444</td>\n",
       "    </tr>\n",
       "    <tr>\n",
       "      <th>ENSG00000284526</th>\n",
       "      <td>0.302116</td>\n",
       "      <td>0.006106</td>\n",
       "      <td>0.463360</td>\n",
       "    </tr>\n",
       "    <tr>\n",
       "      <th>ENSG00000284552</th>\n",
       "      <td>0.630819</td>\n",
       "      <td>0.063691</td>\n",
       "      <td>0.402880</td>\n",
       "    </tr>\n",
       "  </tbody>\n",
       "</table>\n",
       "<p>22515 rows × 3 columns</p>\n",
       "</div>"
      ],
      "text/plain": [
       "                 22127-Doctor_diagnosed_asthma  \\\n",
       "gene_name                                        \n",
       "ENSG00000000419                       0.327024   \n",
       "ENSG00000000457                       1.088281   \n",
       "ENSG00000000460                       1.520867   \n",
       "ENSG00000000938                       0.911426   \n",
       "ENSG00000000971                       0.738320   \n",
       "...                                        ...   \n",
       "ENSG00000284430                       0.965250   \n",
       "ENSG00000284452                       0.479626   \n",
       "ENSG00000284513                       1.150067   \n",
       "ENSG00000284526                       0.302116   \n",
       "ENSG00000284552                       0.630819   \n",
       "\n",
       "                 20002_1111-Noncancer_illness_code_selfreported_asthma  \\\n",
       "gene_name                                                                \n",
       "ENSG00000000419                                           0.707137       \n",
       "ENSG00000000457                                           0.700004       \n",
       "ENSG00000000460                                           0.695085       \n",
       "ENSG00000000938                                           2.321047       \n",
       "ENSG00000000971                                           1.788336       \n",
       "...                                                            ...       \n",
       "ENSG00000284430                                           0.760152       \n",
       "ENSG00000284452                                           0.508688       \n",
       "ENSG00000284513                                           1.378157       \n",
       "ENSG00000284526                                           0.006106       \n",
       "ENSG00000284552                                           0.063691       \n",
       "\n",
       "                 J45-Diagnoses_main_ICD10_J45_Asthma  \n",
       "gene_name                                             \n",
       "ENSG00000000419                             0.805021  \n",
       "ENSG00000000457                             1.214683  \n",
       "ENSG00000000460                             1.681098  \n",
       "ENSG00000000938                             0.661209  \n",
       "ENSG00000000971                             0.701912  \n",
       "...                                              ...  \n",
       "ENSG00000284430                             1.476950  \n",
       "ENSG00000284452                             1.071783  \n",
       "ENSG00000284513                             1.326444  \n",
       "ENSG00000284526                             0.463360  \n",
       "ENSG00000284552                             0.402880  \n",
       "\n",
       "[22515 rows x 3 columns]"
      ]
     },
     "execution_count": 27,
     "metadata": {},
     "output_type": "execute_result"
    }
   ],
   "source": [
    "smultixcan_zscores[_asthma_traits]"
   ]
  },
  {
   "cell_type": "code",
   "execution_count": 28,
   "metadata": {
    "execution": {
     "iopub.execute_input": "2021-09-16T20:35:30.724747Z",
     "iopub.status.busy": "2021-09-16T20:35:30.724352Z",
     "iopub.status.idle": "2021-09-16T20:35:30.727819Z",
     "shell.execute_reply": "2021-09-16T20:35:30.728213Z"
    },
    "papermill": {
     "duration": 0.037535,
     "end_time": "2021-09-16T20:35:30.728318",
     "exception": false,
     "start_time": "2021-09-16T20:35:30.690783",
     "status": "completed"
    },
    "tags": []
   },
   "outputs": [
    {
     "data": {
      "text/html": [
       "<div>\n",
       "<style scoped>\n",
       "    .dataframe tbody tr th:only-of-type {\n",
       "        vertical-align: middle;\n",
       "    }\n",
       "\n",
       "    .dataframe tbody tr th {\n",
       "        vertical-align: top;\n",
       "    }\n",
       "\n",
       "    .dataframe thead th {\n",
       "        text-align: right;\n",
       "    }\n",
       "</style>\n",
       "<table border=\"1\" class=\"dataframe\">\n",
       "  <thead>\n",
       "    <tr style=\"text-align: right;\">\n",
       "      <th></th>\n",
       "      <th>fullcode</th>\n",
       "      <th>n_cases</th>\n",
       "      <th>n_controls</th>\n",
       "      <th>n</th>\n",
       "    </tr>\n",
       "  </thead>\n",
       "  <tbody>\n",
       "    <tr>\n",
       "      <th>1213</th>\n",
       "      <td>20002_1111-Noncancer_illness_code_selfreported...</td>\n",
       "      <td>41934.0</td>\n",
       "      <td>319207.0</td>\n",
       "      <td>361141</td>\n",
       "    </tr>\n",
       "    <tr>\n",
       "      <th>3485</th>\n",
       "      <td>22127-Doctor_diagnosed_asthma</td>\n",
       "      <td>11717.0</td>\n",
       "      <td>80070.0</td>\n",
       "      <td>91787</td>\n",
       "    </tr>\n",
       "    <tr>\n",
       "      <th>3667</th>\n",
       "      <td>J45-Diagnoses_main_ICD10_J45_Asthma</td>\n",
       "      <td>1693.0</td>\n",
       "      <td>359501.0</td>\n",
       "      <td>361194</td>\n",
       "    </tr>\n",
       "  </tbody>\n",
       "</table>\n",
       "</div>"
      ],
      "text/plain": [
       "                                               fullcode  n_cases  n_controls  \\\n",
       "1213  20002_1111-Noncancer_illness_code_selfreported...  41934.0    319207.0   \n",
       "3485                      22127-Doctor_diagnosed_asthma  11717.0     80070.0   \n",
       "3667                J45-Diagnoses_main_ICD10_J45_Asthma   1693.0    359501.0   \n",
       "\n",
       "           n  \n",
       "1213  361141  \n",
       "3485   91787  \n",
       "3667  361194  "
      ]
     },
     "execution_count": 28,
     "metadata": {},
     "output_type": "execute_result"
    }
   ],
   "source": [
    "traits_sample_size[traits_sample_size[\"fullcode\"].isin(_asthma_traits)]"
   ]
  },
  {
   "cell_type": "code",
   "execution_count": 29,
   "metadata": {
    "execution": {
     "iopub.execute_input": "2021-09-16T20:35:30.784713Z",
     "iopub.status.busy": "2021-09-16T20:35:30.784319Z",
     "iopub.status.idle": "2021-09-16T20:35:30.788711Z",
     "shell.execute_reply": "2021-09-16T20:35:30.789067Z"
    },
    "papermill": {
     "duration": 0.036062,
     "end_time": "2021-09-16T20:35:30.789172",
     "exception": false,
     "start_time": "2021-09-16T20:35:30.753110",
     "status": "completed"
    },
    "tags": []
   },
   "outputs": [],
   "source": [
    "_trait = \"asthma\"\n",
    "\n",
    "_gene = \"ENSG00000000419\"\n",
    "_weights = np.array(\n",
    "    [\n",
    "        ((41934.0 / 319207.0) * np.sqrt(361141)),\n",
    "        ((11717.0 / 80070.0) * np.sqrt(91787)),\n",
    "        ((1693.0 / 359501.0) * np.sqrt(361194)),\n",
    "    ]\n",
    ")\n",
    "assert smultixcan_zscores_combined.loc[_gene, _trait].round(3) == (\n",
    "    (_weights[1] * 0.327024 + _weights[0] * 0.707137 + _weights[2] * 0.805021)\n",
    "    / np.sqrt(_weights[0] ** 2 + _weights[1] ** 2 + _weights[2] ** 2)\n",
    ").round(3)\n",
    "\n",
    "_gene = \"ENSG00000284526\"\n",
    "assert smultixcan_zscores_combined.loc[_gene, _trait].round(3) == (\n",
    "    (_weights[1] * 0.302116 + _weights[0] * 0.006106 + _weights[2] * 0.463360)\n",
    "    / np.sqrt(_weights[0] ** 2 + _weights[1] ** 2 + _weights[2] ** 2)\n",
    ").round(3)"
   ]
  },
  {
   "cell_type": "markdown",
   "metadata": {
    "papermill": {
     "duration": 0.024357,
     "end_time": "2021-09-16T20:35:30.837998",
     "exception": false,
     "start_time": "2021-09-16T20:35:30.813641",
     "status": "completed"
    },
    "tags": []
   },
   "source": [
    "### PhenomeXcan trait which has no EFO label."
   ]
  },
  {
   "cell_type": "code",
   "execution_count": 30,
   "metadata": {
    "execution": {
     "iopub.execute_input": "2021-09-16T20:35:30.911793Z",
     "iopub.status.busy": "2021-09-16T20:35:30.911403Z",
     "iopub.status.idle": "2021-09-16T20:35:30.913097Z",
     "shell.execute_reply": "2021-09-16T20:35:30.913384Z"
    },
    "papermill": {
     "duration": 0.051085,
     "end_time": "2021-09-16T20:35:30.913491",
     "exception": false,
     "start_time": "2021-09-16T20:35:30.862406",
     "status": "completed"
    },
    "tags": []
   },
   "outputs": [],
   "source": [
    "_trait = \"100001_raw-Food_weight\""
   ]
  },
  {
   "cell_type": "code",
   "execution_count": 31,
   "metadata": {
    "execution": {
     "iopub.execute_input": "2021-09-16T20:35:30.973342Z",
     "iopub.status.busy": "2021-09-16T20:35:30.972962Z",
     "iopub.status.idle": "2021-09-16T20:35:30.976227Z",
     "shell.execute_reply": "2021-09-16T20:35:30.976516Z"
    },
    "papermill": {
     "duration": 0.038559,
     "end_time": "2021-09-16T20:35:30.976622",
     "exception": false,
     "start_time": "2021-09-16T20:35:30.938063",
     "status": "completed"
    },
    "tags": []
   },
   "outputs": [
    {
     "data": {
      "text/html": [
       "<div>\n",
       "<style scoped>\n",
       "    .dataframe tbody tr th:only-of-type {\n",
       "        vertical-align: middle;\n",
       "    }\n",
       "\n",
       "    .dataframe tbody tr th {\n",
       "        vertical-align: top;\n",
       "    }\n",
       "\n",
       "    .dataframe thead th {\n",
       "        text-align: right;\n",
       "    }\n",
       "</style>\n",
       "<table border=\"1\" class=\"dataframe\">\n",
       "  <thead>\n",
       "    <tr style=\"text-align: right;\">\n",
       "      <th></th>\n",
       "      <th>fullcode</th>\n",
       "      <th>n_cases</th>\n",
       "      <th>n_controls</th>\n",
       "      <th>n</th>\n",
       "    </tr>\n",
       "  </thead>\n",
       "  <tbody>\n",
       "    <tr>\n",
       "      <th>751</th>\n",
       "      <td>100001_raw-Food_weight</td>\n",
       "      <td>NaN</td>\n",
       "      <td>NaN</td>\n",
       "      <td>51453</td>\n",
       "    </tr>\n",
       "  </tbody>\n",
       "</table>\n",
       "</div>"
      ],
      "text/plain": [
       "                   fullcode  n_cases  n_controls      n\n",
       "751  100001_raw-Food_weight      NaN         NaN  51453"
      ]
     },
     "execution_count": 31,
     "metadata": {},
     "output_type": "execute_result"
    }
   ],
   "source": [
    "traits_sample_size[traits_sample_size[\"fullcode\"].isin((_trait,))]"
   ]
  },
  {
   "cell_type": "code",
   "execution_count": 32,
   "metadata": {
    "execution": {
     "iopub.execute_input": "2021-09-16T20:35:31.037588Z",
     "iopub.status.busy": "2021-09-16T20:35:31.037200Z",
     "iopub.status.idle": "2021-09-16T20:35:31.043098Z",
     "shell.execute_reply": "2021-09-16T20:35:31.043421Z"
    },
    "papermill": {
     "duration": 0.041642,
     "end_time": "2021-09-16T20:35:31.043543",
     "exception": false,
     "start_time": "2021-09-16T20:35:31.001901",
     "status": "completed"
    },
    "tags": []
   },
   "outputs": [
    {
     "data": {
      "text/plain": [
       "gene_name\n",
       "ENSG00000000419    1.145442\n",
       "ENSG00000000457    0.618066\n",
       "ENSG00000000460    0.515724\n",
       "ENSG00000000938    0.280781\n",
       "ENSG00000000971    0.548127\n",
       "                     ...   \n",
       "ENSG00000284430    0.124980\n",
       "ENSG00000284452    1.587903\n",
       "ENSG00000284513    1.522281\n",
       "ENSG00000284526    0.150938\n",
       "ENSG00000284552    1.010143\n",
       "Name: 100001_raw-Food_weight, Length: 22515, dtype: float64"
      ]
     },
     "execution_count": 32,
     "metadata": {},
     "output_type": "execute_result"
    }
   ],
   "source": [
    "smultixcan_zscores[_trait]"
   ]
  },
  {
   "cell_type": "code",
   "execution_count": 33,
   "metadata": {
    "execution": {
     "iopub.execute_input": "2021-09-16T20:35:31.114349Z",
     "iopub.status.busy": "2021-09-16T20:35:31.113957Z",
     "iopub.status.idle": "2021-09-16T20:35:31.115667Z",
     "shell.execute_reply": "2021-09-16T20:35:31.115965Z"
    },
    "papermill": {
     "duration": 0.044906,
     "end_time": "2021-09-16T20:35:31.116069",
     "exception": false,
     "start_time": "2021-09-16T20:35:31.071163",
     "status": "completed"
    },
    "tags": []
   },
   "outputs": [],
   "source": [
    "_gene = \"ENSG00000284513\"\n",
    "_weights = np.array(\n",
    "    [\n",
    "        np.sqrt(51453),\n",
    "    ]\n",
    ")\n",
    "assert smultixcan_zscores_combined.loc[_gene, _trait].round(3) == (\n",
    "    (_weights[0] * 1.522281) / np.sqrt(_weights[0] ** 2)\n",
    ").round(3)\n",
    "\n",
    "_gene = \"ENSG00000000971\"\n",
    "assert smultixcan_zscores_combined.loc[_gene, _trait].round(3) == (\n",
    "    (_weights[0] * 0.548127) / np.sqrt(_weights[0] ** 2)\n",
    ").round(3)"
   ]
  },
  {
   "cell_type": "markdown",
   "metadata": {
    "papermill": {
     "duration": 0.026797,
     "end_time": "2021-09-16T20:35:31.169900",
     "exception": false,
     "start_time": "2021-09-16T20:35:31.143103",
     "status": "completed"
    },
    "tags": []
   },
   "source": [
    "# Save full (all traits, some with EFO, some not)"
   ]
  },
  {
   "cell_type": "code",
   "execution_count": 34,
   "metadata": {
    "execution": {
     "iopub.execute_input": "2021-09-16T20:35:31.228690Z",
     "iopub.status.busy": "2021-09-16T20:35:31.228312Z",
     "iopub.status.idle": "2021-09-16T20:35:31.230598Z",
     "shell.execute_reply": "2021-09-16T20:35:31.230889Z"
    },
    "papermill": {
     "duration": 0.035838,
     "end_time": "2021-09-16T20:35:31.230993",
     "exception": false,
     "start_time": "2021-09-16T20:35:31.195155",
     "status": "completed"
    },
    "tags": []
   },
   "outputs": [
    {
     "data": {
      "text/plain": [
       "(22515, 3752)"
      ]
     },
     "execution_count": 34,
     "metadata": {},
     "output_type": "execute_result"
    }
   ],
   "source": [
    "smultixcan_zscores_combined.shape"
   ]
  },
  {
   "cell_type": "code",
   "execution_count": 35,
   "metadata": {
    "execution": {
     "iopub.execute_input": "2021-09-16T20:35:31.300870Z",
     "iopub.status.busy": "2021-09-16T20:35:31.300487Z",
     "iopub.status.idle": "2021-09-16T20:35:31.304774Z",
     "shell.execute_reply": "2021-09-16T20:35:31.305258Z"
    },
    "papermill": {
     "duration": 0.048976,
     "end_time": "2021-09-16T20:35:31.305362",
     "exception": false,
     "start_time": "2021-09-16T20:35:31.256386",
     "status": "completed"
    },
    "tags": []
   },
   "outputs": [
    {
     "data": {
      "text/html": [
       "<div>\n",
       "<style scoped>\n",
       "    .dataframe tbody tr th:only-of-type {\n",
       "        vertical-align: middle;\n",
       "    }\n",
       "\n",
       "    .dataframe tbody tr th {\n",
       "        vertical-align: top;\n",
       "    }\n",
       "\n",
       "    .dataframe thead th {\n",
       "        text-align: right;\n",
       "    }\n",
       "</style>\n",
       "<table border=\"1\" class=\"dataframe\">\n",
       "  <thead>\n",
       "    <tr style=\"text-align: right;\">\n",
       "      <th></th>\n",
       "      <th>100001_raw-Food_weight</th>\n",
       "      <th>100002_raw-Energy</th>\n",
       "      <th>100003_raw-Protein</th>\n",
       "      <th>100004_raw-Fat</th>\n",
       "      <th>100005_raw-Carbohydrate</th>\n",
       "      <th>100006_raw-Saturated_fat</th>\n",
       "      <th>100007_raw-Polyunsaturated_fat</th>\n",
       "      <th>100008_raw-Total_sugars</th>\n",
       "      <th>100009_raw-Englyst_dietary_fibre</th>\n",
       "      <th>100010-Portion_size</th>\n",
       "      <th>...</th>\n",
       "      <th>visual impairment</th>\n",
       "      <th>vitiligo</th>\n",
       "      <th>vitreous body disease</th>\n",
       "      <th>vocal cord polyp</th>\n",
       "      <th>voice disorders</th>\n",
       "      <th>wellbeing measurement AND family relationship</th>\n",
       "      <th>wheezing</th>\n",
       "      <th>whooping cough</th>\n",
       "      <th>worry measurement</th>\n",
       "      <th>wrist fracture</th>\n",
       "    </tr>\n",
       "    <tr>\n",
       "      <th>gene_name</th>\n",
       "      <th></th>\n",
       "      <th></th>\n",
       "      <th></th>\n",
       "      <th></th>\n",
       "      <th></th>\n",
       "      <th></th>\n",
       "      <th></th>\n",
       "      <th></th>\n",
       "      <th></th>\n",
       "      <th></th>\n",
       "      <th></th>\n",
       "      <th></th>\n",
       "      <th></th>\n",
       "      <th></th>\n",
       "      <th></th>\n",
       "      <th></th>\n",
       "      <th></th>\n",
       "      <th></th>\n",
       "      <th></th>\n",
       "      <th></th>\n",
       "      <th></th>\n",
       "    </tr>\n",
       "  </thead>\n",
       "  <tbody>\n",
       "    <tr>\n",
       "      <th>ENSG00000000419</th>\n",
       "      <td>1.145442</td>\n",
       "      <td>0.724557</td>\n",
       "      <td>0.090876</td>\n",
       "      <td>0.298165</td>\n",
       "      <td>1.134347</td>\n",
       "      <td>1.371138</td>\n",
       "      <td>0.065718</td>\n",
       "      <td>0.794317</td>\n",
       "      <td>0.600342</td>\n",
       "      <td>0.317652</td>\n",
       "      <td>...</td>\n",
       "      <td>0.360518</td>\n",
       "      <td>1.351624</td>\n",
       "      <td>1.157695</td>\n",
       "      <td>0.835289</td>\n",
       "      <td>1.173072</td>\n",
       "      <td>1.337280</td>\n",
       "      <td>1.743822</td>\n",
       "      <td>1.017226</td>\n",
       "      <td>1.512184</td>\n",
       "      <td>0.972241</td>\n",
       "    </tr>\n",
       "    <tr>\n",
       "      <th>ENSG00000000457</th>\n",
       "      <td>0.618066</td>\n",
       "      <td>1.028131</td>\n",
       "      <td>2.218420</td>\n",
       "      <td>0.762584</td>\n",
       "      <td>0.934418</td>\n",
       "      <td>0.192993</td>\n",
       "      <td>1.080230</td>\n",
       "      <td>0.765997</td>\n",
       "      <td>0.375898</td>\n",
       "      <td>0.678731</td>\n",
       "      <td>...</td>\n",
       "      <td>2.134504</td>\n",
       "      <td>0.127830</td>\n",
       "      <td>0.534690</td>\n",
       "      <td>0.120516</td>\n",
       "      <td>0.517464</td>\n",
       "      <td>2.545363</td>\n",
       "      <td>0.673331</td>\n",
       "      <td>2.003092</td>\n",
       "      <td>0.344000</td>\n",
       "      <td>2.033122</td>\n",
       "    </tr>\n",
       "    <tr>\n",
       "      <th>ENSG00000000460</th>\n",
       "      <td>0.515724</td>\n",
       "      <td>0.403596</td>\n",
       "      <td>1.251359</td>\n",
       "      <td>0.433091</td>\n",
       "      <td>0.413466</td>\n",
       "      <td>0.246261</td>\n",
       "      <td>1.236151</td>\n",
       "      <td>0.827430</td>\n",
       "      <td>0.571985</td>\n",
       "      <td>0.782174</td>\n",
       "      <td>...</td>\n",
       "      <td>1.768905</td>\n",
       "      <td>0.992408</td>\n",
       "      <td>0.548215</td>\n",
       "      <td>0.412341</td>\n",
       "      <td>1.499415</td>\n",
       "      <td>1.366780</td>\n",
       "      <td>0.443318</td>\n",
       "      <td>0.417630</td>\n",
       "      <td>0.225934</td>\n",
       "      <td>1.613246</td>\n",
       "    </tr>\n",
       "    <tr>\n",
       "      <th>ENSG00000000938</th>\n",
       "      <td>0.280781</td>\n",
       "      <td>0.253910</td>\n",
       "      <td>0.879148</td>\n",
       "      <td>0.352705</td>\n",
       "      <td>0.051846</td>\n",
       "      <td>0.184212</td>\n",
       "      <td>0.148566</td>\n",
       "      <td>0.009989</td>\n",
       "      <td>0.363751</td>\n",
       "      <td>0.374514</td>\n",
       "      <td>...</td>\n",
       "      <td>0.656552</td>\n",
       "      <td>2.046041</td>\n",
       "      <td>2.746832</td>\n",
       "      <td>0.108211</td>\n",
       "      <td>1.008258</td>\n",
       "      <td>0.755695</td>\n",
       "      <td>0.896228</td>\n",
       "      <td>0.875047</td>\n",
       "      <td>0.476405</td>\n",
       "      <td>1.693057</td>\n",
       "    </tr>\n",
       "    <tr>\n",
       "      <th>ENSG00000000971</th>\n",
       "      <td>0.548127</td>\n",
       "      <td>0.389877</td>\n",
       "      <td>0.723469</td>\n",
       "      <td>1.167250</td>\n",
       "      <td>0.315952</td>\n",
       "      <td>0.324939</td>\n",
       "      <td>1.613932</td>\n",
       "      <td>0.311432</td>\n",
       "      <td>0.333548</td>\n",
       "      <td>1.807243</td>\n",
       "      <td>...</td>\n",
       "      <td>0.260482</td>\n",
       "      <td>0.646204</td>\n",
       "      <td>1.080240</td>\n",
       "      <td>0.678330</td>\n",
       "      <td>1.465358</td>\n",
       "      <td>0.307672</td>\n",
       "      <td>0.118376</td>\n",
       "      <td>1.419812</td>\n",
       "      <td>0.000002</td>\n",
       "      <td>1.040737</td>\n",
       "    </tr>\n",
       "  </tbody>\n",
       "</table>\n",
       "<p>5 rows × 3752 columns</p>\n",
       "</div>"
      ],
      "text/plain": [
       "                 100001_raw-Food_weight  100002_raw-Energy  \\\n",
       "gene_name                                                    \n",
       "ENSG00000000419                1.145442           0.724557   \n",
       "ENSG00000000457                0.618066           1.028131   \n",
       "ENSG00000000460                0.515724           0.403596   \n",
       "ENSG00000000938                0.280781           0.253910   \n",
       "ENSG00000000971                0.548127           0.389877   \n",
       "\n",
       "                 100003_raw-Protein  100004_raw-Fat  100005_raw-Carbohydrate  \\\n",
       "gene_name                                                                      \n",
       "ENSG00000000419            0.090876        0.298165                 1.134347   \n",
       "ENSG00000000457            2.218420        0.762584                 0.934418   \n",
       "ENSG00000000460            1.251359        0.433091                 0.413466   \n",
       "ENSG00000000938            0.879148        0.352705                 0.051846   \n",
       "ENSG00000000971            0.723469        1.167250                 0.315952   \n",
       "\n",
       "                 100006_raw-Saturated_fat  100007_raw-Polyunsaturated_fat  \\\n",
       "gene_name                                                                   \n",
       "ENSG00000000419                  1.371138                        0.065718   \n",
       "ENSG00000000457                  0.192993                        1.080230   \n",
       "ENSG00000000460                  0.246261                        1.236151   \n",
       "ENSG00000000938                  0.184212                        0.148566   \n",
       "ENSG00000000971                  0.324939                        1.613932   \n",
       "\n",
       "                 100008_raw-Total_sugars  100009_raw-Englyst_dietary_fibre  \\\n",
       "gene_name                                                                    \n",
       "ENSG00000000419                 0.794317                          0.600342   \n",
       "ENSG00000000457                 0.765997                          0.375898   \n",
       "ENSG00000000460                 0.827430                          0.571985   \n",
       "ENSG00000000938                 0.009989                          0.363751   \n",
       "ENSG00000000971                 0.311432                          0.333548   \n",
       "\n",
       "                 100010-Portion_size  ...  visual impairment  vitiligo  \\\n",
       "gene_name                             ...                                \n",
       "ENSG00000000419             0.317652  ...           0.360518  1.351624   \n",
       "ENSG00000000457             0.678731  ...           2.134504  0.127830   \n",
       "ENSG00000000460             0.782174  ...           1.768905  0.992408   \n",
       "ENSG00000000938             0.374514  ...           0.656552  2.046041   \n",
       "ENSG00000000971             1.807243  ...           0.260482  0.646204   \n",
       "\n",
       "                 vitreous body disease  vocal cord polyp  voice disorders  \\\n",
       "gene_name                                                                   \n",
       "ENSG00000000419               1.157695          0.835289         1.173072   \n",
       "ENSG00000000457               0.534690          0.120516         0.517464   \n",
       "ENSG00000000460               0.548215          0.412341         1.499415   \n",
       "ENSG00000000938               2.746832          0.108211         1.008258   \n",
       "ENSG00000000971               1.080240          0.678330         1.465358   \n",
       "\n",
       "                 wellbeing measurement AND family relationship  wheezing  \\\n",
       "gene_name                                                                  \n",
       "ENSG00000000419                                       1.337280  1.743822   \n",
       "ENSG00000000457                                       2.545363  0.673331   \n",
       "ENSG00000000460                                       1.366780  0.443318   \n",
       "ENSG00000000938                                       0.755695  0.896228   \n",
       "ENSG00000000971                                       0.307672  0.118376   \n",
       "\n",
       "                 whooping cough  worry measurement  wrist fracture  \n",
       "gene_name                                                           \n",
       "ENSG00000000419        1.017226           1.512184        0.972241  \n",
       "ENSG00000000457        2.003092           0.344000        2.033122  \n",
       "ENSG00000000460        0.417630           0.225934        1.613246  \n",
       "ENSG00000000938        0.875047           0.476405        1.693057  \n",
       "ENSG00000000971        1.419812           0.000002        1.040737  \n",
       "\n",
       "[5 rows x 3752 columns]"
      ]
     },
     "execution_count": 35,
     "metadata": {},
     "output_type": "execute_result"
    }
   ],
   "source": [
    "smultixcan_zscores_combined.head()"
   ]
  },
  {
   "cell_type": "markdown",
   "metadata": {
    "papermill": {
     "duration": 0.02545,
     "end_time": "2021-09-16T20:35:31.356952",
     "exception": false,
     "start_time": "2021-09-16T20:35:31.331502",
     "status": "completed"
    },
    "tags": []
   },
   "source": [
    "## Pickle (binary)"
   ]
  },
  {
   "cell_type": "code",
   "execution_count": 36,
   "metadata": {
    "execution": {
     "iopub.execute_input": "2021-09-16T20:35:31.416910Z",
     "iopub.status.busy": "2021-09-16T20:35:31.416530Z",
     "iopub.status.idle": "2021-09-16T20:35:31.418808Z",
     "shell.execute_reply": "2021-09-16T20:35:31.419095Z"
    },
    "papermill": {
     "duration": 0.036415,
     "end_time": "2021-09-16T20:35:31.419198",
     "exception": false,
     "start_time": "2021-09-16T20:35:31.382783",
     "status": "completed"
    },
    "tags": []
   },
   "outputs": [
    {
     "data": {
      "text/plain": [
       "PosixPath('/home/miltondp/projects/labs/greenelab/phenoplier/base/data/phenomexcan/gene_assoc/smultixcan-efo_partial-mashr-zscores.pkl')"
      ]
     },
     "metadata": {},
     "output_type": "display_data"
    }
   ],
   "source": [
    "output_file = conf.PHENOMEXCAN[\"SMULTIXCAN_EFO_PARTIAL_MASHR_ZSCORES_FILE\"]\n",
    "display(output_file)"
   ]
  },
  {
   "cell_type": "code",
   "execution_count": 37,
   "metadata": {
    "execution": {
     "iopub.execute_input": "2021-09-16T20:35:31.492919Z",
     "iopub.status.busy": "2021-09-16T20:35:31.492538Z",
     "iopub.status.idle": "2021-09-16T20:35:35.399817Z",
     "shell.execute_reply": "2021-09-16T20:35:35.400331Z"
    },
    "papermill": {
     "duration": 3.955013,
     "end_time": "2021-09-16T20:35:35.400441",
     "exception": false,
     "start_time": "2021-09-16T20:35:31.445428",
     "status": "completed"
    },
    "tags": []
   },
   "outputs": [],
   "source": [
    "smultixcan_zscores_combined.to_pickle(output_file)"
   ]
  },
  {
   "cell_type": "markdown",
   "metadata": {
    "papermill": {
     "duration": 0.041033,
     "end_time": "2021-09-16T20:35:35.468080",
     "exception": false,
     "start_time": "2021-09-16T20:35:35.427047",
     "status": "completed"
    },
    "tags": []
   },
   "source": [
    "## RDS format"
   ]
  },
  {
   "cell_type": "code",
   "execution_count": 38,
   "metadata": {
    "execution": {
     "iopub.execute_input": "2021-09-16T20:35:35.552855Z",
     "iopub.status.busy": "2021-09-16T20:35:35.552471Z",
     "iopub.status.idle": "2021-09-16T20:35:35.554754Z",
     "shell.execute_reply": "2021-09-16T20:35:35.555046Z"
    },
    "papermill": {
     "duration": 0.036944,
     "end_time": "2021-09-16T20:35:35.555148",
     "exception": false,
     "start_time": "2021-09-16T20:35:35.518204",
     "status": "completed"
    },
    "tags": []
   },
   "outputs": [
    {
     "data": {
      "text/plain": [
       "PosixPath('/home/miltondp/projects/labs/greenelab/phenoplier/base/data/phenomexcan/gene_assoc/smultixcan-efo_partial-mashr-zscores.rds')"
      ]
     },
     "metadata": {},
     "output_type": "display_data"
    }
   ],
   "source": [
    "output_rds_file = output_file.with_suffix(\".rds\")\n",
    "display(output_rds_file)"
   ]
  },
  {
   "cell_type": "code",
   "execution_count": 39,
   "metadata": {
    "execution": {
     "iopub.execute_input": "2021-09-16T20:35:35.619187Z",
     "iopub.status.busy": "2021-09-16T20:35:35.618806Z",
     "iopub.status.idle": "2021-09-16T20:37:40.731872Z",
     "shell.execute_reply": "2021-09-16T20:37:40.732172Z"
    },
    "papermill": {
     "duration": 125.150661,
     "end_time": "2021-09-16T20:37:40.732285",
     "exception": false,
     "start_time": "2021-09-16T20:35:35.581624",
     "status": "completed"
    },
    "tags": []
   },
   "outputs": [],
   "source": [
    "with localconverter(ro.default_converter + pandas2ri.converter):\n",
    "    data_r = ro.conversion.py2rpy(smultixcan_zscores_combined)"
   ]
  },
  {
   "cell_type": "code",
   "execution_count": 40,
   "metadata": {
    "execution": {
     "iopub.execute_input": "2021-09-16T20:37:40.792704Z",
     "iopub.status.busy": "2021-09-16T20:37:40.792318Z",
     "iopub.status.idle": "2021-09-16T20:37:40.800041Z",
     "shell.execute_reply": "2021-09-16T20:37:40.800397Z"
    },
    "papermill": {
     "duration": 0.04137,
     "end_time": "2021-09-16T20:37:40.800498",
     "exception": false,
     "start_time": "2021-09-16T20:37:40.759128",
     "status": "completed"
    },
    "tags": []
   },
   "outputs": [
    {
     "data": {
      "text/html": [
       "\n",
       "        <span>R/rpy2 DataFrame (22515 x 3752)</span>\n",
       "        <table>\n",
       "          <thead>\n",
       "            <tr>\n",
       "              \n",
       "              <th>100001_raw-Food_weight</th>\n",
       "              \n",
       "              <th>100002_raw-Energy</th>\n",
       "              \n",
       "              <th>100003_raw-Protein</th>\n",
       "              \n",
       "              <th>...</th>\n",
       "              \n",
       "              <th>whooping cough</th>\n",
       "              \n",
       "              <th>worry measurement</th>\n",
       "              \n",
       "              <th>wrist fracture</th>\n",
       "              \n",
       "            </tr>\n",
       "          </thead>\n",
       "          <tbody>\n",
       "          \n",
       "          <tr>\n",
       "            \n",
       "            <td>\n",
       "              1.145442\n",
       "            </td>\n",
       "            \n",
       "            <td>\n",
       "              0.724557\n",
       "            </td>\n",
       "            \n",
       "            <td>\n",
       "              0.090876\n",
       "            </td>\n",
       "            \n",
       "            <td>\n",
       "              ...\n",
       "            </td>\n",
       "            \n",
       "            <td>\n",
       "              1.017226\n",
       "            </td>\n",
       "            \n",
       "            <td>\n",
       "              1.512184\n",
       "            </td>\n",
       "            \n",
       "            <td>\n",
       "              0.972241\n",
       "            </td>\n",
       "            \n",
       "          </tr>\n",
       "          \n",
       "          <tr>\n",
       "            \n",
       "            <td>\n",
       "              0.618066\n",
       "            </td>\n",
       "            \n",
       "            <td>\n",
       "              1.028131\n",
       "            </td>\n",
       "            \n",
       "            <td>\n",
       "              2.218420\n",
       "            </td>\n",
       "            \n",
       "            <td>\n",
       "              \n",
       "            </td>\n",
       "            \n",
       "            <td>\n",
       "              2.003092\n",
       "            </td>\n",
       "            \n",
       "            <td>\n",
       "              0.344000\n",
       "            </td>\n",
       "            \n",
       "            <td>\n",
       "              2.033122\n",
       "            </td>\n",
       "            \n",
       "          </tr>\n",
       "          \n",
       "          <tr>\n",
       "            \n",
       "            <td>\n",
       "              0.515724\n",
       "            </td>\n",
       "            \n",
       "            <td>\n",
       "              0.403596\n",
       "            </td>\n",
       "            \n",
       "            <td>\n",
       "              1.251359\n",
       "            </td>\n",
       "            \n",
       "            <td>\n",
       "              \n",
       "            </td>\n",
       "            \n",
       "            <td>\n",
       "              0.417630\n",
       "            </td>\n",
       "            \n",
       "            <td>\n",
       "              0.225934\n",
       "            </td>\n",
       "            \n",
       "            <td>\n",
       "              1.613246\n",
       "            </td>\n",
       "            \n",
       "          </tr>\n",
       "          \n",
       "          <tr>\n",
       "            \n",
       "            <td>\n",
       "              0.280781\n",
       "            </td>\n",
       "            \n",
       "            <td>\n",
       "              0.253910\n",
       "            </td>\n",
       "            \n",
       "            <td>\n",
       "              0.879148\n",
       "            </td>\n",
       "            \n",
       "            <td>\n",
       "              \n",
       "            </td>\n",
       "            \n",
       "            <td>\n",
       "              0.875047\n",
       "            </td>\n",
       "            \n",
       "            <td>\n",
       "              0.476405\n",
       "            </td>\n",
       "            \n",
       "            <td>\n",
       "              1.693057\n",
       "            </td>\n",
       "            \n",
       "          </tr>\n",
       "          \n",
       "          <tr>\n",
       "            \n",
       "            <td>\n",
       "              ...\n",
       "            </td>\n",
       "            \n",
       "            <td>\n",
       "              ...\n",
       "            </td>\n",
       "            \n",
       "            <td>\n",
       "              ...\n",
       "            </td>\n",
       "            \n",
       "            <td>\n",
       "              \n",
       "            </td>\n",
       "            \n",
       "            <td>\n",
       "              ...\n",
       "            </td>\n",
       "            \n",
       "            <td>\n",
       "              ...\n",
       "            </td>\n",
       "            \n",
       "            <td>\n",
       "              ...\n",
       "            </td>\n",
       "            \n",
       "          </tr>\n",
       "          \n",
       "          <tr>\n",
       "            \n",
       "            <td>\n",
       "              1.587903\n",
       "            </td>\n",
       "            \n",
       "            <td>\n",
       "              0.975901\n",
       "            </td>\n",
       "            \n",
       "            <td>\n",
       "              0.160988\n",
       "            </td>\n",
       "            \n",
       "            <td>\n",
       "              \n",
       "            </td>\n",
       "            \n",
       "            <td>\n",
       "              1.137225\n",
       "            </td>\n",
       "            \n",
       "            <td>\n",
       "              1.741067\n",
       "            </td>\n",
       "            \n",
       "            <td>\n",
       "              0.538406\n",
       "            </td>\n",
       "            \n",
       "          </tr>\n",
       "          \n",
       "          <tr>\n",
       "            \n",
       "            <td>\n",
       "              1.522281\n",
       "            </td>\n",
       "            \n",
       "            <td>\n",
       "              1.817369\n",
       "            </td>\n",
       "            \n",
       "            <td>\n",
       "              0.346794\n",
       "            </td>\n",
       "            \n",
       "            <td>\n",
       "              \n",
       "            </td>\n",
       "            \n",
       "            <td>\n",
       "              1.346245\n",
       "            </td>\n",
       "            \n",
       "            <td>\n",
       "              0.430236\n",
       "            </td>\n",
       "            \n",
       "            <td>\n",
       "              1.034309\n",
       "            </td>\n",
       "            \n",
       "          </tr>\n",
       "          \n",
       "          <tr>\n",
       "            \n",
       "            <td>\n",
       "              0.150938\n",
       "            </td>\n",
       "            \n",
       "            <td>\n",
       "              0.756393\n",
       "            </td>\n",
       "            \n",
       "            <td>\n",
       "              0.609476\n",
       "            </td>\n",
       "            \n",
       "            <td>\n",
       "              \n",
       "            </td>\n",
       "            \n",
       "            <td>\n",
       "              1.407725\n",
       "            </td>\n",
       "            \n",
       "            <td>\n",
       "              0.240727\n",
       "            </td>\n",
       "            \n",
       "            <td>\n",
       "              2.013154\n",
       "            </td>\n",
       "            \n",
       "          </tr>\n",
       "          \n",
       "          <tr>\n",
       "            \n",
       "            <td>\n",
       "              1.010143\n",
       "            </td>\n",
       "            \n",
       "            <td>\n",
       "              0.729526\n",
       "            </td>\n",
       "            \n",
       "            <td>\n",
       "              0.222126\n",
       "            </td>\n",
       "            \n",
       "            <td>\n",
       "              \n",
       "            </td>\n",
       "            \n",
       "            <td>\n",
       "              1.074344\n",
       "            </td>\n",
       "            \n",
       "            <td>\n",
       "              1.311726\n",
       "            </td>\n",
       "            \n",
       "            <td>\n",
       "              0.471883\n",
       "            </td>\n",
       "            \n",
       "          </tr>\n",
       "          \n",
       "          </tbody>\n",
       "        </table>\n",
       "    "
      ],
      "text/plain": [
       "R object with classes: ('data.frame',) mapped to:\n",
       "[FloatSexp..., FloatSexp..., FloatSexp..., FloatSexp..., ..., FloatSexp..., FloatSexp..., FloatSexp..., FloatSexp...]\n",
       "  100001_raw-Food_weight: <class 'rpy2.robjects.vectors.FloatVector'>\n",
       "  R object with classes: ('numeric',) mapped to:\n",
       "[1.145442, 0.618066, 0.515724, 0.280781, ..., 1.587903, 1.522281, 0.150938, 1.010143]\n",
       "  100002_raw-Energy: <class 'rpy2.robjects.vectors.FloatVector'>\n",
       "  R object with classes: ('numeric',) mapped to:\n",
       "[0.724557, 1.028131, 0.403596, 0.253910, ..., 0.975901, 1.817369, 0.756393, 0.729526]\n",
       "  100003_raw-Protein: <class 'rpy2.robjects.vectors.FloatVector'>\n",
       "  R object with classes: ('numeric',) mapped to:\n",
       "[0.090876, 2.218420, 1.251359, 0.879148, ..., 0.160988, 0.346794, 0.609476, 0.222126]\n",
       "  100004_raw-Fat: <class 'rpy2.robjects.vectors.FloatVector'>\n",
       "  R object with classes: ('numeric',) mapped to:\n",
       "[0.298165, 0.762584, 0.433091, 0.352705, ..., 0.799771, 1.443097, 0.814969, 0.545356]\n",
       "...\n",
       "  100006_raw-Saturated_fat: <class 'rpy2.robjects.vectors.FloatVector'>\n",
       "  R object with classes: ('numeric',) mapped to:\n",
       "[1.743822, 0.673331, 0.443318, 0.896228, ..., 0.826600, 0.358230, 0.740439, 0.492606]\n",
       "  100007_raw-Polyunsaturated_fat: <class 'rpy2.robjects.vectors.FloatVector'>\n",
       "  R object with classes: ('numeric',) mapped to:\n",
       "[1.017226, 2.003092, 0.417630, 0.875047, ..., 1.137225, 1.346245, 1.407725, 1.074344]\n",
       "  100008_raw-Total_sugars: <class 'rpy2.robjects.vectors.FloatVector'>\n",
       "  R object with classes: ('numeric',) mapped to:\n",
       "[1.512184, 0.344000, 0.225934, 0.476405, ..., 1.741067, 0.430236, 0.240727, 1.311726]\n",
       "  100009_raw-Englyst_dietary_fibre: <class 'rpy2.robjects.vectors.FloatVector'>\n",
       "  R object with classes: ('numeric',) mapped to:\n",
       "[0.972241, 2.033122, 1.613246, 1.693057, ..., 0.538406, 1.034309, 2.013154, 0.471883]"
      ]
     },
     "execution_count": 40,
     "metadata": {},
     "output_type": "execute_result"
    }
   ],
   "source": [
    "data_r"
   ]
  },
  {
   "cell_type": "code",
   "execution_count": 41,
   "metadata": {
    "execution": {
     "iopub.execute_input": "2021-09-16T20:37:40.860707Z",
     "iopub.status.busy": "2021-09-16T20:37:40.860326Z",
     "iopub.status.idle": "2021-09-16T20:39:04.997819Z",
     "shell.execute_reply": "2021-09-16T20:39:04.998131Z"
    },
    "papermill": {
     "duration": 84.170949,
     "end_time": "2021-09-16T20:39:04.998233",
     "exception": false,
     "start_time": "2021-09-16T20:37:40.827284",
     "status": "completed"
    },
    "tags": []
   },
   "outputs": [
    {
     "data": {
      "text/plain": [
       "<rpy2.rinterface_lib.sexp.NULLType object at 0x7fc450eba880> [RTYPES.NILSXP]"
      ]
     },
     "execution_count": 41,
     "metadata": {},
     "output_type": "execute_result"
    }
   ],
   "source": [
    "saveRDS(data_r, str(output_rds_file))"
   ]
  },
  {
   "cell_type": "code",
   "execution_count": 42,
   "metadata": {
    "execution": {
     "iopub.execute_input": "2021-09-16T20:39:05.054968Z",
     "iopub.status.busy": "2021-09-16T20:39:05.054583Z",
     "iopub.status.idle": "2021-09-16T20:39:37.619591Z",
     "shell.execute_reply": "2021-09-16T20:39:37.619935Z"
    },
    "papermill": {
     "duration": 32.594471,
     "end_time": "2021-09-16T20:39:37.620046",
     "exception": false,
     "start_time": "2021-09-16T20:39:05.025575",
     "status": "completed"
    },
    "tags": []
   },
   "outputs": [],
   "source": [
    "# testing: load the rds file again\n",
    "data_r = readRDS(str(output_rds_file))"
   ]
  },
  {
   "cell_type": "code",
   "execution_count": 43,
   "metadata": {
    "execution": {
     "iopub.execute_input": "2021-09-16T20:39:37.685055Z",
     "iopub.status.busy": "2021-09-16T20:39:37.684664Z",
     "iopub.status.idle": "2021-09-16T20:39:39.014161Z",
     "shell.execute_reply": "2021-09-16T20:39:39.013833Z"
    },
    "papermill": {
     "duration": 1.366655,
     "end_time": "2021-09-16T20:39:39.014252",
     "exception": false,
     "start_time": "2021-09-16T20:39:37.647597",
     "status": "completed"
    },
    "tags": []
   },
   "outputs": [],
   "source": [
    "with localconverter(ro.default_converter + pandas2ri.converter):\n",
    "    data_again = ro.conversion.rpy2py(data_r)\n",
    "#     data_again.index = data_again.index.astype(int)"
   ]
  },
  {
   "cell_type": "code",
   "execution_count": 44,
   "metadata": {
    "execution": {
     "iopub.execute_input": "2021-09-16T20:39:39.097039Z",
     "iopub.status.busy": "2021-09-16T20:39:39.096651Z",
     "iopub.status.idle": "2021-09-16T20:39:39.102998Z",
     "shell.execute_reply": "2021-09-16T20:39:39.103491Z"
    },
    "papermill": {
     "duration": 0.06165,
     "end_time": "2021-09-16T20:39:39.103599",
     "exception": false,
     "start_time": "2021-09-16T20:39:39.041949",
     "status": "completed"
    },
    "tags": []
   },
   "outputs": [
    {
     "data": {
      "text/plain": [
       "(22515, 3752)"
      ]
     },
     "execution_count": 44,
     "metadata": {},
     "output_type": "execute_result"
    }
   ],
   "source": [
    "data_again.shape"
   ]
  },
  {
   "cell_type": "code",
   "execution_count": 45,
   "metadata": {
    "execution": {
     "iopub.execute_input": "2021-09-16T20:39:39.175817Z",
     "iopub.status.busy": "2021-09-16T20:39:39.175435Z",
     "iopub.status.idle": "2021-09-16T20:39:39.186027Z",
     "shell.execute_reply": "2021-09-16T20:39:39.186525Z"
    },
    "papermill": {
     "duration": 0.051662,
     "end_time": "2021-09-16T20:39:39.186631",
     "exception": false,
     "start_time": "2021-09-16T20:39:39.134969",
     "status": "completed"
    },
    "tags": []
   },
   "outputs": [
    {
     "data": {
      "text/html": [
       "<div>\n",
       "<style scoped>\n",
       "    .dataframe tbody tr th:only-of-type {\n",
       "        vertical-align: middle;\n",
       "    }\n",
       "\n",
       "    .dataframe tbody tr th {\n",
       "        vertical-align: top;\n",
       "    }\n",
       "\n",
       "    .dataframe thead th {\n",
       "        text-align: right;\n",
       "    }\n",
       "</style>\n",
       "<table border=\"1\" class=\"dataframe\">\n",
       "  <thead>\n",
       "    <tr style=\"text-align: right;\">\n",
       "      <th></th>\n",
       "      <th>100001_raw-Food_weight</th>\n",
       "      <th>100002_raw-Energy</th>\n",
       "      <th>100003_raw-Protein</th>\n",
       "      <th>100004_raw-Fat</th>\n",
       "      <th>100005_raw-Carbohydrate</th>\n",
       "      <th>100006_raw-Saturated_fat</th>\n",
       "      <th>100007_raw-Polyunsaturated_fat</th>\n",
       "      <th>100008_raw-Total_sugars</th>\n",
       "      <th>100009_raw-Englyst_dietary_fibre</th>\n",
       "      <th>100010-Portion_size</th>\n",
       "      <th>...</th>\n",
       "      <th>visual impairment</th>\n",
       "      <th>vitiligo</th>\n",
       "      <th>vitreous body disease</th>\n",
       "      <th>vocal cord polyp</th>\n",
       "      <th>voice disorders</th>\n",
       "      <th>wellbeing measurement AND family relationship</th>\n",
       "      <th>wheezing</th>\n",
       "      <th>whooping cough</th>\n",
       "      <th>worry measurement</th>\n",
       "      <th>wrist fracture</th>\n",
       "    </tr>\n",
       "  </thead>\n",
       "  <tbody>\n",
       "    <tr>\n",
       "      <th>ENSG00000000419</th>\n",
       "      <td>1.145442</td>\n",
       "      <td>0.724557</td>\n",
       "      <td>0.090876</td>\n",
       "      <td>0.298165</td>\n",
       "      <td>1.134347</td>\n",
       "      <td>1.371138</td>\n",
       "      <td>0.065718</td>\n",
       "      <td>0.794317</td>\n",
       "      <td>0.600342</td>\n",
       "      <td>0.317652</td>\n",
       "      <td>...</td>\n",
       "      <td>0.360518</td>\n",
       "      <td>1.351624</td>\n",
       "      <td>1.157695</td>\n",
       "      <td>0.835289</td>\n",
       "      <td>1.173072</td>\n",
       "      <td>1.337280</td>\n",
       "      <td>1.743822</td>\n",
       "      <td>1.017226</td>\n",
       "      <td>1.512184</td>\n",
       "      <td>0.972241</td>\n",
       "    </tr>\n",
       "    <tr>\n",
       "      <th>ENSG00000000457</th>\n",
       "      <td>0.618066</td>\n",
       "      <td>1.028131</td>\n",
       "      <td>2.218420</td>\n",
       "      <td>0.762584</td>\n",
       "      <td>0.934418</td>\n",
       "      <td>0.192993</td>\n",
       "      <td>1.080230</td>\n",
       "      <td>0.765997</td>\n",
       "      <td>0.375898</td>\n",
       "      <td>0.678731</td>\n",
       "      <td>...</td>\n",
       "      <td>2.134504</td>\n",
       "      <td>0.127830</td>\n",
       "      <td>0.534690</td>\n",
       "      <td>0.120516</td>\n",
       "      <td>0.517464</td>\n",
       "      <td>2.545363</td>\n",
       "      <td>0.673331</td>\n",
       "      <td>2.003092</td>\n",
       "      <td>0.344000</td>\n",
       "      <td>2.033122</td>\n",
       "    </tr>\n",
       "    <tr>\n",
       "      <th>ENSG00000000460</th>\n",
       "      <td>0.515724</td>\n",
       "      <td>0.403596</td>\n",
       "      <td>1.251359</td>\n",
       "      <td>0.433091</td>\n",
       "      <td>0.413466</td>\n",
       "      <td>0.246261</td>\n",
       "      <td>1.236151</td>\n",
       "      <td>0.827430</td>\n",
       "      <td>0.571985</td>\n",
       "      <td>0.782174</td>\n",
       "      <td>...</td>\n",
       "      <td>1.768905</td>\n",
       "      <td>0.992408</td>\n",
       "      <td>0.548215</td>\n",
       "      <td>0.412341</td>\n",
       "      <td>1.499415</td>\n",
       "      <td>1.366780</td>\n",
       "      <td>0.443318</td>\n",
       "      <td>0.417630</td>\n",
       "      <td>0.225934</td>\n",
       "      <td>1.613246</td>\n",
       "    </tr>\n",
       "    <tr>\n",
       "      <th>ENSG00000000938</th>\n",
       "      <td>0.280781</td>\n",
       "      <td>0.253910</td>\n",
       "      <td>0.879148</td>\n",
       "      <td>0.352705</td>\n",
       "      <td>0.051846</td>\n",
       "      <td>0.184212</td>\n",
       "      <td>0.148566</td>\n",
       "      <td>0.009989</td>\n",
       "      <td>0.363751</td>\n",
       "      <td>0.374514</td>\n",
       "      <td>...</td>\n",
       "      <td>0.656552</td>\n",
       "      <td>2.046041</td>\n",
       "      <td>2.746832</td>\n",
       "      <td>0.108211</td>\n",
       "      <td>1.008258</td>\n",
       "      <td>0.755695</td>\n",
       "      <td>0.896228</td>\n",
       "      <td>0.875047</td>\n",
       "      <td>0.476405</td>\n",
       "      <td>1.693057</td>\n",
       "    </tr>\n",
       "    <tr>\n",
       "      <th>ENSG00000000971</th>\n",
       "      <td>0.548127</td>\n",
       "      <td>0.389877</td>\n",
       "      <td>0.723469</td>\n",
       "      <td>1.167250</td>\n",
       "      <td>0.315952</td>\n",
       "      <td>0.324939</td>\n",
       "      <td>1.613932</td>\n",
       "      <td>0.311432</td>\n",
       "      <td>0.333548</td>\n",
       "      <td>1.807243</td>\n",
       "      <td>...</td>\n",
       "      <td>0.260482</td>\n",
       "      <td>0.646204</td>\n",
       "      <td>1.080240</td>\n",
       "      <td>0.678330</td>\n",
       "      <td>1.465358</td>\n",
       "      <td>0.307672</td>\n",
       "      <td>0.118376</td>\n",
       "      <td>1.419812</td>\n",
       "      <td>0.000002</td>\n",
       "      <td>1.040737</td>\n",
       "    </tr>\n",
       "  </tbody>\n",
       "</table>\n",
       "<p>5 rows × 3752 columns</p>\n",
       "</div>"
      ],
      "text/plain": [
       "                 100001_raw-Food_weight  100002_raw-Energy  \\\n",
       "ENSG00000000419                1.145442           0.724557   \n",
       "ENSG00000000457                0.618066           1.028131   \n",
       "ENSG00000000460                0.515724           0.403596   \n",
       "ENSG00000000938                0.280781           0.253910   \n",
       "ENSG00000000971                0.548127           0.389877   \n",
       "\n",
       "                 100003_raw-Protein  100004_raw-Fat  100005_raw-Carbohydrate  \\\n",
       "ENSG00000000419            0.090876        0.298165                 1.134347   \n",
       "ENSG00000000457            2.218420        0.762584                 0.934418   \n",
       "ENSG00000000460            1.251359        0.433091                 0.413466   \n",
       "ENSG00000000938            0.879148        0.352705                 0.051846   \n",
       "ENSG00000000971            0.723469        1.167250                 0.315952   \n",
       "\n",
       "                 100006_raw-Saturated_fat  100007_raw-Polyunsaturated_fat  \\\n",
       "ENSG00000000419                  1.371138                        0.065718   \n",
       "ENSG00000000457                  0.192993                        1.080230   \n",
       "ENSG00000000460                  0.246261                        1.236151   \n",
       "ENSG00000000938                  0.184212                        0.148566   \n",
       "ENSG00000000971                  0.324939                        1.613932   \n",
       "\n",
       "                 100008_raw-Total_sugars  100009_raw-Englyst_dietary_fibre  \\\n",
       "ENSG00000000419                 0.794317                          0.600342   \n",
       "ENSG00000000457                 0.765997                          0.375898   \n",
       "ENSG00000000460                 0.827430                          0.571985   \n",
       "ENSG00000000938                 0.009989                          0.363751   \n",
       "ENSG00000000971                 0.311432                          0.333548   \n",
       "\n",
       "                 100010-Portion_size  ...  visual impairment  vitiligo  \\\n",
       "ENSG00000000419             0.317652  ...           0.360518  1.351624   \n",
       "ENSG00000000457             0.678731  ...           2.134504  0.127830   \n",
       "ENSG00000000460             0.782174  ...           1.768905  0.992408   \n",
       "ENSG00000000938             0.374514  ...           0.656552  2.046041   \n",
       "ENSG00000000971             1.807243  ...           0.260482  0.646204   \n",
       "\n",
       "                 vitreous body disease  vocal cord polyp  voice disorders  \\\n",
       "ENSG00000000419               1.157695          0.835289         1.173072   \n",
       "ENSG00000000457               0.534690          0.120516         0.517464   \n",
       "ENSG00000000460               0.548215          0.412341         1.499415   \n",
       "ENSG00000000938               2.746832          0.108211         1.008258   \n",
       "ENSG00000000971               1.080240          0.678330         1.465358   \n",
       "\n",
       "                 wellbeing measurement AND family relationship  wheezing  \\\n",
       "ENSG00000000419                                       1.337280  1.743822   \n",
       "ENSG00000000457                                       2.545363  0.673331   \n",
       "ENSG00000000460                                       1.366780  0.443318   \n",
       "ENSG00000000938                                       0.755695  0.896228   \n",
       "ENSG00000000971                                       0.307672  0.118376   \n",
       "\n",
       "                 whooping cough  worry measurement  wrist fracture  \n",
       "ENSG00000000419        1.017226           1.512184        0.972241  \n",
       "ENSG00000000457        2.003092           0.344000        2.033122  \n",
       "ENSG00000000460        0.417630           0.225934        1.613246  \n",
       "ENSG00000000938        0.875047           0.476405        1.693057  \n",
       "ENSG00000000971        1.419812           0.000002        1.040737  \n",
       "\n",
       "[5 rows x 3752 columns]"
      ]
     },
     "execution_count": 45,
     "metadata": {},
     "output_type": "execute_result"
    }
   ],
   "source": [
    "data_again.head()"
   ]
  },
  {
   "cell_type": "code",
   "execution_count": 46,
   "metadata": {
    "execution": {
     "iopub.execute_input": "2021-09-16T20:39:39.253696Z",
     "iopub.status.busy": "2021-09-16T20:39:39.253314Z",
     "iopub.status.idle": "2021-09-16T20:39:44.972439Z",
     "shell.execute_reply": "2021-09-16T20:39:44.972941Z"
    },
    "papermill": {
     "duration": 5.7582,
     "end_time": "2021-09-16T20:39:44.973049",
     "exception": false,
     "start_time": "2021-09-16T20:39:39.214849",
     "status": "completed"
    },
    "tags": []
   },
   "outputs": [],
   "source": [
    "pd.testing.assert_frame_equal(\n",
    "    smultixcan_zscores_combined,\n",
    "    data_again,\n",
    "    check_names=False,\n",
    "    check_exact=True,\n",
    "    #     rtol=0.0,\n",
    "    #     atol=1e-50,\n",
    "    #     check_dtype=False,\n",
    ")"
   ]
  },
  {
   "cell_type": "markdown",
   "metadata": {
    "papermill": {
     "duration": 0.027851,
     "end_time": "2021-09-16T20:39:45.029328",
     "exception": false,
     "start_time": "2021-09-16T20:39:45.001477",
     "status": "completed"
    },
    "tags": []
   },
   "source": [
    "## TSV (text)"
   ]
  },
  {
   "cell_type": "code",
   "execution_count": 47,
   "metadata": {
    "execution": {
     "iopub.execute_input": "2021-09-16T20:39:45.099852Z",
     "iopub.status.busy": "2021-09-16T20:39:45.099466Z",
     "iopub.status.idle": "2021-09-16T20:39:45.101859Z",
     "shell.execute_reply": "2021-09-16T20:39:45.102149Z"
    },
    "papermill": {
     "duration": 0.044455,
     "end_time": "2021-09-16T20:39:45.102257",
     "exception": false,
     "start_time": "2021-09-16T20:39:45.057802",
     "status": "completed"
    },
    "tags": []
   },
   "outputs": [
    {
     "data": {
      "text/plain": [
       "PosixPath('/home/miltondp/projects/labs/greenelab/phenoplier/base/data/phenomexcan/gene_assoc/smultixcan-efo_partial-mashr-zscores.tsv.gz')"
      ]
     },
     "metadata": {},
     "output_type": "display_data"
    }
   ],
   "source": [
    "output_text_file = output_file.with_suffix(\".tsv.gz\")\n",
    "display(output_text_file)"
   ]
  },
  {
   "cell_type": "code",
   "execution_count": 48,
   "metadata": {
    "execution": {
     "iopub.execute_input": "2021-09-16T20:39:45.180541Z",
     "iopub.status.busy": "2021-09-16T20:39:45.180162Z",
     "iopub.status.idle": "2021-09-16T20:46:39.629043Z",
     "shell.execute_reply": "2021-09-16T20:46:39.628717Z"
    },
    "papermill": {
     "duration": 414.490635,
     "end_time": "2021-09-16T20:46:39.629136",
     "exception": false,
     "start_time": "2021-09-16T20:39:45.138501",
     "status": "completed"
    },
    "tags": []
   },
   "outputs": [],
   "source": [
    "smultixcan_zscores_combined.to_csv(\n",
    "    output_text_file, sep=\"\\t\", index=True, float_format=\"%.5e\"\n",
    ")"
   ]
  },
  {
   "cell_type": "code",
   "execution_count": 49,
   "metadata": {
    "execution": {
     "iopub.execute_input": "2021-09-16T20:46:39.697698Z",
     "iopub.status.busy": "2021-09-16T20:46:39.697300Z",
     "iopub.status.idle": "2021-09-16T20:46:58.439777Z",
     "shell.execute_reply": "2021-09-16T20:46:58.439446Z"
    },
    "papermill": {
     "duration": 18.781582,
     "end_time": "2021-09-16T20:46:58.439873",
     "exception": false,
     "start_time": "2021-09-16T20:46:39.658291",
     "status": "completed"
    },
    "tags": []
   },
   "outputs": [],
   "source": [
    "# testing\n",
    "# data2 = data.copy()\n",
    "# data2.index = list(range(0, data2.shape[0]))\n",
    "\n",
    "data_again = pd.read_csv(output_text_file, sep=\"\\t\", index_col=\"gene_name\")\n",
    "\n",
    "# data_again.index = list(data_again.index)\n",
    "# data_again[\"part_k\"] = data_again[\"part_k\"].astype(float)"
   ]
  },
  {
   "cell_type": "code",
   "execution_count": 50,
   "metadata": {
    "execution": {
     "iopub.execute_input": "2021-09-16T20:46:58.504788Z",
     "iopub.status.busy": "2021-09-16T20:46:58.504400Z",
     "iopub.status.idle": "2021-09-16T20:46:58.507612Z",
     "shell.execute_reply": "2021-09-16T20:46:58.508006Z"
    },
    "papermill": {
     "duration": 0.038683,
     "end_time": "2021-09-16T20:46:58.508110",
     "exception": false,
     "start_time": "2021-09-16T20:46:58.469427",
     "status": "completed"
    },
    "tags": []
   },
   "outputs": [
    {
     "data": {
      "text/plain": [
       "(22515, 3752)"
      ]
     },
     "execution_count": 50,
     "metadata": {},
     "output_type": "execute_result"
    }
   ],
   "source": [
    "data_again.shape"
   ]
  },
  {
   "cell_type": "code",
   "execution_count": 51,
   "metadata": {
    "execution": {
     "iopub.execute_input": "2021-09-16T20:46:58.573128Z",
     "iopub.status.busy": "2021-09-16T20:46:58.572732Z",
     "iopub.status.idle": "2021-09-16T20:46:58.588449Z",
     "shell.execute_reply": "2021-09-16T20:46:58.588762Z"
    },
    "papermill": {
     "duration": 0.051435,
     "end_time": "2021-09-16T20:46:58.588869",
     "exception": false,
     "start_time": "2021-09-16T20:46:58.537434",
     "status": "completed"
    },
    "tags": []
   },
   "outputs": [
    {
     "data": {
      "text/html": [
       "<div>\n",
       "<style scoped>\n",
       "    .dataframe tbody tr th:only-of-type {\n",
       "        vertical-align: middle;\n",
       "    }\n",
       "\n",
       "    .dataframe tbody tr th {\n",
       "        vertical-align: top;\n",
       "    }\n",
       "\n",
       "    .dataframe thead th {\n",
       "        text-align: right;\n",
       "    }\n",
       "</style>\n",
       "<table border=\"1\" class=\"dataframe\">\n",
       "  <thead>\n",
       "    <tr style=\"text-align: right;\">\n",
       "      <th></th>\n",
       "      <th>100001_raw-Food_weight</th>\n",
       "      <th>100002_raw-Energy</th>\n",
       "      <th>100003_raw-Protein</th>\n",
       "      <th>100004_raw-Fat</th>\n",
       "      <th>100005_raw-Carbohydrate</th>\n",
       "      <th>100006_raw-Saturated_fat</th>\n",
       "      <th>100007_raw-Polyunsaturated_fat</th>\n",
       "      <th>100008_raw-Total_sugars</th>\n",
       "      <th>100009_raw-Englyst_dietary_fibre</th>\n",
       "      <th>100010-Portion_size</th>\n",
       "      <th>...</th>\n",
       "      <th>visual impairment</th>\n",
       "      <th>vitiligo</th>\n",
       "      <th>vitreous body disease</th>\n",
       "      <th>vocal cord polyp</th>\n",
       "      <th>voice disorders</th>\n",
       "      <th>wellbeing measurement AND family relationship</th>\n",
       "      <th>wheezing</th>\n",
       "      <th>whooping cough</th>\n",
       "      <th>worry measurement</th>\n",
       "      <th>wrist fracture</th>\n",
       "    </tr>\n",
       "    <tr>\n",
       "      <th>gene_name</th>\n",
       "      <th></th>\n",
       "      <th></th>\n",
       "      <th></th>\n",
       "      <th></th>\n",
       "      <th></th>\n",
       "      <th></th>\n",
       "      <th></th>\n",
       "      <th></th>\n",
       "      <th></th>\n",
       "      <th></th>\n",
       "      <th></th>\n",
       "      <th></th>\n",
       "      <th></th>\n",
       "      <th></th>\n",
       "      <th></th>\n",
       "      <th></th>\n",
       "      <th></th>\n",
       "      <th></th>\n",
       "      <th></th>\n",
       "      <th></th>\n",
       "      <th></th>\n",
       "    </tr>\n",
       "  </thead>\n",
       "  <tbody>\n",
       "    <tr>\n",
       "      <th>ENSG00000000419</th>\n",
       "      <td>1.145440</td>\n",
       "      <td>0.724557</td>\n",
       "      <td>0.090876</td>\n",
       "      <td>0.298165</td>\n",
       "      <td>1.134350</td>\n",
       "      <td>1.371140</td>\n",
       "      <td>0.065718</td>\n",
       "      <td>0.794317</td>\n",
       "      <td>0.600342</td>\n",
       "      <td>0.317652</td>\n",
       "      <td>...</td>\n",
       "      <td>0.360518</td>\n",
       "      <td>1.351620</td>\n",
       "      <td>1.157700</td>\n",
       "      <td>0.835289</td>\n",
       "      <td>1.173070</td>\n",
       "      <td>1.337280</td>\n",
       "      <td>1.743820</td>\n",
       "      <td>1.017230</td>\n",
       "      <td>1.512180</td>\n",
       "      <td>0.972241</td>\n",
       "    </tr>\n",
       "    <tr>\n",
       "      <th>ENSG00000000457</th>\n",
       "      <td>0.618066</td>\n",
       "      <td>1.028130</td>\n",
       "      <td>2.218420</td>\n",
       "      <td>0.762584</td>\n",
       "      <td>0.934418</td>\n",
       "      <td>0.192993</td>\n",
       "      <td>1.080230</td>\n",
       "      <td>0.765997</td>\n",
       "      <td>0.375898</td>\n",
       "      <td>0.678731</td>\n",
       "      <td>...</td>\n",
       "      <td>2.134500</td>\n",
       "      <td>0.127830</td>\n",
       "      <td>0.534690</td>\n",
       "      <td>0.120516</td>\n",
       "      <td>0.517464</td>\n",
       "      <td>2.545360</td>\n",
       "      <td>0.673331</td>\n",
       "      <td>2.003090</td>\n",
       "      <td>0.344000</td>\n",
       "      <td>2.033120</td>\n",
       "    </tr>\n",
       "    <tr>\n",
       "      <th>ENSG00000000460</th>\n",
       "      <td>0.515724</td>\n",
       "      <td>0.403596</td>\n",
       "      <td>1.251360</td>\n",
       "      <td>0.433091</td>\n",
       "      <td>0.413466</td>\n",
       "      <td>0.246261</td>\n",
       "      <td>1.236150</td>\n",
       "      <td>0.827430</td>\n",
       "      <td>0.571985</td>\n",
       "      <td>0.782174</td>\n",
       "      <td>...</td>\n",
       "      <td>1.768910</td>\n",
       "      <td>0.992408</td>\n",
       "      <td>0.548215</td>\n",
       "      <td>0.412341</td>\n",
       "      <td>1.499410</td>\n",
       "      <td>1.366780</td>\n",
       "      <td>0.443318</td>\n",
       "      <td>0.417630</td>\n",
       "      <td>0.225934</td>\n",
       "      <td>1.613250</td>\n",
       "    </tr>\n",
       "    <tr>\n",
       "      <th>ENSG00000000938</th>\n",
       "      <td>0.280781</td>\n",
       "      <td>0.253910</td>\n",
       "      <td>0.879148</td>\n",
       "      <td>0.352705</td>\n",
       "      <td>0.051846</td>\n",
       "      <td>0.184212</td>\n",
       "      <td>0.148566</td>\n",
       "      <td>0.009989</td>\n",
       "      <td>0.363751</td>\n",
       "      <td>0.374514</td>\n",
       "      <td>...</td>\n",
       "      <td>0.656552</td>\n",
       "      <td>2.046040</td>\n",
       "      <td>2.746830</td>\n",
       "      <td>0.108211</td>\n",
       "      <td>1.008260</td>\n",
       "      <td>0.755695</td>\n",
       "      <td>0.896228</td>\n",
       "      <td>0.875047</td>\n",
       "      <td>0.476405</td>\n",
       "      <td>1.693060</td>\n",
       "    </tr>\n",
       "    <tr>\n",
       "      <th>ENSG00000000971</th>\n",
       "      <td>0.548127</td>\n",
       "      <td>0.389877</td>\n",
       "      <td>0.723469</td>\n",
       "      <td>1.167250</td>\n",
       "      <td>0.315952</td>\n",
       "      <td>0.324939</td>\n",
       "      <td>1.613930</td>\n",
       "      <td>0.311432</td>\n",
       "      <td>0.333548</td>\n",
       "      <td>1.807240</td>\n",
       "      <td>...</td>\n",
       "      <td>0.260482</td>\n",
       "      <td>0.646204</td>\n",
       "      <td>1.080240</td>\n",
       "      <td>0.678330</td>\n",
       "      <td>1.465360</td>\n",
       "      <td>0.307672</td>\n",
       "      <td>0.118376</td>\n",
       "      <td>1.419810</td>\n",
       "      <td>0.000002</td>\n",
       "      <td>1.040740</td>\n",
       "    </tr>\n",
       "  </tbody>\n",
       "</table>\n",
       "<p>5 rows × 3752 columns</p>\n",
       "</div>"
      ],
      "text/plain": [
       "                 100001_raw-Food_weight  100002_raw-Energy  \\\n",
       "gene_name                                                    \n",
       "ENSG00000000419                1.145440           0.724557   \n",
       "ENSG00000000457                0.618066           1.028130   \n",
       "ENSG00000000460                0.515724           0.403596   \n",
       "ENSG00000000938                0.280781           0.253910   \n",
       "ENSG00000000971                0.548127           0.389877   \n",
       "\n",
       "                 100003_raw-Protein  100004_raw-Fat  100005_raw-Carbohydrate  \\\n",
       "gene_name                                                                      \n",
       "ENSG00000000419            0.090876        0.298165                 1.134350   \n",
       "ENSG00000000457            2.218420        0.762584                 0.934418   \n",
       "ENSG00000000460            1.251360        0.433091                 0.413466   \n",
       "ENSG00000000938            0.879148        0.352705                 0.051846   \n",
       "ENSG00000000971            0.723469        1.167250                 0.315952   \n",
       "\n",
       "                 100006_raw-Saturated_fat  100007_raw-Polyunsaturated_fat  \\\n",
       "gene_name                                                                   \n",
       "ENSG00000000419                  1.371140                        0.065718   \n",
       "ENSG00000000457                  0.192993                        1.080230   \n",
       "ENSG00000000460                  0.246261                        1.236150   \n",
       "ENSG00000000938                  0.184212                        0.148566   \n",
       "ENSG00000000971                  0.324939                        1.613930   \n",
       "\n",
       "                 100008_raw-Total_sugars  100009_raw-Englyst_dietary_fibre  \\\n",
       "gene_name                                                                    \n",
       "ENSG00000000419                 0.794317                          0.600342   \n",
       "ENSG00000000457                 0.765997                          0.375898   \n",
       "ENSG00000000460                 0.827430                          0.571985   \n",
       "ENSG00000000938                 0.009989                          0.363751   \n",
       "ENSG00000000971                 0.311432                          0.333548   \n",
       "\n",
       "                 100010-Portion_size  ...  visual impairment  vitiligo  \\\n",
       "gene_name                             ...                                \n",
       "ENSG00000000419             0.317652  ...           0.360518  1.351620   \n",
       "ENSG00000000457             0.678731  ...           2.134500  0.127830   \n",
       "ENSG00000000460             0.782174  ...           1.768910  0.992408   \n",
       "ENSG00000000938             0.374514  ...           0.656552  2.046040   \n",
       "ENSG00000000971             1.807240  ...           0.260482  0.646204   \n",
       "\n",
       "                 vitreous body disease  vocal cord polyp  voice disorders  \\\n",
       "gene_name                                                                   \n",
       "ENSG00000000419               1.157700          0.835289         1.173070   \n",
       "ENSG00000000457               0.534690          0.120516         0.517464   \n",
       "ENSG00000000460               0.548215          0.412341         1.499410   \n",
       "ENSG00000000938               2.746830          0.108211         1.008260   \n",
       "ENSG00000000971               1.080240          0.678330         1.465360   \n",
       "\n",
       "                 wellbeing measurement AND family relationship  wheezing  \\\n",
       "gene_name                                                                  \n",
       "ENSG00000000419                                       1.337280  1.743820   \n",
       "ENSG00000000457                                       2.545360  0.673331   \n",
       "ENSG00000000460                                       1.366780  0.443318   \n",
       "ENSG00000000938                                       0.755695  0.896228   \n",
       "ENSG00000000971                                       0.307672  0.118376   \n",
       "\n",
       "                 whooping cough  worry measurement  wrist fracture  \n",
       "gene_name                                                           \n",
       "ENSG00000000419        1.017230           1.512180        0.972241  \n",
       "ENSG00000000457        2.003090           0.344000        2.033120  \n",
       "ENSG00000000460        0.417630           0.225934        1.613250  \n",
       "ENSG00000000938        0.875047           0.476405        1.693060  \n",
       "ENSG00000000971        1.419810           0.000002        1.040740  \n",
       "\n",
       "[5 rows x 3752 columns]"
      ]
     },
     "execution_count": 51,
     "metadata": {},
     "output_type": "execute_result"
    }
   ],
   "source": [
    "data_again.head()"
   ]
  },
  {
   "cell_type": "code",
   "execution_count": 52,
   "metadata": {
    "execution": {
     "iopub.execute_input": "2021-09-16T20:46:58.727354Z",
     "iopub.status.busy": "2021-09-16T20:46:58.691960Z",
     "iopub.status.idle": "2021-09-16T21:45:07.590662Z",
     "shell.execute_reply": "2021-09-16T21:45:07.590970Z"
    },
    "papermill": {
     "duration": 3488.972594,
     "end_time": "2021-09-16T21:45:07.591083",
     "exception": false,
     "start_time": "2021-09-16T20:46:58.618489",
     "status": "completed"
    },
    "tags": []
   },
   "outputs": [],
   "source": [
    "pd.testing.assert_frame_equal(\n",
    "    smultixcan_zscores_combined,\n",
    "    data_again,\n",
    "    check_exact=False,\n",
    "    rtol=0.0,\n",
    "    atol=5e-5,\n",
    ")"
   ]
  },
  {
   "cell_type": "code",
   "execution_count": null,
   "metadata": {
    "papermill": {
     "duration": 0.909638,
     "end_time": "2021-09-16T21:45:08.530728",
     "exception": false,
     "start_time": "2021-09-16T21:45:07.621090",
     "status": "completed"
    },
    "tags": []
   },
   "outputs": [],
   "source": []
  }
 ],
 "metadata": {
  "jupytext": {
   "cell_metadata_filter": "all,-execution,-papermill,-trusted",
   "formats": "ipynb,py//py:percent"
  },
  "kernelspec": {
   "display_name": "Python 3",
   "language": "python",
   "name": "python3"
  },
  "language_info": {
   "codemirror_mode": {
    "name": "ipython",
    "version": 3
   },
   "file_extension": ".py",
   "mimetype": "text/x-python",
   "name": "python",
   "nbconvert_exporter": "python",
   "pygments_lexer": "ipython3",
   "version": "3.8.8"
  },
  "papermill": {
   "default_parameters": {},
   "duration": 4201.992409,
   "end_time": "2021-09-16T21:45:09.767779",
   "environment_variables": {},
   "exception": null,
   "input_path": "01_preprocessing/010_00-smultixcan_zscores_to_efo.ipynb",
   "output_path": "01_preprocessing/010_00-smultixcan_zscores_to_efo.run.ipynb",
   "parameters": {},
   "start_time": "2021-09-16T20:35:07.775370",
   "version": "2.2.2"
  },
  "toc-autonumbering": true
 },
 "nbformat": 4,
 "nbformat_minor": 4
}
