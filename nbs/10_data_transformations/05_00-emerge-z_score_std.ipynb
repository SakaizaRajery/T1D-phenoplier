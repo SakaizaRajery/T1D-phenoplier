{
 "cells": [
  {
   "cell_type": "markdown",
   "metadata": {
    "papermill": {
     "duration": 0.017296,
     "end_time": "2021-01-13T20:32:53.502630",
     "exception": false,
     "start_time": "2021-01-13T20:32:53.485334",
     "status": "completed"
    },
    "tags": []
   },
   "source": [
    "# Description"
   ]
  },
  {
   "cell_type": "markdown",
   "metadata": {
    "papermill": {
     "duration": 0.009959,
     "end_time": "2021-01-12T05:38:03.820459",
     "exception": false,
     "start_time": "2021-01-12T05:38:03.810500",
     "status": "completed"
    },
    "tags": []
   },
   "source": [
    "It standardize (z-score) eMERGE S-MultiXcan results projected into the MultiPLIER latent space."
   ]
  },
  {
   "cell_type": "markdown",
   "metadata": {
    "papermill": {
     "duration": 0.012583,
     "end_time": "2021-01-13T20:32:53.553320",
     "exception": false,
     "start_time": "2021-01-13T20:32:53.540737",
     "status": "completed"
    },
    "tags": []
   },
   "source": [
    "# Environment variables"
   ]
  },
  {
   "cell_type": "code",
   "execution_count": 1,
   "metadata": {
    "papermill": {
     "duration": 0.027045,
     "end_time": "2021-01-13T20:32:53.593171",
     "exception": false,
     "start_time": "2021-01-13T20:32:53.566126",
     "status": "completed"
    },
    "tags": []
   },
   "outputs": [
    {
     "data": {
      "text/plain": [
       "4"
      ]
     },
     "metadata": {},
     "output_type": "display_data"
    }
   ],
   "source": [
    "from IPython.display import display\n",
    "\n",
    "import conf\n",
    "\n",
    "N_JOBS = conf.GENERAL[\"N_JOBS\"]\n",
    "display(N_JOBS)"
   ]
  },
  {
   "cell_type": "code",
   "execution_count": 2,
   "metadata": {
    "papermill": {
     "duration": 0.021189,
     "end_time": "2021-01-13T20:32:53.627700",
     "exception": false,
     "start_time": "2021-01-13T20:32:53.606511",
     "status": "completed"
    },
    "tags": []
   },
   "outputs": [
    {
     "name": "stdout",
     "output_type": "stream",
     "text": [
      "env: MKL_NUM_THREADS=4\n",
      "env: OPEN_BLAS_NUM_THREADS=4\n",
      "env: NUMEXPR_NUM_THREADS=4\n",
      "env: OMP_NUM_THREADS=4\n"
     ]
    }
   ],
   "source": [
    "%env MKL_NUM_THREADS=$N_JOBS\n",
    "%env OPEN_BLAS_NUM_THREADS=$N_JOBS\n",
    "%env NUMEXPR_NUM_THREADS=$N_JOBS\n",
    "%env OMP_NUM_THREADS=$N_JOBS"
   ]
  },
  {
   "cell_type": "markdown",
   "metadata": {
    "papermill": {
     "duration": 0.013563,
     "end_time": "2021-01-13T20:32:53.655443",
     "exception": false,
     "start_time": "2021-01-13T20:32:53.641880",
     "status": "completed"
    },
    "tags": []
   },
   "source": [
    "# Modules loading"
   ]
  },
  {
   "cell_type": "code",
   "execution_count": 3,
   "metadata": {
    "papermill": {
     "duration": 0.024455,
     "end_time": "2021-01-13T20:32:53.693137",
     "exception": false,
     "start_time": "2021-01-13T20:32:53.668682",
     "status": "completed"
    },
    "tags": []
   },
   "outputs": [],
   "source": [
    "%load_ext autoreload\n",
    "%autoreload 2"
   ]
  },
  {
   "cell_type": "code",
   "execution_count": 4,
   "metadata": {
    "papermill": {
     "duration": 0.185593,
     "end_time": "2021-01-13T20:32:53.892345",
     "exception": false,
     "start_time": "2021-01-13T20:32:53.706752",
     "status": "completed"
    },
    "tags": []
   },
   "outputs": [],
   "source": [
    "from pathlib import Path\n",
    "\n",
    "import numpy as np\n",
    "import pandas as pd\n",
    "from sklearn.preprocessing import scale"
   ]
  },
  {
   "cell_type": "markdown",
   "metadata": {
    "papermill": {
     "duration": 0.013062,
     "end_time": "2021-01-13T20:32:53.919413",
     "exception": false,
     "start_time": "2021-01-13T20:32:53.906351",
     "status": "completed"
    },
    "tags": []
   },
   "source": [
    "# Settings"
   ]
  },
  {
   "cell_type": "markdown",
   "metadata": {
    "papermill": {
     "duration": 0.008111,
     "end_time": "2021-01-12T05:38:04.364263",
     "exception": false,
     "start_time": "2021-01-12T05:38:04.356152",
     "status": "completed"
    },
    "tags": []
   },
   "source": [
    "## Input data"
   ]
  },
  {
   "cell_type": "markdown",
   "metadata": {
    "papermill": {
     "duration": 0.008667,
     "end_time": "2021-01-12T05:38:04.420015",
     "exception": false,
     "start_time": "2021-01-12T05:38:04.411348",
     "status": "completed"
    },
    "tags": []
   },
   "source": [
    "## Output folder"
   ]
  },
  {
   "cell_type": "code",
   "execution_count": 5,
   "metadata": {
    "papermill": {
     "duration": 0.021158,
     "end_time": "2021-01-12T05:38:04.449852",
     "exception": false,
     "start_time": "2021-01-12T05:38:04.428694",
     "status": "completed"
    },
    "tags": []
   },
   "outputs": [
    {
     "data": {
      "text/plain": [
       "PosixPath('/home/miltondp/projects/labs/greenelab/phenoplier/base/results/data_transformations/z_score_std')"
      ]
     },
     "metadata": {},
     "output_type": "display_data"
    }
   ],
   "source": [
    "# output dir for this notebook\n",
    "RESULTS_DIR = Path(conf.RESULTS[\"DATA_TRANSFORMATIONS_DIR\"], \"z_score_std\").resolve()\n",
    "RESULTS_DIR.mkdir(parents=True, exist_ok=True)\n",
    "\n",
    "display(RESULTS_DIR)"
   ]
  },
  {
   "cell_type": "markdown",
   "metadata": {},
   "source": [
    "# Load eMERGE data"
   ]
  },
  {
   "cell_type": "markdown",
   "metadata": {},
   "source": [
    "## Projection of S-MultiXcan z-scores"
   ]
  },
  {
   "cell_type": "code",
   "execution_count": 19,
   "metadata": {
    "papermill": {
     "duration": 0.02974,
     "end_time": "2021-01-12T05:38:04.402182",
     "exception": false,
     "start_time": "2021-01-12T05:38:04.372442",
     "status": "completed"
    },
    "tags": []
   },
   "outputs": [
    {
     "data": {
      "text/plain": [
       "PosixPath('/home/miltondp/projects/labs/greenelab/phenoplier/base/results/projections/projection-emerge-smultixcan-mashr-zscores.pkl')"
      ]
     },
     "metadata": {},
     "output_type": "display_data"
    },
    {
     "data": {
      "text/plain": [
       "'projection-emerge-smultixcan-mashr-zscores'"
      ]
     },
     "metadata": {},
     "output_type": "display_data"
    }
   ],
   "source": [
    "input_file = Path(\n",
    "    conf.RESULTS[\"PROJECTIONS_DIR\"],\n",
    "    \"projection-emerge-smultixcan-mashr-zscores.pkl\",\n",
    ").resolve()\n",
    "display(input_file)\n",
    "assert input_file.exists()\n",
    "\n",
    "input_filepath_stem = input_file.stem\n",
    "display(input_filepath_stem)"
   ]
  },
  {
   "cell_type": "code",
   "execution_count": 20,
   "metadata": {},
   "outputs": [],
   "source": [
    "pmbb_data = pd.read_pickle(input_file)"
   ]
  },
  {
   "cell_type": "code",
   "execution_count": 21,
   "metadata": {},
   "outputs": [
    {
     "data": {
      "text/plain": [
       "(987, 309)"
      ]
     },
     "execution_count": 21,
     "metadata": {},
     "output_type": "execute_result"
    }
   ],
   "source": [
    "pmbb_data.shape"
   ]
  },
  {
   "cell_type": "code",
   "execution_count": 22,
   "metadata": {},
   "outputs": [
    {
     "data": {
      "text/html": [
       "<div>\n",
       "<style scoped>\n",
       "    .dataframe tbody tr th:only-of-type {\n",
       "        vertical-align: middle;\n",
       "    }\n",
       "\n",
       "    .dataframe tbody tr th {\n",
       "        vertical-align: top;\n",
       "    }\n",
       "\n",
       "    .dataframe thead th {\n",
       "        text-align: right;\n",
       "    }\n",
       "</style>\n",
       "<table border=\"1\" class=\"dataframe\">\n",
       "  <thead>\n",
       "    <tr style=\"text-align: right;\">\n",
       "      <th></th>\n",
       "      <th>292.3</th>\n",
       "      <th>079</th>\n",
       "      <th>741</th>\n",
       "      <th>418.1</th>\n",
       "      <th>280</th>\n",
       "      <th>747</th>\n",
       "      <th>591</th>\n",
       "      <th>426.21</th>\n",
       "      <th>244</th>\n",
       "      <th>070.3</th>\n",
       "      <th>...</th>\n",
       "      <th>427</th>\n",
       "      <th>585.4</th>\n",
       "      <th>345</th>\n",
       "      <th>366.2</th>\n",
       "      <th>420.2</th>\n",
       "      <th>195</th>\n",
       "      <th>250.2</th>\n",
       "      <th>250.1</th>\n",
       "      <th>371</th>\n",
       "      <th>562</th>\n",
       "    </tr>\n",
       "  </thead>\n",
       "  <tbody>\n",
       "    <tr>\n",
       "      <th>LV1</th>\n",
       "      <td>0.054491</td>\n",
       "      <td>-0.020097</td>\n",
       "      <td>0.022097</td>\n",
       "      <td>0.011815</td>\n",
       "      <td>-0.027529</td>\n",
       "      <td>-0.044248</td>\n",
       "      <td>0.022966</td>\n",
       "      <td>-0.052994</td>\n",
       "      <td>0.049973</td>\n",
       "      <td>0.000230</td>\n",
       "      <td>...</td>\n",
       "      <td>-0.032380</td>\n",
       "      <td>0.012214</td>\n",
       "      <td>0.006572</td>\n",
       "      <td>-0.024007</td>\n",
       "      <td>-0.006435</td>\n",
       "      <td>0.056310</td>\n",
       "      <td>0.072363</td>\n",
       "      <td>0.039763</td>\n",
       "      <td>-0.022529</td>\n",
       "      <td>0.034410</td>\n",
       "    </tr>\n",
       "    <tr>\n",
       "      <th>LV2</th>\n",
       "      <td>-0.045586</td>\n",
       "      <td>-0.009249</td>\n",
       "      <td>0.037598</td>\n",
       "      <td>-0.017011</td>\n",
       "      <td>-0.033393</td>\n",
       "      <td>-0.018336</td>\n",
       "      <td>0.007075</td>\n",
       "      <td>-0.011952</td>\n",
       "      <td>-0.002291</td>\n",
       "      <td>0.029972</td>\n",
       "      <td>...</td>\n",
       "      <td>0.018297</td>\n",
       "      <td>0.037166</td>\n",
       "      <td>-0.011099</td>\n",
       "      <td>-0.012876</td>\n",
       "      <td>-0.055898</td>\n",
       "      <td>0.002411</td>\n",
       "      <td>0.021665</td>\n",
       "      <td>0.011047</td>\n",
       "      <td>0.003468</td>\n",
       "      <td>0.035322</td>\n",
       "    </tr>\n",
       "    <tr>\n",
       "      <th>LV3</th>\n",
       "      <td>0.024822</td>\n",
       "      <td>-0.060301</td>\n",
       "      <td>-0.029168</td>\n",
       "      <td>-0.034559</td>\n",
       "      <td>0.006261</td>\n",
       "      <td>0.022122</td>\n",
       "      <td>-0.006224</td>\n",
       "      <td>0.000662</td>\n",
       "      <td>0.036817</td>\n",
       "      <td>-0.000077</td>\n",
       "      <td>...</td>\n",
       "      <td>0.038560</td>\n",
       "      <td>-0.038163</td>\n",
       "      <td>0.003248</td>\n",
       "      <td>-0.041152</td>\n",
       "      <td>0.014292</td>\n",
       "      <td>-0.039490</td>\n",
       "      <td>0.009368</td>\n",
       "      <td>0.013476</td>\n",
       "      <td>0.044817</td>\n",
       "      <td>0.004777</td>\n",
       "    </tr>\n",
       "    <tr>\n",
       "      <th>LV4</th>\n",
       "      <td>-0.039762</td>\n",
       "      <td>0.012785</td>\n",
       "      <td>-0.003700</td>\n",
       "      <td>0.028548</td>\n",
       "      <td>-0.029743</td>\n",
       "      <td>-0.003730</td>\n",
       "      <td>0.035600</td>\n",
       "      <td>-0.022699</td>\n",
       "      <td>0.005748</td>\n",
       "      <td>0.037000</td>\n",
       "      <td>...</td>\n",
       "      <td>-0.029203</td>\n",
       "      <td>0.075040</td>\n",
       "      <td>0.042023</td>\n",
       "      <td>-0.027431</td>\n",
       "      <td>0.004113</td>\n",
       "      <td>0.028081</td>\n",
       "      <td>0.008579</td>\n",
       "      <td>0.017368</td>\n",
       "      <td>-0.073883</td>\n",
       "      <td>-0.020724</td>\n",
       "    </tr>\n",
       "    <tr>\n",
       "      <th>LV5</th>\n",
       "      <td>-0.012542</td>\n",
       "      <td>-0.003956</td>\n",
       "      <td>-0.026013</td>\n",
       "      <td>0.012478</td>\n",
       "      <td>0.007327</td>\n",
       "      <td>0.024376</td>\n",
       "      <td>-0.000232</td>\n",
       "      <td>0.063066</td>\n",
       "      <td>0.044968</td>\n",
       "      <td>-0.002194</td>\n",
       "      <td>...</td>\n",
       "      <td>0.030944</td>\n",
       "      <td>-0.035498</td>\n",
       "      <td>-0.013057</td>\n",
       "      <td>-0.006033</td>\n",
       "      <td>-0.035562</td>\n",
       "      <td>-0.009096</td>\n",
       "      <td>-0.006855</td>\n",
       "      <td>-0.036068</td>\n",
       "      <td>0.002163</td>\n",
       "      <td>0.006373</td>\n",
       "    </tr>\n",
       "  </tbody>\n",
       "</table>\n",
       "<p>5 rows × 309 columns</p>\n",
       "</div>"
      ],
      "text/plain": [
       "        292.3       079       741     418.1       280       747       591  \\\n",
       "LV1  0.054491 -0.020097  0.022097  0.011815 -0.027529 -0.044248  0.022966   \n",
       "LV2 -0.045586 -0.009249  0.037598 -0.017011 -0.033393 -0.018336  0.007075   \n",
       "LV3  0.024822 -0.060301 -0.029168 -0.034559  0.006261  0.022122 -0.006224   \n",
       "LV4 -0.039762  0.012785 -0.003700  0.028548 -0.029743 -0.003730  0.035600   \n",
       "LV5 -0.012542 -0.003956 -0.026013  0.012478  0.007327  0.024376 -0.000232   \n",
       "\n",
       "       426.21       244     070.3  ...       427     585.4       345  \\\n",
       "LV1 -0.052994  0.049973  0.000230  ... -0.032380  0.012214  0.006572   \n",
       "LV2 -0.011952 -0.002291  0.029972  ...  0.018297  0.037166 -0.011099   \n",
       "LV3  0.000662  0.036817 -0.000077  ...  0.038560 -0.038163  0.003248   \n",
       "LV4 -0.022699  0.005748  0.037000  ... -0.029203  0.075040  0.042023   \n",
       "LV5  0.063066  0.044968 -0.002194  ...  0.030944 -0.035498 -0.013057   \n",
       "\n",
       "        366.2     420.2       195     250.2     250.1       371       562  \n",
       "LV1 -0.024007 -0.006435  0.056310  0.072363  0.039763 -0.022529  0.034410  \n",
       "LV2 -0.012876 -0.055898  0.002411  0.021665  0.011047  0.003468  0.035322  \n",
       "LV3 -0.041152  0.014292 -0.039490  0.009368  0.013476  0.044817  0.004777  \n",
       "LV4 -0.027431  0.004113  0.028081  0.008579  0.017368 -0.073883 -0.020724  \n",
       "LV5 -0.006033 -0.035562 -0.009096 -0.006855 -0.036068  0.002163  0.006373  \n",
       "\n",
       "[5 rows x 309 columns]"
      ]
     },
     "execution_count": 22,
     "metadata": {},
     "output_type": "execute_result"
    }
   ],
   "source": [
    "pmbb_data.head()"
   ]
  },
  {
   "cell_type": "markdown",
   "metadata": {
    "papermill": {
     "duration": 0.009485,
     "end_time": "2021-01-12T05:38:04.605640",
     "exception": false,
     "start_time": "2021-01-12T05:38:04.596155",
     "status": "completed"
    },
    "tags": []
   },
   "source": [
    "# z-score standardization"
   ]
  },
  {
   "cell_type": "code",
   "execution_count": 23,
   "metadata": {},
   "outputs": [],
   "source": [
    "data = pmbb_data.T"
   ]
  },
  {
   "cell_type": "code",
   "execution_count": 24,
   "metadata": {
    "papermill": {
     "duration": 0.046899,
     "end_time": "2021-01-12T05:38:04.662001",
     "exception": false,
     "start_time": "2021-01-12T05:38:04.615102",
     "status": "completed"
    },
    "tags": []
   },
   "outputs": [
    {
     "data": {
      "text/html": [
       "<div>\n",
       "<style scoped>\n",
       "    .dataframe tbody tr th:only-of-type {\n",
       "        vertical-align: middle;\n",
       "    }\n",
       "\n",
       "    .dataframe tbody tr th {\n",
       "        vertical-align: top;\n",
       "    }\n",
       "\n",
       "    .dataframe thead th {\n",
       "        text-align: right;\n",
       "    }\n",
       "</style>\n",
       "<table border=\"1\" class=\"dataframe\">\n",
       "  <thead>\n",
       "    <tr style=\"text-align: right;\">\n",
       "      <th></th>\n",
       "      <th>LV1</th>\n",
       "      <th>LV2</th>\n",
       "      <th>LV3</th>\n",
       "      <th>LV4</th>\n",
       "      <th>LV5</th>\n",
       "      <th>LV6</th>\n",
       "      <th>LV7</th>\n",
       "      <th>LV8</th>\n",
       "      <th>LV9</th>\n",
       "      <th>LV10</th>\n",
       "    </tr>\n",
       "  </thead>\n",
       "  <tbody>\n",
       "    <tr>\n",
       "      <th>count</th>\n",
       "      <td>3.090000e+02</td>\n",
       "      <td>3.090000e+02</td>\n",
       "      <td>3.090000e+02</td>\n",
       "      <td>3.090000e+02</td>\n",
       "      <td>3.090000e+02</td>\n",
       "      <td>3.090000e+02</td>\n",
       "      <td>3.090000e+02</td>\n",
       "      <td>3.090000e+02</td>\n",
       "      <td>3.090000e+02</td>\n",
       "      <td>3.090000e+02</td>\n",
       "    </tr>\n",
       "    <tr>\n",
       "      <th>mean</th>\n",
       "      <td>1.257534e-18</td>\n",
       "      <td>5.748728e-18</td>\n",
       "      <td>-4.131898e-18</td>\n",
       "      <td>6.916438e-18</td>\n",
       "      <td>2.559980e-18</td>\n",
       "      <td>-4.491193e-19</td>\n",
       "      <td>6.287671e-18</td>\n",
       "      <td>2.874364e-18</td>\n",
       "      <td>-1.392270e-18</td>\n",
       "      <td>4.670841e-18</td>\n",
       "    </tr>\n",
       "    <tr>\n",
       "      <th>std</th>\n",
       "      <td>3.003813e-02</td>\n",
       "      <td>2.772754e-02</td>\n",
       "      <td>2.732986e-02</td>\n",
       "      <td>2.901664e-02</td>\n",
       "      <td>2.987249e-02</td>\n",
       "      <td>2.819247e-02</td>\n",
       "      <td>3.052889e-02</td>\n",
       "      <td>2.689039e-02</td>\n",
       "      <td>2.561742e-02</td>\n",
       "      <td>3.038666e-02</td>\n",
       "    </tr>\n",
       "    <tr>\n",
       "      <th>min</th>\n",
       "      <td>-8.840341e-02</td>\n",
       "      <td>-7.784959e-02</td>\n",
       "      <td>-7.319803e-02</td>\n",
       "      <td>-7.790815e-02</td>\n",
       "      <td>-7.406592e-02</td>\n",
       "      <td>-6.579391e-02</td>\n",
       "      <td>-9.306557e-02</td>\n",
       "      <td>-5.959812e-02</td>\n",
       "      <td>-6.227625e-02</td>\n",
       "      <td>-9.811341e-02</td>\n",
       "    </tr>\n",
       "    <tr>\n",
       "      <th>25%</th>\n",
       "      <td>-2.009651e-02</td>\n",
       "      <td>-1.725108e-02</td>\n",
       "      <td>-1.661498e-02</td>\n",
       "      <td>-2.050090e-02</td>\n",
       "      <td>-2.057211e-02</td>\n",
       "      <td>-1.709499e-02</td>\n",
       "      <td>-1.863882e-02</td>\n",
       "      <td>-1.849178e-02</td>\n",
       "      <td>-1.736913e-02</td>\n",
       "      <td>-2.025966e-02</td>\n",
       "    </tr>\n",
       "    <tr>\n",
       "      <th>50%</th>\n",
       "      <td>-8.071688e-04</td>\n",
       "      <td>1.684139e-03</td>\n",
       "      <td>1.123537e-03</td>\n",
       "      <td>-1.685349e-04</td>\n",
       "      <td>-2.194497e-03</td>\n",
       "      <td>1.454591e-04</td>\n",
       "      <td>-1.634808e-03</td>\n",
       "      <td>-2.537379e-04</td>\n",
       "      <td>2.284704e-04</td>\n",
       "      <td>1.140763e-03</td>\n",
       "    </tr>\n",
       "    <tr>\n",
       "      <th>75%</th>\n",
       "      <td>2.028215e-02</td>\n",
       "      <td>1.706551e-02</td>\n",
       "      <td>1.770317e-02</td>\n",
       "      <td>1.768648e-02</td>\n",
       "      <td>1.670923e-02</td>\n",
       "      <td>2.064828e-02</td>\n",
       "      <td>1.848979e-02</td>\n",
       "      <td>1.874173e-02</td>\n",
       "      <td>1.741150e-02</td>\n",
       "      <td>1.677429e-02</td>\n",
       "    </tr>\n",
       "    <tr>\n",
       "      <th>max</th>\n",
       "      <td>8.298141e-02</td>\n",
       "      <td>7.506923e-02</td>\n",
       "      <td>8.396437e-02</td>\n",
       "      <td>7.752567e-02</td>\n",
       "      <td>1.013489e-01</td>\n",
       "      <td>8.675630e-02</td>\n",
       "      <td>8.158373e-02</td>\n",
       "      <td>9.465645e-02</td>\n",
       "      <td>9.108183e-02</td>\n",
       "      <td>1.247821e-01</td>\n",
       "    </tr>\n",
       "  </tbody>\n",
       "</table>\n",
       "</div>"
      ],
      "text/plain": [
       "                LV1           LV2           LV3           LV4           LV5  \\\n",
       "count  3.090000e+02  3.090000e+02  3.090000e+02  3.090000e+02  3.090000e+02   \n",
       "mean   1.257534e-18  5.748728e-18 -4.131898e-18  6.916438e-18  2.559980e-18   \n",
       "std    3.003813e-02  2.772754e-02  2.732986e-02  2.901664e-02  2.987249e-02   \n",
       "min   -8.840341e-02 -7.784959e-02 -7.319803e-02 -7.790815e-02 -7.406592e-02   \n",
       "25%   -2.009651e-02 -1.725108e-02 -1.661498e-02 -2.050090e-02 -2.057211e-02   \n",
       "50%   -8.071688e-04  1.684139e-03  1.123537e-03 -1.685349e-04 -2.194497e-03   \n",
       "75%    2.028215e-02  1.706551e-02  1.770317e-02  1.768648e-02  1.670923e-02   \n",
       "max    8.298141e-02  7.506923e-02  8.396437e-02  7.752567e-02  1.013489e-01   \n",
       "\n",
       "                LV6           LV7           LV8           LV9          LV10  \n",
       "count  3.090000e+02  3.090000e+02  3.090000e+02  3.090000e+02  3.090000e+02  \n",
       "mean  -4.491193e-19  6.287671e-18  2.874364e-18 -1.392270e-18  4.670841e-18  \n",
       "std    2.819247e-02  3.052889e-02  2.689039e-02  2.561742e-02  3.038666e-02  \n",
       "min   -6.579391e-02 -9.306557e-02 -5.959812e-02 -6.227625e-02 -9.811341e-02  \n",
       "25%   -1.709499e-02 -1.863882e-02 -1.849178e-02 -1.736913e-02 -2.025966e-02  \n",
       "50%    1.454591e-04 -1.634808e-03 -2.537379e-04  2.284704e-04  1.140763e-03  \n",
       "75%    2.064828e-02  1.848979e-02  1.874173e-02  1.741150e-02  1.677429e-02  \n",
       "max    8.675630e-02  8.158373e-02  9.465645e-02  9.108183e-02  1.247821e-01  "
      ]
     },
     "metadata": {},
     "output_type": "display_data"
    }
   ],
   "source": [
    "data_stats = data.iloc[:, :10].describe()\n",
    "display(data_stats)"
   ]
  },
  {
   "cell_type": "code",
   "execution_count": 25,
   "metadata": {
    "papermill": {
     "duration": 0.112713,
     "end_time": "2021-01-12T05:38:04.784890",
     "exception": false,
     "start_time": "2021-01-12T05:38:04.672177",
     "status": "completed"
    },
    "tags": []
   },
   "outputs": [],
   "source": [
    "scaled_data = pd.DataFrame(\n",
    "    data=scale(data), index=data.index.copy(), columns=data.columns.copy()\n",
    ")"
   ]
  },
  {
   "cell_type": "code",
   "execution_count": 26,
   "metadata": {
    "papermill": {
     "duration": 0.022937,
     "end_time": "2021-01-12T05:38:04.819633",
     "exception": false,
     "start_time": "2021-01-12T05:38:04.796696",
     "status": "completed"
    },
    "tags": []
   },
   "outputs": [
    {
     "data": {
      "text/plain": [
       "(309, 987)"
      ]
     },
     "metadata": {},
     "output_type": "display_data"
    }
   ],
   "source": [
    "display(scaled_data.shape)"
   ]
  },
  {
   "cell_type": "code",
   "execution_count": 27,
   "metadata": {
    "papermill": {
     "duration": 0.03459,
     "end_time": "2021-01-12T05:38:04.865509",
     "exception": false,
     "start_time": "2021-01-12T05:38:04.830919",
     "status": "completed"
    },
    "tags": []
   },
   "outputs": [
    {
     "data": {
      "text/html": [
       "<div>\n",
       "<style scoped>\n",
       "    .dataframe tbody tr th:only-of-type {\n",
       "        vertical-align: middle;\n",
       "    }\n",
       "\n",
       "    .dataframe tbody tr th {\n",
       "        vertical-align: top;\n",
       "    }\n",
       "\n",
       "    .dataframe thead th {\n",
       "        text-align: right;\n",
       "    }\n",
       "</style>\n",
       "<table border=\"1\" class=\"dataframe\">\n",
       "  <thead>\n",
       "    <tr style=\"text-align: right;\">\n",
       "      <th></th>\n",
       "      <th>LV1</th>\n",
       "      <th>LV2</th>\n",
       "      <th>LV3</th>\n",
       "      <th>LV4</th>\n",
       "      <th>LV5</th>\n",
       "      <th>LV6</th>\n",
       "      <th>LV7</th>\n",
       "      <th>LV8</th>\n",
       "      <th>LV9</th>\n",
       "      <th>LV10</th>\n",
       "      <th>...</th>\n",
       "      <th>LV978</th>\n",
       "      <th>LV979</th>\n",
       "      <th>LV980</th>\n",
       "      <th>LV981</th>\n",
       "      <th>LV982</th>\n",
       "      <th>LV983</th>\n",
       "      <th>LV984</th>\n",
       "      <th>LV985</th>\n",
       "      <th>LV986</th>\n",
       "      <th>LV987</th>\n",
       "    </tr>\n",
       "  </thead>\n",
       "  <tbody>\n",
       "    <tr>\n",
       "      <th>292.3</th>\n",
       "      <td>1.816988</td>\n",
       "      <td>-1.646752</td>\n",
       "      <td>0.909722</td>\n",
       "      <td>-1.372557</td>\n",
       "      <td>-0.420517</td>\n",
       "      <td>0.967264</td>\n",
       "      <td>-0.214345</td>\n",
       "      <td>3.525794</td>\n",
       "      <td>0.424954</td>\n",
       "      <td>1.303278</td>\n",
       "      <td>...</td>\n",
       "      <td>-0.169303</td>\n",
       "      <td>1.105963</td>\n",
       "      <td>0.624641</td>\n",
       "      <td>-0.498163</td>\n",
       "      <td>-0.471079</td>\n",
       "      <td>-2.176723</td>\n",
       "      <td>0.099151</td>\n",
       "      <td>-0.409419</td>\n",
       "      <td>-0.738851</td>\n",
       "      <td>-1.034009</td>\n",
       "    </tr>\n",
       "    <tr>\n",
       "      <th>079</th>\n",
       "      <td>-0.670119</td>\n",
       "      <td>-0.334090</td>\n",
       "      <td>-2.209989</td>\n",
       "      <td>0.441335</td>\n",
       "      <td>-0.132648</td>\n",
       "      <td>-0.564409</td>\n",
       "      <td>-0.442529</td>\n",
       "      <td>0.290681</td>\n",
       "      <td>0.442016</td>\n",
       "      <td>-1.673754</td>\n",
       "      <td>...</td>\n",
       "      <td>0.245237</td>\n",
       "      <td>2.406511</td>\n",
       "      <td>-0.347709</td>\n",
       "      <td>-0.374762</td>\n",
       "      <td>0.918071</td>\n",
       "      <td>-0.162533</td>\n",
       "      <td>0.737962</td>\n",
       "      <td>-0.843397</td>\n",
       "      <td>-0.419225</td>\n",
       "      <td>-0.872887</td>\n",
       "    </tr>\n",
       "    <tr>\n",
       "      <th>741</th>\n",
       "      <td>0.736815</td>\n",
       "      <td>1.358195</td>\n",
       "      <td>-1.068975</td>\n",
       "      <td>-0.127715</td>\n",
       "      <td>-0.872216</td>\n",
       "      <td>-2.209448</td>\n",
       "      <td>-0.444954</td>\n",
       "      <td>-0.951899</td>\n",
       "      <td>0.934908</td>\n",
       "      <td>0.153968</td>\n",
       "      <td>...</td>\n",
       "      <td>1.613549</td>\n",
       "      <td>1.186504</td>\n",
       "      <td>0.137920</td>\n",
       "      <td>-0.929207</td>\n",
       "      <td>-0.935787</td>\n",
       "      <td>0.652984</td>\n",
       "      <td>-0.616765</td>\n",
       "      <td>-1.587159</td>\n",
       "      <td>0.011447</td>\n",
       "      <td>-1.446751</td>\n",
       "    </tr>\n",
       "    <tr>\n",
       "      <th>418.1</th>\n",
       "      <td>0.393961</td>\n",
       "      <td>-0.614508</td>\n",
       "      <td>-1.266554</td>\n",
       "      <td>0.985434</td>\n",
       "      <td>0.418391</td>\n",
       "      <td>-0.116737</td>\n",
       "      <td>-0.318609</td>\n",
       "      <td>1.531675</td>\n",
       "      <td>-0.419890</td>\n",
       "      <td>0.479685</td>\n",
       "      <td>...</td>\n",
       "      <td>-0.033526</td>\n",
       "      <td>0.242118</td>\n",
       "      <td>0.361197</td>\n",
       "      <td>-0.872287</td>\n",
       "      <td>0.504552</td>\n",
       "      <td>0.896717</td>\n",
       "      <td>-0.335216</td>\n",
       "      <td>-0.037683</td>\n",
       "      <td>-0.459028</td>\n",
       "      <td>-0.164652</td>\n",
       "    </tr>\n",
       "    <tr>\n",
       "      <th>280</th>\n",
       "      <td>-0.917954</td>\n",
       "      <td>-1.206278</td>\n",
       "      <td>0.229449</td>\n",
       "      <td>-1.026703</td>\n",
       "      <td>0.245660</td>\n",
       "      <td>0.118361</td>\n",
       "      <td>-1.887569</td>\n",
       "      <td>-1.181531</td>\n",
       "      <td>-0.804771</td>\n",
       "      <td>-0.181034</td>\n",
       "      <td>...</td>\n",
       "      <td>-0.527720</td>\n",
       "      <td>-1.344066</td>\n",
       "      <td>0.021140</td>\n",
       "      <td>-0.026648</td>\n",
       "      <td>0.354607</td>\n",
       "      <td>0.122197</td>\n",
       "      <td>-0.003083</td>\n",
       "      <td>-0.922225</td>\n",
       "      <td>1.436063</td>\n",
       "      <td>-0.522746</td>\n",
       "    </tr>\n",
       "  </tbody>\n",
       "</table>\n",
       "<p>5 rows × 987 columns</p>\n",
       "</div>"
      ],
      "text/plain": [
       "            LV1       LV2       LV3       LV4       LV5       LV6       LV7  \\\n",
       "292.3  1.816988 -1.646752  0.909722 -1.372557 -0.420517  0.967264 -0.214345   \n",
       "079   -0.670119 -0.334090 -2.209989  0.441335 -0.132648 -0.564409 -0.442529   \n",
       "741    0.736815  1.358195 -1.068975 -0.127715 -0.872216 -2.209448 -0.444954   \n",
       "418.1  0.393961 -0.614508 -1.266554  0.985434  0.418391 -0.116737 -0.318609   \n",
       "280   -0.917954 -1.206278  0.229449 -1.026703  0.245660  0.118361 -1.887569   \n",
       "\n",
       "            LV8       LV9      LV10  ...     LV978     LV979     LV980  \\\n",
       "292.3  3.525794  0.424954  1.303278  ... -0.169303  1.105963  0.624641   \n",
       "079    0.290681  0.442016 -1.673754  ...  0.245237  2.406511 -0.347709   \n",
       "741   -0.951899  0.934908  0.153968  ...  1.613549  1.186504  0.137920   \n",
       "418.1  1.531675 -0.419890  0.479685  ... -0.033526  0.242118  0.361197   \n",
       "280   -1.181531 -0.804771 -0.181034  ... -0.527720 -1.344066  0.021140   \n",
       "\n",
       "          LV981     LV982     LV983     LV984     LV985     LV986     LV987  \n",
       "292.3 -0.498163 -0.471079 -2.176723  0.099151 -0.409419 -0.738851 -1.034009  \n",
       "079   -0.374762  0.918071 -0.162533  0.737962 -0.843397 -0.419225 -0.872887  \n",
       "741   -0.929207 -0.935787  0.652984 -0.616765 -1.587159  0.011447 -1.446751  \n",
       "418.1 -0.872287  0.504552  0.896717 -0.335216 -0.037683 -0.459028 -0.164652  \n",
       "280   -0.026648  0.354607  0.122197 -0.003083 -0.922225  1.436063 -0.522746  \n",
       "\n",
       "[5 rows x 987 columns]"
      ]
     },
     "metadata": {},
     "output_type": "display_data"
    }
   ],
   "source": [
    "display(scaled_data.head())"
   ]
  },
  {
   "cell_type": "code",
   "execution_count": 28,
   "metadata": {
    "papermill": {
     "duration": 0.047014,
     "end_time": "2021-01-12T05:38:04.923605",
     "exception": false,
     "start_time": "2021-01-12T05:38:04.876591",
     "status": "completed"
    },
    "tags": []
   },
   "outputs": [
    {
     "data": {
      "text/html": [
       "<div>\n",
       "<style scoped>\n",
       "    .dataframe tbody tr th:only-of-type {\n",
       "        vertical-align: middle;\n",
       "    }\n",
       "\n",
       "    .dataframe tbody tr th {\n",
       "        vertical-align: top;\n",
       "    }\n",
       "\n",
       "    .dataframe thead th {\n",
       "        text-align: right;\n",
       "    }\n",
       "</style>\n",
       "<table border=\"1\" class=\"dataframe\">\n",
       "  <thead>\n",
       "    <tr style=\"text-align: right;\">\n",
       "      <th></th>\n",
       "      <th>LV1</th>\n",
       "      <th>LV2</th>\n",
       "      <th>LV3</th>\n",
       "      <th>LV4</th>\n",
       "      <th>LV5</th>\n",
       "      <th>LV6</th>\n",
       "      <th>LV7</th>\n",
       "      <th>LV8</th>\n",
       "      <th>LV9</th>\n",
       "      <th>LV10</th>\n",
       "    </tr>\n",
       "  </thead>\n",
       "  <tbody>\n",
       "    <tr>\n",
       "      <th>count</th>\n",
       "      <td>3.090000e+02</td>\n",
       "      <td>3.090000e+02</td>\n",
       "      <td>3.090000e+02</td>\n",
       "      <td>3.090000e+02</td>\n",
       "      <td>3.090000e+02</td>\n",
       "      <td>3.090000e+02</td>\n",
       "      <td>3.090000e+02</td>\n",
       "      <td>3.090000e+02</td>\n",
       "      <td>3.090000e+02</td>\n",
       "      <td>3.090000e+02</td>\n",
       "    </tr>\n",
       "    <tr>\n",
       "      <th>mean</th>\n",
       "      <td>2.299491e-17</td>\n",
       "      <td>-4.886418e-17</td>\n",
       "      <td>2.012055e-17</td>\n",
       "      <td>-2.012055e-17</td>\n",
       "      <td>5.748728e-17</td>\n",
       "      <td>-1.437182e-17</td>\n",
       "      <td>-2.874364e-18</td>\n",
       "      <td>-2.874364e-18</td>\n",
       "      <td>-1.868336e-17</td>\n",
       "      <td>5.748728e-18</td>\n",
       "    </tr>\n",
       "    <tr>\n",
       "      <th>std</th>\n",
       "      <td>1.001622e+00</td>\n",
       "      <td>1.001622e+00</td>\n",
       "      <td>1.001622e+00</td>\n",
       "      <td>1.001622e+00</td>\n",
       "      <td>1.001622e+00</td>\n",
       "      <td>1.001622e+00</td>\n",
       "      <td>1.001622e+00</td>\n",
       "      <td>1.001622e+00</td>\n",
       "      <td>1.001622e+00</td>\n",
       "      <td>1.001622e+00</td>\n",
       "    </tr>\n",
       "    <tr>\n",
       "      <th>min</th>\n",
       "      <td>-2.947813e+00</td>\n",
       "      <td>-2.812217e+00</td>\n",
       "      <td>-2.682661e+00</td>\n",
       "      <td>-2.689303e+00</td>\n",
       "      <td>-2.483424e+00</td>\n",
       "      <td>-2.337526e+00</td>\n",
       "      <td>-3.053387e+00</td>\n",
       "      <td>-2.219930e+00</td>\n",
       "      <td>-2.434955e+00</td>\n",
       "      <td>-3.234069e+00</td>\n",
       "    </tr>\n",
       "    <tr>\n",
       "      <th>25%</th>\n",
       "      <td>-6.701185e-01</td>\n",
       "      <td>-6.231734e-01</td>\n",
       "      <td>-6.089284e-01</td>\n",
       "      <td>-7.076684e-01</td>\n",
       "      <td>-6.897812e-01</td>\n",
       "      <td>-6.073509e-01</td>\n",
       "      <td>-6.115207e-01</td>\n",
       "      <td>-6.887878e-01</td>\n",
       "      <td>-6.791201e-01</td>\n",
       "      <td>-6.678102e-01</td>\n",
       "    </tr>\n",
       "    <tr>\n",
       "      <th>50%</th>\n",
       "      <td>-2.691506e-02</td>\n",
       "      <td>6.083738e-02</td>\n",
       "      <td>4.117690e-02</td>\n",
       "      <td>-5.817637e-03</td>\n",
       "      <td>-7.358131e-02</td>\n",
       "      <td>5.167871e-03</td>\n",
       "      <td>-5.363641e-02</td>\n",
       "      <td>-9.451310e-03</td>\n",
       "      <td>8.933025e-03</td>\n",
       "      <td>3.760246e-02</td>\n",
       "    </tr>\n",
       "    <tr>\n",
       "      <th>75%</th>\n",
       "      <td>6.763088e-01</td>\n",
       "      <td>6.164699e-01</td>\n",
       "      <td>6.488097e-01</td>\n",
       "      <td>6.105177e-01</td>\n",
       "      <td>5.602589e-01</td>\n",
       "      <td>7.335921e-01</td>\n",
       "      <td>6.066312e-01</td>\n",
       "      <td>6.980981e-01</td>\n",
       "      <td>6.807766e-01</td>\n",
       "      <td>5.529233e-01</td>\n",
       "    </tr>\n",
       "    <tr>\n",
       "      <th>max</th>\n",
       "      <td>2.767016e+00</td>\n",
       "      <td>2.711780e+00</td>\n",
       "      <td>3.077241e+00</td>\n",
       "      <td>2.676100e+00</td>\n",
       "      <td>3.398220e+00</td>\n",
       "      <td>3.082278e+00</td>\n",
       "      <td>2.676680e+00</td>\n",
       "      <td>3.525794e+00</td>\n",
       "      <td>3.561232e+00</td>\n",
       "      <td>4.113137e+00</td>\n",
       "    </tr>\n",
       "  </tbody>\n",
       "</table>\n",
       "</div>"
      ],
      "text/plain": [
       "                LV1           LV2           LV3           LV4           LV5  \\\n",
       "count  3.090000e+02  3.090000e+02  3.090000e+02  3.090000e+02  3.090000e+02   \n",
       "mean   2.299491e-17 -4.886418e-17  2.012055e-17 -2.012055e-17  5.748728e-17   \n",
       "std    1.001622e+00  1.001622e+00  1.001622e+00  1.001622e+00  1.001622e+00   \n",
       "min   -2.947813e+00 -2.812217e+00 -2.682661e+00 -2.689303e+00 -2.483424e+00   \n",
       "25%   -6.701185e-01 -6.231734e-01 -6.089284e-01 -7.076684e-01 -6.897812e-01   \n",
       "50%   -2.691506e-02  6.083738e-02  4.117690e-02 -5.817637e-03 -7.358131e-02   \n",
       "75%    6.763088e-01  6.164699e-01  6.488097e-01  6.105177e-01  5.602589e-01   \n",
       "max    2.767016e+00  2.711780e+00  3.077241e+00  2.676100e+00  3.398220e+00   \n",
       "\n",
       "                LV6           LV7           LV8           LV9          LV10  \n",
       "count  3.090000e+02  3.090000e+02  3.090000e+02  3.090000e+02  3.090000e+02  \n",
       "mean  -1.437182e-17 -2.874364e-18 -2.874364e-18 -1.868336e-17  5.748728e-18  \n",
       "std    1.001622e+00  1.001622e+00  1.001622e+00  1.001622e+00  1.001622e+00  \n",
       "min   -2.337526e+00 -3.053387e+00 -2.219930e+00 -2.434955e+00 -3.234069e+00  \n",
       "25%   -6.073509e-01 -6.115207e-01 -6.887878e-01 -6.791201e-01 -6.678102e-01  \n",
       "50%    5.167871e-03 -5.363641e-02 -9.451310e-03  8.933025e-03  3.760246e-02  \n",
       "75%    7.335921e-01  6.066312e-01  6.980981e-01  6.807766e-01  5.529233e-01  \n",
       "max    3.082278e+00  2.676680e+00  3.525794e+00  3.561232e+00  4.113137e+00  "
      ]
     },
     "metadata": {},
     "output_type": "display_data"
    }
   ],
   "source": [
    "scaled_data_stats = scaled_data.iloc[:, :10].describe()\n",
    "display(scaled_data_stats)"
   ]
  },
  {
   "cell_type": "markdown",
   "metadata": {
    "papermill": {
     "duration": 0.011032,
     "end_time": "2021-01-12T05:38:04.945961",
     "exception": false,
     "start_time": "2021-01-12T05:38:04.934929",
     "status": "completed"
    },
    "tags": []
   },
   "source": [
    "## Testing"
   ]
  },
  {
   "cell_type": "code",
   "execution_count": 29,
   "metadata": {
    "papermill": {
     "duration": 0.023158,
     "end_time": "2021-01-12T05:38:04.980311",
     "exception": false,
     "start_time": "2021-01-12T05:38:04.957153",
     "status": "completed"
    },
    "tags": []
   },
   "outputs": [],
   "source": [
    "assert np.all(\n",
    "    [\n",
    "        np.isclose(scaled_data_stats.loc[\"mean\", c], 0.0)\n",
    "        for c in scaled_data_stats.columns\n",
    "    ]\n",
    ")"
   ]
  },
  {
   "cell_type": "code",
   "execution_count": 30,
   "metadata": {
    "papermill": {
     "duration": 0.023188,
     "end_time": "2021-01-12T05:38:05.015146",
     "exception": false,
     "start_time": "2021-01-12T05:38:04.991958",
     "status": "completed"
    },
    "tags": []
   },
   "outputs": [],
   "source": [
    "assert np.all(\n",
    "    [\n",
    "        np.isclose(scaled_data_stats.loc[\"std\", c], 1.0, atol=1e-02)\n",
    "        for c in scaled_data_stats.columns\n",
    "    ]\n",
    ")"
   ]
  },
  {
   "cell_type": "markdown",
   "metadata": {},
   "source": [
    "# Save"
   ]
  },
  {
   "cell_type": "code",
   "execution_count": 31,
   "metadata": {
    "papermill": {
     "duration": 0.02353,
     "end_time": "2021-01-12T05:38:05.072880",
     "exception": false,
     "start_time": "2021-01-12T05:38:05.049350",
     "status": "completed"
    },
    "tags": []
   },
   "outputs": [
    {
     "data": {
      "text/plain": [
       "PosixPath('/home/miltondp/projects/labs/greenelab/phenoplier/base/results/data_transformations/z_score_std/z_score_std-projection-emerge-smultixcan-mashr-zscores.pkl')"
      ]
     },
     "metadata": {},
     "output_type": "display_data"
    }
   ],
   "source": [
    "output_file = Path(\n",
    "    RESULTS_DIR,\n",
    "    f\"z_score_std-{input_filepath_stem}.pkl\",\n",
    ").resolve()\n",
    "\n",
    "display(output_file)"
   ]
  },
  {
   "cell_type": "code",
   "execution_count": 32,
   "metadata": {
    "papermill": {
     "duration": 0.05841,
     "end_time": "2021-01-12T05:38:05.142963",
     "exception": false,
     "start_time": "2021-01-12T05:38:05.084553",
     "status": "completed"
    },
    "tags": []
   },
   "outputs": [],
   "source": [
    "scaled_data.to_pickle(output_file)"
   ]
  },
  {
   "cell_type": "code",
   "execution_count": null,
   "metadata": {},
   "outputs": [],
   "source": []
  }
 ],
 "metadata": {
  "jupytext": {
   "cell_metadata_filter": "all,-execution,-papermill,-trusted",
   "formats": "ipynb,py//py:percent"
  },
  "kernelspec": {
   "display_name": "Python 3",
   "language": "python",
   "name": "python3"
  },
  "language_info": {
   "codemirror_mode": {
    "name": "ipython",
    "version": 3
   },
   "file_extension": ".py",
   "mimetype": "text/x-python",
   "name": "python",
   "nbconvert_exporter": "python",
   "pygments_lexer": "ipython3",
   "version": "3.8.8"
  }
 },
 "nbformat": 4,
 "nbformat_minor": 4
}
